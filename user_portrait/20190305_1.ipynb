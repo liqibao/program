{
 "cells": [
  {
   "cell_type": "code",
   "execution_count": 2,
   "metadata": {},
   "outputs": [],
   "source": [
    "import numpy as np\n",
    "import pandas as pd\n",
    "path = \"D:/program/program1/User_portrait/\""
   ]
  },
  {
   "cell_type": "code",
   "execution_count": 15,
   "metadata": {},
   "outputs": [],
   "source": [
    "names = ['order_date', 'company', 'order_num', 'num', 'actual_weight', 'total_freight']\n",
    "data = pd.read_csv(path + \"20190305_1.csv\", names = names, index_col = None, header = None)"
   ]
  },
  {
   "cell_type": "code",
   "execution_count": 16,
   "metadata": {},
   "outputs": [
    {
     "data": {
      "text/html": [
       "<div>\n",
       "<style scoped>\n",
       "    .dataframe tbody tr th:only-of-type {\n",
       "        vertical-align: middle;\n",
       "    }\n",
       "\n",
       "    .dataframe tbody tr th {\n",
       "        vertical-align: top;\n",
       "    }\n",
       "\n",
       "    .dataframe thead th {\n",
       "        text-align: right;\n",
       "    }\n",
       "</style>\n",
       "<table border=\"1\" class=\"dataframe\">\n",
       "  <thead>\n",
       "    <tr style=\"text-align: right;\">\n",
       "      <th></th>\n",
       "      <th>order_date</th>\n",
       "      <th>company</th>\n",
       "      <th>order_num</th>\n",
       "      <th>num</th>\n",
       "      <th>actual_weight</th>\n",
       "      <th>total_freight</th>\n",
       "    </tr>\n",
       "  </thead>\n",
       "  <tbody>\n",
       "    <tr>\n",
       "      <th>0</th>\n",
       "      <td>2018-08-26</td>\n",
       "      <td>成都淘客</td>\n",
       "      <td>24</td>\n",
       "      <td>177</td>\n",
       "      <td>2938.0</td>\n",
       "      <td>19118.4</td>\n",
       "    </tr>\n",
       "    <tr>\n",
       "      <th>1</th>\n",
       "      <td>2018-11-05</td>\n",
       "      <td>昆山帏达鑫(518号)</td>\n",
       "      <td>2</td>\n",
       "      <td>10</td>\n",
       "      <td>69.0</td>\n",
       "      <td>191.0</td>\n",
       "    </tr>\n",
       "    <tr>\n",
       "      <th>2</th>\n",
       "      <td>2018-10-11</td>\n",
       "      <td>杭州金松电器</td>\n",
       "      <td>13</td>\n",
       "      <td>13</td>\n",
       "      <td>565.2</td>\n",
       "      <td>1474.2</td>\n",
       "    </tr>\n",
       "    <tr>\n",
       "      <th>3</th>\n",
       "      <td>2018-12-07</td>\n",
       "      <td>南通爱喜</td>\n",
       "      <td>3</td>\n",
       "      <td>8</td>\n",
       "      <td>209.0</td>\n",
       "      <td>617.5</td>\n",
       "    </tr>\n",
       "    <tr>\n",
       "      <th>4</th>\n",
       "      <td>2018-11-17</td>\n",
       "      <td>长沙中模</td>\n",
       "      <td>1</td>\n",
       "      <td>1</td>\n",
       "      <td>100.0</td>\n",
       "      <td>173.0</td>\n",
       "    </tr>\n",
       "  </tbody>\n",
       "</table>\n",
       "</div>"
      ],
      "text/plain": [
       "   order_date      company  order_num  num  actual_weight  total_freight\n",
       "0  2018-08-26         成都淘客         24  177         2938.0        19118.4\n",
       "1  2018-11-05  昆山帏达鑫(518号)          2   10           69.0          191.0\n",
       "2  2018-10-11       杭州金松电器         13   13          565.2         1474.2\n",
       "3  2018-12-07         南通爱喜          3    8          209.0          617.5\n",
       "4  2018-11-17         长沙中模          1    1          100.0          173.0"
      ]
     },
     "execution_count": 16,
     "metadata": {},
     "output_type": "execute_result"
    }
   ],
   "source": [
    "data.head()"
   ]
  },
  {
   "cell_type": "code",
   "execution_count": null,
   "metadata": {},
   "outputs": [],
   "source": []
  },
  {
   "cell_type": "code",
   "execution_count": 12,
   "metadata": {},
   "outputs": [],
   "source": [
    "import pandas as pd\n",
    "import datetime\n",
    "import numpy as np\n",
    "import warnings\n",
    "\n",
    "import matplotlib.pyplot as plt\n",
    "from sklearn.cluster import KMeans\n",
    "from sklearn.preprocessing import MinMaxScaler, Normalizer, StandardScaler\n",
    "warnings.filterwarnings('ignore')\n",
    "plt.rcParams['font.sans-serif']=['SimHei']  # 中文\n",
    "plt.rcParams['axes.unicode_minus'] = False  # 负号\n",
    "path = \"D:/program/program1/User_portrait/\""
   ]
  },
  {
   "cell_type": "code",
   "execution_count": 13,
   "metadata": {},
   "outputs": [],
   "source": [
    "data_company = pd.read_csv(path + \"20190301.csv\", names = ['order_date', 'company', 'total_freight'])\n",
    "data_company = data_company[data_company['total_freight'] >= 1]\n",
    "data_company['order_date'] = pd.to_datetime(data_company['order_date'], format = '%Y-%m-%d')"
   ]
  },
  {
   "cell_type": "code",
   "execution_count": 14,
   "metadata": {},
   "outputs": [],
   "source": [
    "data_company['data_diff'] = pd.to_datetime('today') - data_company['order_date']\n",
    "data_company['data_diff'] = data_company['data_diff'].dt.days"
   ]
  },
  {
   "cell_type": "code",
   "execution_count": 15,
   "metadata": {},
   "outputs": [],
   "source": [
    "R_data = data_company.groupby(by = 'company')['data_diff'].agg({'recency' : np.min})\n",
    "F_data = data_company.groupby(by = 'company')['order_date'].agg({'frequency':np.size})\n",
    "M_data = data_company.groupby(by = 'company')['total_freight'].agg({'monetary':np.sum})"
   ]
  },
  {
   "cell_type": "code",
   "execution_count": 16,
   "metadata": {},
   "outputs": [],
   "source": [
    "rfm_data = pd.concat([R_data, F_data, M_data], axis = 1)"
   ]
  },
  {
   "cell_type": "code",
   "execution_count": 17,
   "metadata": {},
   "outputs": [
    {
     "data": {
      "text/html": [
       "<div>\n",
       "<style scoped>\n",
       "    .dataframe tbody tr th:only-of-type {\n",
       "        vertical-align: middle;\n",
       "    }\n",
       "\n",
       "    .dataframe tbody tr th {\n",
       "        vertical-align: top;\n",
       "    }\n",
       "\n",
       "    .dataframe thead th {\n",
       "        text-align: right;\n",
       "    }\n",
       "</style>\n",
       "<table border=\"1\" class=\"dataframe\">\n",
       "  <thead>\n",
       "    <tr style=\"text-align: right;\">\n",
       "      <th></th>\n",
       "      <th>recency</th>\n",
       "      <th>frequency</th>\n",
       "      <th>monetary</th>\n",
       "    </tr>\n",
       "    <tr>\n",
       "      <th>company</th>\n",
       "      <th></th>\n",
       "      <th></th>\n",
       "      <th></th>\n",
       "    </tr>\n",
       "  </thead>\n",
       "  <tbody>\n",
       "    <tr>\n",
       "      <th>01个人刘健</th>\n",
       "      <td>66</td>\n",
       "      <td>2</td>\n",
       "      <td>669.00</td>\n",
       "    </tr>\n",
       "    <tr>\n",
       "      <th>3M苏州</th>\n",
       "      <td>83</td>\n",
       "      <td>8</td>\n",
       "      <td>4452.50</td>\n",
       "    </tr>\n",
       "    <tr>\n",
       "      <th>66号定制家居</th>\n",
       "      <td>44</td>\n",
       "      <td>6</td>\n",
       "      <td>12928.60</td>\n",
       "    </tr>\n",
       "    <tr>\n",
       "      <th>Dotwil点为商城</th>\n",
       "      <td>35</td>\n",
       "      <td>4</td>\n",
       "      <td>635.79</td>\n",
       "    </tr>\n",
       "    <tr>\n",
       "      <th>IT中心测试</th>\n",
       "      <td>43</td>\n",
       "      <td>3</td>\n",
       "      <td>217.00</td>\n",
       "    </tr>\n",
       "  </tbody>\n",
       "</table>\n",
       "</div>"
      ],
      "text/plain": [
       "            recency  frequency  monetary\n",
       "company                                 \n",
       "01个人刘健           66          2    669.00\n",
       "3M苏州             83          8   4452.50\n",
       "66号定制家居          44          6  12928.60\n",
       "Dotwil点为商城       35          4    635.79\n",
       "IT中心测试           43          3    217.00"
      ]
     },
     "execution_count": 17,
     "metadata": {},
     "output_type": "execute_result"
    }
   ],
   "source": [
    "rfm_data.head()"
   ]
  },
  {
   "cell_type": "code",
   "execution_count": null,
   "metadata": {},
   "outputs": [],
   "source": []
  },
  {
   "cell_type": "code",
   "execution_count": null,
   "metadata": {},
   "outputs": [],
   "source": []
  },
  {
   "cell_type": "code",
   "execution_count": null,
   "metadata": {},
   "outputs": [],
   "source": []
  },
  {
   "cell_type": "code",
   "execution_count": null,
   "metadata": {},
   "outputs": [],
   "source": []
  },
  {
   "cell_type": "code",
   "execution_count": null,
   "metadata": {},
   "outputs": [],
   "source": []
  },
  {
   "cell_type": "code",
   "execution_count": null,
   "metadata": {},
   "outputs": [],
   "source": []
  },
  {
   "cell_type": "code",
   "execution_count": null,
   "metadata": {},
   "outputs": [],
   "source": []
  },
  {
   "cell_type": "code",
   "execution_count": null,
   "metadata": {},
   "outputs": [],
   "source": []
  },
  {
   "cell_type": "code",
   "execution_count": null,
   "metadata": {},
   "outputs": [],
   "source": []
  },
  {
   "cell_type": "code",
   "execution_count": null,
   "metadata": {},
   "outputs": [],
   "source": []
  }
 ],
 "metadata": {
  "kernelspec": {
   "display_name": "Python 3",
   "language": "python",
   "name": "python3"
  },
  "language_info": {
   "codemirror_mode": {
    "name": "ipython",
    "version": 3
   },
   "file_extension": ".py",
   "mimetype": "text/x-python",
   "name": "python",
   "nbconvert_exporter": "python",
   "pygments_lexer": "ipython3",
   "version": "3.7.0"
  }
 },
 "nbformat": 4,
 "nbformat_minor": 2
}
