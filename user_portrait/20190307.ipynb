{
 "cells": [
  {
   "cell_type": "code",
   "execution_count": 1,
   "metadata": {},
   "outputs": [],
   "source": [
    "import pandas as pd\n",
    "import datetime\n",
    "import numpy as np\n",
    "import warnings\n",
    "\n",
    "import matplotlib.pyplot as plt\n",
    "from sklearn.cluster import KMeans\n",
    "from sklearn.preprocessing import MinMaxScaler, Normalizer, StandardScaler\n",
    "warnings.filterwarnings('ignore')\n",
    "plt.rcParams['font.sans-serif']=['SimHei']  # 中文\n",
    "plt.rcParams['axes.unicode_minus'] = False  # 负号\n",
    "path = \"D:/program/program1/User_portrait/\""
   ]
  },
  {
   "cell_type": "code",
   "execution_count": 2,
   "metadata": {},
   "outputs": [],
   "source": [
    "data_company = pd.read_csv(path + \"20190301.csv\", names = ['order_date', 'company', 'total_freight'])\n",
    "data_company = data_company[data_company['total_freight'] >= 1]\n",
    "data_company['order_date'] = pd.to_datetime(data_company['order_date'], format = '%Y-%m-%d')"
   ]
  },
  {
   "cell_type": "code",
   "execution_count": 117,
   "metadata": {},
   "outputs": [],
   "source": [
    "# data_company = pd.read_csv(path + \"20190308.csv\", names = ['order_date', 'company', 'order_num', 'total_freight'])\n",
    "# data_company['order_date'] = pd.to_datetime(data_company['order_date'], format = '%Y-%m-%d')"
   ]
  },
  {
   "cell_type": "code",
   "execution_count": 3,
   "metadata": {},
   "outputs": [
    {
     "data": {
      "text/plain": [
       "3694012"
      ]
     },
     "execution_count": 3,
     "metadata": {},
     "output_type": "execute_result"
    }
   ],
   "source": [
    "len(data_company)"
   ]
  },
  {
   "cell_type": "code",
   "execution_count": 6,
   "metadata": {},
   "outputs": [
    {
     "data": {
      "text/html": [
       "<div>\n",
       "<style scoped>\n",
       "    .dataframe tbody tr th:only-of-type {\n",
       "        vertical-align: middle;\n",
       "    }\n",
       "\n",
       "    .dataframe tbody tr th {\n",
       "        vertical-align: top;\n",
       "    }\n",
       "\n",
       "    .dataframe thead th {\n",
       "        text-align: right;\n",
       "    }\n",
       "</style>\n",
       "<table border=\"1\" class=\"dataframe\">\n",
       "  <thead>\n",
       "    <tr style=\"text-align: right;\">\n",
       "      <th></th>\n",
       "      <th>frequency</th>\n",
       "    </tr>\n",
       "    <tr>\n",
       "      <th>company</th>\n",
       "      <th></th>\n",
       "    </tr>\n",
       "  </thead>\n",
       "  <tbody>\n",
       "    <tr>\n",
       "      <th>01个人刘健</th>\n",
       "      <td>2</td>\n",
       "    </tr>\n",
       "    <tr>\n",
       "      <th>3M苏州</th>\n",
       "      <td>8</td>\n",
       "    </tr>\n",
       "    <tr>\n",
       "      <th>66号定制家居</th>\n",
       "      <td>6</td>\n",
       "    </tr>\n",
       "    <tr>\n",
       "      <th>Dotwil点为商城</th>\n",
       "      <td>4</td>\n",
       "    </tr>\n",
       "    <tr>\n",
       "      <th>IT中心测试</th>\n",
       "      <td>3</td>\n",
       "    </tr>\n",
       "    <tr>\n",
       "      <th>IT部测试客户</th>\n",
       "      <td>2</td>\n",
       "    </tr>\n",
       "    <tr>\n",
       "      <th>J-VALVES</th>\n",
       "      <td>4</td>\n",
       "    </tr>\n",
       "    <tr>\n",
       "      <th>JoinmaxHK</th>\n",
       "      <td>1</td>\n",
       "    </tr>\n",
       "    <tr>\n",
       "      <th>LED灯具</th>\n",
       "      <td>4</td>\n",
       "    </tr>\n",
       "    <tr>\n",
       "      <th>Syneventive</th>\n",
       "      <td>123</td>\n",
       "    </tr>\n",
       "  </tbody>\n",
       "</table>\n",
       "</div>"
      ],
      "text/plain": [
       "             frequency\n",
       "company               \n",
       "01个人刘健               2\n",
       "3M苏州                 8\n",
       "66号定制家居              6\n",
       "Dotwil点为商城           4\n",
       "IT中心测试               3\n",
       "IT部测试客户              2\n",
       "J-VALVES             4\n",
       "JoinmaxHK            1\n",
       "LED灯具                4\n",
       "Syneventive        123"
      ]
     },
     "execution_count": 6,
     "metadata": {},
     "output_type": "execute_result"
    }
   ],
   "source": [
    "# 公司下单频数\n",
    "F_data = data_company['order_date'].groupby(data_company['company']).agg({'frequency' : 'count'})\n",
    "F_data.head(10)"
   ]
  },
  {
   "cell_type": "code",
   "execution_count": 7,
   "metadata": {},
   "outputs": [],
   "source": [
    "# 第一次下单和最后一次下单间隔\n",
    "tmp = data_company.groupby(data_company['company'])['order_date'].agg(['max', 'min'])\n",
    "tmp['days'] = (tmp['max'] - tmp['min']).dt.days"
   ]
  },
  {
   "cell_type": "code",
   "execution_count": 8,
   "metadata": {},
   "outputs": [
    {
     "data": {
      "text/html": [
       "<div>\n",
       "<style scoped>\n",
       "    .dataframe tbody tr th:only-of-type {\n",
       "        vertical-align: middle;\n",
       "    }\n",
       "\n",
       "    .dataframe tbody tr th {\n",
       "        vertical-align: top;\n",
       "    }\n",
       "\n",
       "    .dataframe thead th {\n",
       "        text-align: right;\n",
       "    }\n",
       "</style>\n",
       "<table border=\"1\" class=\"dataframe\">\n",
       "  <thead>\n",
       "    <tr style=\"text-align: right;\">\n",
       "      <th></th>\n",
       "      <th>max</th>\n",
       "      <th>min</th>\n",
       "      <th>days</th>\n",
       "    </tr>\n",
       "    <tr>\n",
       "      <th>company</th>\n",
       "      <th></th>\n",
       "      <th></th>\n",
       "      <th></th>\n",
       "    </tr>\n",
       "  </thead>\n",
       "  <tbody>\n",
       "    <tr>\n",
       "      <th>01个人刘健</th>\n",
       "      <td>2018-12-30</td>\n",
       "      <td>2018-12-28</td>\n",
       "      <td>2</td>\n",
       "    </tr>\n",
       "    <tr>\n",
       "      <th>3M苏州</th>\n",
       "      <td>2018-12-13</td>\n",
       "      <td>2018-09-04</td>\n",
       "      <td>100</td>\n",
       "    </tr>\n",
       "    <tr>\n",
       "      <th>66号定制家居</th>\n",
       "      <td>2019-01-21</td>\n",
       "      <td>2018-09-22</td>\n",
       "      <td>121</td>\n",
       "    </tr>\n",
       "    <tr>\n",
       "      <th>Dotwil点为商城</th>\n",
       "      <td>2019-01-30</td>\n",
       "      <td>2019-01-11</td>\n",
       "      <td>19</td>\n",
       "    </tr>\n",
       "    <tr>\n",
       "      <th>IT中心测试</th>\n",
       "      <td>2019-01-22</td>\n",
       "      <td>2019-01-13</td>\n",
       "      <td>9</td>\n",
       "    </tr>\n",
       "  </tbody>\n",
       "</table>\n",
       "</div>"
      ],
      "text/plain": [
       "                  max        min  days\n",
       "company                               \n",
       "01个人刘健     2018-12-30 2018-12-28     2\n",
       "3M苏州       2018-12-13 2018-09-04   100\n",
       "66号定制家居    2019-01-21 2018-09-22   121\n",
       "Dotwil点为商城 2019-01-30 2019-01-11    19\n",
       "IT中心测试     2019-01-22 2019-01-13     9"
      ]
     },
     "execution_count": 8,
     "metadata": {},
     "output_type": "execute_result"
    }
   ],
   "source": [
    "tmp.head()"
   ]
  },
  {
   "cell_type": "code",
   "execution_count": 9,
   "metadata": {},
   "outputs": [
    {
     "data": {
      "text/html": [
       "<div>\n",
       "<style scoped>\n",
       "    .dataframe tbody tr th:only-of-type {\n",
       "        vertical-align: middle;\n",
       "    }\n",
       "\n",
       "    .dataframe tbody tr th {\n",
       "        vertical-align: top;\n",
       "    }\n",
       "\n",
       "    .dataframe thead th {\n",
       "        text-align: right;\n",
       "    }\n",
       "</style>\n",
       "<table border=\"1\" class=\"dataframe\">\n",
       "  <thead>\n",
       "    <tr style=\"text-align: right;\">\n",
       "      <th></th>\n",
       "      <th>order_date</th>\n",
       "      <th>company</th>\n",
       "      <th>total_freight</th>\n",
       "    </tr>\n",
       "  </thead>\n",
       "  <tbody>\n",
       "    <tr>\n",
       "      <th>1722880</th>\n",
       "      <td>2018-12-28</td>\n",
       "      <td>01个人刘健</td>\n",
       "      <td>471.0</td>\n",
       "    </tr>\n",
       "    <tr>\n",
       "      <th>2400666</th>\n",
       "      <td>2018-12-30</td>\n",
       "      <td>01个人刘健</td>\n",
       "      <td>198.0</td>\n",
       "    </tr>\n",
       "    <tr>\n",
       "      <th>3444941</th>\n",
       "      <td>2018-09-04</td>\n",
       "      <td>3M苏州</td>\n",
       "      <td>261.0</td>\n",
       "    </tr>\n",
       "    <tr>\n",
       "      <th>2150653</th>\n",
       "      <td>2018-09-10</td>\n",
       "      <td>3M苏州</td>\n",
       "      <td>99.0</td>\n",
       "    </tr>\n",
       "    <tr>\n",
       "      <th>2004667</th>\n",
       "      <td>2018-09-17</td>\n",
       "      <td>3M苏州</td>\n",
       "      <td>336.0</td>\n",
       "    </tr>\n",
       "  </tbody>\n",
       "</table>\n",
       "</div>"
      ],
      "text/plain": [
       "        order_date company  total_freight\n",
       "1722880 2018-12-28  01个人刘健          471.0\n",
       "2400666 2018-12-30  01个人刘健          198.0\n",
       "3444941 2018-09-04    3M苏州          261.0\n",
       "2150653 2018-09-10    3M苏州           99.0\n",
       "2004667 2018-09-17    3M苏州          336.0"
      ]
     },
     "execution_count": 9,
     "metadata": {},
     "output_type": "execute_result"
    }
   ],
   "source": [
    "data_company.sort_values(by = ['company', 'order_date'], inplace = True)\n",
    "data_company.head()"
   ]
  },
  {
   "cell_type": "code",
   "execution_count": 10,
   "metadata": {},
   "outputs": [],
   "source": [
    "data_tmp = data_company.copy()"
   ]
  },
  {
   "cell_type": "code",
   "execution_count": 31,
   "metadata": {},
   "outputs": [],
   "source": [
    "data_tmp['shift'] = data_tmp['order_date'].groupby(data_tmp['company']).shift(-1)"
   ]
  },
  {
   "cell_type": "code",
   "execution_count": 32,
   "metadata": {},
   "outputs": [
    {
     "data": {
      "text/html": [
       "<div>\n",
       "<style scoped>\n",
       "    .dataframe tbody tr th:only-of-type {\n",
       "        vertical-align: middle;\n",
       "    }\n",
       "\n",
       "    .dataframe tbody tr th {\n",
       "        vertical-align: top;\n",
       "    }\n",
       "\n",
       "    .dataframe thead th {\n",
       "        text-align: right;\n",
       "    }\n",
       "</style>\n",
       "<table border=\"1\" class=\"dataframe\">\n",
       "  <thead>\n",
       "    <tr style=\"text-align: right;\">\n",
       "      <th></th>\n",
       "      <th>order_date</th>\n",
       "      <th>company</th>\n",
       "      <th>order_num</th>\n",
       "      <th>total_freight</th>\n",
       "      <th>shift</th>\n",
       "    </tr>\n",
       "  </thead>\n",
       "  <tbody>\n",
       "    <tr>\n",
       "      <th>5296603</th>\n",
       "      <td>2018-12-28</td>\n",
       "      <td>01个人刘健</td>\n",
       "      <td>3</td>\n",
       "      <td>471.0</td>\n",
       "      <td>2018-12-30</td>\n",
       "    </tr>\n",
       "    <tr>\n",
       "      <th>5198684</th>\n",
       "      <td>2018-12-30</td>\n",
       "      <td>01个人刘健</td>\n",
       "      <td>2</td>\n",
       "      <td>198.0</td>\n",
       "      <td>NaT</td>\n",
       "    </tr>\n",
       "    <tr>\n",
       "      <th>9058874</th>\n",
       "      <td>2017-09-15</td>\n",
       "      <td>3M苏州</td>\n",
       "      <td>1</td>\n",
       "      <td>6060.0</td>\n",
       "      <td>2017-09-16</td>\n",
       "    </tr>\n",
       "    <tr>\n",
       "      <th>9468405</th>\n",
       "      <td>2017-09-16</td>\n",
       "      <td>3M苏州</td>\n",
       "      <td>1</td>\n",
       "      <td>7120.0</td>\n",
       "      <td>2017-09-18</td>\n",
       "    </tr>\n",
       "    <tr>\n",
       "      <th>1842563</th>\n",
       "      <td>2017-09-18</td>\n",
       "      <td>3M苏州</td>\n",
       "      <td>1</td>\n",
       "      <td>1008.0</td>\n",
       "      <td>2017-09-27</td>\n",
       "    </tr>\n",
       "  </tbody>\n",
       "</table>\n",
       "</div>"
      ],
      "text/plain": [
       "        order_date company  order_num  total_freight      shift\n",
       "5296603 2018-12-28  01个人刘健          3          471.0 2018-12-30\n",
       "5198684 2018-12-30  01个人刘健          2          198.0        NaT\n",
       "9058874 2017-09-15    3M苏州          1         6060.0 2017-09-16\n",
       "9468405 2017-09-16    3M苏州          1         7120.0 2017-09-18\n",
       "1842563 2017-09-18    3M苏州          1         1008.0 2017-09-27"
      ]
     },
     "execution_count": 32,
     "metadata": {},
     "output_type": "execute_result"
    }
   ],
   "source": [
    "data_tmp.head()"
   ]
  },
  {
   "cell_type": "code",
   "execution_count": 33,
   "metadata": {},
   "outputs": [
    {
     "data": {
      "text/html": [
       "<div>\n",
       "<style scoped>\n",
       "    .dataframe tbody tr th:only-of-type {\n",
       "        vertical-align: middle;\n",
       "    }\n",
       "\n",
       "    .dataframe tbody tr th {\n",
       "        vertical-align: top;\n",
       "    }\n",
       "\n",
       "    .dataframe thead th {\n",
       "        text-align: right;\n",
       "    }\n",
       "</style>\n",
       "<table border=\"1\" class=\"dataframe\">\n",
       "  <thead>\n",
       "    <tr style=\"text-align: right;\">\n",
       "      <th></th>\n",
       "      <th>order_date</th>\n",
       "      <th>company</th>\n",
       "      <th>order_num</th>\n",
       "      <th>total_freight</th>\n",
       "      <th>shift</th>\n",
       "    </tr>\n",
       "  </thead>\n",
       "  <tbody>\n",
       "    <tr>\n",
       "      <th>5296603</th>\n",
       "      <td>2018-12-28</td>\n",
       "      <td>01个人刘健</td>\n",
       "      <td>3</td>\n",
       "      <td>471.0</td>\n",
       "      <td>2018-12-30</td>\n",
       "    </tr>\n",
       "    <tr>\n",
       "      <th>5198684</th>\n",
       "      <td>2018-12-30</td>\n",
       "      <td>01个人刘健</td>\n",
       "      <td>2</td>\n",
       "      <td>198.0</td>\n",
       "      <td>2019-02-08</td>\n",
       "    </tr>\n",
       "    <tr>\n",
       "      <th>9058874</th>\n",
       "      <td>2017-09-15</td>\n",
       "      <td>3M苏州</td>\n",
       "      <td>1</td>\n",
       "      <td>6060.0</td>\n",
       "      <td>2017-09-16</td>\n",
       "    </tr>\n",
       "    <tr>\n",
       "      <th>9468405</th>\n",
       "      <td>2017-09-16</td>\n",
       "      <td>3M苏州</td>\n",
       "      <td>1</td>\n",
       "      <td>7120.0</td>\n",
       "      <td>2017-09-18</td>\n",
       "    </tr>\n",
       "    <tr>\n",
       "      <th>1842563</th>\n",
       "      <td>2017-09-18</td>\n",
       "      <td>3M苏州</td>\n",
       "      <td>1</td>\n",
       "      <td>1008.0</td>\n",
       "      <td>2017-09-27</td>\n",
       "    </tr>\n",
       "  </tbody>\n",
       "</table>\n",
       "</div>"
      ],
      "text/plain": [
       "        order_date company  order_num  total_freight      shift\n",
       "5296603 2018-12-28  01个人刘健          3          471.0 2018-12-30\n",
       "5198684 2018-12-30  01个人刘健          2          198.0 2019-02-08\n",
       "9058874 2017-09-15    3M苏州          1         6060.0 2017-09-16\n",
       "9468405 2017-09-16    3M苏州          1         7120.0 2017-09-18\n",
       "1842563 2017-09-18    3M苏州          1         1008.0 2017-09-27"
      ]
     },
     "execution_count": 33,
     "metadata": {},
     "output_type": "execute_result"
    }
   ],
   "source": [
    "data_tmp.loc[data_tmp['shift'].isnull(), ['shift']] = pd.to_datetime('2019-02-08').date()    # data_tmp.loc[data_tmp['shift'].isnull(), ['order_date']].values\n",
    "data_tmp.head()"
   ]
  },
  {
   "cell_type": "code",
   "execution_count": 34,
   "metadata": {},
   "outputs": [],
   "source": [
    "data_tmp['days'] = (data_tmp['shift'] - data_tmp['order_date']).dt.days"
   ]
  },
  {
   "cell_type": "code",
   "execution_count": 37,
   "metadata": {},
   "outputs": [
    {
     "data": {
      "text/html": [
       "<div>\n",
       "<style scoped>\n",
       "    .dataframe tbody tr th:only-of-type {\n",
       "        vertical-align: middle;\n",
       "    }\n",
       "\n",
       "    .dataframe tbody tr th {\n",
       "        vertical-align: top;\n",
       "    }\n",
       "\n",
       "    .dataframe thead th {\n",
       "        text-align: right;\n",
       "    }\n",
       "</style>\n",
       "<table border=\"1\" class=\"dataframe\">\n",
       "  <thead>\n",
       "    <tr style=\"text-align: right;\">\n",
       "      <th></th>\n",
       "      <th>order_date</th>\n",
       "      <th>company</th>\n",
       "      <th>order_num</th>\n",
       "      <th>total_freight</th>\n",
       "      <th>shift</th>\n",
       "      <th>days</th>\n",
       "    </tr>\n",
       "  </thead>\n",
       "  <tbody>\n",
       "    <tr>\n",
       "      <th>5296603</th>\n",
       "      <td>2018-12-28</td>\n",
       "      <td>01个人刘健</td>\n",
       "      <td>3</td>\n",
       "      <td>471.0</td>\n",
       "      <td>2018-12-30</td>\n",
       "      <td>2</td>\n",
       "    </tr>\n",
       "    <tr>\n",
       "      <th>5198684</th>\n",
       "      <td>2018-12-30</td>\n",
       "      <td>01个人刘健</td>\n",
       "      <td>2</td>\n",
       "      <td>198.0</td>\n",
       "      <td>2019-02-08</td>\n",
       "      <td>40</td>\n",
       "    </tr>\n",
       "    <tr>\n",
       "      <th>9058874</th>\n",
       "      <td>2017-09-15</td>\n",
       "      <td>3M苏州</td>\n",
       "      <td>1</td>\n",
       "      <td>6060.0</td>\n",
       "      <td>2017-09-16</td>\n",
       "      <td>1</td>\n",
       "    </tr>\n",
       "    <tr>\n",
       "      <th>9468405</th>\n",
       "      <td>2017-09-16</td>\n",
       "      <td>3M苏州</td>\n",
       "      <td>1</td>\n",
       "      <td>7120.0</td>\n",
       "      <td>2017-09-18</td>\n",
       "      <td>2</td>\n",
       "    </tr>\n",
       "    <tr>\n",
       "      <th>1842563</th>\n",
       "      <td>2017-09-18</td>\n",
       "      <td>3M苏州</td>\n",
       "      <td>1</td>\n",
       "      <td>1008.0</td>\n",
       "      <td>2017-09-27</td>\n",
       "      <td>9</td>\n",
       "    </tr>\n",
       "  </tbody>\n",
       "</table>\n",
       "</div>"
      ],
      "text/plain": [
       "        order_date company  order_num  total_freight      shift  days\n",
       "5296603 2018-12-28  01个人刘健          3          471.0 2018-12-30     2\n",
       "5198684 2018-12-30  01个人刘健          2          198.0 2019-02-08    40\n",
       "9058874 2017-09-15    3M苏州          1         6060.0 2017-09-16     1\n",
       "9468405 2017-09-16    3M苏州          1         7120.0 2017-09-18     2\n",
       "1842563 2017-09-18    3M苏州          1         1008.0 2017-09-27     9"
      ]
     },
     "execution_count": 37,
     "metadata": {},
     "output_type": "execute_result"
    }
   ],
   "source": [
    "data_tmp.head()"
   ]
  },
  {
   "cell_type": "code",
   "execution_count": null,
   "metadata": {},
   "outputs": [],
   "source": []
  },
  {
   "cell_type": "code",
   "execution_count": null,
   "metadata": {},
   "outputs": [],
   "source": []
  },
  {
   "cell_type": "code",
   "execution_count": 41,
   "metadata": {},
   "outputs": [
    {
     "data": {
      "text/html": [
       "<div>\n",
       "<style scoped>\n",
       "    .dataframe tbody tr th:only-of-type {\n",
       "        vertical-align: middle;\n",
       "    }\n",
       "\n",
       "    .dataframe tbody tr th {\n",
       "        vertical-align: top;\n",
       "    }\n",
       "\n",
       "    .dataframe thead th {\n",
       "        text-align: right;\n",
       "    }\n",
       "</style>\n",
       "<table border=\"1\" class=\"dataframe\">\n",
       "  <thead>\n",
       "    <tr style=\"text-align: right;\">\n",
       "      <th></th>\n",
       "      <th>order_date</th>\n",
       "      <th>company</th>\n",
       "      <th>order_num</th>\n",
       "      <th>total_freight</th>\n",
       "    </tr>\n",
       "  </thead>\n",
       "  <tbody>\n",
       "    <tr>\n",
       "      <th>5296603</th>\n",
       "      <td>2018-12-28</td>\n",
       "      <td>01个人刘健</td>\n",
       "      <td>3</td>\n",
       "      <td>471.0</td>\n",
       "    </tr>\n",
       "    <tr>\n",
       "      <th>5198684</th>\n",
       "      <td>2018-12-30</td>\n",
       "      <td>01个人刘健</td>\n",
       "      <td>2</td>\n",
       "      <td>198.0</td>\n",
       "    </tr>\n",
       "    <tr>\n",
       "      <th>9058874</th>\n",
       "      <td>2017-09-15</td>\n",
       "      <td>3M苏州</td>\n",
       "      <td>1</td>\n",
       "      <td>6060.0</td>\n",
       "    </tr>\n",
       "    <tr>\n",
       "      <th>9468405</th>\n",
       "      <td>2017-09-16</td>\n",
       "      <td>3M苏州</td>\n",
       "      <td>1</td>\n",
       "      <td>7120.0</td>\n",
       "    </tr>\n",
       "    <tr>\n",
       "      <th>1842563</th>\n",
       "      <td>2017-09-18</td>\n",
       "      <td>3M苏州</td>\n",
       "      <td>1</td>\n",
       "      <td>1008.0</td>\n",
       "    </tr>\n",
       "  </tbody>\n",
       "</table>\n",
       "</div>"
      ],
      "text/plain": [
       "        order_date company  order_num  total_freight\n",
       "5296603 2018-12-28  01个人刘健          3          471.0\n",
       "5198684 2018-12-30  01个人刘健          2          198.0\n",
       "9058874 2017-09-15    3M苏州          1         6060.0\n",
       "9468405 2017-09-16    3M苏州          1         7120.0\n",
       "1842563 2017-09-18    3M苏州          1         1008.0"
      ]
     },
     "execution_count": 41,
     "metadata": {},
     "output_type": "execute_result"
    }
   ],
   "source": [
    "data_company.head()"
   ]
  },
  {
   "cell_type": "code",
   "execution_count": 49,
   "metadata": {},
   "outputs": [],
   "source": [
    "data_rfm = data_company[['order_date', 'company', 'total_freight']]\n",
    "data_sum = data_rfm.groupby(by = ['order_date', 'company']).sum()"
   ]
  },
  {
   "cell_type": "code",
   "execution_count": 50,
   "metadata": {},
   "outputs": [
    {
     "data": {
      "text/html": [
       "<div>\n",
       "<style scoped>\n",
       "    .dataframe tbody tr th:only-of-type {\n",
       "        vertical-align: middle;\n",
       "    }\n",
       "\n",
       "    .dataframe tbody tr th {\n",
       "        vertical-align: top;\n",
       "    }\n",
       "\n",
       "    .dataframe thead th {\n",
       "        text-align: right;\n",
       "    }\n",
       "</style>\n",
       "<table border=\"1\" class=\"dataframe\">\n",
       "  <thead>\n",
       "    <tr style=\"text-align: right;\">\n",
       "      <th></th>\n",
       "      <th>order_date</th>\n",
       "      <th>company</th>\n",
       "      <th>total_freight</th>\n",
       "    </tr>\n",
       "  </thead>\n",
       "  <tbody>\n",
       "    <tr>\n",
       "      <th>0</th>\n",
       "      <td>2018-12-28</td>\n",
       "      <td>01个人刘健</td>\n",
       "      <td>471.0</td>\n",
       "    </tr>\n",
       "    <tr>\n",
       "      <th>1</th>\n",
       "      <td>2018-12-30</td>\n",
       "      <td>01个人刘健</td>\n",
       "      <td>198.0</td>\n",
       "    </tr>\n",
       "    <tr>\n",
       "      <th>2</th>\n",
       "      <td>2017-09-15</td>\n",
       "      <td>3M苏州</td>\n",
       "      <td>6060.0</td>\n",
       "    </tr>\n",
       "    <tr>\n",
       "      <th>3</th>\n",
       "      <td>2017-09-16</td>\n",
       "      <td>3M苏州</td>\n",
       "      <td>7120.0</td>\n",
       "    </tr>\n",
       "    <tr>\n",
       "      <th>4</th>\n",
       "      <td>2017-09-18</td>\n",
       "      <td>3M苏州</td>\n",
       "      <td>1008.0</td>\n",
       "    </tr>\n",
       "  </tbody>\n",
       "</table>\n",
       "</div>"
      ],
      "text/plain": [
       "  order_date company  total_freight\n",
       "0 2018-12-28  01个人刘健          471.0\n",
       "1 2018-12-30  01个人刘健          198.0\n",
       "2 2017-09-15    3M苏州         6060.0\n",
       "3 2017-09-16    3M苏州         7120.0\n",
       "4 2017-09-18    3M苏州         1008.0"
      ]
     },
     "execution_count": 50,
     "metadata": {},
     "output_type": "execute_result"
    }
   ],
   "source": [
    "data_sum.reset_index(inplace = True)\n",
    "data_sum.sort_values(by = ['company', 'order_date'], inplace = True)\n",
    "data_sum.reset_index(drop = True, inplace = True)\n",
    "data_sum.head()"
   ]
  },
  {
   "cell_type": "code",
   "execution_count": 61,
   "metadata": {},
   "outputs": [
    {
     "data": {
      "text/html": [
       "<div>\n",
       "<style scoped>\n",
       "    .dataframe tbody tr th:only-of-type {\n",
       "        vertical-align: middle;\n",
       "    }\n",
       "\n",
       "    .dataframe tbody tr th {\n",
       "        vertical-align: top;\n",
       "    }\n",
       "\n",
       "    .dataframe thead th {\n",
       "        text-align: right;\n",
       "    }\n",
       "</style>\n",
       "<table border=\"1\" class=\"dataframe\">\n",
       "  <thead>\n",
       "    <tr style=\"text-align: right;\">\n",
       "      <th></th>\n",
       "      <th>order_date</th>\n",
       "      <th>company</th>\n",
       "      <th>total_freight</th>\n",
       "      <th>data_diff</th>\n",
       "    </tr>\n",
       "  </thead>\n",
       "  <tbody>\n",
       "    <tr>\n",
       "      <th>0</th>\n",
       "      <td>2018-12-28</td>\n",
       "      <td>01个人刘健</td>\n",
       "      <td>471.0</td>\n",
       "      <td>42</td>\n",
       "    </tr>\n",
       "    <tr>\n",
       "      <th>1</th>\n",
       "      <td>2018-12-30</td>\n",
       "      <td>01个人刘健</td>\n",
       "      <td>198.0</td>\n",
       "      <td>40</td>\n",
       "    </tr>\n",
       "    <tr>\n",
       "      <th>2</th>\n",
       "      <td>2017-09-15</td>\n",
       "      <td>3M苏州</td>\n",
       "      <td>6060.0</td>\n",
       "      <td>511</td>\n",
       "    </tr>\n",
       "    <tr>\n",
       "      <th>3</th>\n",
       "      <td>2017-09-16</td>\n",
       "      <td>3M苏州</td>\n",
       "      <td>7120.0</td>\n",
       "      <td>510</td>\n",
       "    </tr>\n",
       "    <tr>\n",
       "      <th>4</th>\n",
       "      <td>2017-09-18</td>\n",
       "      <td>3M苏州</td>\n",
       "      <td>1008.0</td>\n",
       "      <td>508</td>\n",
       "    </tr>\n",
       "  </tbody>\n",
       "</table>\n",
       "</div>"
      ],
      "text/plain": [
       "  order_date company  total_freight  data_diff\n",
       "0 2018-12-28  01个人刘健          471.0         42\n",
       "1 2018-12-30  01个人刘健          198.0         40\n",
       "2 2017-09-15    3M苏州         6060.0        511\n",
       "3 2017-09-16    3M苏州         7120.0        510\n",
       "4 2017-09-18    3M苏州         1008.0        508"
      ]
     },
     "execution_count": 61,
     "metadata": {},
     "output_type": "execute_result"
    }
   ],
   "source": [
    "diff = pd.to_datetime('2019-02-08') - data_sum['order_date']\n",
    "data_sum['data_diff'] = diff.dt.days\n",
    "data_sum.head()"
   ]
  },
  {
   "cell_type": "code",
   "execution_count": 62,
   "metadata": {},
   "outputs": [
    {
     "data": {
      "text/html": [
       "<div>\n",
       "<style scoped>\n",
       "    .dataframe tbody tr th:only-of-type {\n",
       "        vertical-align: middle;\n",
       "    }\n",
       "\n",
       "    .dataframe tbody tr th {\n",
       "        vertical-align: top;\n",
       "    }\n",
       "\n",
       "    .dataframe thead th {\n",
       "        text-align: right;\n",
       "    }\n",
       "</style>\n",
       "<table border=\"1\" class=\"dataframe\">\n",
       "  <thead>\n",
       "    <tr style=\"text-align: right;\">\n",
       "      <th></th>\n",
       "      <th>L</th>\n",
       "    </tr>\n",
       "    <tr>\n",
       "      <th>company</th>\n",
       "      <th></th>\n",
       "    </tr>\n",
       "  </thead>\n",
       "  <tbody>\n",
       "    <tr>\n",
       "      <th>01个人刘健</th>\n",
       "      <td>2</td>\n",
       "    </tr>\n",
       "    <tr>\n",
       "      <th>3M苏州</th>\n",
       "      <td>454</td>\n",
       "    </tr>\n",
       "    <tr>\n",
       "      <th>66号定制家居</th>\n",
       "      <td>121</td>\n",
       "    </tr>\n",
       "    <tr>\n",
       "      <th>8阳山许为金水蜜桃</th>\n",
       "      <td>20</td>\n",
       "    </tr>\n",
       "    <tr>\n",
       "      <th>Dotwil点为商城</th>\n",
       "      <td>19</td>\n",
       "    </tr>\n",
       "  </tbody>\n",
       "</table>\n",
       "</div>"
      ],
      "text/plain": [
       "              L\n",
       "company        \n",
       "01个人刘健        2\n",
       "3M苏州        454\n",
       "66号定制家居     121\n",
       "8阳山许为金水蜜桃    20\n",
       "Dotwil点为商城   19"
      ]
     },
     "execution_count": 62,
     "metadata": {},
     "output_type": "execute_result"
    }
   ],
   "source": [
    "L_tmp = data_sum['order_date'].groupby(data_sum['company']).agg(['max', 'min'])\n",
    "L_data = pd.DataFrame((L_tmp['max'] - L_tmp['min']).dt.days, columns = ['L'])\n",
    "L_data.head()"
   ]
  },
  {
   "cell_type": "code",
   "execution_count": 70,
   "metadata": {},
   "outputs": [],
   "source": [
    "date_limit = data_sum[data_sum['order_date'] >= pd.to_datetime('2018-02-08')]"
   ]
  },
  {
   "cell_type": "code",
   "execution_count": 85,
   "metadata": {},
   "outputs": [],
   "source": [
    "R_data = date_limit.groupby('company')['data_diff'].agg({'R' : np.min})\n",
    "F_data = date_limit.groupby('company')['order_date'].agg({'F' : np.size})\n",
    "M_data = date_limit.groupby('company')['total_freight'].agg({'M' : np.sum})"
   ]
  },
  {
   "cell_type": "code",
   "execution_count": 105,
   "metadata": {},
   "outputs": [],
   "source": [
    "rfm_data = pd.concat([L_data, R_data, F_data, M_data], axis = 1)"
   ]
  },
  {
   "cell_type": "code",
   "execution_count": 106,
   "metadata": {},
   "outputs": [],
   "source": [
    "rfm_data.dropna(axis = 0, inplace = True)"
   ]
  },
  {
   "cell_type": "code",
   "execution_count": 107,
   "metadata": {},
   "outputs": [
    {
     "data": {
      "text/html": [
       "<div>\n",
       "<style scoped>\n",
       "    .dataframe tbody tr th:only-of-type {\n",
       "        vertical-align: middle;\n",
       "    }\n",
       "\n",
       "    .dataframe tbody tr th {\n",
       "        vertical-align: top;\n",
       "    }\n",
       "\n",
       "    .dataframe thead th {\n",
       "        text-align: right;\n",
       "    }\n",
       "</style>\n",
       "<table border=\"1\" class=\"dataframe\">\n",
       "  <thead>\n",
       "    <tr style=\"text-align: right;\">\n",
       "      <th></th>\n",
       "      <th>L</th>\n",
       "      <th>R</th>\n",
       "      <th>F</th>\n",
       "      <th>M</th>\n",
       "    </tr>\n",
       "  </thead>\n",
       "  <tbody>\n",
       "    <tr>\n",
       "      <th>01个人刘健</th>\n",
       "      <td>2</td>\n",
       "      <td>40.0</td>\n",
       "      <td>2.0</td>\n",
       "      <td>669.00</td>\n",
       "    </tr>\n",
       "    <tr>\n",
       "      <th>3M苏州</th>\n",
       "      <td>454</td>\n",
       "      <td>57.0</td>\n",
       "      <td>22.0</td>\n",
       "      <td>25584.00</td>\n",
       "    </tr>\n",
       "    <tr>\n",
       "      <th>66号定制家居</th>\n",
       "      <td>121</td>\n",
       "      <td>18.0</td>\n",
       "      <td>6.0</td>\n",
       "      <td>12928.60</td>\n",
       "    </tr>\n",
       "    <tr>\n",
       "      <th>8阳山许为金水蜜桃</th>\n",
       "      <td>20</td>\n",
       "      <td>182.0</td>\n",
       "      <td>18.0</td>\n",
       "      <td>21016.00</td>\n",
       "    </tr>\n",
       "    <tr>\n",
       "      <th>Dotwil点为商城</th>\n",
       "      <td>19</td>\n",
       "      <td>9.0</td>\n",
       "      <td>4.0</td>\n",
       "      <td>635.79</td>\n",
       "    </tr>\n",
       "  </tbody>\n",
       "</table>\n",
       "</div>"
      ],
      "text/plain": [
       "              L      R     F         M\n",
       "01个人刘健        2   40.0   2.0    669.00\n",
       "3M苏州        454   57.0  22.0  25584.00\n",
       "66号定制家居     121   18.0   6.0  12928.60\n",
       "8阳山许为金水蜜桃    20  182.0  18.0  21016.00\n",
       "Dotwil点为商城   19    9.0   4.0    635.79"
      ]
     },
     "execution_count": 107,
     "metadata": {},
     "output_type": "execute_result"
    }
   ],
   "source": [
    "rfm_data.head()"
   ]
  },
  {
   "cell_type": "code",
   "execution_count": 108,
   "metadata": {},
   "outputs": [
    {
     "data": {
      "text/html": [
       "<div>\n",
       "<style scoped>\n",
       "    .dataframe tbody tr th:only-of-type {\n",
       "        vertical-align: middle;\n",
       "    }\n",
       "\n",
       "    .dataframe tbody tr th {\n",
       "        vertical-align: top;\n",
       "    }\n",
       "\n",
       "    .dataframe thead th {\n",
       "        text-align: right;\n",
       "    }\n",
       "</style>\n",
       "<table border=\"1\" class=\"dataframe\">\n",
       "  <thead>\n",
       "    <tr style=\"text-align: right;\">\n",
       "      <th></th>\n",
       "      <th>L</th>\n",
       "      <th>R</th>\n",
       "      <th>F</th>\n",
       "      <th>M</th>\n",
       "    </tr>\n",
       "  </thead>\n",
       "  <tbody>\n",
       "    <tr>\n",
       "      <th>01个人刘健</th>\n",
       "      <td>0.000710</td>\n",
       "      <td>0.109589</td>\n",
       "      <td>0.002740</td>\n",
       "      <td>0.000028</td>\n",
       "    </tr>\n",
       "    <tr>\n",
       "      <th>3M苏州</th>\n",
       "      <td>0.161107</td>\n",
       "      <td>0.156164</td>\n",
       "      <td>0.057534</td>\n",
       "      <td>0.001055</td>\n",
       "    </tr>\n",
       "    <tr>\n",
       "      <th>66号定制家居</th>\n",
       "      <td>0.042938</td>\n",
       "      <td>0.049315</td>\n",
       "      <td>0.013699</td>\n",
       "      <td>0.000533</td>\n",
       "    </tr>\n",
       "    <tr>\n",
       "      <th>8阳山许为金水蜜桃</th>\n",
       "      <td>0.007097</td>\n",
       "      <td>0.498630</td>\n",
       "      <td>0.046575</td>\n",
       "      <td>0.000866</td>\n",
       "    </tr>\n",
       "    <tr>\n",
       "      <th>Dotwil点为商城</th>\n",
       "      <td>0.006742</td>\n",
       "      <td>0.024658</td>\n",
       "      <td>0.008219</td>\n",
       "      <td>0.000026</td>\n",
       "    </tr>\n",
       "  </tbody>\n",
       "</table>\n",
       "</div>"
      ],
      "text/plain": [
       "                   L         R         F         M\n",
       "01个人刘健      0.000710  0.109589  0.002740  0.000028\n",
       "3M苏州        0.161107  0.156164  0.057534  0.001055\n",
       "66号定制家居     0.042938  0.049315  0.013699  0.000533\n",
       "8阳山许为金水蜜桃   0.007097  0.498630  0.046575  0.000866\n",
       "Dotwil点为商城  0.006742  0.024658  0.008219  0.000026"
      ]
     },
     "execution_count": 108,
     "metadata": {},
     "output_type": "execute_result"
    }
   ],
   "source": [
    "# standard = rfm_data.apply(lambda x: (x - np.min(x)) / (np.max(x) - np.min(x)))\n",
    "# standard.head()"
   ]
  },
  {
   "cell_type": "code",
   "execution_count": 93,
   "metadata": {},
   "outputs": [
    {
     "data": {
      "text/html": [
       "<div>\n",
       "<style scoped>\n",
       "    .dataframe tbody tr th:only-of-type {\n",
       "        vertical-align: middle;\n",
       "    }\n",
       "\n",
       "    .dataframe tbody tr th {\n",
       "        vertical-align: top;\n",
       "    }\n",
       "\n",
       "    .dataframe thead th {\n",
       "        text-align: right;\n",
       "    }\n",
       "</style>\n",
       "<table border=\"1\" class=\"dataframe\">\n",
       "  <thead>\n",
       "    <tr style=\"text-align: right;\">\n",
       "      <th></th>\n",
       "      <th>L</th>\n",
       "      <th>R</th>\n",
       "      <th>F</th>\n",
       "      <th>M</th>\n",
       "    </tr>\n",
       "  </thead>\n",
       "  <tbody>\n",
       "    <tr>\n",
       "      <th>01个人刘健</th>\n",
       "      <td>-0.932840</td>\n",
       "      <td>-0.687832</td>\n",
       "      <td>-0.403430</td>\n",
       "      <td>-0.121743</td>\n",
       "    </tr>\n",
       "    <tr>\n",
       "      <th>3M苏州</th>\n",
       "      <td>1.566102</td>\n",
       "      <td>-0.519464</td>\n",
       "      <td>-0.038712</td>\n",
       "      <td>0.011285</td>\n",
       "    </tr>\n",
       "    <tr>\n",
       "      <th>66号定制家居</th>\n",
       "      <td>-0.274932</td>\n",
       "      <td>-0.905720</td>\n",
       "      <td>-0.330486</td>\n",
       "      <td>-0.056286</td>\n",
       "    </tr>\n",
       "    <tr>\n",
       "      <th>8阳山许为金水蜜桃</th>\n",
       "      <td>-0.833324</td>\n",
       "      <td>0.718536</td>\n",
       "      <td>-0.111656</td>\n",
       "      <td>-0.013105</td>\n",
       "    </tr>\n",
       "    <tr>\n",
       "      <th>Dotwil点为商城</th>\n",
       "      <td>-0.838853</td>\n",
       "      <td>-0.994856</td>\n",
       "      <td>-0.366958</td>\n",
       "      <td>-0.121921</td>\n",
       "    </tr>\n",
       "  </tbody>\n",
       "</table>\n",
       "</div>"
      ],
      "text/plain": [
       "                   L         R         F         M\n",
       "01个人刘健     -0.932840 -0.687832 -0.403430 -0.121743\n",
       "3M苏州        1.566102 -0.519464 -0.038712  0.011285\n",
       "66号定制家居    -0.274932 -0.905720 -0.330486 -0.056286\n",
       "8阳山许为金水蜜桃  -0.833324  0.718536 -0.111656 -0.013105\n",
       "Dotwil点为商城 -0.838853 -0.994856 -0.366958 -0.121921"
      ]
     },
     "execution_count": 93,
     "metadata": {},
     "output_type": "execute_result"
    }
   ],
   "source": [
    "standard = (rfm_data - rfm_data.mean())/rfm_data.std()\n",
    "standard.head()"
   ]
  },
  {
   "cell_type": "code",
   "execution_count": 109,
   "metadata": {},
   "outputs": [
    {
     "name": "stdout",
     "output_type": "stream",
     "text": [
      "1\n",
      "2\n",
      "3\n",
      "4\n",
      "5\n",
      "6\n",
      "7\n",
      "8\n",
      "9\n",
      "10\n",
      "11\n",
      "12\n",
      "13\n",
      "14\n"
     ]
    },
    {
     "data": {
      "image/png": "[encoded data removed]",
      "text/plain": [
       "<Figure size 432x288 with 1 Axes>"
      ]
     },
     "metadata": {
      "needs_background": "light"
     },
     "output_type": "display_data"
    }
   ],
   "source": [
    "K = range(1,15)\n",
    "GSSE = []\n",
    "for k in K:\n",
    "    print(k)\n",
    "    SSE = []\n",
    "    kmeans = KMeans(n_clusters=k, random_state=21)\n",
    "    kmeans.fit(standard)\n",
    "    labels = kmeans.labels_\n",
    "    centers = kmeans.cluster_centers_\n",
    "    SSE.append(kmeans.inertia_)\n",
    "    GSSE.append(np.sum(SSE))\n",
    "\n",
    "# kmeans.inertia_ : 计算点到簇中心的距离\n",
    "\n",
    "# 绘制K的个数与GSSE的关系\n",
    "plt.plot(K, GSSE, 'o-')\n",
    "plt.xlabel('聚类个数')\n",
    "plt.ylabel('簇内离差平方和')\n",
    "plt.title('选择最优的聚类个数')\n",
    "plt.show()"
   ]
  },
  {
   "cell_type": "code",
   "execution_count": 110,
   "metadata": {},
   "outputs": [
    {
     "data": {
      "text/plain": [
       "KMeans(algorithm='auto', copy_x=True, init='k-means++', max_iter=300,\n",
       "    n_clusters=8, n_init=10, n_jobs=1, precompute_distances='auto',\n",
       "    random_state=21, tol=0.0001, verbose=0)"
      ]
     },
     "execution_count": 110,
     "metadata": {},
     "output_type": "execute_result"
    }
   ],
   "source": [
    "num_clusters = 8\n",
    "kmeans = KMeans(n_clusters=num_clusters, random_state=21)\n",
    "kmeans.fit(standard)"
   ]
  },
  {
   "cell_type": "code",
   "execution_count": 111,
   "metadata": {},
   "outputs": [],
   "source": [
    "rfm_data['cluster'] = kmeans.labels_ + 1"
   ]
  },
  {
   "cell_type": "code",
   "execution_count": 112,
   "metadata": {},
   "outputs": [
    {
     "data": {
      "text/html": [
       "<div>\n",
       "<style scoped>\n",
       "    .dataframe tbody tr th:only-of-type {\n",
       "        vertical-align: middle;\n",
       "    }\n",
       "\n",
       "    .dataframe tbody tr th {\n",
       "        vertical-align: top;\n",
       "    }\n",
       "\n",
       "    .dataframe thead th {\n",
       "        text-align: right;\n",
       "    }\n",
       "</style>\n",
       "<table border=\"1\" class=\"dataframe\">\n",
       "  <thead>\n",
       "    <tr style=\"text-align: right;\">\n",
       "      <th></th>\n",
       "      <th>cluster</th>\n",
       "      <th>数量</th>\n",
       "      <th>客户类型占比</th>\n",
       "      <th>运费</th>\n",
       "      <th>运费占比</th>\n",
       "    </tr>\n",
       "    <tr>\n",
       "      <th>cluster</th>\n",
       "      <th></th>\n",
       "      <th></th>\n",
       "      <th></th>\n",
       "      <th></th>\n",
       "      <th></th>\n",
       "    </tr>\n",
       "  </thead>\n",
       "  <tbody>\n",
       "    <tr>\n",
       "      <th>1</th>\n",
       "      <td>1</td>\n",
       "      <td>37778</td>\n",
       "      <td>12.01%</td>\n",
       "      <td>1.133730e+08</td>\n",
       "      <td>1.54%</td>\n",
       "    </tr>\n",
       "    <tr>\n",
       "      <th>2</th>\n",
       "      <td>2</td>\n",
       "      <td>66733</td>\n",
       "      <td>21.21%</td>\n",
       "      <td>2.631070e+08</td>\n",
       "      <td>3.56%</td>\n",
       "    </tr>\n",
       "    <tr>\n",
       "      <th>3</th>\n",
       "      <td>3</td>\n",
       "      <td>19234</td>\n",
       "      <td>6.11%</td>\n",
       "      <td>1.632223e+09</td>\n",
       "      <td>22.1%</td>\n",
       "    </tr>\n",
       "    <tr>\n",
       "      <th>4</th>\n",
       "      <td>4</td>\n",
       "      <td>41672</td>\n",
       "      <td>13.24%</td>\n",
       "      <td>1.802577e+08</td>\n",
       "      <td>2.44%</td>\n",
       "    </tr>\n",
       "    <tr>\n",
       "      <th>5</th>\n",
       "      <td>5</td>\n",
       "      <td>33368</td>\n",
       "      <td>10.6%</td>\n",
       "      <td>4.590701e+07</td>\n",
       "      <td>0.62%</td>\n",
       "    </tr>\n",
       "    <tr>\n",
       "      <th>6</th>\n",
       "      <td>6</td>\n",
       "      <td>10186</td>\n",
       "      <td>3.24%</td>\n",
       "      <td>4.257193e+09</td>\n",
       "      <td>57.64%</td>\n",
       "    </tr>\n",
       "    <tr>\n",
       "      <th>7</th>\n",
       "      <td>7</td>\n",
       "      <td>52623</td>\n",
       "      <td>16.72%</td>\n",
       "      <td>1.552903e+08</td>\n",
       "      <td>2.1%</td>\n",
       "    </tr>\n",
       "    <tr>\n",
       "      <th>8</th>\n",
       "      <td>8</td>\n",
       "      <td>53067</td>\n",
       "      <td>16.86%</td>\n",
       "      <td>7.378876e+08</td>\n",
       "      <td>9.99%</td>\n",
       "    </tr>\n",
       "  </tbody>\n",
       "</table>\n",
       "</div>"
      ],
      "text/plain": [
       "         cluster     数量  客户类型占比            运费    运费占比\n",
       "cluster                                              \n",
       "1              1  37778  12.01%  1.133730e+08   1.54%\n",
       "2              2  66733  21.21%  2.631070e+08   3.56%\n",
       "3              3  19234   6.11%  1.632223e+09   22.1%\n",
       "4              4  41672  13.24%  1.802577e+08   2.44%\n",
       "5              5  33368   10.6%  4.590701e+07   0.62%\n",
       "6              6  10186   3.24%  4.257193e+09  57.64%\n",
       "7              7  52623  16.72%  1.552903e+08    2.1%\n",
       "8              8  53067  16.86%  7.378876e+08   9.99%"
      ]
     },
     "execution_count": 112,
     "metadata": {},
     "output_type": "execute_result"
    }
   ],
   "source": [
    "# 计算每个类别的数据量\n",
    "kmeans_c1 = list(rfm_data[\"cluster\"].value_counts().sort_index())\n",
    "\n",
    "# 计算每个类别所占的百分比\n",
    "kmeans_c2 = list(rfm_data[\"cluster\"].value_counts().sort_index() / len(rfm_data) * 100)\n",
    "kmeans_c3 = (list(map(lambda x: str(round(x, 2)) + \"%\", kmeans_c2)))\n",
    "\n",
    "# 每个类别金额占比\n",
    "kmeans_sum = rfm_data['M'].groupby(rfm_data['cluster']).sum()\n",
    "kmeans_percent = kmeans_sum/rfm_data['M'].sum() * 100\n",
    "kmeans_c4 = kmeans_percent.map(lambda x : str(round(x, 2)) + \"%\")\n",
    "\n",
    "kmeans_c = pd.DataFrame({\"cluster\": range(1, len(kmeans_c1) + 1), \"数量\": kmeans_c1, \"客户类型占比\": kmeans_c3, \"运费\" : kmeans_sum, \"运费占比\" : kmeans_c4})\n",
    "kmeans_c"
   ]
  },
  {
   "cell_type": "code",
   "execution_count": 113,
   "metadata": {},
   "outputs": [],
   "source": [
    "standard['cluster'] = kmeans.labels_"
   ]
  },
  {
   "cell_type": "code",
   "execution_count": 115,
   "metadata": {},
   "outputs": [
    {
     "data": {
      "text/plain": [
       "<matplotlib.collections.PathCollection at 0x19903c55128>"
      ]
     },
     "execution_count": 115,
     "metadata": {},
     "output_type": "execute_result"
    },
    {
     "data": {
      "image/png": "[encoded data removed]",
      "text/plain": [
       "<Figure size 432x288 with 1 Axes>"
      ]
     },
     "metadata": {
      "needs_background": "light"
     },
     "output_type": "display_data"
    }
   ],
   "source": [
    "from sklearn.decomposition import PCA\n",
    "pca = PCA(n_components = 2)\n",
    "pca.fit(rfm_data[['L', 'R', 'F', 'M']])\n",
    "result = pca.transform(rfm_data[['L', 'R', 'F', 'M']])\n",
    "# pca.explained_variance_ratio_\n",
    "plt.scatter(result[:,0], result[:, 1], c = rfm_data['cluster'], marker = 'o')"
   ]
  },
  {
   "cell_type": "code",
   "execution_count": null,
   "metadata": {},
   "outputs": [],
   "source": []
  },
  {
   "cell_type": "code",
   "execution_count": null,
   "metadata": {},
   "outputs": [],
   "source": []
  },
  {
   "cell_type": "code",
   "execution_count": null,
   "metadata": {},
   "outputs": [],
   "source": []
  },
  {
   "cell_type": "code",
   "execution_count": null,
   "metadata": {},
   "outputs": [],
   "source": []
  },
  {
   "cell_type": "code",
   "execution_count": null,
   "metadata": {},
   "outputs": [],
   "source": []
  },
  {
   "cell_type": "code",
   "execution_count": null,
   "metadata": {},
   "outputs": [],
   "source": []
  },
  {
   "cell_type": "code",
   "execution_count": null,
   "metadata": {},
   "outputs": [],
   "source": []
  },
  {
   "cell_type": "code",
   "execution_count": null,
   "metadata": {},
   "outputs": [],
   "source": []
  },
  {
   "cell_type": "code",
   "execution_count": null,
   "metadata": {},
   "outputs": [],
   "source": []
  },
  {
   "cell_type": "code",
   "execution_count": null,
   "metadata": {},
   "outputs": [],
   "source": []
  },
  {
   "cell_type": "code",
   "execution_count": null,
   "metadata": {},
   "outputs": [],
   "source": []
  },
  {
   "cell_type": "code",
   "execution_count": null,
   "metadata": {},
   "outputs": [],
   "source": []
  },
  {
   "cell_type": "code",
   "execution_count": null,
   "metadata": {},
   "outputs": [],
   "source": []
  }
 ],
 "metadata": {
  "kernelspec": {
   "display_name": "Python 3",
   "language": "python",
   "name": "python3"
  },
  "language_info": {
   "codemirror_mode": {
    "name": "ipython",
    "version": 3
   },
   "file_extension": ".py",
   "mimetype": "text/x-python",
   "name": "python",
   "nbconvert_exporter": "python",
   "pygments_lexer": "ipython3",
   "version": "3.7.0"
  }
 },
 "nbformat": 4,
 "nbformat_minor": 2
}
