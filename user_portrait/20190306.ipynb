{
 "cells": [
  {
   "cell_type": "code",
   "execution_count": 15,
   "metadata": {},
   "outputs": [],
   "source": [
    "import pandas as pd\n",
    "import datetime\n",
    "import numpy as np\n",
    "import warnings\n",
    "\n",
    "import matplotlib.pyplot as plt\n",
    "from sklearn.cluster import KMeans\n",
    "from sklearn.preprocessing import MinMaxScaler, Normalizer, StandardScaler\n",
    "warnings.filterwarnings('ignore')\n",
    "plt.rcParams['font.sans-serif']=['SimHei']  # 中文\n",
    "plt.rcParams['axes.unicode_minus'] = False  # 负号\n",
    "path = \"D:/program/program1/User_portrait/\""
   ]
  },
  {
   "cell_type": "code",
   "execution_count": 6,
   "metadata": {},
   "outputs": [],
   "source": [
    "data_company = pd.read_csv(path + \"20190301.csv\", names = ['order_date', 'company', 'total_freight'])\n",
    "data_company = data_company[data_company['total_freight'] >= 1]\n",
    "data_company['order_date'] = pd.to_datetime(data_company['order_date'], format = '%Y-%m-%d')"
   ]
  },
  {
   "cell_type": "code",
   "execution_count": 7,
   "metadata": {},
   "outputs": [
    {
     "data": {
      "text/html": [
       "<div>\n",
       "<style scoped>\n",
       "    .dataframe tbody tr th:only-of-type {\n",
       "        vertical-align: middle;\n",
       "    }\n",
       "\n",
       "    .dataframe tbody tr th {\n",
       "        vertical-align: top;\n",
       "    }\n",
       "\n",
       "    .dataframe thead th {\n",
       "        text-align: right;\n",
       "    }\n",
       "</style>\n",
       "<table border=\"1\" class=\"dataframe\">\n",
       "  <thead>\n",
       "    <tr style=\"text-align: right;\">\n",
       "      <th></th>\n",
       "      <th>order_date</th>\n",
       "      <th>company</th>\n",
       "      <th>total_freight</th>\n",
       "    </tr>\n",
       "  </thead>\n",
       "  <tbody>\n",
       "    <tr>\n",
       "      <th>0</th>\n",
       "      <td>2018-10-30</td>\n",
       "      <td>乐清台诠机械</td>\n",
       "      <td>700.0</td>\n",
       "    </tr>\n",
       "    <tr>\n",
       "      <th>1</th>\n",
       "      <td>2019-01-08</td>\n",
       "      <td>深圳江先生（坑梓）</td>\n",
       "      <td>482.0</td>\n",
       "    </tr>\n",
       "    <tr>\n",
       "      <th>2</th>\n",
       "      <td>2018-11-25</td>\n",
       "      <td>昆山萌成</td>\n",
       "      <td>383.5</td>\n",
       "    </tr>\n",
       "    <tr>\n",
       "      <th>3</th>\n",
       "      <td>2018-10-12</td>\n",
       "      <td>深圳德信安</td>\n",
       "      <td>965.0</td>\n",
       "    </tr>\n",
       "    <tr>\n",
       "      <th>4</th>\n",
       "      <td>2018-10-25</td>\n",
       "      <td>广州维每力</td>\n",
       "      <td>533.0</td>\n",
       "    </tr>\n",
       "  </tbody>\n",
       "</table>\n",
       "</div>"
      ],
      "text/plain": [
       "  order_date    company  total_freight\n",
       "0 2018-10-30     乐清台诠机械          700.0\n",
       "1 2019-01-08  深圳江先生（坑梓）          482.0\n",
       "2 2018-11-25       昆山萌成          383.5\n",
       "3 2018-10-12      深圳德信安          965.0\n",
       "4 2018-10-25      广州维每力          533.0"
      ]
     },
     "execution_count": 7,
     "metadata": {},
     "output_type": "execute_result"
    }
   ],
   "source": [
    "data_company.head()"
   ]
  },
  {
   "cell_type": "code",
   "execution_count": 8,
   "metadata": {},
   "outputs": [],
   "source": [
    "data_company['data_diff'] = pd.to_datetime('today') - data_company['order_date']\n",
    "data_company['data_diff'] = data_company['data_diff'].dt.days"
   ]
  },
  {
   "cell_type": "code",
   "execution_count": 9,
   "metadata": {},
   "outputs": [],
   "source": [
    "R_data = data_company.groupby(by = 'company')['data_diff'].agg({'recency' : np.min})\n",
    "F_data = data_company.groupby(by = 'company')['order_date'].agg({'frequency':np.size})\n",
    "M_data = data_company.groupby(by = 'company')['total_freight'].agg({'monetary':np.sum})"
   ]
  },
  {
   "cell_type": "code",
   "execution_count": 10,
   "metadata": {},
   "outputs": [
    {
     "data": {
      "text/html": [
       "<div>\n",
       "<style scoped>\n",
       "    .dataframe tbody tr th:only-of-type {\n",
       "        vertical-align: middle;\n",
       "    }\n",
       "\n",
       "    .dataframe tbody tr th {\n",
       "        vertical-align: top;\n",
       "    }\n",
       "\n",
       "    .dataframe thead th {\n",
       "        text-align: right;\n",
       "    }\n",
       "</style>\n",
       "<table border=\"1\" class=\"dataframe\">\n",
       "  <thead>\n",
       "    <tr style=\"text-align: right;\">\n",
       "      <th></th>\n",
       "      <th>recency</th>\n",
       "    </tr>\n",
       "    <tr>\n",
       "      <th>company</th>\n",
       "      <th></th>\n",
       "    </tr>\n",
       "  </thead>\n",
       "  <tbody>\n",
       "    <tr>\n",
       "      <th>01个人刘健</th>\n",
       "      <td>68</td>\n",
       "    </tr>\n",
       "    <tr>\n",
       "      <th>3M苏州</th>\n",
       "      <td>85</td>\n",
       "    </tr>\n",
       "    <tr>\n",
       "      <th>66号定制家居</th>\n",
       "      <td>46</td>\n",
       "    </tr>\n",
       "    <tr>\n",
       "      <th>Dotwil点为商城</th>\n",
       "      <td>37</td>\n",
       "    </tr>\n",
       "    <tr>\n",
       "      <th>IT中心测试</th>\n",
       "      <td>45</td>\n",
       "    </tr>\n",
       "  </tbody>\n",
       "</table>\n",
       "</div>"
      ],
      "text/plain": [
       "            recency\n",
       "company            \n",
       "01个人刘健           68\n",
       "3M苏州             85\n",
       "66号定制家居          46\n",
       "Dotwil点为商城       37\n",
       "IT中心测试           45"
      ]
     },
     "execution_count": 10,
     "metadata": {},
     "output_type": "execute_result"
    }
   ],
   "source": [
    "R_data.head()"
   ]
  },
  {
   "cell_type": "code",
   "execution_count": 6,
   "metadata": {},
   "outputs": [],
   "source": [
    "rfm_data = pd.concat([R_data, F_data, M_data], axis = 1)"
   ]
  },
  {
   "cell_type": "code",
   "execution_count": 7,
   "metadata": {},
   "outputs": [],
   "source": [
    "rfm_data.dropna(axis = 0, inplace = True)"
   ]
  },
  {
   "cell_type": "code",
   "execution_count": 9,
   "metadata": {},
   "outputs": [
    {
     "data": {
      "text/plain": [
       "<matplotlib.axes._subplots.AxesSubplot at 0x1f304762550>"
      ]
     },
     "execution_count": 9,
     "metadata": {},
     "output_type": "execute_result"
    },
    {
     "data": {
      "image/png": "[encoded data removed]",
      "text/plain": [
       "<Figure size 432x288 with 1 Axes>"
      ]
     },
     "metadata": {
      "needs_background": "light"
     },
     "output_type": "display_data"
    }
   ],
   "source": [
    "rfm_data['recency'].hist(bins = 40)"
   ]
  },
  {
   "cell_type": "markdown",
   "metadata": {},
   "source": [
    "### 与RFM均值比较"
   ]
  },
  {
   "cell_type": "code",
   "execution_count": 8,
   "metadata": {},
   "outputs": [],
   "source": [
    "rfm_data['R_label'] = 0\n",
    "rfm_data['F_label'] = 0\n",
    "rfm_data['M_label'] = 0\n",
    "rfm_data.loc[rfm_data['recency'] < rfm_data['recency'].mean(), ['R_label']] = 1\n",
    "rfm_data.loc[rfm_data['frequency'] > rfm_data['frequency'].mean(), ['F_label']] = 1\n",
    "rfm_data.loc[rfm_data['monetary'] > rfm_data['monetary'].mean(), ['M_label']] = 1"
   ]
  },
  {
   "cell_type": "code",
   "execution_count": 9,
   "metadata": {},
   "outputs": [
    {
     "data": {
      "text/html": [
       "<div>\n",
       "<style scoped>\n",
       "    .dataframe tbody tr th:only-of-type {\n",
       "        vertical-align: middle;\n",
       "    }\n",
       "\n",
       "    .dataframe tbody tr th {\n",
       "        vertical-align: top;\n",
       "    }\n",
       "\n",
       "    .dataframe thead th {\n",
       "        text-align: right;\n",
       "    }\n",
       "</style>\n",
       "<table border=\"1\" class=\"dataframe\">\n",
       "  <thead>\n",
       "    <tr style=\"text-align: right;\">\n",
       "      <th></th>\n",
       "      <th>recency</th>\n",
       "      <th>frequency</th>\n",
       "      <th>monetary</th>\n",
       "      <th>R_label</th>\n",
       "      <th>F_label</th>\n",
       "      <th>M_label</th>\n",
       "    </tr>\n",
       "    <tr>\n",
       "      <th>company</th>\n",
       "      <th></th>\n",
       "      <th></th>\n",
       "      <th></th>\n",
       "      <th></th>\n",
       "      <th></th>\n",
       "      <th></th>\n",
       "    </tr>\n",
       "  </thead>\n",
       "  <tbody>\n",
       "    <tr>\n",
       "      <th>01个人刘健</th>\n",
       "      <td>67</td>\n",
       "      <td>2</td>\n",
       "      <td>669.00</td>\n",
       "      <td>1</td>\n",
       "      <td>0</td>\n",
       "      <td>0</td>\n",
       "    </tr>\n",
       "    <tr>\n",
       "      <th>3M苏州</th>\n",
       "      <td>84</td>\n",
       "      <td>8</td>\n",
       "      <td>4452.50</td>\n",
       "      <td>0</td>\n",
       "      <td>0</td>\n",
       "      <td>0</td>\n",
       "    </tr>\n",
       "    <tr>\n",
       "      <th>66号定制家居</th>\n",
       "      <td>45</td>\n",
       "      <td>6</td>\n",
       "      <td>12928.60</td>\n",
       "      <td>1</td>\n",
       "      <td>0</td>\n",
       "      <td>0</td>\n",
       "    </tr>\n",
       "    <tr>\n",
       "      <th>Dotwil点为商城</th>\n",
       "      <td>36</td>\n",
       "      <td>4</td>\n",
       "      <td>635.79</td>\n",
       "      <td>1</td>\n",
       "      <td>0</td>\n",
       "      <td>0</td>\n",
       "    </tr>\n",
       "    <tr>\n",
       "      <th>IT中心测试</th>\n",
       "      <td>44</td>\n",
       "      <td>3</td>\n",
       "      <td>217.00</td>\n",
       "      <td>1</td>\n",
       "      <td>0</td>\n",
       "      <td>0</td>\n",
       "    </tr>\n",
       "  </tbody>\n",
       "</table>\n",
       "</div>"
      ],
      "text/plain": [
       "            recency  frequency  monetary  R_label  F_label  M_label\n",
       "company                                                            \n",
       "01个人刘健           67          2    669.00        1        0        0\n",
       "3M苏州             84          8   4452.50        0        0        0\n",
       "66号定制家居          45          6  12928.60        1        0        0\n",
       "Dotwil点为商城       36          4    635.79        1        0        0\n",
       "IT中心测试           44          3    217.00        1        0        0"
      ]
     },
     "execution_count": 9,
     "metadata": {},
     "output_type": "execute_result"
    }
   ],
   "source": [
    "rfm_data.head()"
   ]
  },
  {
   "cell_type": "markdown",
   "metadata": {},
   "source": [
    "### 与RFM得分均值比较"
   ]
  },
  {
   "cell_type": "code",
   "execution_count": 10,
   "metadata": {},
   "outputs": [],
   "source": [
    "# def create_label(data, n, mark):\n",
    "#     bins = data.quantile(q = np.linspace(0,1,n), interpolation = 'nearest')\n",
    "#     bins[0] = 0\n",
    "#     if mark == 1:\n",
    "#         labels = [5, 4, 3, 2, 1]\n",
    "#     elif mark == 2:\n",
    "#         labels = [1, 2, 3, 4, 5]\n",
    "#     else:\n",
    "#         labels = [1, 2, 3, 4, 5, 6, 7, 8]\n",
    "#     label = pd.cut(data, bins = bins, labels = labels)\n",
    "#     return label"
   ]
  },
  {
   "cell_type": "code",
   "execution_count": 11,
   "metadata": {},
   "outputs": [],
   "source": [
    "# R_S = create_label(rfm_data['recency'], 6, 1)\n",
    "# F_S = create_label(rfm_data['frequency'], 6, 2)\n",
    "# M_S = create_label(rfm_data['monetary'], 6, 2)"
   ]
  },
  {
   "cell_type": "code",
   "execution_count": 12,
   "metadata": {},
   "outputs": [],
   "source": [
    "# rfm_data['R_S'] = R_S\n",
    "# rfm_data['F_S'] = F_S\n",
    "# rfm_data['M_S'] = M_S"
   ]
  },
  {
   "cell_type": "code",
   "execution_count": 13,
   "metadata": {},
   "outputs": [],
   "source": [
    "# rfm_data = rfm_data.assign(R_label = rfm_data['R_S'].map(lambda x : 1 if x > rfm_data['R_S'].astype(int).mean() else 0),\n",
    "#                            F_label = rfm_data['F_S'].map(lambda x : 1 if x > rfm_data['F_S'].astype(int).mean() else 0),\n",
    "#                            M_label = rfm_data['M_S'].map(lambda x : 1 if x > rfm_data['M_S'].astype(int).mean() else 0))"
   ]
  },
  {
   "cell_type": "code",
   "execution_count": 10,
   "metadata": {},
   "outputs": [
    {
     "data": {
      "text/html": [
       "<div>\n",
       "<style scoped>\n",
       "    .dataframe tbody tr th:only-of-type {\n",
       "        vertical-align: middle;\n",
       "    }\n",
       "\n",
       "    .dataframe tbody tr th {\n",
       "        vertical-align: top;\n",
       "    }\n",
       "\n",
       "    .dataframe thead th {\n",
       "        text-align: right;\n",
       "    }\n",
       "</style>\n",
       "<table border=\"1\" class=\"dataframe\">\n",
       "  <thead>\n",
       "    <tr style=\"text-align: right;\">\n",
       "      <th></th>\n",
       "      <th>recency</th>\n",
       "      <th>frequency</th>\n",
       "      <th>monetary</th>\n",
       "      <th>R_label</th>\n",
       "      <th>F_label</th>\n",
       "      <th>M_label</th>\n",
       "    </tr>\n",
       "    <tr>\n",
       "      <th>company</th>\n",
       "      <th></th>\n",
       "      <th></th>\n",
       "      <th></th>\n",
       "      <th></th>\n",
       "      <th></th>\n",
       "      <th></th>\n",
       "    </tr>\n",
       "  </thead>\n",
       "  <tbody>\n",
       "    <tr>\n",
       "      <th>01个人刘健</th>\n",
       "      <td>67</td>\n",
       "      <td>2</td>\n",
       "      <td>669.00</td>\n",
       "      <td>1</td>\n",
       "      <td>0</td>\n",
       "      <td>0</td>\n",
       "    </tr>\n",
       "    <tr>\n",
       "      <th>3M苏州</th>\n",
       "      <td>84</td>\n",
       "      <td>8</td>\n",
       "      <td>4452.50</td>\n",
       "      <td>0</td>\n",
       "      <td>0</td>\n",
       "      <td>0</td>\n",
       "    </tr>\n",
       "    <tr>\n",
       "      <th>66号定制家居</th>\n",
       "      <td>45</td>\n",
       "      <td>6</td>\n",
       "      <td>12928.60</td>\n",
       "      <td>1</td>\n",
       "      <td>0</td>\n",
       "      <td>0</td>\n",
       "    </tr>\n",
       "    <tr>\n",
       "      <th>Dotwil点为商城</th>\n",
       "      <td>36</td>\n",
       "      <td>4</td>\n",
       "      <td>635.79</td>\n",
       "      <td>1</td>\n",
       "      <td>0</td>\n",
       "      <td>0</td>\n",
       "    </tr>\n",
       "    <tr>\n",
       "      <th>IT中心测试</th>\n",
       "      <td>44</td>\n",
       "      <td>3</td>\n",
       "      <td>217.00</td>\n",
       "      <td>1</td>\n",
       "      <td>0</td>\n",
       "      <td>0</td>\n",
       "    </tr>\n",
       "  </tbody>\n",
       "</table>\n",
       "</div>"
      ],
      "text/plain": [
       "            recency  frequency  monetary  R_label  F_label  M_label\n",
       "company                                                            \n",
       "01个人刘健           67          2    669.00        1        0        0\n",
       "3M苏州             84          8   4452.50        0        0        0\n",
       "66号定制家居          45          6  12928.60        1        0        0\n",
       "Dotwil点为商城       36          4    635.79        1        0        0\n",
       "IT中心测试           44          3    217.00        1        0        0"
      ]
     },
     "execution_count": 10,
     "metadata": {},
     "output_type": "execute_result"
    }
   ],
   "source": [
    "rfm_data.head()"
   ]
  },
  {
   "cell_type": "code",
   "execution_count": 11,
   "metadata": {},
   "outputs": [],
   "source": [
    "rfm_data['rfm'] = rfm_data['R_label'].map(str) + rfm_data['F_label'].map(str) + rfm_data['M_label'].map(str)"
   ]
  },
  {
   "cell_type": "code",
   "execution_count": 12,
   "metadata": {},
   "outputs": [],
   "source": [
    "rfm_data['custom'] = np.NaN\n",
    "rfm_data.loc[rfm_data['rfm'] == '111', ['custom']] = '重要价值客户'\n",
    "rfm_data.loc[rfm_data['rfm'] == '011', ['custom']] = '重要保持客户'\n",
    "rfm_data.loc[rfm_data['rfm'] == '101', ['custom']] = '重要发展客户'\n",
    "rfm_data.loc[rfm_data['rfm'] == '001', ['custom']] = '重要挽留客户'\n",
    "rfm_data.loc[rfm_data['rfm'] == '110', ['custom']] = '一般价值客户'\n",
    "rfm_data.loc[rfm_data['rfm'] == '100', ['custom']] = '一般发展客户'\n",
    "rfm_data.loc[rfm_data['rfm'] == '010', ['custom']] = '一般保持客户'\n",
    "rfm_data.loc[rfm_data['rfm'] == '000', ['custom']] = '一般挽留客户'"
   ]
  },
  {
   "cell_type": "code",
   "execution_count": 13,
   "metadata": {},
   "outputs": [
    {
     "data": {
      "text/plain": [
       "79.38811012031266"
      ]
     },
     "execution_count": 13,
     "metadata": {},
     "output_type": "execute_result"
    }
   ],
   "source": [
    "rfm_data['recency'].mean()"
   ]
  },
  {
   "cell_type": "code",
   "execution_count": 15,
   "metadata": {},
   "outputs": [
    {
     "data": {
      "text/html": [
       "<div>\n",
       "<style scoped>\n",
       "    .dataframe tbody tr th:only-of-type {\n",
       "        vertical-align: middle;\n",
       "    }\n",
       "\n",
       "    .dataframe tbody tr th {\n",
       "        vertical-align: top;\n",
       "    }\n",
       "\n",
       "    .dataframe thead th {\n",
       "        text-align: right;\n",
       "    }\n",
       "</style>\n",
       "<table border=\"1\" class=\"dataframe\">\n",
       "  <thead>\n",
       "    <tr style=\"text-align: right;\">\n",
       "      <th></th>\n",
       "      <th>recency</th>\n",
       "      <th>frequency</th>\n",
       "      <th>monetary</th>\n",
       "      <th>R_label</th>\n",
       "      <th>F_label</th>\n",
       "      <th>M_label</th>\n",
       "      <th>rfm</th>\n",
       "      <th>custom</th>\n",
       "    </tr>\n",
       "    <tr>\n",
       "      <th>company</th>\n",
       "      <th></th>\n",
       "      <th></th>\n",
       "      <th></th>\n",
       "      <th></th>\n",
       "      <th></th>\n",
       "      <th></th>\n",
       "      <th></th>\n",
       "      <th></th>\n",
       "    </tr>\n",
       "  </thead>\n",
       "  <tbody>\n",
       "    <tr>\n",
       "      <th>广州米思阳（服饰）</th>\n",
       "      <td>27</td>\n",
       "      <td>4</td>\n",
       "      <td>9010.6</td>\n",
       "      <td>1</td>\n",
       "      <td>0</td>\n",
       "      <td>0</td>\n",
       "      <td>100</td>\n",
       "      <td>一般发展客户</td>\n",
       "    </tr>\n",
       "    <tr>\n",
       "      <th>昆山茂利</th>\n",
       "      <td>27</td>\n",
       "      <td>8</td>\n",
       "      <td>993.5</td>\n",
       "      <td>1</td>\n",
       "      <td>0</td>\n",
       "      <td>0</td>\n",
       "      <td>100</td>\n",
       "      <td>一般发展客户</td>\n",
       "    </tr>\n",
       "    <tr>\n",
       "      <th>宁波维科新能源</th>\n",
       "      <td>27</td>\n",
       "      <td>3</td>\n",
       "      <td>3410.5</td>\n",
       "      <td>1</td>\n",
       "      <td>0</td>\n",
       "      <td>0</td>\n",
       "      <td>100</td>\n",
       "      <td>一般发展客户</td>\n",
       "    </tr>\n",
       "    <tr>\n",
       "      <th>杭州凡兔（萧山）</th>\n",
       "      <td>27</td>\n",
       "      <td>3</td>\n",
       "      <td>13931.0</td>\n",
       "      <td>1</td>\n",
       "      <td>0</td>\n",
       "      <td>0</td>\n",
       "      <td>100</td>\n",
       "      <td>一般发展客户</td>\n",
       "    </tr>\n",
       "    <tr>\n",
       "      <th>广州卡倍力</th>\n",
       "      <td>27</td>\n",
       "      <td>9</td>\n",
       "      <td>2896.0</td>\n",
       "      <td>1</td>\n",
       "      <td>0</td>\n",
       "      <td>0</td>\n",
       "      <td>100</td>\n",
       "      <td>一般发展客户</td>\n",
       "    </tr>\n",
       "    <tr>\n",
       "      <th>北京小象时光</th>\n",
       "      <td>27</td>\n",
       "      <td>3</td>\n",
       "      <td>700.0</td>\n",
       "      <td>1</td>\n",
       "      <td>0</td>\n",
       "      <td>0</td>\n",
       "      <td>100</td>\n",
       "      <td>一般发展客户</td>\n",
       "    </tr>\n",
       "    <tr>\n",
       "      <th>东莞兰亭</th>\n",
       "      <td>28</td>\n",
       "      <td>1</td>\n",
       "      <td>112.0</td>\n",
       "      <td>1</td>\n",
       "      <td>0</td>\n",
       "      <td>0</td>\n",
       "      <td>100</td>\n",
       "      <td>一般发展客户</td>\n",
       "    </tr>\n",
       "    <tr>\n",
       "      <th>昆明邮先送</th>\n",
       "      <td>28</td>\n",
       "      <td>3</td>\n",
       "      <td>2780.8</td>\n",
       "      <td>1</td>\n",
       "      <td>0</td>\n",
       "      <td>0</td>\n",
       "      <td>100</td>\n",
       "      <td>一般发展客户</td>\n",
       "    </tr>\n",
       "    <tr>\n",
       "      <th>深圳伏尔甘</th>\n",
       "      <td>28</td>\n",
       "      <td>1</td>\n",
       "      <td>200.0</td>\n",
       "      <td>1</td>\n",
       "      <td>0</td>\n",
       "      <td>0</td>\n",
       "      <td>100</td>\n",
       "      <td>一般发展客户</td>\n",
       "    </tr>\n",
       "    <tr>\n",
       "      <th>南昌尚瘾</th>\n",
       "      <td>28</td>\n",
       "      <td>11</td>\n",
       "      <td>382.5</td>\n",
       "      <td>1</td>\n",
       "      <td>0</td>\n",
       "      <td>0</td>\n",
       "      <td>100</td>\n",
       "      <td>一般发展客户</td>\n",
       "    </tr>\n",
       "  </tbody>\n",
       "</table>\n",
       "</div>"
      ],
      "text/plain": [
       "           recency  frequency  monetary  R_label  F_label  M_label  rfm  \\\n",
       "company                                                                   \n",
       "广州米思阳（服饰）       27          4    9010.6        1        0        0  100   \n",
       "昆山茂利            27          8     993.5        1        0        0  100   \n",
       "宁波维科新能源         27          3    3410.5        1        0        0  100   \n",
       "杭州凡兔（萧山）        27          3   13931.0        1        0        0  100   \n",
       "广州卡倍力           27          9    2896.0        1        0        0  100   \n",
       "北京小象时光          27          3     700.0        1        0        0  100   \n",
       "东莞兰亭            28          1     112.0        1        0        0  100   \n",
       "昆明邮先送           28          3    2780.8        1        0        0  100   \n",
       "深圳伏尔甘           28          1     200.0        1        0        0  100   \n",
       "南昌尚瘾            28         11     382.5        1        0        0  100   \n",
       "\n",
       "           custom  \n",
       "company            \n",
       "广州米思阳（服饰）  一般发展客户  \n",
       "昆山茂利       一般发展客户  \n",
       "宁波维科新能源    一般发展客户  \n",
       "杭州凡兔（萧山）   一般发展客户  \n",
       "广州卡倍力      一般发展客户  \n",
       "北京小象时光     一般发展客户  \n",
       "东莞兰亭       一般发展客户  \n",
       "昆明邮先送      一般发展客户  \n",
       "深圳伏尔甘      一般发展客户  \n",
       "南昌尚瘾       一般发展客户  "
      ]
     },
     "execution_count": 15,
     "metadata": {},
     "output_type": "execute_result"
    }
   ],
   "source": [
    "rfm_data[rfm_data['custom'] == '一般发展客户'].sort_values('recency').head(10)"
   ]
  },
  {
   "cell_type": "code",
   "execution_count": 17,
   "metadata": {},
   "outputs": [
    {
     "data": {
      "text/html": [
       "<div>\n",
       "<style scoped>\n",
       "    .dataframe tbody tr th:only-of-type {\n",
       "        vertical-align: middle;\n",
       "    }\n",
       "\n",
       "    .dataframe tbody tr th {\n",
       "        vertical-align: top;\n",
       "    }\n",
       "\n",
       "    .dataframe thead th {\n",
       "        text-align: right;\n",
       "    }\n",
       "</style>\n",
       "<table border=\"1\" class=\"dataframe\">\n",
       "  <thead>\n",
       "    <tr style=\"text-align: right;\">\n",
       "      <th></th>\n",
       "      <th>recency</th>\n",
       "      <th>frequency</th>\n",
       "      <th>monetary</th>\n",
       "      <th>R_label</th>\n",
       "      <th>F_label</th>\n",
       "      <th>M_label</th>\n",
       "      <th>rfm</th>\n",
       "      <th>custom</th>\n",
       "    </tr>\n",
       "    <tr>\n",
       "      <th>company</th>\n",
       "      <th></th>\n",
       "      <th></th>\n",
       "      <th></th>\n",
       "      <th></th>\n",
       "      <th></th>\n",
       "      <th></th>\n",
       "      <th></th>\n",
       "      <th></th>\n",
       "    </tr>\n",
       "  </thead>\n",
       "  <tbody>\n",
       "    <tr>\n",
       "      <th>01个人刘健</th>\n",
       "      <td>67</td>\n",
       "      <td>2</td>\n",
       "      <td>669.00</td>\n",
       "      <td>1</td>\n",
       "      <td>0</td>\n",
       "      <td>0</td>\n",
       "      <td>100</td>\n",
       "      <td>一般发展客户</td>\n",
       "    </tr>\n",
       "    <tr>\n",
       "      <th>3M苏州</th>\n",
       "      <td>84</td>\n",
       "      <td>8</td>\n",
       "      <td>4452.50</td>\n",
       "      <td>0</td>\n",
       "      <td>0</td>\n",
       "      <td>0</td>\n",
       "      <td>000</td>\n",
       "      <td>一般挽留客户</td>\n",
       "    </tr>\n",
       "    <tr>\n",
       "      <th>66号定制家居</th>\n",
       "      <td>45</td>\n",
       "      <td>6</td>\n",
       "      <td>12928.60</td>\n",
       "      <td>1</td>\n",
       "      <td>0</td>\n",
       "      <td>0</td>\n",
       "      <td>100</td>\n",
       "      <td>一般发展客户</td>\n",
       "    </tr>\n",
       "    <tr>\n",
       "      <th>Dotwil点为商城</th>\n",
       "      <td>36</td>\n",
       "      <td>4</td>\n",
       "      <td>635.79</td>\n",
       "      <td>1</td>\n",
       "      <td>0</td>\n",
       "      <td>0</td>\n",
       "      <td>100</td>\n",
       "      <td>一般发展客户</td>\n",
       "    </tr>\n",
       "    <tr>\n",
       "      <th>IT中心测试</th>\n",
       "      <td>44</td>\n",
       "      <td>3</td>\n",
       "      <td>217.00</td>\n",
       "      <td>1</td>\n",
       "      <td>0</td>\n",
       "      <td>0</td>\n",
       "      <td>100</td>\n",
       "      <td>一般发展客户</td>\n",
       "    </tr>\n",
       "  </tbody>\n",
       "</table>\n",
       "</div>"
      ],
      "text/plain": [
       "            recency  frequency  monetary  R_label  F_label  M_label  rfm  \\\n",
       "company                                                                    \n",
       "01个人刘健           67          2    669.00        1        0        0  100   \n",
       "3M苏州             84          8   4452.50        0        0        0  000   \n",
       "66号定制家居          45          6  12928.60        1        0        0  100   \n",
       "Dotwil点为商城       36          4    635.79        1        0        0  100   \n",
       "IT中心测试           44          3    217.00        1        0        0  100   \n",
       "\n",
       "            custom  \n",
       "company             \n",
       "01个人刘健      一般发展客户  \n",
       "3M苏州        一般挽留客户  \n",
       "66号定制家居     一般发展客户  \n",
       "Dotwil点为商城  一般发展客户  \n",
       "IT中心测试      一般发展客户  "
      ]
     },
     "execution_count": 17,
     "metadata": {},
     "output_type": "execute_result"
    }
   ],
   "source": [
    "rfm_data.head()"
   ]
  },
  {
   "cell_type": "code",
   "execution_count": 18,
   "metadata": {},
   "outputs": [
    {
     "data": {
      "text/html": [
       "<div>\n",
       "<style scoped>\n",
       "    .dataframe tbody tr th:only-of-type {\n",
       "        vertical-align: middle;\n",
       "    }\n",
       "\n",
       "    .dataframe tbody tr th {\n",
       "        vertical-align: top;\n",
       "    }\n",
       "\n",
       "    .dataframe thead th {\n",
       "        text-align: right;\n",
       "    }\n",
       "</style>\n",
       "<table border=\"1\" class=\"dataframe\">\n",
       "  <thead>\n",
       "    <tr style=\"text-align: right;\">\n",
       "      <th></th>\n",
       "      <th>数量</th>\n",
       "      <th>客户类型占比(%)</th>\n",
       "      <th>运费占比(%)</th>\n",
       "    </tr>\n",
       "    <tr>\n",
       "      <th>custom</th>\n",
       "      <th></th>\n",
       "      <th></th>\n",
       "      <th></th>\n",
       "    </tr>\n",
       "  </thead>\n",
       "  <tbody>\n",
       "    <tr>\n",
       "      <th>一般价值客户</th>\n",
       "      <td>23292</td>\n",
       "      <td>10.42</td>\n",
       "      <td>4.81</td>\n",
       "    </tr>\n",
       "    <tr>\n",
       "      <th>一般保持客户</th>\n",
       "      <td>1178</td>\n",
       "      <td>0.53</td>\n",
       "      <td>0.19</td>\n",
       "    </tr>\n",
       "    <tr>\n",
       "      <th>一般发展客户</th>\n",
       "      <td>86166</td>\n",
       "      <td>38.55</td>\n",
       "      <td>5.15</td>\n",
       "    </tr>\n",
       "    <tr>\n",
       "      <th>一般挽留客户</th>\n",
       "      <td>84417</td>\n",
       "      <td>37.77</td>\n",
       "      <td>2.48</td>\n",
       "    </tr>\n",
       "    <tr>\n",
       "      <th>重要价值客户</th>\n",
       "      <td>26018</td>\n",
       "      <td>11.64</td>\n",
       "      <td>84.54</td>\n",
       "    </tr>\n",
       "    <tr>\n",
       "      <th>重要保持客户</th>\n",
       "      <td>516</td>\n",
       "      <td>0.23</td>\n",
       "      <td>1.16</td>\n",
       "    </tr>\n",
       "    <tr>\n",
       "      <th>重要发展客户</th>\n",
       "      <td>1483</td>\n",
       "      <td>0.66</td>\n",
       "      <td>1.21</td>\n",
       "    </tr>\n",
       "    <tr>\n",
       "      <th>重要挽留客户</th>\n",
       "      <td>431</td>\n",
       "      <td>0.19</td>\n",
       "      <td>0.46</td>\n",
       "    </tr>\n",
       "  </tbody>\n",
       "</table>\n",
       "</div>"
      ],
      "text/plain": [
       "           数量  客户类型占比(%)  运费占比(%)\n",
       "custom                           \n",
       "一般价值客户  23292      10.42     4.81\n",
       "一般保持客户   1178       0.53     0.19\n",
       "一般发展客户  86166      38.55     5.15\n",
       "一般挽留客户  84417      37.77     2.48\n",
       "重要价值客户  26018      11.64    84.54\n",
       "重要保持客户    516       0.23     1.16\n",
       "重要发展客户   1483       0.66     1.21\n",
       "重要挽留客户    431       0.19     0.46"
      ]
     },
     "execution_count": 18,
     "metadata": {},
     "output_type": "execute_result"
    }
   ],
   "source": [
    "rfm_c1 = list(rfm_data['custom'].value_counts().sort_index()) # 统计每个类别个数\n",
    "rfm_c2 = list(rfm_data['custom'].value_counts().sort_index()/len(rfm_data)*100)\n",
    "rfm_c3 = list(map(lambda x: round(x, 2), rfm_c2))\n",
    "# 每个类别金额占比\n",
    "rfm_sum = rfm_data['monetary'].groupby(rfm_data['custom']).sum()\n",
    "rfm_percent = rfm_sum/rfm_data['monetary'].sum() * 100\n",
    "rfm_c4 = rfm_percent.map(lambda x : round(x, 2))\n",
    "\n",
    "rfm_c = pd.DataFrame({'数量': rfm_c1, '客户类型占比(%)': rfm_c3, '运费占比(%)' : rfm_c4})\n",
    "rfm_c"
   ]
  },
  {
   "cell_type": "code",
   "execution_count": 29,
   "metadata": {
    "scrolled": true
   },
   "outputs": [
    {
     "data": {
      "text/plain": [
       "Text(0.5,1,'客户类型占比(%)')"
      ]
     },
     "execution_count": 29,
     "metadata": {},
     "output_type": "execute_result"
    },
    {
     "data": {
      "image/png": "[encoded data removed]",
      "text/plain": [
       "<Figure size 432x288 with 1 Axes>"
      ]
     },
     "metadata": {},
     "output_type": "display_data"
    }
   ],
   "source": [
    "plt.pie(rfm_c['客户类型占比(%)'], labels = rfm_c.index, autopct = '%1.1f%%')\n",
    "plt.title('客户类型占比(%)')"
   ]
  },
  {
   "cell_type": "code",
   "execution_count": 30,
   "metadata": {},
   "outputs": [
    {
     "data": {
      "text/plain": [
       "Text(0.5,1,'运费占比(%)')"
      ]
     },
     "execution_count": 30,
     "metadata": {},
     "output_type": "execute_result"
    },
    {
     "data": {
      "image/png": "[encoded data removed]",
      "text/plain": [
       "<Figure size 432x288 with 1 Axes>"
      ]
     },
     "metadata": {},
     "output_type": "display_data"
    }
   ],
   "source": [
    "plt.pie(rfm_c['运费占比(%)'], labels = rfm_c.index, autopct = '%1.1f%%')\n",
    "plt.title('运费占比(%)')"
   ]
  },
  {
   "cell_type": "code",
   "execution_count": null,
   "metadata": {},
   "outputs": [],
   "source": []
  },
  {
   "cell_type": "code",
   "execution_count": null,
   "metadata": {},
   "outputs": [],
   "source": []
  },
  {
   "cell_type": "code",
   "execution_count": null,
   "metadata": {},
   "outputs": [],
   "source": []
  },
  {
   "cell_type": "code",
   "execution_count": null,
   "metadata": {},
   "outputs": [],
   "source": []
  },
  {
   "cell_type": "code",
   "execution_count": null,
   "metadata": {},
   "outputs": [],
   "source": []
  },
  {
   "cell_type": "code",
   "execution_count": null,
   "metadata": {},
   "outputs": [],
   "source": []
  },
  {
   "cell_type": "code",
   "execution_count": null,
   "metadata": {},
   "outputs": [],
   "source": []
  },
  {
   "cell_type": "code",
   "execution_count": null,
   "metadata": {},
   "outputs": [],
   "source": []
  },
  {
   "cell_type": "code",
   "execution_count": null,
   "metadata": {},
   "outputs": [],
   "source": []
  },
  {
   "cell_type": "code",
   "execution_count": null,
   "metadata": {},
   "outputs": [],
   "source": []
  },
  {
   "cell_type": "code",
   "execution_count": null,
   "metadata": {},
   "outputs": [],
   "source": []
  },
  {
   "cell_type": "code",
   "execution_count": null,
   "metadata": {},
   "outputs": [],
   "source": []
  },
  {
   "cell_type": "code",
   "execution_count": null,
   "metadata": {},
   "outputs": [],
   "source": []
  },
  {
   "cell_type": "code",
   "execution_count": null,
   "metadata": {},
   "outputs": [],
   "source": []
  },
  {
   "cell_type": "code",
   "execution_count": null,
   "metadata": {},
   "outputs": [],
   "source": []
  },
  {
   "cell_type": "code",
   "execution_count": null,
   "metadata": {},
   "outputs": [],
   "source": []
  },
  {
   "cell_type": "code",
   "execution_count": null,
   "metadata": {},
   "outputs": [],
   "source": []
  },
  {
   "cell_type": "code",
   "execution_count": null,
   "metadata": {},
   "outputs": [],
   "source": []
  },
  {
   "cell_type": "code",
   "execution_count": null,
   "metadata": {},
   "outputs": [],
   "source": []
  },
  {
   "cell_type": "code",
   "execution_count": null,
   "metadata": {},
   "outputs": [],
   "source": []
  },
  {
   "cell_type": "code",
   "execution_count": null,
   "metadata": {},
   "outputs": [],
   "source": []
  },
  {
   "cell_type": "code",
   "execution_count": null,
   "metadata": {},
   "outputs": [],
   "source": []
  },
  {
   "cell_type": "code",
   "execution_count": null,
   "metadata": {},
   "outputs": [],
   "source": []
  },
  {
   "cell_type": "code",
   "execution_count": null,
   "metadata": {},
   "outputs": [],
   "source": []
  },
  {
   "cell_type": "code",
   "execution_count": null,
   "metadata": {},
   "outputs": [],
   "source": []
  },
  {
   "cell_type": "code",
   "execution_count": null,
   "metadata": {},
   "outputs": [],
   "source": []
  },
  {
   "cell_type": "code",
   "execution_count": null,
   "metadata": {},
   "outputs": [],
   "source": []
  },
  {
   "cell_type": "code",
   "execution_count": null,
   "metadata": {},
   "outputs": [],
   "source": []
  },
  {
   "cell_type": "code",
   "execution_count": null,
   "metadata": {},
   "outputs": [],
   "source": []
  },
  {
   "cell_type": "code",
   "execution_count": null,
   "metadata": {},
   "outputs": [],
   "source": []
  },
  {
   "cell_type": "code",
   "execution_count": null,
   "metadata": {},
   "outputs": [],
   "source": []
  },
  {
   "cell_type": "code",
   "execution_count": null,
   "metadata": {},
   "outputs": [],
   "source": []
  },
  {
   "cell_type": "code",
   "execution_count": null,
   "metadata": {},
   "outputs": [],
   "source": []
  },
  {
   "cell_type": "code",
   "execution_count": null,
   "metadata": {},
   "outputs": [],
   "source": []
  },
  {
   "cell_type": "code",
   "execution_count": null,
   "metadata": {},
   "outputs": [],
   "source": []
  },
  {
   "cell_type": "code",
   "execution_count": null,
   "metadata": {},
   "outputs": [],
   "source": []
  },
  {
   "cell_type": "code",
   "execution_count": null,
   "metadata": {},
   "outputs": [],
   "source": []
  },
  {
   "cell_type": "code",
   "execution_count": null,
   "metadata": {},
   "outputs": [],
   "source": []
  }
 ],
 "metadata": {
  "kernelspec": {
   "display_name": "Python 3",
   "language": "python",
   "name": "python3"
  },
  "language_info": {
   "codemirror_mode": {
    "name": "ipython",
    "version": 3
   },
   "file_extension": ".py",
   "mimetype": "text/x-python",
   "name": "python",
   "nbconvert_exporter": "python",
   "pygments_lexer": "ipython3",
   "version": "3.7.0"
  }
 },
 "nbformat": 4,
 "nbformat_minor": 2
}
