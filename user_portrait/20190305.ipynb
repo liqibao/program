{
 "cells": [
  {
   "cell_type": "code",
   "execution_count": 22,
   "metadata": {},
   "outputs": [],
   "source": [
    "import pandas as pd\n",
    "import datetime\n",
    "import numpy as np\n",
    "import warnings\n",
    "\n",
    "import matplotlib.pyplot as plt\n",
    "from sklearn.cluster import KMeans\n",
    "from sklearn.preprocessing import MinMaxScaler, Normalizer, StandardScaler\n",
    "warnings.filterwarnings('ignore')\n",
    "plt.rcParams['font.sans-serif']=['SimHei']  # 中文\n",
    "plt.rcParams['axes.unicode_minus'] = False  # 负号\n",
    "path = \"D:/program/program1/User_portrait/\""
   ]
  },
  {
   "cell_type": "markdown",
   "metadata": {},
   "source": [
    "### 加载数据"
   ]
  },
  {
   "cell_type": "code",
   "execution_count": 23,
   "metadata": {},
   "outputs": [],
   "source": [
    "data_company = pd.read_csv(path + \"20190301.csv\", names = ['order_date', 'company', 'total_freight'])"
   ]
  },
  {
   "cell_type": "code",
   "execution_count": 24,
   "metadata": {},
   "outputs": [
    {
     "data": {
      "text/plain": [
       "223577"
      ]
     },
     "execution_count": 24,
     "metadata": {},
     "output_type": "execute_result"
    }
   ],
   "source": [
    "len(data_company['company'].unique())"
   ]
  },
  {
   "cell_type": "markdown",
   "metadata": {},
   "source": [
    "### 排除异常订单（目前按非内部件，运费小于1的判断为异常订单）"
   ]
  },
  {
   "cell_type": "code",
   "execution_count": 25,
   "metadata": {},
   "outputs": [],
   "source": [
    "data_company = data_company[data_company['total_freight'] >= 1]"
   ]
  },
  {
   "cell_type": "markdown",
   "metadata": {},
   "source": [
    "### RFM"
   ]
  },
  {
   "cell_type": "code",
   "execution_count": 26,
   "metadata": {},
   "outputs": [],
   "source": [
    "data_company['order_date'] = pd.to_datetime(data_company['order_date'], format = '%Y-%m-%d')\n",
    "data_company['data_diff'] = pd.to_datetime('today') - data_company['order_date']\n",
    "data_company['data_diff'] = data_company['data_diff'].dt.days"
   ]
  },
  {
   "cell_type": "code",
   "execution_count": 27,
   "metadata": {},
   "outputs": [],
   "source": [
    "R_data = data_company.groupby(by = 'company')['data_diff'].agg({'recency' : np.min})\n",
    "F_data = data_company.groupby(by = 'company')['order_date'].agg({'frequency':np.size})\n",
    "M_data = data_company.groupby(by = 'company')['total_freight'].agg({'monetary':np.sum})"
   ]
  },
  {
   "cell_type": "code",
   "execution_count": 28,
   "metadata": {},
   "outputs": [],
   "source": [
    "rfm_data = pd.concat([R_data, F_data, M_data], axis = 1)"
   ]
  },
  {
   "cell_type": "code",
   "execution_count": 29,
   "metadata": {},
   "outputs": [
    {
     "data": {
      "text/html": [
       "<div>\n",
       "<style scoped>\n",
       "    .dataframe tbody tr th:only-of-type {\n",
       "        vertical-align: middle;\n",
       "    }\n",
       "\n",
       "    .dataframe tbody tr th {\n",
       "        vertical-align: top;\n",
       "    }\n",
       "\n",
       "    .dataframe thead th {\n",
       "        text-align: right;\n",
       "    }\n",
       "</style>\n",
       "<table border=\"1\" class=\"dataframe\">\n",
       "  <thead>\n",
       "    <tr style=\"text-align: right;\">\n",
       "      <th></th>\n",
       "      <th>recency</th>\n",
       "      <th>frequency</th>\n",
       "      <th>monetary</th>\n",
       "    </tr>\n",
       "  </thead>\n",
       "  <tbody>\n",
       "    <tr>\n",
       "      <th>count</th>\n",
       "      <td>223501.000000</td>\n",
       "      <td>223501.000000</td>\n",
       "      <td>2.235010e+05</td>\n",
       "    </tr>\n",
       "    <tr>\n",
       "      <th>mean</th>\n",
       "      <td>79.388110</td>\n",
       "      <td>16.527944</td>\n",
       "      <td>1.664445e+04</td>\n",
       "    </tr>\n",
       "    <tr>\n",
       "      <th>std</th>\n",
       "      <td>43.466182</td>\n",
       "      <td>30.518144</td>\n",
       "      <td>1.276432e+05</td>\n",
       "    </tr>\n",
       "    <tr>\n",
       "      <th>min</th>\n",
       "      <td>27.000000</td>\n",
       "      <td>1.000000</td>\n",
       "      <td>1.000000e+00</td>\n",
       "    </tr>\n",
       "    <tr>\n",
       "      <th>25%</th>\n",
       "      <td>43.000000</td>\n",
       "      <td>1.000000</td>\n",
       "      <td>3.640000e+02</td>\n",
       "    </tr>\n",
       "    <tr>\n",
       "      <th>50%</th>\n",
       "      <td>62.000000</td>\n",
       "      <td>3.000000</td>\n",
       "      <td>1.275900e+03</td>\n",
       "    </tr>\n",
       "    <tr>\n",
       "      <th>75%</th>\n",
       "      <td>108.000000</td>\n",
       "      <td>14.000000</td>\n",
       "      <td>5.489100e+03</td>\n",
       "    </tr>\n",
       "    <tr>\n",
       "      <th>max</th>\n",
       "      <td>187.000000</td>\n",
       "      <td>161.000000</td>\n",
       "      <td>2.348320e+07</td>\n",
       "    </tr>\n",
       "  </tbody>\n",
       "</table>\n",
       "</div>"
      ],
      "text/plain": [
       "             recency      frequency      monetary\n",
       "count  223501.000000  223501.000000  2.235010e+05\n",
       "mean       79.388110      16.527944  1.664445e+04\n",
       "std        43.466182      30.518144  1.276432e+05\n",
       "min        27.000000       1.000000  1.000000e+00\n",
       "25%        43.000000       1.000000  3.640000e+02\n",
       "50%        62.000000       3.000000  1.275900e+03\n",
       "75%       108.000000      14.000000  5.489100e+03\n",
       "max       187.000000     161.000000  2.348320e+07"
      ]
     },
     "execution_count": 29,
     "metadata": {},
     "output_type": "execute_result"
    }
   ],
   "source": [
    "rfm_data.describe()"
   ]
  },
  {
   "cell_type": "code",
   "execution_count": 30,
   "metadata": {},
   "outputs": [
    {
     "data": {
      "text/plain": [
       "count    2.235010e+05\n",
       "mean     1.664445e+04\n",
       "std      1.276432e+05\n",
       "min      1.000000e+00\n",
       "25%      3.640000e+02\n",
       "50%      1.275900e+03\n",
       "75%      5.489100e+03\n",
       "max      2.348320e+07\n",
       "Name: monetary, dtype: float64"
      ]
     },
     "execution_count": 30,
     "metadata": {},
     "output_type": "execute_result"
    }
   ],
   "source": [
    "rfm_data['monetary'].describe()"
   ]
  },
  {
   "cell_type": "code",
   "execution_count": 31,
   "metadata": {},
   "outputs": [
    {
     "data": {
      "text/plain": [
       "0.0           1.0\n",
       "0.2         280.0\n",
       "0.4         771.4\n",
       "0.6        2184.0\n",
       "0.8        8106.0\n",
       "1.0    23483204.8\n",
       "Name: monetary, dtype: float64"
      ]
     },
     "execution_count": 31,
     "metadata": {},
     "output_type": "execute_result"
    }
   ],
   "source": [
    "rfm_data['monetary'].quantile(q = np.linspace(0,1,6), interpolation = 'nearest')"
   ]
  },
  {
   "cell_type": "code",
   "execution_count": 32,
   "metadata": {},
   "outputs": [
    {
     "data": {
      "text/plain": [
       "<matplotlib.axes._subplots.AxesSubplot at 0x175a49c2c18>"
      ]
     },
     "execution_count": 32,
     "metadata": {},
     "output_type": "execute_result"
    },
    {
     "data": {
      "image/png": "[encoded data removed]",
      "text/plain": [
       "<Figure size 432x288 with 1 Axes>"
      ]
     },
     "metadata": {
      "needs_background": "light"
     },
     "output_type": "display_data"
    }
   ],
   "source": [
    "np.log1p(rfm_data['monetary']).hist(bins = 40)"
   ]
  },
  {
   "cell_type": "code",
   "execution_count": 33,
   "metadata": {},
   "outputs": [],
   "source": [
    "rfm_data.dropna(axis = 0, inplace = True)"
   ]
  },
  {
   "cell_type": "code",
   "execution_count": 34,
   "metadata": {},
   "outputs": [
    {
     "data": {
      "text/html": [
       "<div>\n",
       "<style scoped>\n",
       "    .dataframe tbody tr th:only-of-type {\n",
       "        vertical-align: middle;\n",
       "    }\n",
       "\n",
       "    .dataframe tbody tr th {\n",
       "        vertical-align: top;\n",
       "    }\n",
       "\n",
       "    .dataframe thead th {\n",
       "        text-align: right;\n",
       "    }\n",
       "</style>\n",
       "<table border=\"1\" class=\"dataframe\">\n",
       "  <thead>\n",
       "    <tr style=\"text-align: right;\">\n",
       "      <th></th>\n",
       "      <th>recency</th>\n",
       "      <th>frequency</th>\n",
       "      <th>monetary</th>\n",
       "    </tr>\n",
       "    <tr>\n",
       "      <th>company</th>\n",
       "      <th></th>\n",
       "      <th></th>\n",
       "      <th></th>\n",
       "    </tr>\n",
       "  </thead>\n",
       "  <tbody>\n",
       "    <tr>\n",
       "      <th>01个人刘健</th>\n",
       "      <td>67</td>\n",
       "      <td>2</td>\n",
       "      <td>669.00</td>\n",
       "    </tr>\n",
       "    <tr>\n",
       "      <th>3M苏州</th>\n",
       "      <td>84</td>\n",
       "      <td>8</td>\n",
       "      <td>4452.50</td>\n",
       "    </tr>\n",
       "    <tr>\n",
       "      <th>66号定制家居</th>\n",
       "      <td>45</td>\n",
       "      <td>6</td>\n",
       "      <td>12928.60</td>\n",
       "    </tr>\n",
       "    <tr>\n",
       "      <th>Dotwil点为商城</th>\n",
       "      <td>36</td>\n",
       "      <td>4</td>\n",
       "      <td>635.79</td>\n",
       "    </tr>\n",
       "    <tr>\n",
       "      <th>IT中心测试</th>\n",
       "      <td>44</td>\n",
       "      <td>3</td>\n",
       "      <td>217.00</td>\n",
       "    </tr>\n",
       "  </tbody>\n",
       "</table>\n",
       "</div>"
      ],
      "text/plain": [
       "            recency  frequency  monetary\n",
       "company                                 \n",
       "01个人刘健           67          2    669.00\n",
       "3M苏州             84          8   4452.50\n",
       "66号定制家居          45          6  12928.60\n",
       "Dotwil点为商城       36          4    635.79\n",
       "IT中心测试           44          3    217.00"
      ]
     },
     "execution_count": 34,
     "metadata": {},
     "output_type": "execute_result"
    }
   ],
   "source": [
    "rfm_data.head()"
   ]
  },
  {
   "cell_type": "markdown",
   "metadata": {},
   "source": [
    "### 与RFM均值比较"
   ]
  },
  {
   "cell_type": "code",
   "execution_count": 35,
   "metadata": {},
   "outputs": [],
   "source": [
    "rfm_data['R_label'] = 0\n",
    "rfm_data['F_label'] = 0\n",
    "rfm_data['M_label'] = 0\n",
    "rfm_data.loc[rfm_data['recency'] < rfm_data['recency'].mean(), ['R_label']] = 1\n",
    "rfm_data.loc[rfm_data['frequency'] > rfm_data['frequency'].mean(), ['F_label']] = 1\n",
    "rfm_data.loc[rfm_data['monetary'] > rfm_data['monetary'].mean(), ['M_label']] = 1"
   ]
  },
  {
   "cell_type": "markdown",
   "metadata": {},
   "source": [
    "### 与RFM得分均值比较"
   ]
  },
  {
   "cell_type": "code",
   "execution_count": 36,
   "metadata": {},
   "outputs": [],
   "source": [
    "# def create_label(data, n, mark):\n",
    "#     bins = data.quantile(q = np.linspace(0,1,n), interpolation = 'nearest')\n",
    "#     bins[0] = 0\n",
    "#     if mark == 1:\n",
    "#         labels = [5, 4, 3, 2, 1]\n",
    "#     elif mark == 2:\n",
    "#         labels = [1, 2, 3, 4, 5]\n",
    "#     else:\n",
    "#         labels = [1, 2, 3, 4, 5, 6, 7, 8]\n",
    "#     label = pd.cut(data, bins = bins, labels = labels)\n",
    "#     return label"
   ]
  },
  {
   "cell_type": "code",
   "execution_count": 37,
   "metadata": {},
   "outputs": [],
   "source": [
    "# R_S = create_label(rfm_data['recency'], 6, 1)\n",
    "# F_S = create_label(rfm_data['frequency'], 6, 2)\n",
    "# M_S = create_label(rfm_data['monetary'], 6, 2)"
   ]
  },
  {
   "cell_type": "code",
   "execution_count": 38,
   "metadata": {},
   "outputs": [],
   "source": [
    "# rfm_data['R_S'] = R_S\n",
    "# rfm_data['F_S'] = F_S\n",
    "# rfm_data['M_S'] = M_S"
   ]
  },
  {
   "cell_type": "code",
   "execution_count": 39,
   "metadata": {},
   "outputs": [],
   "source": [
    "# rfm_data = rfm_data.assign(R_label = rfm_data['R_S'].map(lambda x : 1 if x > rfm_data['R_S'].astype(int).mean() else 0),\n",
    "#                            F_label = rfm_data['F_S'].map(lambda x : 1 if x > rfm_data['F_S'].astype(int).mean() else 0),\n",
    "#                            M_label = rfm_data['M_S'].map(lambda x : 1 if x > rfm_data['M_S'].astype(int).mean() else 0))"
   ]
  },
  {
   "cell_type": "code",
   "execution_count": 40,
   "metadata": {},
   "outputs": [
    {
     "data": {
      "text/html": [
       "<div>\n",
       "<style scoped>\n",
       "    .dataframe tbody tr th:only-of-type {\n",
       "        vertical-align: middle;\n",
       "    }\n",
       "\n",
       "    .dataframe tbody tr th {\n",
       "        vertical-align: top;\n",
       "    }\n",
       "\n",
       "    .dataframe thead th {\n",
       "        text-align: right;\n",
       "    }\n",
       "</style>\n",
       "<table border=\"1\" class=\"dataframe\">\n",
       "  <thead>\n",
       "    <tr style=\"text-align: right;\">\n",
       "      <th></th>\n",
       "      <th>recency</th>\n",
       "      <th>frequency</th>\n",
       "      <th>monetary</th>\n",
       "      <th>R_label</th>\n",
       "      <th>F_label</th>\n",
       "      <th>M_label</th>\n",
       "    </tr>\n",
       "    <tr>\n",
       "      <th>company</th>\n",
       "      <th></th>\n",
       "      <th></th>\n",
       "      <th></th>\n",
       "      <th></th>\n",
       "      <th></th>\n",
       "      <th></th>\n",
       "    </tr>\n",
       "  </thead>\n",
       "  <tbody>\n",
       "    <tr>\n",
       "      <th>01个人刘健</th>\n",
       "      <td>67</td>\n",
       "      <td>2</td>\n",
       "      <td>669.00</td>\n",
       "      <td>1</td>\n",
       "      <td>0</td>\n",
       "      <td>0</td>\n",
       "    </tr>\n",
       "    <tr>\n",
       "      <th>3M苏州</th>\n",
       "      <td>84</td>\n",
       "      <td>8</td>\n",
       "      <td>4452.50</td>\n",
       "      <td>0</td>\n",
       "      <td>0</td>\n",
       "      <td>0</td>\n",
       "    </tr>\n",
       "    <tr>\n",
       "      <th>66号定制家居</th>\n",
       "      <td>45</td>\n",
       "      <td>6</td>\n",
       "      <td>12928.60</td>\n",
       "      <td>1</td>\n",
       "      <td>0</td>\n",
       "      <td>0</td>\n",
       "    </tr>\n",
       "    <tr>\n",
       "      <th>Dotwil点为商城</th>\n",
       "      <td>36</td>\n",
       "      <td>4</td>\n",
       "      <td>635.79</td>\n",
       "      <td>1</td>\n",
       "      <td>0</td>\n",
       "      <td>0</td>\n",
       "    </tr>\n",
       "    <tr>\n",
       "      <th>IT中心测试</th>\n",
       "      <td>44</td>\n",
       "      <td>3</td>\n",
       "      <td>217.00</td>\n",
       "      <td>1</td>\n",
       "      <td>0</td>\n",
       "      <td>0</td>\n",
       "    </tr>\n",
       "  </tbody>\n",
       "</table>\n",
       "</div>"
      ],
      "text/plain": [
       "            recency  frequency  monetary  R_label  F_label  M_label\n",
       "company                                                            \n",
       "01个人刘健           67          2    669.00        1        0        0\n",
       "3M苏州             84          8   4452.50        0        0        0\n",
       "66号定制家居          45          6  12928.60        1        0        0\n",
       "Dotwil点为商城       36          4    635.79        1        0        0\n",
       "IT中心测试           44          3    217.00        1        0        0"
      ]
     },
     "execution_count": 40,
     "metadata": {},
     "output_type": "execute_result"
    }
   ],
   "source": [
    "rfm_data.head()"
   ]
  },
  {
   "cell_type": "code",
   "execution_count": 41,
   "metadata": {},
   "outputs": [],
   "source": [
    "rfm_data['rfm'] = rfm_data['R_label'].map(str) + rfm_data['F_label'].map(str) + rfm_data['M_label'].map(str)"
   ]
  },
  {
   "cell_type": "code",
   "execution_count": 42,
   "metadata": {},
   "outputs": [],
   "source": [
    "rfm_data['custom'] = np.NaN\n",
    "rfm_data.loc[rfm_data['rfm'] == '111', ['custom']] = '重要价值客户'\n",
    "rfm_data.loc[rfm_data['rfm'] == '011', ['custom']] = '重要保持客户'\n",
    "rfm_data.loc[rfm_data['rfm'] == '101', ['custom']] = '重要发展客户'\n",
    "rfm_data.loc[rfm_data['rfm'] == '001', ['custom']] = '重要挽留客户'\n",
    "rfm_data.loc[rfm_data['rfm'] == '110', ['custom']] = '一般价值客户'\n",
    "rfm_data.loc[rfm_data['rfm'] == '100', ['custom']] = '一般发展客户'\n",
    "rfm_data.loc[rfm_data['rfm'] == '010', ['custom']] = '一般保持客户'\n",
    "rfm_data.loc[rfm_data['rfm'] == '000', ['custom']] = '一般挽留客户'"
   ]
  },
  {
   "cell_type": "code",
   "execution_count": 43,
   "metadata": {},
   "outputs": [
    {
     "data": {
      "text/html": [
       "<div>\n",
       "<style scoped>\n",
       "    .dataframe tbody tr th:only-of-type {\n",
       "        vertical-align: middle;\n",
       "    }\n",
       "\n",
       "    .dataframe tbody tr th {\n",
       "        vertical-align: top;\n",
       "    }\n",
       "\n",
       "    .dataframe thead th {\n",
       "        text-align: right;\n",
       "    }\n",
       "</style>\n",
       "<table border=\"1\" class=\"dataframe\">\n",
       "  <thead>\n",
       "    <tr style=\"text-align: right;\">\n",
       "      <th></th>\n",
       "      <th>recency</th>\n",
       "      <th>frequency</th>\n",
       "      <th>monetary</th>\n",
       "      <th>R_label</th>\n",
       "      <th>F_label</th>\n",
       "      <th>M_label</th>\n",
       "      <th>rfm</th>\n",
       "      <th>custom</th>\n",
       "    </tr>\n",
       "    <tr>\n",
       "      <th>company</th>\n",
       "      <th></th>\n",
       "      <th></th>\n",
       "      <th></th>\n",
       "      <th></th>\n",
       "      <th></th>\n",
       "      <th></th>\n",
       "      <th></th>\n",
       "      <th></th>\n",
       "    </tr>\n",
       "  </thead>\n",
       "  <tbody>\n",
       "    <tr>\n",
       "      <th>01个人刘健</th>\n",
       "      <td>67</td>\n",
       "      <td>2</td>\n",
       "      <td>669.00</td>\n",
       "      <td>1</td>\n",
       "      <td>0</td>\n",
       "      <td>0</td>\n",
       "      <td>100</td>\n",
       "      <td>一般发展客户</td>\n",
       "    </tr>\n",
       "    <tr>\n",
       "      <th>3M苏州</th>\n",
       "      <td>84</td>\n",
       "      <td>8</td>\n",
       "      <td>4452.50</td>\n",
       "      <td>0</td>\n",
       "      <td>0</td>\n",
       "      <td>0</td>\n",
       "      <td>000</td>\n",
       "      <td>一般挽留客户</td>\n",
       "    </tr>\n",
       "    <tr>\n",
       "      <th>66号定制家居</th>\n",
       "      <td>45</td>\n",
       "      <td>6</td>\n",
       "      <td>12928.60</td>\n",
       "      <td>1</td>\n",
       "      <td>0</td>\n",
       "      <td>0</td>\n",
       "      <td>100</td>\n",
       "      <td>一般发展客户</td>\n",
       "    </tr>\n",
       "    <tr>\n",
       "      <th>Dotwil点为商城</th>\n",
       "      <td>36</td>\n",
       "      <td>4</td>\n",
       "      <td>635.79</td>\n",
       "      <td>1</td>\n",
       "      <td>0</td>\n",
       "      <td>0</td>\n",
       "      <td>100</td>\n",
       "      <td>一般发展客户</td>\n",
       "    </tr>\n",
       "    <tr>\n",
       "      <th>IT中心测试</th>\n",
       "      <td>44</td>\n",
       "      <td>3</td>\n",
       "      <td>217.00</td>\n",
       "      <td>1</td>\n",
       "      <td>0</td>\n",
       "      <td>0</td>\n",
       "      <td>100</td>\n",
       "      <td>一般发展客户</td>\n",
       "    </tr>\n",
       "  </tbody>\n",
       "</table>\n",
       "</div>"
      ],
      "text/plain": [
       "            recency  frequency  monetary  R_label  F_label  M_label  rfm  \\\n",
       "company                                                                    \n",
       "01个人刘健           67          2    669.00        1        0        0  100   \n",
       "3M苏州             84          8   4452.50        0        0        0  000   \n",
       "66号定制家居          45          6  12928.60        1        0        0  100   \n",
       "Dotwil点为商城       36          4    635.79        1        0        0  100   \n",
       "IT中心测试           44          3    217.00        1        0        0  100   \n",
       "\n",
       "            custom  \n",
       "company             \n",
       "01个人刘健      一般发展客户  \n",
       "3M苏州        一般挽留客户  \n",
       "66号定制家居     一般发展客户  \n",
       "Dotwil点为商城  一般发展客户  \n",
       "IT中心测试      一般发展客户  "
      ]
     },
     "execution_count": 43,
     "metadata": {},
     "output_type": "execute_result"
    }
   ],
   "source": [
    "rfm_data.head()"
   ]
  },
  {
   "cell_type": "code",
   "execution_count": 52,
   "metadata": {},
   "outputs": [
    {
     "data": {
      "text/html": [
       "<div>\n",
       "<style scoped>\n",
       "    .dataframe tbody tr th:only-of-type {\n",
       "        vertical-align: middle;\n",
       "    }\n",
       "\n",
       "    .dataframe tbody tr th {\n",
       "        vertical-align: top;\n",
       "    }\n",
       "\n",
       "    .dataframe thead th {\n",
       "        text-align: right;\n",
       "    }\n",
       "</style>\n",
       "<table border=\"1\" class=\"dataframe\">\n",
       "  <thead>\n",
       "    <tr style=\"text-align: right;\">\n",
       "      <th></th>\n",
       "      <th>数量</th>\n",
       "      <th>客户类型占比(%)</th>\n",
       "      <th>运费占比(%)</th>\n",
       "    </tr>\n",
       "    <tr>\n",
       "      <th>custom</th>\n",
       "      <th></th>\n",
       "      <th></th>\n",
       "      <th></th>\n",
       "    </tr>\n",
       "  </thead>\n",
       "  <tbody>\n",
       "    <tr>\n",
       "      <th>一般价值客户</th>\n",
       "      <td>23292</td>\n",
       "      <td>10.42</td>\n",
       "      <td>4.81</td>\n",
       "    </tr>\n",
       "    <tr>\n",
       "      <th>一般保持客户</th>\n",
       "      <td>1178</td>\n",
       "      <td>0.53</td>\n",
       "      <td>0.19</td>\n",
       "    </tr>\n",
       "    <tr>\n",
       "      <th>一般发展客户</th>\n",
       "      <td>86166</td>\n",
       "      <td>38.55</td>\n",
       "      <td>5.15</td>\n",
       "    </tr>\n",
       "    <tr>\n",
       "      <th>一般挽留客户</th>\n",
       "      <td>84417</td>\n",
       "      <td>37.77</td>\n",
       "      <td>2.48</td>\n",
       "    </tr>\n",
       "    <tr>\n",
       "      <th>重要价值客户</th>\n",
       "      <td>26018</td>\n",
       "      <td>11.64</td>\n",
       "      <td>84.54</td>\n",
       "    </tr>\n",
       "    <tr>\n",
       "      <th>重要保持客户</th>\n",
       "      <td>516</td>\n",
       "      <td>0.23</td>\n",
       "      <td>1.16</td>\n",
       "    </tr>\n",
       "    <tr>\n",
       "      <th>重要发展客户</th>\n",
       "      <td>1483</td>\n",
       "      <td>0.66</td>\n",
       "      <td>1.21</td>\n",
       "    </tr>\n",
       "    <tr>\n",
       "      <th>重要挽留客户</th>\n",
       "      <td>431</td>\n",
       "      <td>0.19</td>\n",
       "      <td>0.46</td>\n",
       "    </tr>\n",
       "  </tbody>\n",
       "</table>\n",
       "</div>"
      ],
      "text/plain": [
       "           数量  客户类型占比(%)  运费占比(%)\n",
       "custom                           \n",
       "一般价值客户  23292      10.42     4.81\n",
       "一般保持客户   1178       0.53     0.19\n",
       "一般发展客户  86166      38.55     5.15\n",
       "一般挽留客户  84417      37.77     2.48\n",
       "重要价值客户  26018      11.64    84.54\n",
       "重要保持客户    516       0.23     1.16\n",
       "重要发展客户   1483       0.66     1.21\n",
       "重要挽留客户    431       0.19     0.46"
      ]
     },
     "execution_count": 52,
     "metadata": {},
     "output_type": "execute_result"
    }
   ],
   "source": [
    "rfm_c1 = list(rfm_data['custom'].value_counts().sort_index()) # 统计每个类别个数\n",
    "rfm_c2 = list(rfm_data['custom'].value_counts().sort_index()/len(rfm_data)*100)\n",
    "rfm_c3 = list(map(lambda x: round(x, 2), rfm_c2))\n",
    "# 每个类别金额占比\n",
    "rfm_sum = rfm_data['monetary'].groupby(rfm_data['custom']).sum()\n",
    "rfm_percent = rfm_sum/rfm_data['monetary'].sum() * 100\n",
    "rfm_c4 = rfm_percent.map(lambda x : round(x, 2))\n",
    "\n",
    "rfm_c = pd.DataFrame({'数量': rfm_c1, '客户类型占比(%)': rfm_c3, '运费占比(%)' : rfm_c4})\n",
    "rfm_c"
   ]
  },
  {
   "cell_type": "code",
   "execution_count": 63,
   "metadata": {},
   "outputs": [
    {
     "data": {
      "text/plain": [
       "([<matplotlib.patches.Wedge at 0x175ab351198>,\n",
       "  <matplotlib.patches.Wedge at 0x175af9a1400>,\n",
       "  <matplotlib.patches.Wedge at 0x175af9a1c18>,\n",
       "  <matplotlib.patches.Wedge at 0x175aef45d68>,\n",
       "  <matplotlib.patches.Wedge at 0x175aef673c8>,\n",
       "  <matplotlib.patches.Wedge at 0x175aef67a20>,\n",
       "  <matplotlib.patches.Wedge at 0x175a6739518>,\n",
       "  <matplotlib.patches.Wedge at 0x175b1a55e10>],\n",
       " [Text(1.04157,0.353727,'一般价值客户'),\n",
       "  Text(0.861229,0.684313,'一般保持客户'),\n",
       "  Text(-0.354872,1.04118,'一般发展客户'),\n",
       "  Text(-0.443713,-1.00654,'一般挽留客户'),\n",
       "  Text(0.998213,-0.462137,'重要价值客户'),\n",
       "  Text(1.09798,-0.0666617,'重要保持客户'),\n",
       "  Text(1.09941,-0.0359369,'重要发展客户'),\n",
       "  Text(1.09998,-0.00656642,'重要挽留客户')],\n",
       " [Text(0.568132,0.192942,'10.4%'),\n",
       "  Text(0.469761,0.373262,'0.5%'),\n",
       "  Text(-0.193566,0.567919,'38.6%'),\n",
       "  Text(-0.242025,-0.549021,'37.8%'),\n",
       "  Text(0.54448,-0.252075,'11.6%'),\n",
       "  Text(0.598897,-0.0363609,'0.2%'),\n",
       "  Text(0.59968,-0.0196019,'0.7%'),\n",
       "  Text(0.599989,-0.00358168,'0.2%')])"
      ]
     },
     "execution_count": 63,
     "metadata": {},
     "output_type": "execute_result"
    },
    {
     "data": {
      "image/png": "[encoded data removed]",
      "text/plain": [
       "<Figure size 432x288 with 1 Axes>"
      ]
     },
     "metadata": {},
     "output_type": "display_data"
    }
   ],
   "source": [
    "p = rfm_c.reset_index()\n",
    "# plt.pie(p['运费占比(%)'], labels = p['custom'])\n",
    "plt.pie(p['客户类型占比(%)'], labels = p['custom'], autopct = '%1.1f%%')"
   ]
  },
  {
   "cell_type": "markdown",
   "metadata": {},
   "source": [
    "### RFM+KMeans"
   ]
  },
  {
   "cell_type": "code",
   "execution_count": 65,
   "metadata": {},
   "outputs": [],
   "source": [
    "k_data = rfm_data[['recency', 'frequency', 'monetary']]"
   ]
  },
  {
   "cell_type": "code",
   "execution_count": 16,
   "metadata": {},
   "outputs": [
    {
     "data": {
      "text/html": [
       "<div>\n",
       "<style scoped>\n",
       "    .dataframe tbody tr th:only-of-type {\n",
       "        vertical-align: middle;\n",
       "    }\n",
       "\n",
       "    .dataframe tbody tr th {\n",
       "        vertical-align: top;\n",
       "    }\n",
       "\n",
       "    .dataframe thead th {\n",
       "        text-align: right;\n",
       "    }\n",
       "</style>\n",
       "<table border=\"1\" class=\"dataframe\">\n",
       "  <thead>\n",
       "    <tr style=\"text-align: right;\">\n",
       "      <th></th>\n",
       "      <th>recency</th>\n",
       "      <th>frequency</th>\n",
       "      <th>monetary</th>\n",
       "    </tr>\n",
       "    <tr>\n",
       "      <th>company</th>\n",
       "      <th></th>\n",
       "      <th></th>\n",
       "      <th></th>\n",
       "    </tr>\n",
       "  </thead>\n",
       "  <tbody>\n",
       "    <tr>\n",
       "      <th>01个人刘健</th>\n",
       "      <td>0.25000</td>\n",
       "      <td>0.00625</td>\n",
       "      <td>0.000028</td>\n",
       "    </tr>\n",
       "    <tr>\n",
       "      <th>3M苏州</th>\n",
       "      <td>0.35625</td>\n",
       "      <td>0.04375</td>\n",
       "      <td>0.000190</td>\n",
       "    </tr>\n",
       "    <tr>\n",
       "      <th>66号定制家居</th>\n",
       "      <td>0.11250</td>\n",
       "      <td>0.03125</td>\n",
       "      <td>0.000551</td>\n",
       "    </tr>\n",
       "    <tr>\n",
       "      <th>Dotwil点为商城</th>\n",
       "      <td>0.05625</td>\n",
       "      <td>0.01875</td>\n",
       "      <td>0.000027</td>\n",
       "    </tr>\n",
       "    <tr>\n",
       "      <th>IT中心测试</th>\n",
       "      <td>0.10625</td>\n",
       "      <td>0.01250</td>\n",
       "      <td>0.000009</td>\n",
       "    </tr>\n",
       "  </tbody>\n",
       "</table>\n",
       "</div>"
      ],
      "text/plain": [
       "            recency  frequency  monetary\n",
       "company                                 \n",
       "01个人刘健      0.25000    0.00625  0.000028\n",
       "3M苏州        0.35625    0.04375  0.000190\n",
       "66号定制家居     0.11250    0.03125  0.000551\n",
       "Dotwil点为商城  0.05625    0.01875  0.000027\n",
       "IT中心测试      0.10625    0.01250  0.000009"
      ]
     },
     "execution_count": 16,
     "metadata": {},
     "output_type": "execute_result"
    }
   ],
   "source": [
    "# min_max = k_data.apply(lambda x: (x - np.min(x)) / (np.max(x) - np.min(x)))\n",
    "# min_max.head()"
   ]
  },
  {
   "cell_type": "code",
   "execution_count": 66,
   "metadata": {},
   "outputs": [
    {
     "data": {
      "text/html": [
       "<div>\n",
       "<style scoped>\n",
       "    .dataframe tbody tr th:only-of-type {\n",
       "        vertical-align: middle;\n",
       "    }\n",
       "\n",
       "    .dataframe tbody tr th {\n",
       "        vertical-align: top;\n",
       "    }\n",
       "\n",
       "    .dataframe thead th {\n",
       "        text-align: right;\n",
       "    }\n",
       "</style>\n",
       "<table border=\"1\" class=\"dataframe\">\n",
       "  <thead>\n",
       "    <tr style=\"text-align: right;\">\n",
       "      <th></th>\n",
       "      <th>recency</th>\n",
       "      <th>frequency</th>\n",
       "      <th>monetary</th>\n",
       "    </tr>\n",
       "    <tr>\n",
       "      <th>company</th>\n",
       "      <th></th>\n",
       "      <th></th>\n",
       "      <th></th>\n",
       "    </tr>\n",
       "  </thead>\n",
       "  <tbody>\n",
       "    <tr>\n",
       "      <th>01个人刘健</th>\n",
       "      <td>-0.285006</td>\n",
       "      <td>-0.476043</td>\n",
       "      <td>-0.125157</td>\n",
       "    </tr>\n",
       "    <tr>\n",
       "      <th>3M苏州</th>\n",
       "      <td>0.106103</td>\n",
       "      <td>-0.279438</td>\n",
       "      <td>-0.095516</td>\n",
       "    </tr>\n",
       "    <tr>\n",
       "      <th>66号定制家居</th>\n",
       "      <td>-0.791146</td>\n",
       "      <td>-0.344973</td>\n",
       "      <td>-0.029111</td>\n",
       "    </tr>\n",
       "    <tr>\n",
       "      <th>Dotwil点为商城</th>\n",
       "      <td>-0.998204</td>\n",
       "      <td>-0.410508</td>\n",
       "      <td>-0.125417</td>\n",
       "    </tr>\n",
       "    <tr>\n",
       "      <th>IT中心测试</th>\n",
       "      <td>-0.814153</td>\n",
       "      <td>-0.443275</td>\n",
       "      <td>-0.128698</td>\n",
       "    </tr>\n",
       "  </tbody>\n",
       "</table>\n",
       "</div>"
      ],
      "text/plain": [
       "             recency  frequency  monetary\n",
       "company                                  \n",
       "01个人刘健     -0.285006  -0.476043 -0.125157\n",
       "3M苏州        0.106103  -0.279438 -0.095516\n",
       "66号定制家居    -0.791146  -0.344973 -0.029111\n",
       "Dotwil点为商城 -0.998204  -0.410508 -0.125417\n",
       "IT中心测试     -0.814153  -0.443275 -0.128698"
      ]
     },
     "execution_count": 66,
     "metadata": {},
     "output_type": "execute_result"
    }
   ],
   "source": [
    "min_max =(k_data-k_data.mean())/k_data.std()\n",
    "min_max.head()"
   ]
  },
  {
   "cell_type": "code",
   "execution_count": 67,
   "metadata": {},
   "outputs": [],
   "source": [
    "min_max.columns = ['SR', 'SF', 'SM']"
   ]
  },
  {
   "cell_type": "code",
   "execution_count": 68,
   "metadata": {},
   "outputs": [
    {
     "name": "stdout",
     "output_type": "stream",
     "text": [
      "1\n",
      "2\n",
      "3\n",
      "4\n",
      "5\n",
      "6\n",
      "7\n",
      "8\n",
      "9\n",
      "10\n",
      "11\n",
      "12\n",
      "13\n",
      "14\n"
     ]
    },
    {
     "data": {
      "image/png": "[encoded data removed]",
      "text/plain": [
       "<Figure size 432x288 with 1 Axes>"
      ]
     },
     "metadata": {
      "needs_background": "light"
     },
     "output_type": "display_data"
    }
   ],
   "source": [
    "K = range(1,15)\n",
    "GSSE = []\n",
    "for k in K:\n",
    "    print(k)\n",
    "    SSE = []\n",
    "    kmeans = KMeans(n_clusters=k, random_state=21)\n",
    "    kmeans.fit(min_max)\n",
    "    labels = kmeans.labels_\n",
    "    centers = kmeans.cluster_centers_\n",
    "    SSE.append(kmeans.inertia_)\n",
    "    GSSE.append(np.sum(SSE))\n",
    "\n",
    "# kmeans.inertia_ : 计算点到簇中心的距离\n",
    "\n",
    "# 绘制K的个数与GSSE的关系\n",
    "plt.plot(K, GSSE, 'o-')\n",
    "plt.xlabel('聚类个数')\n",
    "plt.ylabel('簇内离差平方和')\n",
    "plt.title('选择最优的聚类个数')\n",
    "plt.show()"
   ]
  },
  {
   "cell_type": "code",
   "execution_count": 69,
   "metadata": {},
   "outputs": [
    {
     "data": {
      "text/plain": [
       "KMeans(algorithm='auto', copy_x=True, init='k-means++', max_iter=300,\n",
       "    n_clusters=8, n_init=10, n_jobs=1, precompute_distances='auto',\n",
       "    random_state=21, tol=0.0001, verbose=0)"
      ]
     },
     "execution_count": 69,
     "metadata": {},
     "output_type": "execute_result"
    }
   ],
   "source": [
    "num_clusters = 8\n",
    "kmeans = KMeans(n_clusters=num_clusters, random_state=21)\n",
    "kmeans.fit(min_max)"
   ]
  },
  {
   "cell_type": "code",
   "execution_count": 70,
   "metadata": {},
   "outputs": [],
   "source": [
    "k_data['cluster'] = kmeans.labels_ + 1"
   ]
  },
  {
   "cell_type": "code",
   "execution_count": 71,
   "metadata": {},
   "outputs": [
    {
     "data": {
      "text/html": [
       "<div>\n",
       "<style scoped>\n",
       "    .dataframe tbody tr th:only-of-type {\n",
       "        vertical-align: middle;\n",
       "    }\n",
       "\n",
       "    .dataframe tbody tr th {\n",
       "        vertical-align: top;\n",
       "    }\n",
       "\n",
       "    .dataframe thead th {\n",
       "        text-align: right;\n",
       "    }\n",
       "</style>\n",
       "<table border=\"1\" class=\"dataframe\">\n",
       "  <thead>\n",
       "    <tr style=\"text-align: right;\">\n",
       "      <th></th>\n",
       "      <th>cluster</th>\n",
       "      <th>数量</th>\n",
       "      <th>客户类型占比</th>\n",
       "      <th>运费</th>\n",
       "      <th>运费占比</th>\n",
       "    </tr>\n",
       "    <tr>\n",
       "      <th>cluster</th>\n",
       "      <th></th>\n",
       "      <th></th>\n",
       "      <th></th>\n",
       "      <th></th>\n",
       "      <th></th>\n",
       "    </tr>\n",
       "  </thead>\n",
       "  <tbody>\n",
       "    <tr>\n",
       "      <th>1</th>\n",
       "      <td>1</td>\n",
       "      <td>21913</td>\n",
       "      <td>9.8%</td>\n",
       "      <td>6.620705e+08</td>\n",
       "      <td>17.8%</td>\n",
       "    </tr>\n",
       "    <tr>\n",
       "      <th>2</th>\n",
       "      <td>2</td>\n",
       "      <td>53864</td>\n",
       "      <td>24.1%</td>\n",
       "      <td>9.521846e+07</td>\n",
       "      <td>2.56%</td>\n",
       "    </tr>\n",
       "    <tr>\n",
       "      <th>3</th>\n",
       "      <td>3</td>\n",
       "      <td>909</td>\n",
       "      <td>0.41%</td>\n",
       "      <td>8.428050e+08</td>\n",
       "      <td>22.66%</td>\n",
       "    </tr>\n",
       "    <tr>\n",
       "      <th>4</th>\n",
       "      <td>4</td>\n",
       "      <td>12360</td>\n",
       "      <td>5.53%</td>\n",
       "      <td>1.307050e+09</td>\n",
       "      <td>35.14%</td>\n",
       "    </tr>\n",
       "    <tr>\n",
       "      <th>5</th>\n",
       "      <td>5</td>\n",
       "      <td>85</td>\n",
       "      <td>0.04%</td>\n",
       "      <td>3.012470e+08</td>\n",
       "      <td>8.1%</td>\n",
       "    </tr>\n",
       "    <tr>\n",
       "      <th>6</th>\n",
       "      <td>6</td>\n",
       "      <td>6</td>\n",
       "      <td>0.0%</td>\n",
       "      <td>7.964562e+07</td>\n",
       "      <td>2.14%</td>\n",
       "    </tr>\n",
       "    <tr>\n",
       "      <th>7</th>\n",
       "      <td>7</td>\n",
       "      <td>39747</td>\n",
       "      <td>17.78%</td>\n",
       "      <td>4.698149e+07</td>\n",
       "      <td>1.26%</td>\n",
       "    </tr>\n",
       "    <tr>\n",
       "      <th>8</th>\n",
       "      <td>8</td>\n",
       "      <td>94617</td>\n",
       "      <td>42.33%</td>\n",
       "      <td>3.850321e+08</td>\n",
       "      <td>10.35%</td>\n",
       "    </tr>\n",
       "  </tbody>\n",
       "</table>\n",
       "</div>"
      ],
      "text/plain": [
       "         cluster     数量  客户类型占比            运费    运费占比\n",
       "cluster                                              \n",
       "1              1  21913    9.8%  6.620705e+08   17.8%\n",
       "2              2  53864   24.1%  9.521846e+07   2.56%\n",
       "3              3    909   0.41%  8.428050e+08  22.66%\n",
       "4              4  12360   5.53%  1.307050e+09  35.14%\n",
       "5              5     85   0.04%  3.012470e+08    8.1%\n",
       "6              6      6    0.0%  7.964562e+07   2.14%\n",
       "7              7  39747  17.78%  4.698149e+07   1.26%\n",
       "8              8  94617  42.33%  3.850321e+08  10.35%"
      ]
     },
     "execution_count": 71,
     "metadata": {},
     "output_type": "execute_result"
    }
   ],
   "source": [
    "rfm_data['cluster']=k_data[\"cluster\"]\n",
    "rfm_data['cluster'] = rfm_data['cluster']\n",
    "# 计算每个类别的数据量\n",
    "kmeans_c1 = list(k_data[\"cluster\"].value_counts().sort_index())\n",
    "\n",
    "# 计算每个类别所占的百分比\n",
    "kmeans_c2 = list(k_data[\"cluster\"].value_counts().sort_index() / len(k_data) * 100)\n",
    "kmeans_c3 = (list(map(lambda x: str(round(x, 2)) + \"%\", kmeans_c2)))\n",
    "\n",
    "# 每个类别金额占比\n",
    "kmeans_sum = k_data['monetary'].groupby(k_data['cluster']).sum()\n",
    "kmeans_percent = kmeans_sum/k_data['monetary'].sum() * 100\n",
    "kmeans_c4 = kmeans_percent.map(lambda x : str(round(x, 2)) + \"%\")\n",
    "\n",
    "kmeans_c = pd.DataFrame({\"cluster\": range(1, len(kmeans_c1) + 1), \"数量\": kmeans_c1, \"客户类型占比\": kmeans_c3, \"运费\" : kmeans_sum, \"运费占比\" : kmeans_c4})\n",
    "kmeans_c"
   ]
  },
  {
   "cell_type": "code",
   "execution_count": 92,
   "metadata": {},
   "outputs": [
    {
     "data": {
      "text/plain": [
       "一般发展客户    78944\n",
       "一般价值客户    11632\n",
       "重要价值客户     2605\n",
       "重要发展客户     1436\n",
       "Name: custom, dtype: int64"
      ]
     },
     "execution_count": 92,
     "metadata": {},
     "output_type": "execute_result"
    }
   ],
   "source": [
    "rfm_data[rfm_data['cluster'] == 8]['custom'].value_counts()"
   ]
  },
  {
   "cell_type": "code",
   "execution_count": 81,
   "metadata": {},
   "outputs": [
    {
     "data": {
      "text/html": [
       "<div>\n",
       "<style scoped>\n",
       "    .dataframe tbody tr th:only-of-type {\n",
       "        vertical-align: middle;\n",
       "    }\n",
       "\n",
       "    .dataframe tbody tr th {\n",
       "        vertical-align: top;\n",
       "    }\n",
       "\n",
       "    .dataframe thead th {\n",
       "        text-align: right;\n",
       "    }\n",
       "</style>\n",
       "<table border=\"1\" class=\"dataframe\">\n",
       "  <thead>\n",
       "    <tr style=\"text-align: right;\">\n",
       "      <th></th>\n",
       "      <th>recency</th>\n",
       "      <th>frequency</th>\n",
       "      <th>monetary</th>\n",
       "      <th>R_label</th>\n",
       "      <th>F_label</th>\n",
       "      <th>M_label</th>\n",
       "      <th>rfm</th>\n",
       "      <th>custom</th>\n",
       "      <th>cluster</th>\n",
       "    </tr>\n",
       "    <tr>\n",
       "      <th>company</th>\n",
       "      <th></th>\n",
       "      <th></th>\n",
       "      <th></th>\n",
       "      <th></th>\n",
       "      <th></th>\n",
       "      <th></th>\n",
       "      <th></th>\n",
       "      <th></th>\n",
       "      <th></th>\n",
       "    </tr>\n",
       "  </thead>\n",
       "  <tbody>\n",
       "    <tr>\n",
       "      <th>苏州爱果乐</th>\n",
       "      <td>36</td>\n",
       "      <td>140</td>\n",
       "      <td>1995265.17</td>\n",
       "      <td>1</td>\n",
       "      <td>1</td>\n",
       "      <td>1</td>\n",
       "      <td>111</td>\n",
       "      <td>重要价值客户</td>\n",
       "      <td>3</td>\n",
       "    </tr>\n",
       "  </tbody>\n",
       "</table>\n",
       "</div>"
      ],
      "text/plain": [
       "         recency  frequency    monetary  R_label  F_label  M_label  rfm  \\\n",
       "company                                                                   \n",
       "苏州爱果乐         36        140  1995265.17        1        1        1  111   \n",
       "\n",
       "         custom  cluster  \n",
       "company                   \n",
       "苏州爱果乐    重要价值客户        3  "
      ]
     },
     "execution_count": 81,
     "metadata": {},
     "output_type": "execute_result"
    }
   ],
   "source": [
    "rfm_data[rfm_data.index == '苏州爱果乐']"
   ]
  },
  {
   "cell_type": "code",
   "execution_count": 94,
   "metadata": {},
   "outputs": [
    {
     "data": {
      "text/html": [
       "<div>\n",
       "<style scoped>\n",
       "    .dataframe tbody tr th:only-of-type {\n",
       "        vertical-align: middle;\n",
       "    }\n",
       "\n",
       "    .dataframe tbody tr th {\n",
       "        vertical-align: top;\n",
       "    }\n",
       "\n",
       "    .dataframe thead th {\n",
       "        text-align: right;\n",
       "    }\n",
       "</style>\n",
       "<table border=\"1\" class=\"dataframe\">\n",
       "  <thead>\n",
       "    <tr style=\"text-align: right;\">\n",
       "      <th></th>\n",
       "      <th>recency</th>\n",
       "      <th>frequency</th>\n",
       "      <th>monetary</th>\n",
       "      <th>R_label</th>\n",
       "      <th>F_label</th>\n",
       "      <th>M_label</th>\n",
       "      <th>rfm</th>\n",
       "      <th>custom</th>\n",
       "      <th>cluster</th>\n",
       "    </tr>\n",
       "    <tr>\n",
       "      <th>company</th>\n",
       "      <th></th>\n",
       "      <th></th>\n",
       "      <th></th>\n",
       "      <th></th>\n",
       "      <th></th>\n",
       "      <th></th>\n",
       "      <th></th>\n",
       "      <th></th>\n",
       "      <th></th>\n",
       "    </tr>\n",
       "  </thead>\n",
       "  <tbody>\n",
       "    <tr>\n",
       "      <th>01个人刘健</th>\n",
       "      <td>67</td>\n",
       "      <td>2</td>\n",
       "      <td>669.00</td>\n",
       "      <td>1</td>\n",
       "      <td>0</td>\n",
       "      <td>0</td>\n",
       "      <td>100</td>\n",
       "      <td>一般发展客户</td>\n",
       "      <td>8</td>\n",
       "    </tr>\n",
       "    <tr>\n",
       "      <th>66号定制家居</th>\n",
       "      <td>45</td>\n",
       "      <td>6</td>\n",
       "      <td>12928.60</td>\n",
       "      <td>1</td>\n",
       "      <td>0</td>\n",
       "      <td>0</td>\n",
       "      <td>100</td>\n",
       "      <td>一般发展客户</td>\n",
       "      <td>8</td>\n",
       "    </tr>\n",
       "    <tr>\n",
       "      <th>Dotwil点为商城</th>\n",
       "      <td>36</td>\n",
       "      <td>4</td>\n",
       "      <td>635.79</td>\n",
       "      <td>1</td>\n",
       "      <td>0</td>\n",
       "      <td>0</td>\n",
       "      <td>100</td>\n",
       "      <td>一般发展客户</td>\n",
       "      <td>8</td>\n",
       "    </tr>\n",
       "    <tr>\n",
       "      <th>IT中心测试</th>\n",
       "      <td>44</td>\n",
       "      <td>3</td>\n",
       "      <td>217.00</td>\n",
       "      <td>1</td>\n",
       "      <td>0</td>\n",
       "      <td>0</td>\n",
       "      <td>100</td>\n",
       "      <td>一般发展客户</td>\n",
       "      <td>8</td>\n",
       "    </tr>\n",
       "    <tr>\n",
       "      <th>IT部测试客户</th>\n",
       "      <td>44</td>\n",
       "      <td>2</td>\n",
       "      <td>26.40</td>\n",
       "      <td>1</td>\n",
       "      <td>0</td>\n",
       "      <td>0</td>\n",
       "      <td>100</td>\n",
       "      <td>一般发展客户</td>\n",
       "      <td>8</td>\n",
       "    </tr>\n",
       "    <tr>\n",
       "      <th>J-VALVES</th>\n",
       "      <td>45</td>\n",
       "      <td>4</td>\n",
       "      <td>5090.00</td>\n",
       "      <td>1</td>\n",
       "      <td>0</td>\n",
       "      <td>0</td>\n",
       "      <td>100</td>\n",
       "      <td>一般发展客户</td>\n",
       "      <td>8</td>\n",
       "    </tr>\n",
       "    <tr>\n",
       "      <th>JoinmaxHK</th>\n",
       "      <td>55</td>\n",
       "      <td>1</td>\n",
       "      <td>385.70</td>\n",
       "      <td>1</td>\n",
       "      <td>0</td>\n",
       "      <td>0</td>\n",
       "      <td>100</td>\n",
       "      <td>一般发展客户</td>\n",
       "      <td>8</td>\n",
       "    </tr>\n",
       "    <tr>\n",
       "      <th>mimicat</th>\n",
       "      <td>49</td>\n",
       "      <td>1</td>\n",
       "      <td>696.00</td>\n",
       "      <td>1</td>\n",
       "      <td>0</td>\n",
       "      <td>0</td>\n",
       "      <td>100</td>\n",
       "      <td>一般发展客户</td>\n",
       "      <td>8</td>\n",
       "    </tr>\n",
       "    <tr>\n",
       "      <th>一言手袋</th>\n",
       "      <td>41</td>\n",
       "      <td>11</td>\n",
       "      <td>4440.50</td>\n",
       "      <td>1</td>\n",
       "      <td>0</td>\n",
       "      <td>0</td>\n",
       "      <td>100</td>\n",
       "      <td>一般发展客户</td>\n",
       "      <td>8</td>\n",
       "    </tr>\n",
       "    <tr>\n",
       "      <th>三亚个人岳建周</th>\n",
       "      <td>55</td>\n",
       "      <td>2</td>\n",
       "      <td>11899.60</td>\n",
       "      <td>1</td>\n",
       "      <td>0</td>\n",
       "      <td>0</td>\n",
       "      <td>100</td>\n",
       "      <td>一般发展客户</td>\n",
       "      <td>8</td>\n",
       "    </tr>\n",
       "  </tbody>\n",
       "</table>\n",
       "</div>"
      ],
      "text/plain": [
       "            recency  frequency  monetary  R_label  F_label  M_label  rfm  \\\n",
       "company                                                                    \n",
       "01个人刘健           67          2    669.00        1        0        0  100   \n",
       "66号定制家居          45          6  12928.60        1        0        0  100   \n",
       "Dotwil点为商城       36          4    635.79        1        0        0  100   \n",
       "IT中心测试           44          3    217.00        1        0        0  100   \n",
       "IT部测试客户          44          2     26.40        1        0        0  100   \n",
       "J-VALVES         45          4   5090.00        1        0        0  100   \n",
       "JoinmaxHK        55          1    385.70        1        0        0  100   \n",
       "mimicat          49          1    696.00        1        0        0  100   \n",
       "一言手袋             41         11   4440.50        1        0        0  100   \n",
       "三亚个人岳建周          55          2  11899.60        1        0        0  100   \n",
       "\n",
       "            custom  cluster  \n",
       "company                      \n",
       "01个人刘健      一般发展客户        8  \n",
       "66号定制家居     一般发展客户        8  \n",
       "Dotwil点为商城  一般发展客户        8  \n",
       "IT中心测试      一般发展客户        8  \n",
       "IT部测试客户     一般发展客户        8  \n",
       "J-VALVES    一般发展客户        8  \n",
       "JoinmaxHK   一般发展客户        8  \n",
       "mimicat     一般发展客户        8  \n",
       "一言手袋        一般发展客户        8  \n",
       "三亚个人岳建周     一般发展客户        8  "
      ]
     },
     "execution_count": 94,
     "metadata": {},
     "output_type": "execute_result"
    }
   ],
   "source": [
    "# tmp = rfm_data[rfm_data['cluster'] == 8]\n",
    "# tmp[tmp['custom'] == '一般发展客户'].head(10)"
   ]
  },
  {
   "cell_type": "code",
   "execution_count": 83,
   "metadata": {},
   "outputs": [
    {
     "data": {
      "text/html": [
       "<div>\n",
       "<style scoped>\n",
       "    .dataframe tbody tr th:only-of-type {\n",
       "        vertical-align: middle;\n",
       "    }\n",
       "\n",
       "    .dataframe tbody tr th {\n",
       "        vertical-align: top;\n",
       "    }\n",
       "\n",
       "    .dataframe thead th {\n",
       "        text-align: right;\n",
       "    }\n",
       "</style>\n",
       "<table border=\"1\" class=\"dataframe\">\n",
       "  <thead>\n",
       "    <tr style=\"text-align: right;\">\n",
       "      <th></th>\n",
       "      <th>recency</th>\n",
       "      <th>frequency</th>\n",
       "      <th>monetary</th>\n",
       "      <th>R_label</th>\n",
       "      <th>F_label</th>\n",
       "      <th>M_label</th>\n",
       "      <th>rfm</th>\n",
       "      <th>custom</th>\n",
       "      <th>cluster</th>\n",
       "    </tr>\n",
       "    <tr>\n",
       "      <th>company</th>\n",
       "      <th></th>\n",
       "      <th></th>\n",
       "      <th></th>\n",
       "      <th></th>\n",
       "      <th></th>\n",
       "      <th></th>\n",
       "      <th></th>\n",
       "      <th></th>\n",
       "      <th></th>\n",
       "    </tr>\n",
       "  </thead>\n",
       "  <tbody>\n",
       "    <tr>\n",
       "      <th>01个人刘健</th>\n",
       "      <td>67</td>\n",
       "      <td>2</td>\n",
       "      <td>669.00</td>\n",
       "      <td>1</td>\n",
       "      <td>0</td>\n",
       "      <td>0</td>\n",
       "      <td>100</td>\n",
       "      <td>一般发展客户</td>\n",
       "      <td>8</td>\n",
       "    </tr>\n",
       "    <tr>\n",
       "      <th>3M苏州</th>\n",
       "      <td>84</td>\n",
       "      <td>8</td>\n",
       "      <td>4452.50</td>\n",
       "      <td>0</td>\n",
       "      <td>0</td>\n",
       "      <td>0</td>\n",
       "      <td>000</td>\n",
       "      <td>一般挽留客户</td>\n",
       "      <td>2</td>\n",
       "    </tr>\n",
       "    <tr>\n",
       "      <th>66号定制家居</th>\n",
       "      <td>45</td>\n",
       "      <td>6</td>\n",
       "      <td>12928.60</td>\n",
       "      <td>1</td>\n",
       "      <td>0</td>\n",
       "      <td>0</td>\n",
       "      <td>100</td>\n",
       "      <td>一般发展客户</td>\n",
       "      <td>8</td>\n",
       "    </tr>\n",
       "    <tr>\n",
       "      <th>Dotwil点为商城</th>\n",
       "      <td>36</td>\n",
       "      <td>4</td>\n",
       "      <td>635.79</td>\n",
       "      <td>1</td>\n",
       "      <td>0</td>\n",
       "      <td>0</td>\n",
       "      <td>100</td>\n",
       "      <td>一般发展客户</td>\n",
       "      <td>8</td>\n",
       "    </tr>\n",
       "    <tr>\n",
       "      <th>IT中心测试</th>\n",
       "      <td>44</td>\n",
       "      <td>3</td>\n",
       "      <td>217.00</td>\n",
       "      <td>1</td>\n",
       "      <td>0</td>\n",
       "      <td>0</td>\n",
       "      <td>100</td>\n",
       "      <td>一般发展客户</td>\n",
       "      <td>8</td>\n",
       "    </tr>\n",
       "  </tbody>\n",
       "</table>\n",
       "</div>"
      ],
      "text/plain": [
       "            recency  frequency  monetary  R_label  F_label  M_label  rfm  \\\n",
       "company                                                                    \n",
       "01个人刘健           67          2    669.00        1        0        0  100   \n",
       "3M苏州             84          8   4452.50        0        0        0  000   \n",
       "66号定制家居          45          6  12928.60        1        0        0  100   \n",
       "Dotwil点为商城       36          4    635.79        1        0        0  100   \n",
       "IT中心测试           44          3    217.00        1        0        0  100   \n",
       "\n",
       "            custom  cluster  \n",
       "company                      \n",
       "01个人刘健      一般发展客户        8  \n",
       "3M苏州        一般挽留客户        2  \n",
       "66号定制家居     一般发展客户        8  \n",
       "Dotwil点为商城  一般发展客户        8  \n",
       "IT中心测试      一般发展客户        8  "
      ]
     },
     "execution_count": 83,
     "metadata": {},
     "output_type": "execute_result"
    }
   ],
   "source": [
    "rfm_data.head()"
   ]
  },
  {
   "cell_type": "markdown",
   "metadata": {},
   "source": [
    "rfm_data.to_csv(path + \"rfm_result.csv\", encoding = 'gbk')"
   ]
  },
  {
   "cell_type": "markdown",
   "metadata": {},
   "source": [
    "### 聚类结果可视化"
   ]
  },
  {
   "cell_type": "code",
   "execution_count": 84,
   "metadata": {},
   "outputs": [
    {
     "data": {
      "text/html": [
       "<div>\n",
       "<style scoped>\n",
       "    .dataframe tbody tr th:only-of-type {\n",
       "        vertical-align: middle;\n",
       "    }\n",
       "\n",
       "    .dataframe tbody tr th {\n",
       "        vertical-align: top;\n",
       "    }\n",
       "\n",
       "    .dataframe thead th {\n",
       "        text-align: right;\n",
       "    }\n",
       "</style>\n",
       "<table border=\"1\" class=\"dataframe\">\n",
       "  <thead>\n",
       "    <tr style=\"text-align: right;\">\n",
       "      <th></th>\n",
       "      <th>SR</th>\n",
       "      <th>SF</th>\n",
       "      <th>SM</th>\n",
       "      <th>cluster</th>\n",
       "    </tr>\n",
       "    <tr>\n",
       "      <th>company</th>\n",
       "      <th></th>\n",
       "      <th></th>\n",
       "      <th></th>\n",
       "      <th></th>\n",
       "    </tr>\n",
       "  </thead>\n",
       "  <tbody>\n",
       "    <tr>\n",
       "      <th>01个人刘健</th>\n",
       "      <td>-0.285006</td>\n",
       "      <td>-0.476043</td>\n",
       "      <td>-0.125157</td>\n",
       "      <td>7</td>\n",
       "    </tr>\n",
       "    <tr>\n",
       "      <th>3M苏州</th>\n",
       "      <td>0.106103</td>\n",
       "      <td>-0.279438</td>\n",
       "      <td>-0.095516</td>\n",
       "      <td>1</td>\n",
       "    </tr>\n",
       "    <tr>\n",
       "      <th>66号定制家居</th>\n",
       "      <td>-0.791146</td>\n",
       "      <td>-0.344973</td>\n",
       "      <td>-0.029111</td>\n",
       "      <td>7</td>\n",
       "    </tr>\n",
       "    <tr>\n",
       "      <th>Dotwil点为商城</th>\n",
       "      <td>-0.998204</td>\n",
       "      <td>-0.410508</td>\n",
       "      <td>-0.125417</td>\n",
       "      <td>7</td>\n",
       "    </tr>\n",
       "    <tr>\n",
       "      <th>IT中心测试</th>\n",
       "      <td>-0.814153</td>\n",
       "      <td>-0.443275</td>\n",
       "      <td>-0.128698</td>\n",
       "      <td>7</td>\n",
       "    </tr>\n",
       "  </tbody>\n",
       "</table>\n",
       "</div>"
      ],
      "text/plain": [
       "                  SR        SF        SM  cluster\n",
       "company                                          \n",
       "01个人刘健     -0.285006 -0.476043 -0.125157        7\n",
       "3M苏州        0.106103 -0.279438 -0.095516        1\n",
       "66号定制家居    -0.791146 -0.344973 -0.029111        7\n",
       "Dotwil点为商城 -0.998204 -0.410508 -0.125417        7\n",
       "IT中心测试     -0.814153 -0.443275 -0.128698        7"
      ]
     },
     "execution_count": 84,
     "metadata": {},
     "output_type": "execute_result"
    }
   ],
   "source": [
    "min_max['cluster'] = kmeans.labels_\n",
    "min_max.head()"
   ]
  },
  {
   "cell_type": "code",
   "execution_count": 85,
   "metadata": {},
   "outputs": [
    {
     "data": {
      "text/plain": [
       "8    94617\n",
       "2    53864\n",
       "7    39747\n",
       "1    21913\n",
       "4    12360\n",
       "3      909\n",
       "5       85\n",
       "6        6\n",
       "Name: cluster, dtype: int64"
      ]
     },
     "execution_count": 85,
     "metadata": {},
     "output_type": "execute_result"
    }
   ],
   "source": [
    "rfm_data['cluster'].value_counts()"
   ]
  },
  {
   "cell_type": "code",
   "execution_count": 89,
   "metadata": {},
   "outputs": [
    {
     "data": {
      "text/plain": [
       "<matplotlib.collections.PathCollection at 0x175a4fa1d68>"
      ]
     },
     "execution_count": 89,
     "metadata": {},
     "output_type": "execute_result"
    },
    {
     "data": {
      "image/png": "[encoded data removed]",
      "text/plain": [
       "<Figure size 432x288 with 1 Axes>"
      ]
     },
     "metadata": {
      "needs_background": "light"
     },
     "output_type": "display_data"
    }
   ],
   "source": [
    "from sklearn.decomposition import PCA\n",
    "pca = PCA(n_components = 'mle', svd_solver = 'full')\n",
    "pca.fit(min_max[['SR', 'SF', 'SM']])\n",
    "result = pca.transform(min_max[['SR', 'SF', 'SM']])\n",
    "# pca.explained_variance_ratio_\n",
    "plt.scatter(result[:,0], result[:, 1], c = min_max['cluster'], marker = 'o')"
   ]
  },
  {
   "cell_type": "code",
   "execution_count": null,
   "metadata": {},
   "outputs": [],
   "source": [
    "# BRICH层次聚类\n",
    "# DBSCAN密度聚类"
   ]
  },
  {
   "cell_type": "code",
   "execution_count": 35,
   "metadata": {
    "scrolled": false
   },
   "outputs": [
    {
     "data": {
      "image/png": "[encoded data removed]",
      "text/plain": [
       "<Figure size 864x576 with 3 Axes>"
      ]
     },
     "metadata": {
      "needs_background": "light"
     },
     "output_type": "display_data"
    },
    {
     "data": {
      "image/png": "[encoded data removed]",
      "text/plain": [
       "<Figure size 864x576 with 3 Axes>"
      ]
     },
     "metadata": {
      "needs_background": "light"
     },
     "output_type": "display_data"
    },
    {
     "data": {
      "image/png": "[encoded data removed]",
      "text/plain": [
       "<Figure size 864x576 with 3 Axes>"
      ]
     },
     "metadata": {
      "needs_background": "light"
     },
     "output_type": "display_data"
    },
    {
     "data": {
      "image/png": "[encoded data removed]",
      "text/plain": [
       "<Figure size 864x576 with 3 Axes>"
      ]
     },
     "metadata": {
      "needs_background": "light"
     },
     "output_type": "display_data"
    },
    {
     "data": {
      "image/png": "[encoded data removed]",
      "text/plain": [
       "<Figure size 864x576 with 3 Axes>"
      ]
     },
     "metadata": {
      "needs_background": "light"
     },
     "output_type": "display_data"
    },
    {
     "data": {
      "image/png": "[encoded data removed]",
      "text/plain": [
       "<Figure size 864x576 with 3 Axes>"
      ]
     },
     "metadata": {
      "needs_background": "light"
     },
     "output_type": "display_data"
    },
    {
     "data": {
      "image/png": "[encoded data removed]",
      "text/plain": [
       "<Figure size 864x576 with 3 Axes>"
      ]
     },
     "metadata": {
      "needs_background": "light"
     },
     "output_type": "display_data"
    },
    {
     "data": {
      "image/png": "[encoded data removed]",
      "text/plain": [
       "<Figure size 864x576 with 3 Axes>"
      ]
     },
     "metadata": {
      "needs_background": "light"
     },
     "output_type": "display_data"
    }
   ],
   "source": [
    "plt.rcParams['font.sans-serif'] = ['SimHei']\n",
    "plt.rcParams['axes.unicode_minus'] = False\n",
    "for i in range(1,9):\n",
    "        cls=rfm_data.loc[rfm_data['cluster']==i, ['recency', 'frequency', 'monetary']]\n",
    "        cls.plot(kind='kde',subplots=True,sharex=False, figsize=(12,8))\n",
    "        plt.suptitle('聚类类别 = %d; 样本数 = %d' % (i, rfm_data[rfm_data['cluster'] == i]['cluster'].value_counts()))\n",
    "plt.legend()\n",
    "plt.show()"
   ]
  },
  {
   "cell_type": "code",
   "execution_count": null,
   "metadata": {},
   "outputs": [],
   "source": []
  },
  {
   "cell_type": "code",
   "execution_count": null,
   "metadata": {},
   "outputs": [],
   "source": []
  },
  {
   "cell_type": "code",
   "execution_count": null,
   "metadata": {},
   "outputs": [],
   "source": []
  },
  {
   "cell_type": "code",
   "execution_count": null,
   "metadata": {},
   "outputs": [],
   "source": []
  },
  {
   "cell_type": "code",
   "execution_count": null,
   "metadata": {},
   "outputs": [],
   "source": []
  },
  {
   "cell_type": "code",
   "execution_count": null,
   "metadata": {},
   "outputs": [],
   "source": []
  },
  {
   "cell_type": "code",
   "execution_count": null,
   "metadata": {},
   "outputs": [],
   "source": []
  },
  {
   "cell_type": "code",
   "execution_count": null,
   "metadata": {},
   "outputs": [],
   "source": []
  },
  {
   "cell_type": "code",
   "execution_count": null,
   "metadata": {},
   "outputs": [],
   "source": []
  },
  {
   "cell_type": "code",
   "execution_count": null,
   "metadata": {},
   "outputs": [],
   "source": []
  },
  {
   "cell_type": "code",
   "execution_count": null,
   "metadata": {},
   "outputs": [],
   "source": []
  },
  {
   "cell_type": "code",
   "execution_count": null,
   "metadata": {},
   "outputs": [],
   "source": []
  },
  {
   "cell_type": "code",
   "execution_count": null,
   "metadata": {},
   "outputs": [],
   "source": []
  },
  {
   "cell_type": "code",
   "execution_count": null,
   "metadata": {},
   "outputs": [],
   "source": []
  },
  {
   "cell_type": "code",
   "execution_count": null,
   "metadata": {},
   "outputs": [],
   "source": []
  },
  {
   "cell_type": "code",
   "execution_count": null,
   "metadata": {},
   "outputs": [],
   "source": []
  },
  {
   "cell_type": "code",
   "execution_count": null,
   "metadata": {},
   "outputs": [],
   "source": []
  },
  {
   "cell_type": "code",
   "execution_count": null,
   "metadata": {},
   "outputs": [],
   "source": []
  },
  {
   "cell_type": "code",
   "execution_count": null,
   "metadata": {},
   "outputs": [],
   "source": []
  },
  {
   "cell_type": "code",
   "execution_count": null,
   "metadata": {},
   "outputs": [],
   "source": []
  },
  {
   "cell_type": "code",
   "execution_count": null,
   "metadata": {},
   "outputs": [],
   "source": []
  },
  {
   "cell_type": "code",
   "execution_count": null,
   "metadata": {},
   "outputs": [],
   "source": []
  },
  {
   "cell_type": "code",
   "execution_count": null,
   "metadata": {},
   "outputs": [],
   "source": []
  },
  {
   "cell_type": "code",
   "execution_count": null,
   "metadata": {},
   "outputs": [],
   "source": []
  }
 ],
 "metadata": {
  "kernelspec": {
   "display_name": "Python 3",
   "language": "python",
   "name": "python3"
  },
  "language_info": {
   "codemirror_mode": {
    "name": "ipython",
    "version": 3
   },
   "file_extension": ".py",
   "mimetype": "text/x-python",
   "name": "python",
   "nbconvert_exporter": "python",
   "pygments_lexer": "ipython3",
   "version": "3.7.0"
  }
 },
 "nbformat": 4,
 "nbformat_minor": 2
}
