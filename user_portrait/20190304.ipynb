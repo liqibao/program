{
 "cells": [
  {
   "cell_type": "code",
   "execution_count": 1,
   "metadata": {},
   "outputs": [],
   "source": [
    "import pandas as pd\n",
    "import datetime\n",
    "import numpy as np\n",
    "import warnings\n",
    "\n",
    "import matplotlib.pyplot as plt\n",
    "from sklearn.cluster import KMeans\n",
    "from sklearn.preprocessing import MinMaxScaler, Normalizer, StandardScaler\n",
    "warnings.filterwarnings('ignore')\n",
    "plt.rcParams['font.sans-serif']=['SimHei']  # 画图显示中文\n",
    "path = \"D:/program/program1/User_portrait/\""
   ]
  },
  {
   "cell_type": "code",
   "execution_count": 2,
   "metadata": {},
   "outputs": [],
   "source": [
    "data_company = pd.read_csv(path + \"20190301.csv\", names = ['order_date', 'company', 'total_freight'])"
   ]
  },
  {
   "cell_type": "code",
   "execution_count": 3,
   "metadata": {},
   "outputs": [],
   "source": [
    "data_company = data_company[data_company['total_freight'] >= 1]"
   ]
  },
  {
   "cell_type": "code",
   "execution_count": 4,
   "metadata": {},
   "outputs": [],
   "source": [
    "data_company['order_date'] = pd.to_datetime(data_company['order_date'], format = '%Y-%m-%d')"
   ]
  },
  {
   "cell_type": "code",
   "execution_count": 5,
   "metadata": {},
   "outputs": [],
   "source": [
    "data_company['data_diff'] = pd.to_datetime('today') - data_company['order_date']"
   ]
  },
  {
   "cell_type": "code",
   "execution_count": 6,
   "metadata": {},
   "outputs": [],
   "source": [
    "data_company['data_diff'] = data_company['data_diff'].dt.days"
   ]
  },
  {
   "cell_type": "code",
   "execution_count": 7,
   "metadata": {},
   "outputs": [],
   "source": [
    "R_data = data_company.groupby(by = 'company')['data_diff'].agg({'recency' : np.min})"
   ]
  },
  {
   "cell_type": "code",
   "execution_count": 8,
   "metadata": {},
   "outputs": [],
   "source": [
    "F_data = data_company.groupby(by = 'company')['order_date'].agg({'frequency':np.size})"
   ]
  },
  {
   "cell_type": "code",
   "execution_count": 9,
   "metadata": {},
   "outputs": [],
   "source": [
    "M_data = data_company.groupby(by = 'company')['total_freight'].agg({'monetary':np.sum})"
   ]
  },
  {
   "cell_type": "code",
   "execution_count": 10,
   "metadata": {},
   "outputs": [],
   "source": [
    "rfm_data = pd.concat([R_data, F_data, M_data], axis = 1)"
   ]
  },
  {
   "cell_type": "code",
   "execution_count": 11,
   "metadata": {},
   "outputs": [
    {
     "data": {
      "text/plain": [
       "count    223501.000000\n",
       "mean         16.527944\n",
       "std          30.518144\n",
       "min           1.000000\n",
       "25%           1.000000\n",
       "50%           3.000000\n",
       "75%          14.000000\n",
       "max         161.000000\n",
       "Name: frequency, dtype: float64"
      ]
     },
     "execution_count": 11,
     "metadata": {},
     "output_type": "execute_result"
    }
   ],
   "source": [
    "rfm_data['frequency'].describe()"
   ]
  },
  {
   "cell_type": "code",
   "execution_count": 12,
   "metadata": {},
   "outputs": [
    {
     "data": {
      "text/plain": [
       "0.0      1\n",
       "0.2      1\n",
       "0.4      2\n",
       "0.6      5\n",
       "0.8     21\n",
       "1.0    161\n",
       "Name: frequency, dtype: int64"
      ]
     },
     "execution_count": 12,
     "metadata": {},
     "output_type": "execute_result"
    }
   ],
   "source": [
    "rfm_data['frequency'].quantile(q = np.linspace(0,1,6), interpolation = 'nearest')"
   ]
  },
  {
   "cell_type": "code",
   "execution_count": 13,
   "metadata": {},
   "outputs": [
    {
     "data": {
      "text/plain": [
       "<matplotlib.axes._subplots.AxesSubplot at 0x229123cc7b8>"
      ]
     },
     "execution_count": 13,
     "metadata": {},
     "output_type": "execute_result"
    },
    {
     "data": {
      "image/png": "[encoded data removed]",
      "text/plain": [
       "<Figure size 432x288 with 1 Axes>"
      ]
     },
     "metadata": {
      "needs_background": "light"
     },
     "output_type": "display_data"
    }
   ],
   "source": [
    "rfm_data['frequency'].sort_values().hist(bins = 20)"
   ]
  },
  {
   "cell_type": "code",
   "execution_count": 14,
   "metadata": {},
   "outputs": [
    {
     "data": {
      "text/html": [
       "<div>\n",
       "<style scoped>\n",
       "    .dataframe tbody tr th:only-of-type {\n",
       "        vertical-align: middle;\n",
       "    }\n",
       "\n",
       "    .dataframe tbody tr th {\n",
       "        vertical-align: top;\n",
       "    }\n",
       "\n",
       "    .dataframe thead th {\n",
       "        text-align: right;\n",
       "    }\n",
       "</style>\n",
       "<table border=\"1\" class=\"dataframe\">\n",
       "  <thead>\n",
       "    <tr style=\"text-align: right;\">\n",
       "      <th></th>\n",
       "      <th>recency</th>\n",
       "      <th>frequency</th>\n",
       "      <th>monetary</th>\n",
       "    </tr>\n",
       "    <tr>\n",
       "      <th>company</th>\n",
       "      <th></th>\n",
       "      <th></th>\n",
       "      <th></th>\n",
       "    </tr>\n",
       "  </thead>\n",
       "  <tbody>\n",
       "    <tr>\n",
       "      <th>01个人刘健</th>\n",
       "      <td>65</td>\n",
       "      <td>2</td>\n",
       "      <td>669.00</td>\n",
       "    </tr>\n",
       "    <tr>\n",
       "      <th>3M苏州</th>\n",
       "      <td>82</td>\n",
       "      <td>8</td>\n",
       "      <td>4452.50</td>\n",
       "    </tr>\n",
       "    <tr>\n",
       "      <th>66号定制家居</th>\n",
       "      <td>43</td>\n",
       "      <td>6</td>\n",
       "      <td>12928.60</td>\n",
       "    </tr>\n",
       "    <tr>\n",
       "      <th>Dotwil点为商城</th>\n",
       "      <td>34</td>\n",
       "      <td>4</td>\n",
       "      <td>635.79</td>\n",
       "    </tr>\n",
       "    <tr>\n",
       "      <th>IT中心测试</th>\n",
       "      <td>42</td>\n",
       "      <td>3</td>\n",
       "      <td>217.00</td>\n",
       "    </tr>\n",
       "  </tbody>\n",
       "</table>\n",
       "</div>"
      ],
      "text/plain": [
       "            recency  frequency  monetary\n",
       "company                                 \n",
       "01个人刘健           65          2    669.00\n",
       "3M苏州             82          8   4452.50\n",
       "66号定制家居          43          6  12928.60\n",
       "Dotwil点为商城       34          4    635.79\n",
       "IT中心测试           42          3    217.00"
      ]
     },
     "execution_count": 14,
     "metadata": {},
     "output_type": "execute_result"
    }
   ],
   "source": [
    "rfm_data.head()"
   ]
  },
  {
   "cell_type": "code",
   "execution_count": 15,
   "metadata": {},
   "outputs": [],
   "source": [
    "def create_label(data, n, mark):\n",
    "    bins = data.quantile(q = np.linspace(0,1,n), interpolation = 'nearest')\n",
    "    bins[0] = 0\n",
    "    if mark == 1:\n",
    "        labels = [5, 4, 3, 2, 1]\n",
    "    elif mark == 2:\n",
    "        labels = [1, 2, 3, 4, 5]\n",
    "    else:\n",
    "        labels = [1, 2, 3, 4, 5, 6, 7, 8]\n",
    "    label = pd.cut(data, bins = bins, labels = labels)\n",
    "    return label"
   ]
  },
  {
   "cell_type": "code",
   "execution_count": 16,
   "metadata": {},
   "outputs": [],
   "source": [
    "R_S = create_label(rfm_data['recency'], 6, 1)\n",
    "F_S = create_label(rfm_data['frequency'], 6, 2)\n",
    "M_S = create_label(rfm_data['monetary'], 6, 2)"
   ]
  },
  {
   "cell_type": "code",
   "execution_count": 17,
   "metadata": {},
   "outputs": [],
   "source": [
    "rfm_data['R_S'] = R_S\n",
    "rfm_data['F_S'] = F_S\n",
    "rfm_data['M_S'] = M_S"
   ]
  },
  {
   "cell_type": "code",
   "execution_count": 18,
   "metadata": {},
   "outputs": [],
   "source": [
    "rfm_data.dropna(axis = 0, inplace = True)"
   ]
  },
  {
   "cell_type": "code",
   "execution_count": 19,
   "metadata": {},
   "outputs": [],
   "source": [
    "# rfm_data['rfm'] = 100 * rfm_data['R_label'].astype(int) + 10 * rfm_data['F_label'].astype(int) + 1 * rfm_data['M_label'].astype(int)"
   ]
  },
  {
   "cell_type": "code",
   "execution_count": 20,
   "metadata": {},
   "outputs": [],
   "source": [
    "# rfm_data['level'] = create_label(rfm_data['rfm'], 9, 3)"
   ]
  },
  {
   "cell_type": "code",
   "execution_count": 21,
   "metadata": {},
   "outputs": [
    {
     "data": {
      "text/html": [
       "<div>\n",
       "<style scoped>\n",
       "    .dataframe tbody tr th:only-of-type {\n",
       "        vertical-align: middle;\n",
       "    }\n",
       "\n",
       "    .dataframe tbody tr th {\n",
       "        vertical-align: top;\n",
       "    }\n",
       "\n",
       "    .dataframe thead th {\n",
       "        text-align: right;\n",
       "    }\n",
       "</style>\n",
       "<table border=\"1\" class=\"dataframe\">\n",
       "  <thead>\n",
       "    <tr style=\"text-align: right;\">\n",
       "      <th></th>\n",
       "      <th>recency</th>\n",
       "      <th>frequency</th>\n",
       "      <th>monetary</th>\n",
       "      <th>R_S</th>\n",
       "      <th>F_S</th>\n",
       "      <th>M_S</th>\n",
       "    </tr>\n",
       "    <tr>\n",
       "      <th>company</th>\n",
       "      <th></th>\n",
       "      <th></th>\n",
       "      <th></th>\n",
       "      <th></th>\n",
       "      <th></th>\n",
       "      <th></th>\n",
       "    </tr>\n",
       "  </thead>\n",
       "  <tbody>\n",
       "    <tr>\n",
       "      <th>01个人刘健</th>\n",
       "      <td>65</td>\n",
       "      <td>2</td>\n",
       "      <td>669.00</td>\n",
       "      <td>3</td>\n",
       "      <td>2</td>\n",
       "      <td>2</td>\n",
       "    </tr>\n",
       "    <tr>\n",
       "      <th>3M苏州</th>\n",
       "      <td>82</td>\n",
       "      <td>8</td>\n",
       "      <td>4452.50</td>\n",
       "      <td>2</td>\n",
       "      <td>4</td>\n",
       "      <td>4</td>\n",
       "    </tr>\n",
       "    <tr>\n",
       "      <th>66号定制家居</th>\n",
       "      <td>43</td>\n",
       "      <td>6</td>\n",
       "      <td>12928.60</td>\n",
       "      <td>4</td>\n",
       "      <td>4</td>\n",
       "      <td>5</td>\n",
       "    </tr>\n",
       "    <tr>\n",
       "      <th>Dotwil点为商城</th>\n",
       "      <td>34</td>\n",
       "      <td>4</td>\n",
       "      <td>635.79</td>\n",
       "      <td>5</td>\n",
       "      <td>3</td>\n",
       "      <td>2</td>\n",
       "    </tr>\n",
       "    <tr>\n",
       "      <th>IT中心测试</th>\n",
       "      <td>42</td>\n",
       "      <td>3</td>\n",
       "      <td>217.00</td>\n",
       "      <td>4</td>\n",
       "      <td>3</td>\n",
       "      <td>1</td>\n",
       "    </tr>\n",
       "  </tbody>\n",
       "</table>\n",
       "</div>"
      ],
      "text/plain": [
       "            recency  frequency  monetary R_S F_S M_S\n",
       "company                                             \n",
       "01个人刘健           65          2    669.00   3   2   2\n",
       "3M苏州             82          8   4452.50   2   4   4\n",
       "66号定制家居          43          6  12928.60   4   4   5\n",
       "Dotwil点为商城       34          4    635.79   5   3   2\n",
       "IT中心测试           42          3    217.00   4   3   1"
      ]
     },
     "execution_count": 21,
     "metadata": {},
     "output_type": "execute_result"
    }
   ],
   "source": [
    "rfm_data.head()"
   ]
  },
  {
   "cell_type": "code",
   "execution_count": 22,
   "metadata": {},
   "outputs": [
    {
     "data": {
      "text/plain": [
       "16.527943946559525"
      ]
     },
     "execution_count": 22,
     "metadata": {},
     "output_type": "execute_result"
    }
   ],
   "source": [
    "rfm_data['frequency'].mean()"
   ]
  },
  {
   "cell_type": "code",
   "execution_count": 23,
   "metadata": {},
   "outputs": [],
   "source": [
    "rfm_data['R_label'] = 0\n",
    "rfm_data['F_label'] = 0\n",
    "rfm_data['M_label'] = 0\n",
    "rfm_data.loc[rfm_data['recency'] < rfm_data['recency'].mean(), ['R_label']] = 1\n",
    "rfm_data.loc[rfm_data['frequency'] > rfm_data['frequency'].mean(), ['F_label']] = 1\n",
    "rfm_data.loc[rfm_data['monetary'] > rfm_data['monetary'].mean(), ['M_label']] = 1"
   ]
  },
  {
   "cell_type": "code",
   "execution_count": 22,
   "metadata": {},
   "outputs": [],
   "source": [
    "# rfm_data = rfm_data.assign(R_label = rfm_data['R_S'].map(lambda x : 1 if x > rfm_data['R_S'].astype(int).mean() else 0),\n",
    "#                            F_label = rfm_data['F_S'].map(lambda x : 1 if x > rfm_data['F_S'].astype(int).mean() else 0),\n",
    "#                            M_label = rfm_data['M_S'].map(lambda x : 1 if x > rfm_data['M_S'].astype(int).mean() else 0))"
   ]
  },
  {
   "cell_type": "code",
   "execution_count": 24,
   "metadata": {},
   "outputs": [
    {
     "data": {
      "text/html": [
       "<div>\n",
       "<style scoped>\n",
       "    .dataframe tbody tr th:only-of-type {\n",
       "        vertical-align: middle;\n",
       "    }\n",
       "\n",
       "    .dataframe tbody tr th {\n",
       "        vertical-align: top;\n",
       "    }\n",
       "\n",
       "    .dataframe thead th {\n",
       "        text-align: right;\n",
       "    }\n",
       "</style>\n",
       "<table border=\"1\" class=\"dataframe\">\n",
       "  <thead>\n",
       "    <tr style=\"text-align: right;\">\n",
       "      <th></th>\n",
       "      <th>recency</th>\n",
       "      <th>frequency</th>\n",
       "      <th>monetary</th>\n",
       "      <th>R_S</th>\n",
       "      <th>F_S</th>\n",
       "      <th>M_S</th>\n",
       "      <th>R_label</th>\n",
       "      <th>F_label</th>\n",
       "      <th>M_label</th>\n",
       "    </tr>\n",
       "    <tr>\n",
       "      <th>company</th>\n",
       "      <th></th>\n",
       "      <th></th>\n",
       "      <th></th>\n",
       "      <th></th>\n",
       "      <th></th>\n",
       "      <th></th>\n",
       "      <th></th>\n",
       "      <th></th>\n",
       "      <th></th>\n",
       "    </tr>\n",
       "  </thead>\n",
       "  <tbody>\n",
       "    <tr>\n",
       "      <th>01个人刘健</th>\n",
       "      <td>65</td>\n",
       "      <td>2</td>\n",
       "      <td>669.00</td>\n",
       "      <td>3</td>\n",
       "      <td>2</td>\n",
       "      <td>2</td>\n",
       "      <td>1</td>\n",
       "      <td>0</td>\n",
       "      <td>0</td>\n",
       "    </tr>\n",
       "    <tr>\n",
       "      <th>3M苏州</th>\n",
       "      <td>82</td>\n",
       "      <td>8</td>\n",
       "      <td>4452.50</td>\n",
       "      <td>2</td>\n",
       "      <td>4</td>\n",
       "      <td>4</td>\n",
       "      <td>0</td>\n",
       "      <td>0</td>\n",
       "      <td>0</td>\n",
       "    </tr>\n",
       "    <tr>\n",
       "      <th>66号定制家居</th>\n",
       "      <td>43</td>\n",
       "      <td>6</td>\n",
       "      <td>12928.60</td>\n",
       "      <td>4</td>\n",
       "      <td>4</td>\n",
       "      <td>5</td>\n",
       "      <td>1</td>\n",
       "      <td>0</td>\n",
       "      <td>0</td>\n",
       "    </tr>\n",
       "    <tr>\n",
       "      <th>Dotwil点为商城</th>\n",
       "      <td>34</td>\n",
       "      <td>4</td>\n",
       "      <td>635.79</td>\n",
       "      <td>5</td>\n",
       "      <td>3</td>\n",
       "      <td>2</td>\n",
       "      <td>1</td>\n",
       "      <td>0</td>\n",
       "      <td>0</td>\n",
       "    </tr>\n",
       "    <tr>\n",
       "      <th>IT中心测试</th>\n",
       "      <td>42</td>\n",
       "      <td>3</td>\n",
       "      <td>217.00</td>\n",
       "      <td>4</td>\n",
       "      <td>3</td>\n",
       "      <td>1</td>\n",
       "      <td>1</td>\n",
       "      <td>0</td>\n",
       "      <td>0</td>\n",
       "    </tr>\n",
       "  </tbody>\n",
       "</table>\n",
       "</div>"
      ],
      "text/plain": [
       "            recency  frequency  monetary R_S F_S M_S  R_label  F_label  \\\n",
       "company                                                                  \n",
       "01个人刘健           65          2    669.00   3   2   2        1        0   \n",
       "3M苏州             82          8   4452.50   2   4   4        0        0   \n",
       "66号定制家居          43          6  12928.60   4   4   5        1        0   \n",
       "Dotwil点为商城       34          4    635.79   5   3   2        1        0   \n",
       "IT中心测试           42          3    217.00   4   3   1        1        0   \n",
       "\n",
       "            M_label  \n",
       "company              \n",
       "01个人刘健            0  \n",
       "3M苏州              0  \n",
       "66号定制家居           0  \n",
       "Dotwil点为商城        0  \n",
       "IT中心测试            0  "
      ]
     },
     "execution_count": 24,
     "metadata": {},
     "output_type": "execute_result"
    }
   ],
   "source": [
    "rfm_data.head()"
   ]
  },
  {
   "cell_type": "code",
   "execution_count": 25,
   "metadata": {},
   "outputs": [],
   "source": [
    "rfm_data['rfm'] = rfm_data['R_label'].map(str) + rfm_data['F_label'].map(str) + rfm_data['M_label'].map(str)"
   ]
  },
  {
   "cell_type": "code",
   "execution_count": 26,
   "metadata": {},
   "outputs": [
    {
     "data": {
      "text/html": [
       "<div>\n",
       "<style scoped>\n",
       "    .dataframe tbody tr th:only-of-type {\n",
       "        vertical-align: middle;\n",
       "    }\n",
       "\n",
       "    .dataframe tbody tr th {\n",
       "        vertical-align: top;\n",
       "    }\n",
       "\n",
       "    .dataframe thead th {\n",
       "        text-align: right;\n",
       "    }\n",
       "</style>\n",
       "<table border=\"1\" class=\"dataframe\">\n",
       "  <thead>\n",
       "    <tr style=\"text-align: right;\">\n",
       "      <th></th>\n",
       "      <th>recency</th>\n",
       "      <th>frequency</th>\n",
       "      <th>monetary</th>\n",
       "      <th>R_S</th>\n",
       "      <th>F_S</th>\n",
       "      <th>M_S</th>\n",
       "      <th>R_label</th>\n",
       "      <th>F_label</th>\n",
       "      <th>M_label</th>\n",
       "      <th>rfm</th>\n",
       "    </tr>\n",
       "    <tr>\n",
       "      <th>company</th>\n",
       "      <th></th>\n",
       "      <th></th>\n",
       "      <th></th>\n",
       "      <th></th>\n",
       "      <th></th>\n",
       "      <th></th>\n",
       "      <th></th>\n",
       "      <th></th>\n",
       "      <th></th>\n",
       "      <th></th>\n",
       "    </tr>\n",
       "  </thead>\n",
       "  <tbody>\n",
       "    <tr>\n",
       "      <th>01个人刘健</th>\n",
       "      <td>65</td>\n",
       "      <td>2</td>\n",
       "      <td>669.00</td>\n",
       "      <td>3</td>\n",
       "      <td>2</td>\n",
       "      <td>2</td>\n",
       "      <td>1</td>\n",
       "      <td>0</td>\n",
       "      <td>0</td>\n",
       "      <td>100</td>\n",
       "    </tr>\n",
       "    <tr>\n",
       "      <th>3M苏州</th>\n",
       "      <td>82</td>\n",
       "      <td>8</td>\n",
       "      <td>4452.50</td>\n",
       "      <td>2</td>\n",
       "      <td>4</td>\n",
       "      <td>4</td>\n",
       "      <td>0</td>\n",
       "      <td>0</td>\n",
       "      <td>0</td>\n",
       "      <td>000</td>\n",
       "    </tr>\n",
       "    <tr>\n",
       "      <th>66号定制家居</th>\n",
       "      <td>43</td>\n",
       "      <td>6</td>\n",
       "      <td>12928.60</td>\n",
       "      <td>4</td>\n",
       "      <td>4</td>\n",
       "      <td>5</td>\n",
       "      <td>1</td>\n",
       "      <td>0</td>\n",
       "      <td>0</td>\n",
       "      <td>100</td>\n",
       "    </tr>\n",
       "    <tr>\n",
       "      <th>Dotwil点为商城</th>\n",
       "      <td>34</td>\n",
       "      <td>4</td>\n",
       "      <td>635.79</td>\n",
       "      <td>5</td>\n",
       "      <td>3</td>\n",
       "      <td>2</td>\n",
       "      <td>1</td>\n",
       "      <td>0</td>\n",
       "      <td>0</td>\n",
       "      <td>100</td>\n",
       "    </tr>\n",
       "    <tr>\n",
       "      <th>IT中心测试</th>\n",
       "      <td>42</td>\n",
       "      <td>3</td>\n",
       "      <td>217.00</td>\n",
       "      <td>4</td>\n",
       "      <td>3</td>\n",
       "      <td>1</td>\n",
       "      <td>1</td>\n",
       "      <td>0</td>\n",
       "      <td>0</td>\n",
       "      <td>100</td>\n",
       "    </tr>\n",
       "  </tbody>\n",
       "</table>\n",
       "</div>"
      ],
      "text/plain": [
       "            recency  frequency  monetary R_S F_S M_S  R_label  F_label  \\\n",
       "company                                                                  \n",
       "01个人刘健           65          2    669.00   3   2   2        1        0   \n",
       "3M苏州             82          8   4452.50   2   4   4        0        0   \n",
       "66号定制家居          43          6  12928.60   4   4   5        1        0   \n",
       "Dotwil点为商城       34          4    635.79   5   3   2        1        0   \n",
       "IT中心测试           42          3    217.00   4   3   1        1        0   \n",
       "\n",
       "            M_label  rfm  \n",
       "company                   \n",
       "01个人刘健            0  100  \n",
       "3M苏州              0  000  \n",
       "66号定制家居           0  100  \n",
       "Dotwil点为商城        0  100  \n",
       "IT中心测试            0  100  "
      ]
     },
     "execution_count": 26,
     "metadata": {},
     "output_type": "execute_result"
    }
   ],
   "source": [
    "rfm_data.head()"
   ]
  },
  {
   "cell_type": "code",
   "execution_count": 27,
   "metadata": {},
   "outputs": [],
   "source": [
    "rfm_data['custom'] = np.NaN\n",
    "rfm_data.loc[rfm_data['rfm'] == '111', ['custom']] = '重要价值客户'\n",
    "rfm_data.loc[rfm_data['rfm'] == '011', ['custom']] = '重要保持客户'\n",
    "rfm_data.loc[rfm_data['rfm'] == '101', ['custom']] = '重要发展客户'\n",
    "rfm_data.loc[rfm_data['rfm'] == '001', ['custom']] = '重要挽留客户'\n",
    "rfm_data.loc[rfm_data['rfm'] == '110', ['custom']] = '一般价值客户'\n",
    "rfm_data.loc[rfm_data['rfm'] == '100', ['custom']] = '一般发展客户'\n",
    "rfm_data.loc[rfm_data['rfm'] == '010', ['custom']] = '一般保持客户'\n",
    "rfm_data.loc[rfm_data['rfm'] == '000', ['custom']] = '一般挽留客户'"
   ]
  },
  {
   "cell_type": "markdown",
   "metadata": {},
   "source": [
    "111:重要价值客户, 101:重要发展客户, 011:重要保持客户，001:重要挽留客户, 110:一般价值客户,100:一般发展客户, 010:一般保持客户,000：一般挽留客户"
   ]
  },
  {
   "cell_type": "code",
   "execution_count": 28,
   "metadata": {},
   "outputs": [
    {
     "data": {
      "text/html": [
       "<div>\n",
       "<style scoped>\n",
       "    .dataframe tbody tr th:only-of-type {\n",
       "        vertical-align: middle;\n",
       "    }\n",
       "\n",
       "    .dataframe tbody tr th {\n",
       "        vertical-align: top;\n",
       "    }\n",
       "\n",
       "    .dataframe thead th {\n",
       "        text-align: right;\n",
       "    }\n",
       "</style>\n",
       "<table border=\"1\" class=\"dataframe\">\n",
       "  <thead>\n",
       "    <tr style=\"text-align: right;\">\n",
       "      <th></th>\n",
       "      <th>recency</th>\n",
       "      <th>frequency</th>\n",
       "      <th>monetary</th>\n",
       "      <th>R_S</th>\n",
       "      <th>F_S</th>\n",
       "      <th>M_S</th>\n",
       "      <th>R_label</th>\n",
       "      <th>F_label</th>\n",
       "      <th>M_label</th>\n",
       "      <th>rfm</th>\n",
       "      <th>custom</th>\n",
       "    </tr>\n",
       "    <tr>\n",
       "      <th>company</th>\n",
       "      <th></th>\n",
       "      <th></th>\n",
       "      <th></th>\n",
       "      <th></th>\n",
       "      <th></th>\n",
       "      <th></th>\n",
       "      <th></th>\n",
       "      <th></th>\n",
       "      <th></th>\n",
       "      <th></th>\n",
       "      <th></th>\n",
       "    </tr>\n",
       "  </thead>\n",
       "  <tbody>\n",
       "    <tr>\n",
       "      <th>01个人刘健</th>\n",
       "      <td>65</td>\n",
       "      <td>2</td>\n",
       "      <td>669.00</td>\n",
       "      <td>3</td>\n",
       "      <td>2</td>\n",
       "      <td>2</td>\n",
       "      <td>1</td>\n",
       "      <td>0</td>\n",
       "      <td>0</td>\n",
       "      <td>100</td>\n",
       "      <td>一般发展客户</td>\n",
       "    </tr>\n",
       "    <tr>\n",
       "      <th>3M苏州</th>\n",
       "      <td>82</td>\n",
       "      <td>8</td>\n",
       "      <td>4452.50</td>\n",
       "      <td>2</td>\n",
       "      <td>4</td>\n",
       "      <td>4</td>\n",
       "      <td>0</td>\n",
       "      <td>0</td>\n",
       "      <td>0</td>\n",
       "      <td>000</td>\n",
       "      <td>一般挽留客户</td>\n",
       "    </tr>\n",
       "    <tr>\n",
       "      <th>66号定制家居</th>\n",
       "      <td>43</td>\n",
       "      <td>6</td>\n",
       "      <td>12928.60</td>\n",
       "      <td>4</td>\n",
       "      <td>4</td>\n",
       "      <td>5</td>\n",
       "      <td>1</td>\n",
       "      <td>0</td>\n",
       "      <td>0</td>\n",
       "      <td>100</td>\n",
       "      <td>一般发展客户</td>\n",
       "    </tr>\n",
       "    <tr>\n",
       "      <th>Dotwil点为商城</th>\n",
       "      <td>34</td>\n",
       "      <td>4</td>\n",
       "      <td>635.79</td>\n",
       "      <td>5</td>\n",
       "      <td>3</td>\n",
       "      <td>2</td>\n",
       "      <td>1</td>\n",
       "      <td>0</td>\n",
       "      <td>0</td>\n",
       "      <td>100</td>\n",
       "      <td>一般发展客户</td>\n",
       "    </tr>\n",
       "    <tr>\n",
       "      <th>IT中心测试</th>\n",
       "      <td>42</td>\n",
       "      <td>3</td>\n",
       "      <td>217.00</td>\n",
       "      <td>4</td>\n",
       "      <td>3</td>\n",
       "      <td>1</td>\n",
       "      <td>1</td>\n",
       "      <td>0</td>\n",
       "      <td>0</td>\n",
       "      <td>100</td>\n",
       "      <td>一般发展客户</td>\n",
       "    </tr>\n",
       "  </tbody>\n",
       "</table>\n",
       "</div>"
      ],
      "text/plain": [
       "            recency  frequency  monetary R_S F_S M_S  R_label  F_label  \\\n",
       "company                                                                  \n",
       "01个人刘健           65          2    669.00   3   2   2        1        0   \n",
       "3M苏州             82          8   4452.50   2   4   4        0        0   \n",
       "66号定制家居          43          6  12928.60   4   4   5        1        0   \n",
       "Dotwil点为商城       34          4    635.79   5   3   2        1        0   \n",
       "IT中心测试           42          3    217.00   4   3   1        1        0   \n",
       "\n",
       "            M_label  rfm  custom  \n",
       "company                           \n",
       "01个人刘健            0  100  一般发展客户  \n",
       "3M苏州              0  000  一般挽留客户  \n",
       "66号定制家居           0  100  一般发展客户  \n",
       "Dotwil点为商城        0  100  一般发展客户  \n",
       "IT中心测试            0  100  一般发展客户  "
      ]
     },
     "execution_count": 28,
     "metadata": {},
     "output_type": "execute_result"
    }
   ],
   "source": [
    "rfm_data.head()"
   ]
  },
  {
   "cell_type": "code",
   "execution_count": null,
   "metadata": {},
   "outputs": [],
   "source": []
  },
  {
   "cell_type": "code",
   "execution_count": 29,
   "metadata": {},
   "outputs": [
    {
     "data": {
      "text/html": [
       "<div>\n",
       "<style scoped>\n",
       "    .dataframe tbody tr th:only-of-type {\n",
       "        vertical-align: middle;\n",
       "    }\n",
       "\n",
       "    .dataframe tbody tr th {\n",
       "        vertical-align: top;\n",
       "    }\n",
       "\n",
       "    .dataframe thead th {\n",
       "        text-align: right;\n",
       "    }\n",
       "</style>\n",
       "<table border=\"1\" class=\"dataframe\">\n",
       "  <thead>\n",
       "    <tr style=\"text-align: right;\">\n",
       "      <th></th>\n",
       "      <th>数量</th>\n",
       "      <th>客户类型占比</th>\n",
       "      <th>运费占比</th>\n",
       "    </tr>\n",
       "    <tr>\n",
       "      <th>custom</th>\n",
       "      <th></th>\n",
       "      <th></th>\n",
       "      <th></th>\n",
       "    </tr>\n",
       "  </thead>\n",
       "  <tbody>\n",
       "    <tr>\n",
       "      <th>一般价值客户</th>\n",
       "      <td>23292</td>\n",
       "      <td>10.42%</td>\n",
       "      <td>4.81%</td>\n",
       "    </tr>\n",
       "    <tr>\n",
       "      <th>一般保持客户</th>\n",
       "      <td>1178</td>\n",
       "      <td>0.53%</td>\n",
       "      <td>0.19%</td>\n",
       "    </tr>\n",
       "    <tr>\n",
       "      <th>一般发展客户</th>\n",
       "      <td>86166</td>\n",
       "      <td>38.55%</td>\n",
       "      <td>5.15%</td>\n",
       "    </tr>\n",
       "    <tr>\n",
       "      <th>一般挽留客户</th>\n",
       "      <td>84417</td>\n",
       "      <td>37.77%</td>\n",
       "      <td>2.48%</td>\n",
       "    </tr>\n",
       "    <tr>\n",
       "      <th>重要价值客户</th>\n",
       "      <td>26018</td>\n",
       "      <td>11.64%</td>\n",
       "      <td>84.54%</td>\n",
       "    </tr>\n",
       "    <tr>\n",
       "      <th>重要保持客户</th>\n",
       "      <td>516</td>\n",
       "      <td>0.23%</td>\n",
       "      <td>1.16%</td>\n",
       "    </tr>\n",
       "    <tr>\n",
       "      <th>重要发展客户</th>\n",
       "      <td>1483</td>\n",
       "      <td>0.66%</td>\n",
       "      <td>1.21%</td>\n",
       "    </tr>\n",
       "    <tr>\n",
       "      <th>重要挽留客户</th>\n",
       "      <td>431</td>\n",
       "      <td>0.19%</td>\n",
       "      <td>0.46%</td>\n",
       "    </tr>\n",
       "  </tbody>\n",
       "</table>\n",
       "</div>"
      ],
      "text/plain": [
       "           数量  客户类型占比    运费占比\n",
       "custom                       \n",
       "一般价值客户  23292  10.42%   4.81%\n",
       "一般保持客户   1178   0.53%   0.19%\n",
       "一般发展客户  86166  38.55%   5.15%\n",
       "一般挽留客户  84417  37.77%   2.48%\n",
       "重要价值客户  26018  11.64%  84.54%\n",
       "重要保持客户    516   0.23%   1.16%\n",
       "重要发展客户   1483   0.66%   1.21%\n",
       "重要挽留客户    431   0.19%   0.46%"
      ]
     },
     "execution_count": 29,
     "metadata": {},
     "output_type": "execute_result"
    }
   ],
   "source": [
    "rfm_c1 = list(rfm_data['custom'].value_counts().sort_index()) # 统计每个类别个数\n",
    "rfm_c2 = list(rfm_data['custom'].value_counts().sort_index()/len(rfm_data)*100)\n",
    "rfm_c3 = list(map(lambda x: str(round(x, 2)) + '%', rfm_c2))\n",
    "# 每个类别金额占比\n",
    "rfm_sum = rfm_data['monetary'].groupby(rfm_data['custom']).sum()\n",
    "rfm_percent = rfm_sum/rfm_data['monetary'].sum() * 100\n",
    "rfm_c4 = rfm_percent.map(lambda x : str(round(x, 2)) + \"%\")\n",
    "\n",
    "rfm_c = pd.DataFrame({'数量': rfm_c1, '客户类型占比': rfm_c3, '运费占比' : rfm_c4})\n",
    "rfm_c"
   ]
  },
  {
   "cell_type": "code",
   "execution_count": null,
   "metadata": {},
   "outputs": [],
   "source": []
  },
  {
   "cell_type": "code",
   "execution_count": 30,
   "metadata": {},
   "outputs": [
    {
     "data": {
      "text/html": [
       "<div>\n",
       "<style scoped>\n",
       "    .dataframe tbody tr th:only-of-type {\n",
       "        vertical-align: middle;\n",
       "    }\n",
       "\n",
       "    .dataframe tbody tr th {\n",
       "        vertical-align: top;\n",
       "    }\n",
       "\n",
       "    .dataframe thead th {\n",
       "        text-align: right;\n",
       "    }\n",
       "</style>\n",
       "<table border=\"1\" class=\"dataframe\">\n",
       "  <thead>\n",
       "    <tr style=\"text-align: right;\">\n",
       "      <th></th>\n",
       "      <th>custom</th>\n",
       "      <th>数量</th>\n",
       "      <th>客户类型占比</th>\n",
       "      <th>运费占比</th>\n",
       "    </tr>\n",
       "  </thead>\n",
       "  <tbody>\n",
       "    <tr>\n",
       "      <th>0</th>\n",
       "      <td>一般价值客户</td>\n",
       "      <td>23292</td>\n",
       "      <td>10.42%</td>\n",
       "      <td>4.81%</td>\n",
       "    </tr>\n",
       "    <tr>\n",
       "      <th>1</th>\n",
       "      <td>一般保持客户</td>\n",
       "      <td>1178</td>\n",
       "      <td>0.53%</td>\n",
       "      <td>0.19%</td>\n",
       "    </tr>\n",
       "    <tr>\n",
       "      <th>2</th>\n",
       "      <td>一般发展客户</td>\n",
       "      <td>86166</td>\n",
       "      <td>38.55%</td>\n",
       "      <td>5.15%</td>\n",
       "    </tr>\n",
       "    <tr>\n",
       "      <th>3</th>\n",
       "      <td>一般挽留客户</td>\n",
       "      <td>84417</td>\n",
       "      <td>37.77%</td>\n",
       "      <td>2.48%</td>\n",
       "    </tr>\n",
       "    <tr>\n",
       "      <th>4</th>\n",
       "      <td>重要价值客户</td>\n",
       "      <td>26018</td>\n",
       "      <td>11.64%</td>\n",
       "      <td>84.54%</td>\n",
       "    </tr>\n",
       "  </tbody>\n",
       "</table>\n",
       "</div>"
      ],
      "text/plain": [
       "   custom     数量  客户类型占比    运费占比\n",
       "0  一般价值客户  23292  10.42%   4.81%\n",
       "1  一般保持客户   1178   0.53%   0.19%\n",
       "2  一般发展客户  86166  38.55%   5.15%\n",
       "3  一般挽留客户  84417  37.77%   2.48%\n",
       "4  重要价值客户  26018  11.64%  84.54%"
      ]
     },
     "execution_count": 30,
     "metadata": {},
     "output_type": "execute_result"
    }
   ],
   "source": [
    "rfm_c.reset_index().head()"
   ]
  },
  {
   "cell_type": "code",
   "execution_count": 31,
   "metadata": {},
   "outputs": [
    {
     "data": {
      "text/html": [
       "<div>\n",
       "<style scoped>\n",
       "    .dataframe tbody tr th:only-of-type {\n",
       "        vertical-align: middle;\n",
       "    }\n",
       "\n",
       "    .dataframe tbody tr th {\n",
       "        vertical-align: top;\n",
       "    }\n",
       "\n",
       "    .dataframe thead th {\n",
       "        text-align: right;\n",
       "    }\n",
       "</style>\n",
       "<table border=\"1\" class=\"dataframe\">\n",
       "  <thead>\n",
       "    <tr style=\"text-align: right;\">\n",
       "      <th></th>\n",
       "      <th>recency</th>\n",
       "      <th>frequency</th>\n",
       "      <th>monetary</th>\n",
       "      <th>R_S</th>\n",
       "      <th>F_S</th>\n",
       "      <th>M_S</th>\n",
       "      <th>R_label</th>\n",
       "      <th>F_label</th>\n",
       "      <th>M_label</th>\n",
       "      <th>rfm</th>\n",
       "      <th>custom</th>\n",
       "      <th>数量</th>\n",
       "      <th>客户类型占比</th>\n",
       "      <th>运费占比</th>\n",
       "    </tr>\n",
       "  </thead>\n",
       "  <tbody>\n",
       "    <tr>\n",
       "      <th>0</th>\n",
       "      <td>65</td>\n",
       "      <td>2</td>\n",
       "      <td>669.00</td>\n",
       "      <td>3</td>\n",
       "      <td>2</td>\n",
       "      <td>2</td>\n",
       "      <td>1</td>\n",
       "      <td>0</td>\n",
       "      <td>0</td>\n",
       "      <td>100</td>\n",
       "      <td>一般发展客户</td>\n",
       "      <td>86166</td>\n",
       "      <td>38.55%</td>\n",
       "      <td>5.15%</td>\n",
       "    </tr>\n",
       "    <tr>\n",
       "      <th>1</th>\n",
       "      <td>82</td>\n",
       "      <td>8</td>\n",
       "      <td>4452.50</td>\n",
       "      <td>2</td>\n",
       "      <td>4</td>\n",
       "      <td>4</td>\n",
       "      <td>0</td>\n",
       "      <td>0</td>\n",
       "      <td>0</td>\n",
       "      <td>000</td>\n",
       "      <td>一般挽留客户</td>\n",
       "      <td>84417</td>\n",
       "      <td>37.77%</td>\n",
       "      <td>2.48%</td>\n",
       "    </tr>\n",
       "    <tr>\n",
       "      <th>2</th>\n",
       "      <td>43</td>\n",
       "      <td>6</td>\n",
       "      <td>12928.60</td>\n",
       "      <td>4</td>\n",
       "      <td>4</td>\n",
       "      <td>5</td>\n",
       "      <td>1</td>\n",
       "      <td>0</td>\n",
       "      <td>0</td>\n",
       "      <td>100</td>\n",
       "      <td>一般发展客户</td>\n",
       "      <td>86166</td>\n",
       "      <td>38.55%</td>\n",
       "      <td>5.15%</td>\n",
       "    </tr>\n",
       "    <tr>\n",
       "      <th>3</th>\n",
       "      <td>34</td>\n",
       "      <td>4</td>\n",
       "      <td>635.79</td>\n",
       "      <td>5</td>\n",
       "      <td>3</td>\n",
       "      <td>2</td>\n",
       "      <td>1</td>\n",
       "      <td>0</td>\n",
       "      <td>0</td>\n",
       "      <td>100</td>\n",
       "      <td>一般发展客户</td>\n",
       "      <td>86166</td>\n",
       "      <td>38.55%</td>\n",
       "      <td>5.15%</td>\n",
       "    </tr>\n",
       "    <tr>\n",
       "      <th>4</th>\n",
       "      <td>42</td>\n",
       "      <td>3</td>\n",
       "      <td>217.00</td>\n",
       "      <td>4</td>\n",
       "      <td>3</td>\n",
       "      <td>1</td>\n",
       "      <td>1</td>\n",
       "      <td>0</td>\n",
       "      <td>0</td>\n",
       "      <td>100</td>\n",
       "      <td>一般发展客户</td>\n",
       "      <td>86166</td>\n",
       "      <td>38.55%</td>\n",
       "      <td>5.15%</td>\n",
       "    </tr>\n",
       "  </tbody>\n",
       "</table>\n",
       "</div>"
      ],
      "text/plain": [
       "   recency  frequency  monetary R_S F_S M_S  R_label  F_label  M_label  rfm  \\\n",
       "0       65          2    669.00   3   2   2        1        0        0  100   \n",
       "1       82          8   4452.50   2   4   4        0        0        0  000   \n",
       "2       43          6  12928.60   4   4   5        1        0        0  100   \n",
       "3       34          4    635.79   5   3   2        1        0        0  100   \n",
       "4       42          3    217.00   4   3   1        1        0        0  100   \n",
       "\n",
       "   custom     数量  客户类型占比   运费占比  \n",
       "0  一般发展客户  86166  38.55%  5.15%  \n",
       "1  一般挽留客户  84417  37.77%  2.48%  \n",
       "2  一般发展客户  86166  38.55%  5.15%  \n",
       "3  一般发展客户  86166  38.55%  5.15%  \n",
       "4  一般发展客户  86166  38.55%  5.15%  "
      ]
     },
     "execution_count": 31,
     "metadata": {},
     "output_type": "execute_result"
    }
   ],
   "source": [
    "pd.merge(rfm_data, rfm_c, on = 'custom', how = 'left').head()"
   ]
  },
  {
   "cell_type": "code",
   "execution_count": 32,
   "metadata": {},
   "outputs": [
    {
     "data": {
      "text/html": [
       "<div>\n",
       "<style scoped>\n",
       "    .dataframe tbody tr th:only-of-type {\n",
       "        vertical-align: middle;\n",
       "    }\n",
       "\n",
       "    .dataframe tbody tr th {\n",
       "        vertical-align: top;\n",
       "    }\n",
       "\n",
       "    .dataframe thead th {\n",
       "        text-align: right;\n",
       "    }\n",
       "</style>\n",
       "<table border=\"1\" class=\"dataframe\">\n",
       "  <thead>\n",
       "    <tr style=\"text-align: right;\">\n",
       "      <th></th>\n",
       "      <th>recency</th>\n",
       "      <th>frequency</th>\n",
       "      <th>monetary</th>\n",
       "      <th>R_S</th>\n",
       "      <th>F_S</th>\n",
       "      <th>M_S</th>\n",
       "      <th>R_label</th>\n",
       "      <th>F_label</th>\n",
       "      <th>M_label</th>\n",
       "      <th>rfm</th>\n",
       "      <th>custom</th>\n",
       "    </tr>\n",
       "    <tr>\n",
       "      <th>company</th>\n",
       "      <th></th>\n",
       "      <th></th>\n",
       "      <th></th>\n",
       "      <th></th>\n",
       "      <th></th>\n",
       "      <th></th>\n",
       "      <th></th>\n",
       "      <th></th>\n",
       "      <th></th>\n",
       "      <th></th>\n",
       "      <th></th>\n",
       "    </tr>\n",
       "  </thead>\n",
       "  <tbody>\n",
       "    <tr>\n",
       "      <th>Syneventive</th>\n",
       "      <td>31</td>\n",
       "      <td>123</td>\n",
       "      <td>287274.3</td>\n",
       "      <td>5</td>\n",
       "      <td>5</td>\n",
       "      <td>5</td>\n",
       "      <td>1</td>\n",
       "      <td>1</td>\n",
       "      <td>1</td>\n",
       "      <td>111</td>\n",
       "      <td>重要价值客户</td>\n",
       "    </tr>\n",
       "    <tr>\n",
       "      <th>三河个人孟显明</th>\n",
       "      <td>54</td>\n",
       "      <td>50</td>\n",
       "      <td>21306.7</td>\n",
       "      <td>3</td>\n",
       "      <td>5</td>\n",
       "      <td>5</td>\n",
       "      <td>1</td>\n",
       "      <td>1</td>\n",
       "      <td>1</td>\n",
       "      <td>111</td>\n",
       "      <td>重要价值客户</td>\n",
       "    </tr>\n",
       "    <tr>\n",
       "      <th>三河华巨同方</th>\n",
       "      <td>43</td>\n",
       "      <td>22</td>\n",
       "      <td>89738.8</td>\n",
       "      <td>4</td>\n",
       "      <td>5</td>\n",
       "      <td>5</td>\n",
       "      <td>1</td>\n",
       "      <td>1</td>\n",
       "      <td>1</td>\n",
       "      <td>111</td>\n",
       "      <td>重要价值客户</td>\n",
       "    </tr>\n",
       "    <tr>\n",
       "      <th>三河多米来电子</th>\n",
       "      <td>41</td>\n",
       "      <td>78</td>\n",
       "      <td>34653.4</td>\n",
       "      <td>4</td>\n",
       "      <td>5</td>\n",
       "      <td>5</td>\n",
       "      <td>1</td>\n",
       "      <td>1</td>\n",
       "      <td>1</td>\n",
       "      <td>111</td>\n",
       "      <td>重要价值客户</td>\n",
       "    </tr>\n",
       "    <tr>\n",
       "      <th>三河正海</th>\n",
       "      <td>43</td>\n",
       "      <td>20</td>\n",
       "      <td>46751.9</td>\n",
       "      <td>4</td>\n",
       "      <td>4</td>\n",
       "      <td>5</td>\n",
       "      <td>1</td>\n",
       "      <td>1</td>\n",
       "      <td>1</td>\n",
       "      <td>111</td>\n",
       "      <td>重要价值客户</td>\n",
       "    </tr>\n",
       "    <tr>\n",
       "      <th>三河热刺激光</th>\n",
       "      <td>35</td>\n",
       "      <td>102</td>\n",
       "      <td>457927.0</td>\n",
       "      <td>5</td>\n",
       "      <td>5</td>\n",
       "      <td>5</td>\n",
       "      <td>1</td>\n",
       "      <td>1</td>\n",
       "      <td>1</td>\n",
       "      <td>111</td>\n",
       "      <td>重要价值客户</td>\n",
       "    </tr>\n",
       "    <tr>\n",
       "      <th>三河航信通</th>\n",
       "      <td>38</td>\n",
       "      <td>21</td>\n",
       "      <td>24588.7</td>\n",
       "      <td>5</td>\n",
       "      <td>4</td>\n",
       "      <td>5</td>\n",
       "      <td>1</td>\n",
       "      <td>1</td>\n",
       "      <td>1</td>\n",
       "      <td>111</td>\n",
       "      <td>重要价值客户</td>\n",
       "    </tr>\n",
       "    <tr>\n",
       "      <th>三河雷翡士</th>\n",
       "      <td>40</td>\n",
       "      <td>64</td>\n",
       "      <td>58959.5</td>\n",
       "      <td>5</td>\n",
       "      <td>5</td>\n",
       "      <td>5</td>\n",
       "      <td>1</td>\n",
       "      <td>1</td>\n",
       "      <td>1</td>\n",
       "      <td>111</td>\n",
       "      <td>重要价值客户</td>\n",
       "    </tr>\n",
       "    <tr>\n",
       "      <th>三河飞嘉</th>\n",
       "      <td>39</td>\n",
       "      <td>106</td>\n",
       "      <td>96496.1</td>\n",
       "      <td>5</td>\n",
       "      <td>5</td>\n",
       "      <td>5</td>\n",
       "      <td>1</td>\n",
       "      <td>1</td>\n",
       "      <td>1</td>\n",
       "      <td>111</td>\n",
       "      <td>重要价值客户</td>\n",
       "    </tr>\n",
       "    <tr>\n",
       "      <th>三河首科</th>\n",
       "      <td>41</td>\n",
       "      <td>72</td>\n",
       "      <td>41458.9</td>\n",
       "      <td>4</td>\n",
       "      <td>5</td>\n",
       "      <td>5</td>\n",
       "      <td>1</td>\n",
       "      <td>1</td>\n",
       "      <td>1</td>\n",
       "      <td>111</td>\n",
       "      <td>重要价值客户</td>\n",
       "    </tr>\n",
       "  </tbody>\n",
       "</table>\n",
       "</div>"
      ],
      "text/plain": [
       "             recency  frequency  monetary R_S F_S M_S  R_label  F_label  \\\n",
       "company                                                                   \n",
       "Syneventive       31        123  287274.3   5   5   5        1        1   \n",
       "三河个人孟显明           54         50   21306.7   3   5   5        1        1   \n",
       "三河华巨同方            43         22   89738.8   4   5   5        1        1   \n",
       "三河多米来电子           41         78   34653.4   4   5   5        1        1   \n",
       "三河正海              43         20   46751.9   4   4   5        1        1   \n",
       "三河热刺激光            35        102  457927.0   5   5   5        1        1   \n",
       "三河航信通             38         21   24588.7   5   4   5        1        1   \n",
       "三河雷翡士             40         64   58959.5   5   5   5        1        1   \n",
       "三河飞嘉              39        106   96496.1   5   5   5        1        1   \n",
       "三河首科              41         72   41458.9   4   5   5        1        1   \n",
       "\n",
       "             M_label  rfm  custom  \n",
       "company                            \n",
       "Syneventive        1  111  重要价值客户  \n",
       "三河个人孟显明            1  111  重要价值客户  \n",
       "三河华巨同方             1  111  重要价值客户  \n",
       "三河多米来电子            1  111  重要价值客户  \n",
       "三河正海               1  111  重要价值客户  \n",
       "三河热刺激光             1  111  重要价值客户  \n",
       "三河航信通              1  111  重要价值客户  \n",
       "三河雷翡士              1  111  重要价值客户  \n",
       "三河飞嘉               1  111  重要价值客户  \n",
       "三河首科               1  111  重要价值客户  "
      ]
     },
     "execution_count": 32,
     "metadata": {},
     "output_type": "execute_result"
    }
   ],
   "source": [
    "rfm_data[rfm_data['rfm'] == '111'].head(10)"
   ]
  },
  {
   "cell_type": "code",
   "execution_count": 33,
   "metadata": {},
   "outputs": [],
   "source": [
    "k_data = rfm_data[['recency', 'frequency', 'monetary']]"
   ]
  },
  {
   "cell_type": "code",
   "execution_count": 34,
   "metadata": {},
   "outputs": [
    {
     "data": {
      "text/html": [
       "<div>\n",
       "<style scoped>\n",
       "    .dataframe tbody tr th:only-of-type {\n",
       "        vertical-align: middle;\n",
       "    }\n",
       "\n",
       "    .dataframe tbody tr th {\n",
       "        vertical-align: top;\n",
       "    }\n",
       "\n",
       "    .dataframe thead th {\n",
       "        text-align: right;\n",
       "    }\n",
       "</style>\n",
       "<table border=\"1\" class=\"dataframe\">\n",
       "  <thead>\n",
       "    <tr style=\"text-align: right;\">\n",
       "      <th></th>\n",
       "      <th>recency</th>\n",
       "      <th>frequency</th>\n",
       "      <th>monetary</th>\n",
       "    </tr>\n",
       "    <tr>\n",
       "      <th>company</th>\n",
       "      <th></th>\n",
       "      <th></th>\n",
       "      <th></th>\n",
       "    </tr>\n",
       "  </thead>\n",
       "  <tbody>\n",
       "    <tr>\n",
       "      <th>01个人刘健</th>\n",
       "      <td>0.25000</td>\n",
       "      <td>0.00625</td>\n",
       "      <td>0.000028</td>\n",
       "    </tr>\n",
       "    <tr>\n",
       "      <th>3M苏州</th>\n",
       "      <td>0.35625</td>\n",
       "      <td>0.04375</td>\n",
       "      <td>0.000190</td>\n",
       "    </tr>\n",
       "    <tr>\n",
       "      <th>66号定制家居</th>\n",
       "      <td>0.11250</td>\n",
       "      <td>0.03125</td>\n",
       "      <td>0.000551</td>\n",
       "    </tr>\n",
       "    <tr>\n",
       "      <th>Dotwil点为商城</th>\n",
       "      <td>0.05625</td>\n",
       "      <td>0.01875</td>\n",
       "      <td>0.000027</td>\n",
       "    </tr>\n",
       "    <tr>\n",
       "      <th>IT中心测试</th>\n",
       "      <td>0.10625</td>\n",
       "      <td>0.01250</td>\n",
       "      <td>0.000009</td>\n",
       "    </tr>\n",
       "  </tbody>\n",
       "</table>\n",
       "</div>"
      ],
      "text/plain": [
       "            recency  frequency  monetary\n",
       "company                                 \n",
       "01个人刘健      0.25000    0.00625  0.000028\n",
       "3M苏州        0.35625    0.04375  0.000190\n",
       "66号定制家居     0.11250    0.03125  0.000551\n",
       "Dotwil点为商城  0.05625    0.01875  0.000027\n",
       "IT中心测试      0.10625    0.01250  0.000009"
      ]
     },
     "execution_count": 34,
     "metadata": {},
     "output_type": "execute_result"
    }
   ],
   "source": [
    "min_max = k_data.apply(lambda x: (x - np.min(x)) / (np.max(x) - np.min(x)))\n",
    "min_max.head()"
   ]
  },
  {
   "cell_type": "code",
   "execution_count": 35,
   "metadata": {},
   "outputs": [],
   "source": [
    "# min_max =(k_data-k_data.mean())/k_data.std()\n",
    "# min_max.head()"
   ]
  },
  {
   "cell_type": "code",
   "execution_count": 36,
   "metadata": {},
   "outputs": [],
   "source": [
    "min_max.columns = ['SR', 'SF', 'SM']"
   ]
  },
  {
   "cell_type": "code",
   "execution_count": 37,
   "metadata": {},
   "outputs": [
    {
     "data": {
      "image/png": "[encoded data removed]",
      "text/plain": [
       "<Figure size 432x288 with 1 Axes>"
      ]
     },
     "metadata": {
      "needs_background": "light"
     },
     "output_type": "display_data"
    }
   ],
   "source": [
    "K = range(1,15)\n",
    "GSSE = []\n",
    "for k in K:\n",
    "    SSE = []\n",
    "    kmeans = KMeans(n_clusters=k, random_state=10)\n",
    "    kmeans.fit(min_max)\n",
    "    labels = kmeans.labels_\n",
    "    centers = kmeans.cluster_centers_\n",
    "    SSE.append(kmeans.inertia_)\n",
    "    GSSE.append(np.sum(SSE))\n",
    "\n",
    "# kmeans.inertia_ : 计算点到簇中心的距离\n",
    "\n",
    "# 绘制K的个数与GSSE的关系\n",
    "plt.plot(K, GSSE, 'b*-')\n",
    "plt.xlabel('聚类个数')\n",
    "plt.ylabel('簇内离差平方和')\n",
    "plt.title('选择最优的聚类个数')\n",
    "plt.show()"
   ]
  },
  {
   "cell_type": "code",
   "execution_count": 38,
   "metadata": {},
   "outputs": [
    {
     "name": "stdout",
     "output_type": "stream",
     "text": [
      "[24632.34083480209, 10973.216323355957, 5016.403693620765, 3018.277391863767, 2155.684161403227, 1509.4999150341225, 1230.8135334988033, 960.3969865239991, 829.6086533821741, 706.0338208548993, 629.4645414650795, 564.651851171049, 512.432081685306, 469.9032179490151]\n"
     ]
    }
   ],
   "source": [
    "print(GSSE)"
   ]
  },
  {
   "cell_type": "code",
   "execution_count": 39,
   "metadata": {},
   "outputs": [
    {
     "data": {
      "text/plain": [
       "KMeans(algorithm='auto', copy_x=True, init='k-means++', max_iter=300,\n",
       "    n_clusters=8, n_init=10, n_jobs=1, precompute_distances='auto',\n",
       "    random_state=21, tol=0.0001, verbose=0)"
      ]
     },
     "execution_count": 39,
     "metadata": {},
     "output_type": "execute_result"
    }
   ],
   "source": [
    "num_clusters = 8\n",
    "kmeans = KMeans(n_clusters=num_clusters, random_state=21)\n",
    "kmeans.fit(min_max)"
   ]
  },
  {
   "cell_type": "code",
   "execution_count": 40,
   "metadata": {},
   "outputs": [],
   "source": [
    "k_data['cluster'] = kmeans.labels_ + 1"
   ]
  },
  {
   "cell_type": "code",
   "execution_count": 41,
   "metadata": {},
   "outputs": [
    {
     "data": {
      "text/html": [
       "<div>\n",
       "<style scoped>\n",
       "    .dataframe tbody tr th:only-of-type {\n",
       "        vertical-align: middle;\n",
       "    }\n",
       "\n",
       "    .dataframe tbody tr th {\n",
       "        vertical-align: top;\n",
       "    }\n",
       "\n",
       "    .dataframe thead th {\n",
       "        text-align: right;\n",
       "    }\n",
       "</style>\n",
       "<table border=\"1\" class=\"dataframe\">\n",
       "  <thead>\n",
       "    <tr style=\"text-align: right;\">\n",
       "      <th></th>\n",
       "      <th>cluster</th>\n",
       "      <th>数量</th>\n",
       "      <th>客户类型占比</th>\n",
       "      <th>运费</th>\n",
       "      <th>运费占比</th>\n",
       "    </tr>\n",
       "    <tr>\n",
       "      <th>cluster</th>\n",
       "      <th></th>\n",
       "      <th></th>\n",
       "      <th></th>\n",
       "      <th></th>\n",
       "      <th></th>\n",
       "    </tr>\n",
       "  </thead>\n",
       "  <tbody>\n",
       "    <tr>\n",
       "      <th>1</th>\n",
       "      <td>1</td>\n",
       "      <td>29299</td>\n",
       "      <td>13.11%</td>\n",
       "      <td>6.372740e+07</td>\n",
       "      <td>1.71%</td>\n",
       "    </tr>\n",
       "    <tr>\n",
       "      <th>2</th>\n",
       "      <td>2</td>\n",
       "      <td>21673</td>\n",
       "      <td>9.7%</td>\n",
       "      <td>4.653501e+08</td>\n",
       "      <td>12.51%</td>\n",
       "    </tr>\n",
       "    <tr>\n",
       "      <th>3</th>\n",
       "      <td>3</td>\n",
       "      <td>21696</td>\n",
       "      <td>9.71%</td>\n",
       "      <td>2.461427e+07</td>\n",
       "      <td>0.66%</td>\n",
       "    </tr>\n",
       "    <tr>\n",
       "      <th>4</th>\n",
       "      <td>4</td>\n",
       "      <td>11997</td>\n",
       "      <td>5.37%</td>\n",
       "      <td>7.088937e+08</td>\n",
       "      <td>19.06%</td>\n",
       "    </tr>\n",
       "    <tr>\n",
       "      <th>5</th>\n",
       "      <td>5</td>\n",
       "      <td>67565</td>\n",
       "      <td>30.23%</td>\n",
       "      <td>2.408134e+08</td>\n",
       "      <td>6.47%</td>\n",
       "    </tr>\n",
       "    <tr>\n",
       "      <th>6</th>\n",
       "      <td>6</td>\n",
       "      <td>24978</td>\n",
       "      <td>11.18%</td>\n",
       "      <td>3.702123e+07</td>\n",
       "      <td>1.0%</td>\n",
       "    </tr>\n",
       "    <tr>\n",
       "      <th>7</th>\n",
       "      <td>7</td>\n",
       "      <td>9256</td>\n",
       "      <td>4.14%</td>\n",
       "      <td>2.096393e+09</td>\n",
       "      <td>56.35%</td>\n",
       "    </tr>\n",
       "    <tr>\n",
       "      <th>8</th>\n",
       "      <td>8</td>\n",
       "      <td>37037</td>\n",
       "      <td>16.57%</td>\n",
       "      <td>8.323713e+07</td>\n",
       "      <td>2.24%</td>\n",
       "    </tr>\n",
       "  </tbody>\n",
       "</table>\n",
       "</div>"
      ],
      "text/plain": [
       "         cluster     数量  客户类型占比            运费    运费占比\n",
       "cluster                                              \n",
       "1              1  29299  13.11%  6.372740e+07   1.71%\n",
       "2              2  21673    9.7%  4.653501e+08  12.51%\n",
       "3              3  21696   9.71%  2.461427e+07   0.66%\n",
       "4              4  11997   5.37%  7.088937e+08  19.06%\n",
       "5              5  67565  30.23%  2.408134e+08   6.47%\n",
       "6              6  24978  11.18%  3.702123e+07    1.0%\n",
       "7              7   9256   4.14%  2.096393e+09  56.35%\n",
       "8              8  37037  16.57%  8.323713e+07   2.24%"
      ]
     },
     "execution_count": 41,
     "metadata": {},
     "output_type": "execute_result"
    }
   ],
   "source": [
    "rfm_data['cluster']=k_data[\"cluster\"]\n",
    "rfm_data['cluster'] = rfm_data['cluster']\n",
    "# 计算每个类别的数据量\n",
    "kmeans_c1 = list(k_data[\"cluster\"].value_counts().sort_index())\n",
    "\n",
    "# 计算每个类别所占的百分比\n",
    "kmeans_c2 = list(k_data[\"cluster\"].value_counts().sort_index() / len(k_data) * 100)\n",
    "kmeans_c3 = (list(map(lambda x: str(round(x, 2)) + \"%\", kmeans_c2)))\n",
    "\n",
    "# 每个类别金额占比\n",
    "kmeans_sum = k_data['monetary'].groupby(k_data['cluster']).sum()\n",
    "kmeans_percent = kmeans_sum/k_data['monetary'].sum() * 100\n",
    "kmeans_c4 = kmeans_percent.map(lambda x : str(round(x, 2)) + \"%\")\n",
    "\n",
    "kmeans_c = pd.DataFrame({\"cluster\": range(1, len(kmeans_c1) + 1), \"数量\": kmeans_c1, \"客户类型占比\": kmeans_c3, \"运费\" : kmeans_sum, \"运费占比\" : kmeans_c4})\n",
    "kmeans_c"
   ]
  },
  {
   "cell_type": "code",
   "execution_count": 42,
   "metadata": {},
   "outputs": [
    {
     "data": {
      "text/html": [
       "<div>\n",
       "<style scoped>\n",
       "    .dataframe tbody tr th:only-of-type {\n",
       "        vertical-align: middle;\n",
       "    }\n",
       "\n",
       "    .dataframe tbody tr th {\n",
       "        vertical-align: top;\n",
       "    }\n",
       "\n",
       "    .dataframe thead th {\n",
       "        text-align: right;\n",
       "    }\n",
       "</style>\n",
       "<table border=\"1\" class=\"dataframe\">\n",
       "  <thead>\n",
       "    <tr style=\"text-align: right;\">\n",
       "      <th></th>\n",
       "      <th>recency</th>\n",
       "      <th>frequency</th>\n",
       "      <th>monetary</th>\n",
       "      <th>R_S</th>\n",
       "      <th>F_S</th>\n",
       "      <th>M_S</th>\n",
       "      <th>R_label</th>\n",
       "      <th>F_label</th>\n",
       "      <th>M_label</th>\n",
       "      <th>rfm</th>\n",
       "      <th>custom</th>\n",
       "      <th>cluster</th>\n",
       "    </tr>\n",
       "    <tr>\n",
       "      <th>company</th>\n",
       "      <th></th>\n",
       "      <th></th>\n",
       "      <th></th>\n",
       "      <th></th>\n",
       "      <th></th>\n",
       "      <th></th>\n",
       "      <th></th>\n",
       "      <th></th>\n",
       "      <th></th>\n",
       "      <th></th>\n",
       "      <th></th>\n",
       "      <th></th>\n",
       "    </tr>\n",
       "  </thead>\n",
       "  <tbody>\n",
       "    <tr>\n",
       "      <th>01个人刘健</th>\n",
       "      <td>65</td>\n",
       "      <td>2</td>\n",
       "      <td>669.0</td>\n",
       "      <td>3</td>\n",
       "      <td>2</td>\n",
       "      <td>2</td>\n",
       "      <td>1</td>\n",
       "      <td>0</td>\n",
       "      <td>0</td>\n",
       "      <td>100</td>\n",
       "      <td>一般发展客户</td>\n",
       "      <td>8</td>\n",
       "    </tr>\n",
       "    <tr>\n",
       "      <th>3M苏州</th>\n",
       "      <td>82</td>\n",
       "      <td>8</td>\n",
       "      <td>4452.5</td>\n",
       "      <td>2</td>\n",
       "      <td>4</td>\n",
       "      <td>4</td>\n",
       "      <td>0</td>\n",
       "      <td>0</td>\n",
       "      <td>0</td>\n",
       "      <td>000</td>\n",
       "      <td>一般挽留客户</td>\n",
       "      <td>8</td>\n",
       "    </tr>\n",
       "    <tr>\n",
       "      <th>TCL王牌电器成都</th>\n",
       "      <td>85</td>\n",
       "      <td>1</td>\n",
       "      <td>110.0</td>\n",
       "      <td>2</td>\n",
       "      <td>1</td>\n",
       "      <td>1</td>\n",
       "      <td>0</td>\n",
       "      <td>0</td>\n",
       "      <td>0</td>\n",
       "      <td>000</td>\n",
       "      <td>一般挽留客户</td>\n",
       "      <td>8</td>\n",
       "    </tr>\n",
       "    <tr>\n",
       "      <th>三亚个人李子敬</th>\n",
       "      <td>75</td>\n",
       "      <td>1</td>\n",
       "      <td>520.0</td>\n",
       "      <td>3</td>\n",
       "      <td>1</td>\n",
       "      <td>2</td>\n",
       "      <td>1</td>\n",
       "      <td>0</td>\n",
       "      <td>0</td>\n",
       "      <td>100</td>\n",
       "      <td>一般发展客户</td>\n",
       "      <td>8</td>\n",
       "    </tr>\n",
       "    <tr>\n",
       "      <th>三亚个人王宗杰</th>\n",
       "      <td>58</td>\n",
       "      <td>1</td>\n",
       "      <td>600.0</td>\n",
       "      <td>3</td>\n",
       "      <td>1</td>\n",
       "      <td>2</td>\n",
       "      <td>1</td>\n",
       "      <td>0</td>\n",
       "      <td>0</td>\n",
       "      <td>100</td>\n",
       "      <td>一般发展客户</td>\n",
       "      <td>8</td>\n",
       "    </tr>\n",
       "  </tbody>\n",
       "</table>\n",
       "</div>"
      ],
      "text/plain": [
       "           recency  frequency  monetary R_S F_S M_S  R_label  F_label  \\\n",
       "company                                                                 \n",
       "01个人刘健          65          2     669.0   3   2   2        1        0   \n",
       "3M苏州            82          8    4452.5   2   4   4        0        0   \n",
       "TCL王牌电器成都       85          1     110.0   2   1   1        0        0   \n",
       "三亚个人李子敬         75          1     520.0   3   1   2        1        0   \n",
       "三亚个人王宗杰         58          1     600.0   3   1   2        1        0   \n",
       "\n",
       "           M_label  rfm  custom  cluster  \n",
       "company                                   \n",
       "01个人刘健           0  100  一般发展客户        8  \n",
       "3M苏州             0  000  一般挽留客户        8  \n",
       "TCL王牌电器成都        0  000  一般挽留客户        8  \n",
       "三亚个人李子敬          0  100  一般发展客户        8  \n",
       "三亚个人王宗杰          0  100  一般发展客户        8  "
      ]
     },
     "execution_count": 42,
     "metadata": {},
     "output_type": "execute_result"
    }
   ],
   "source": [
    "rfm_data[rfm_data['cluster'] == 8].head()"
   ]
  },
  {
   "cell_type": "code",
   "execution_count": 43,
   "metadata": {},
   "outputs": [
    {
     "data": {
      "text/plain": [
       "一般发展客户    25353\n",
       "一般挽留客户    10029\n",
       "一般价值客户      850\n",
       "一般保持客户      254\n",
       "重要发展客户      242\n",
       "重要价值客户      169\n",
       "重要保持客户       78\n",
       "重要挽留客户       62\n",
       "Name: custom, dtype: int64"
      ]
     },
     "execution_count": 43,
     "metadata": {},
     "output_type": "execute_result"
    }
   ],
   "source": [
    "rfm_data.loc[rfm_data['cluster'] == 8]['custom'].value_counts()"
   ]
  },
  {
   "cell_type": "code",
   "execution_count": 44,
   "metadata": {},
   "outputs": [
    {
     "data": {
      "text/html": [
       "<div>\n",
       "<style scoped>\n",
       "    .dataframe tbody tr th:only-of-type {\n",
       "        vertical-align: middle;\n",
       "    }\n",
       "\n",
       "    .dataframe tbody tr th {\n",
       "        vertical-align: top;\n",
       "    }\n",
       "\n",
       "    .dataframe thead th {\n",
       "        text-align: right;\n",
       "    }\n",
       "</style>\n",
       "<table border=\"1\" class=\"dataframe\">\n",
       "  <thead>\n",
       "    <tr style=\"text-align: right;\">\n",
       "      <th></th>\n",
       "      <th>recency</th>\n",
       "      <th>frequency</th>\n",
       "      <th>monetary</th>\n",
       "      <th>R_S</th>\n",
       "      <th>F_S</th>\n",
       "      <th>M_S</th>\n",
       "      <th>R_label</th>\n",
       "      <th>F_label</th>\n",
       "      <th>M_label</th>\n",
       "      <th>rfm</th>\n",
       "      <th>custom</th>\n",
       "      <th>cluster</th>\n",
       "    </tr>\n",
       "    <tr>\n",
       "      <th>company</th>\n",
       "      <th></th>\n",
       "      <th></th>\n",
       "      <th></th>\n",
       "      <th></th>\n",
       "      <th></th>\n",
       "      <th></th>\n",
       "      <th></th>\n",
       "      <th></th>\n",
       "      <th></th>\n",
       "      <th></th>\n",
       "      <th></th>\n",
       "      <th></th>\n",
       "    </tr>\n",
       "  </thead>\n",
       "  <tbody>\n",
       "    <tr>\n",
       "      <th>上海个人皮文建</th>\n",
       "      <td>77</td>\n",
       "      <td>22</td>\n",
       "      <td>29889.8</td>\n",
       "      <td>2</td>\n",
       "      <td>5</td>\n",
       "      <td>5</td>\n",
       "      <td>1</td>\n",
       "      <td>1</td>\n",
       "      <td>1</td>\n",
       "      <td>111</td>\n",
       "      <td>重要价值客户</td>\n",
       "      <td>8</td>\n",
       "    </tr>\n",
       "    <tr>\n",
       "      <th>上海伊升机电</th>\n",
       "      <td>76</td>\n",
       "      <td>26</td>\n",
       "      <td>22117.1</td>\n",
       "      <td>3</td>\n",
       "      <td>5</td>\n",
       "      <td>5</td>\n",
       "      <td>1</td>\n",
       "      <td>1</td>\n",
       "      <td>1</td>\n",
       "      <td>111</td>\n",
       "      <td>重要价值客户</td>\n",
       "      <td>8</td>\n",
       "    </tr>\n",
       "    <tr>\n",
       "      <th>上海利汉</th>\n",
       "      <td>62</td>\n",
       "      <td>23</td>\n",
       "      <td>24392.5</td>\n",
       "      <td>3</td>\n",
       "      <td>5</td>\n",
       "      <td>5</td>\n",
       "      <td>1</td>\n",
       "      <td>1</td>\n",
       "      <td>1</td>\n",
       "      <td>111</td>\n",
       "      <td>重要价值客户</td>\n",
       "      <td>8</td>\n",
       "    </tr>\n",
       "    <tr>\n",
       "      <th>上海固牛</th>\n",
       "      <td>73</td>\n",
       "      <td>26</td>\n",
       "      <td>17976.4</td>\n",
       "      <td>3</td>\n",
       "      <td>5</td>\n",
       "      <td>5</td>\n",
       "      <td>1</td>\n",
       "      <td>1</td>\n",
       "      <td>1</td>\n",
       "      <td>111</td>\n",
       "      <td>重要价值客户</td>\n",
       "      <td>8</td>\n",
       "    </tr>\n",
       "    <tr>\n",
       "      <th>上海奥昌(闵行)</th>\n",
       "      <td>76</td>\n",
       "      <td>17</td>\n",
       "      <td>28142.4</td>\n",
       "      <td>3</td>\n",
       "      <td>4</td>\n",
       "      <td>5</td>\n",
       "      <td>1</td>\n",
       "      <td>1</td>\n",
       "      <td>1</td>\n",
       "      <td>111</td>\n",
       "      <td>重要价值客户</td>\n",
       "      <td>8</td>\n",
       "    </tr>\n",
       "  </tbody>\n",
       "</table>\n",
       "</div>"
      ],
      "text/plain": [
       "          recency  frequency  monetary R_S F_S M_S  R_label  F_label  M_label  \\\n",
       "company                                                                         \n",
       "上海个人皮文建        77         22   29889.8   2   5   5        1        1        1   \n",
       "上海伊升机电         76         26   22117.1   3   5   5        1        1        1   \n",
       "上海利汉           62         23   24392.5   3   5   5        1        1        1   \n",
       "上海固牛           73         26   17976.4   3   5   5        1        1        1   \n",
       "上海奥昌(闵行)       76         17   28142.4   3   4   5        1        1        1   \n",
       "\n",
       "          rfm  custom  cluster  \n",
       "company                         \n",
       "上海个人皮文建   111  重要价值客户        8  \n",
       "上海伊升机电    111  重要价值客户        8  \n",
       "上海利汉      111  重要价值客户        8  \n",
       "上海固牛      111  重要价值客户        8  \n",
       "上海奥昌(闵行)  111  重要价值客户        8  "
      ]
     },
     "execution_count": 44,
     "metadata": {},
     "output_type": "execute_result"
    }
   ],
   "source": [
    "a = rfm_data.loc[rfm_data['cluster'] == 8]\n",
    "a[a['custom'] == '重要价值客户'].head()"
   ]
  },
  {
   "cell_type": "code",
   "execution_count": 45,
   "metadata": {
    "scrolled": false
   },
   "outputs": [
    {
     "data": {
      "image/png": "[encoded data removed]",
      "text/plain": [
       "<Figure size 864x576 with 3 Axes>"
      ]
     },
     "metadata": {
      "needs_background": "light"
     },
     "output_type": "display_data"
    },
    {
     "data": {
      "image/png": "[encoded data removed]",
      "text/plain": [
       "<Figure size 864x576 with 3 Axes>"
      ]
     },
     "metadata": {
      "needs_background": "light"
     },
     "output_type": "display_data"
    },
    {
     "data": {
      "image/png": "[encoded data removed]",
      "text/plain": [
       "<Figure size 864x576 with 3 Axes>"
      ]
     },
     "metadata": {
      "needs_background": "light"
     },
     "output_type": "display_data"
    },
    {
     "data": {
      "image/png": "[encoded data removed]",
      "text/plain": [
       "<Figure size 864x576 with 3 Axes>"
      ]
     },
     "metadata": {
      "needs_background": "light"
     },
     "output_type": "display_data"
    },
    {
     "data": {
      "image/png": "[encoded data removed]",
      "text/plain": [
       "<Figure size 864x576 with 3 Axes>"
      ]
     },
     "metadata": {
      "needs_background": "light"
     },
     "output_type": "display_data"
    },
    {
     "data": {
      "image/png": "[encoded data removed]",
      "text/plain": [
       "<Figure size 864x576 with 3 Axes>"
      ]
     },
     "metadata": {
      "needs_background": "light"
     },
     "output_type": "display_data"
    },
    {
     "data": {
      "image/png": "[encoded data removed]",
      "text/plain": [
       "<Figure size 864x576 with 3 Axes>"
      ]
     },
     "metadata": {
      "needs_background": "light"
     },
     "output_type": "display_data"
    },
    {
     "data": {
      "image/png": "[encoded data removed]",
      "text/plain": [
       "<Figure size 864x576 with 3 Axes>"
      ]
     },
     "metadata": {
      "needs_background": "light"
     },
     "output_type": "display_data"
    }
   ],
   "source": [
    "plt.rcParams['font.sans-serif'] = ['SimHei']\n",
    "plt.rcParams['axes.unicode_minus'] = False\n",
    "for i in range(1,9):\n",
    "        cls=rfm_data.loc[rfm_data['cluster']==i, ['recency', 'frequency', 'monetary']]\n",
    "        cls.plot(kind='kde',subplots=True,sharex=False, figsize=(12,8))\n",
    "        plt.suptitle('聚类类别 = %d; 样本数 = %d' % (i, rfm_data[rfm_data['cluster'] == i]['cluster'].value_counts()))\n",
    "plt.legend()\n",
    "plt.show()"
   ]
  },
  {
   "cell_type": "markdown",
   "metadata": {},
   "source": [
    "### 降维可视化"
   ]
  },
  {
   "cell_type": "code",
   "execution_count": 46,
   "metadata": {},
   "outputs": [
    {
     "name": "stdout",
     "output_type": "stream",
     "text": [
      "<class 'sklearn.manifold.t_sne.TSNE'>\n"
     ]
    }
   ],
   "source": [
    "from sklearn.manifold import TSNE\n",
    "tsne = TSNE()\n",
    "tsne.fit_transform(min_max.reset_index(drop = True)) #进行数据降维\n",
    "print(type(tsne))\n",
    "tsne = pd.DataFrame(tsne.embedding_, index=min_max.index) #转换数据格式"
   ]
  },
  {
   "cell_type": "code",
   "execution_count": null,
   "metadata": {},
   "outputs": [],
   "source": [
    "for j in range(k):\n",
    "        d=tsne[rfm_data['cluster']==j]\n",
    "        plt.plot(d[0],d[1],'.')\n",
    "plt.show()"
   ]
  },
  {
   "cell_type": "code",
   "execution_count": null,
   "metadata": {},
   "outputs": [],
   "source": []
  },
  {
   "cell_type": "code",
   "execution_count": null,
   "metadata": {},
   "outputs": [],
   "source": []
  },
  {
   "cell_type": "code",
   "execution_count": null,
   "metadata": {},
   "outputs": [],
   "source": []
  },
  {
   "cell_type": "code",
   "execution_count": null,
   "metadata": {},
   "outputs": [],
   "source": []
  },
  {
   "cell_type": "code",
   "execution_count": null,
   "metadata": {},
   "outputs": [],
   "source": []
  },
  {
   "cell_type": "code",
   "execution_count": null,
   "metadata": {},
   "outputs": [],
   "source": []
  },
  {
   "cell_type": "code",
   "execution_count": null,
   "metadata": {},
   "outputs": [],
   "source": []
  },
  {
   "cell_type": "code",
   "execution_count": null,
   "metadata": {},
   "outputs": [],
   "source": []
  },
  {
   "cell_type": "code",
   "execution_count": null,
   "metadata": {},
   "outputs": [],
   "source": []
  },
  {
   "cell_type": "code",
   "execution_count": null,
   "metadata": {},
   "outputs": [],
   "source": []
  },
  {
   "cell_type": "code",
   "execution_count": null,
   "metadata": {},
   "outputs": [],
   "source": []
  },
  {
   "cell_type": "code",
   "execution_count": null,
   "metadata": {},
   "outputs": [],
   "source": []
  },
  {
   "cell_type": "code",
   "execution_count": null,
   "metadata": {},
   "outputs": [],
   "source": []
  },
  {
   "cell_type": "code",
   "execution_count": null,
   "metadata": {},
   "outputs": [],
   "source": []
  },
  {
   "cell_type": "code",
   "execution_count": null,
   "metadata": {},
   "outputs": [],
   "source": []
  }
 ],
 "metadata": {
  "kernelspec": {
   "display_name": "Python 3",
   "language": "python",
   "name": "python3"
  },
  "language_info": {
   "codemirror_mode": {
    "name": "ipython",
    "version": 3
   },
   "file_extension": ".py",
   "mimetype": "text/x-python",
   "name": "python",
   "nbconvert_exporter": "python",
   "pygments_lexer": "ipython3",
   "version": "3.7.0"
  }
 },
 "nbformat": 4,
 "nbformat_minor": 2
}
