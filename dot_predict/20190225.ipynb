{
 "cells": [
  {
   "cell_type": "code",
   "execution_count": 2,
   "metadata": {},
   "outputs": [],
   "source": [
    "import os\n",
    "import numpy as np\n",
    "import pandas as pd\n",
    "import matplotlib.pyplot as plt\n",
    "\n",
    "from matplotlib.pylab import rcParams\n",
    "import xgboost as xgb\n",
    "from xgboost import plot_importance\n",
    "import warnings\n",
    "\n",
    "import time\n",
    "import datetime\n",
    "warnings.filterwarnings('ignore')\n",
    "path = \"D:/program/program1/Cargo_forecast/dot_data_all/\""
   ]
  },
  {
   "cell_type": "markdown",
   "metadata": {},
   "source": [
    "### 加载数据"
   ]
  },
  {
   "cell_type": "code",
   "execution_count": 3,
   "metadata": {},
   "outputs": [],
   "source": [
    "dot_num1 = pd.read_csv(path + 'cst1.csv', header = None, names = ['order_date', 'dot', 'company', 'order_num'])\n",
    "dot_num2 = pd.read_csv(path + 'cst2.csv', header = None, names = ['order_date', 'dot', 'company', 'order_num'])"
   ]
  },
  {
   "cell_type": "code",
   "execution_count": 4,
   "metadata": {},
   "outputs": [],
   "source": [
    "dot_info = pd.read_csv(path + 'dot_1.csv', header = None, names = ['dot', 'check_date', 'dot_type', 'city_code', 'area', 'province', 'city', 'district', 'town', 'village'])"
   ]
  },
  {
   "cell_type": "code",
   "execution_count": 5,
   "metadata": {},
   "outputs": [
    {
     "data": {
      "text/html": [
       "<div>\n",
       "<style scoped>\n",
       "    .dataframe tbody tr th:only-of-type {\n",
       "        vertical-align: middle;\n",
       "    }\n",
       "\n",
       "    .dataframe tbody tr th {\n",
       "        vertical-align: top;\n",
       "    }\n",
       "\n",
       "    .dataframe thead th {\n",
       "        text-align: right;\n",
       "    }\n",
       "</style>\n",
       "<table border=\"1\" class=\"dataframe\">\n",
       "  <thead>\n",
       "    <tr style=\"text-align: right;\">\n",
       "      <th></th>\n",
       "      <th>dot</th>\n",
       "      <th>check_date</th>\n",
       "      <th>dot_type</th>\n",
       "      <th>city_code</th>\n",
       "      <th>area</th>\n",
       "      <th>province</th>\n",
       "      <th>city</th>\n",
       "      <th>district</th>\n",
       "      <th>town</th>\n",
       "      <th>village</th>\n",
       "    </tr>\n",
       "  </thead>\n",
       "  <tbody>\n",
       "    <tr>\n",
       "      <th>0</th>\n",
       "      <td>清江新下塘点部</td>\n",
       "      <td>2018-09-13</td>\n",
       "      <td>大点部</td>\n",
       "      <td>577</td>\n",
       "      <td>华东</td>\n",
       "      <td>浙江省</td>\n",
       "      <td>温州市</td>\n",
       "      <td>乐清市</td>\n",
       "      <td>城东街道</td>\n",
       "      <td>新下塘村</td>\n",
       "    </tr>\n",
       "    <tr>\n",
       "      <th>1</th>\n",
       "      <td>香洲洪湾点部</td>\n",
       "      <td>2018-08-13</td>\n",
       "      <td>大点部</td>\n",
       "      <td>756</td>\n",
       "      <td>华南</td>\n",
       "      <td>广东省</td>\n",
       "      <td>珠海市</td>\n",
       "      <td>香洲区</td>\n",
       "      <td>南屏镇</td>\n",
       "      <td>洪湾社区</td>\n",
       "    </tr>\n",
       "    <tr>\n",
       "      <th>2</th>\n",
       "      <td>贵阳三甫点部</td>\n",
       "      <td>2018-05-15</td>\n",
       "      <td>大点部</td>\n",
       "      <td>851</td>\n",
       "      <td>华北</td>\n",
       "      <td>贵州省</td>\n",
       "      <td>贵阳市</td>\n",
       "      <td>观山湖区</td>\n",
       "      <td>金华镇</td>\n",
       "      <td>三甫村</td>\n",
       "    </tr>\n",
       "    <tr>\n",
       "      <th>3</th>\n",
       "      <td>镇江大港点部</td>\n",
       "      <td>2018-05-10</td>\n",
       "      <td>大点部</td>\n",
       "      <td>511</td>\n",
       "      <td>华东</td>\n",
       "      <td>江苏省</td>\n",
       "      <td>镇江市</td>\n",
       "      <td>镇江新区</td>\n",
       "      <td>大路镇</td>\n",
       "      <td>大路村</td>\n",
       "    </tr>\n",
       "    <tr>\n",
       "      <th>4</th>\n",
       "      <td>三水竹山点部</td>\n",
       "      <td>2018-06-06</td>\n",
       "      <td>大点部</td>\n",
       "      <td>757</td>\n",
       "      <td>华南</td>\n",
       "      <td>广东省</td>\n",
       "      <td>佛山市</td>\n",
       "      <td>三水区</td>\n",
       "      <td>乐平镇</td>\n",
       "      <td>竹山村</td>\n",
       "    </tr>\n",
       "  </tbody>\n",
       "</table>\n",
       "</div>"
      ],
      "text/plain": [
       "       dot  check_date dot_type  city_code area province city district  town  \\\n",
       "0  清江新下塘点部  2018-09-13      大点部        577   华东      浙江省  温州市      乐清市  城东街道   \n",
       "1   香洲洪湾点部  2018-08-13      大点部        756   华南      广东省  珠海市      香洲区   南屏镇   \n",
       "2   贵阳三甫点部  2018-05-15      大点部        851   华北      贵州省  贵阳市     观山湖区   金华镇   \n",
       "3   镇江大港点部  2018-05-10      大点部        511   华东      江苏省  镇江市     镇江新区   大路镇   \n",
       "4   三水竹山点部  2018-06-06      大点部        757   华南      广东省  佛山市      三水区   乐平镇   \n",
       "\n",
       "  village  \n",
       "0    新下塘村  \n",
       "1    洪湾社区  \n",
       "2     三甫村  \n",
       "3     大路村  \n",
       "4     竹山村  "
      ]
     },
     "execution_count": 5,
     "metadata": {},
     "output_type": "execute_result"
    }
   ],
   "source": [
    "dot_info.head()"
   ]
  },
  {
   "cell_type": "code",
   "execution_count": 6,
   "metadata": {},
   "outputs": [],
   "source": [
    "dot_num = pd.concat([dot_num1, dot_num2], ignore_index = True)\n",
    "dot_num['order_date'] = [str(x)[0:4] +'-'+ str(x)[4:6] +'-'+ str(x)[6:] for x in dot_num['order_date']]\n",
    "dot_num['order_date'] = pd.to_datetime(dot_num['order_date'])"
   ]
  },
  {
   "cell_type": "code",
   "execution_count": 7,
   "metadata": {},
   "outputs": [
    {
     "data": {
      "text/plain": [
       "7345"
      ]
     },
     "execution_count": 7,
     "metadata": {},
     "output_type": "execute_result"
    }
   ],
   "source": [
    "len(dot_num['dot'].unique())"
   ]
  },
  {
   "cell_type": "code",
   "execution_count": 8,
   "metadata": {},
   "outputs": [
    {
     "data": {
      "text/plain": [
       "2642"
      ]
     },
     "execution_count": 8,
     "metadata": {},
     "output_type": "execute_result"
    }
   ],
   "source": [
    "len(dot_info['dot'].unique())"
   ]
  },
  {
   "cell_type": "markdown",
   "metadata": {},
   "source": [
    "### 筛选点部"
   ]
  },
  {
   "cell_type": "code",
   "execution_count": 9,
   "metadata": {},
   "outputs": [],
   "source": [
    "dot_data_tmp = dot_num[dot_num['dot'].isin(dot_info['dot'])]"
   ]
  },
  {
   "cell_type": "code",
   "execution_count": 10,
   "metadata": {},
   "outputs": [
    {
     "data": {
      "text/html": [
       "<div>\n",
       "<style scoped>\n",
       "    .dataframe tbody tr th:only-of-type {\n",
       "        vertical-align: middle;\n",
       "    }\n",
       "\n",
       "    .dataframe tbody tr th {\n",
       "        vertical-align: top;\n",
       "    }\n",
       "\n",
       "    .dataframe thead th {\n",
       "        text-align: right;\n",
       "    }\n",
       "</style>\n",
       "<table border=\"1\" class=\"dataframe\">\n",
       "  <thead>\n",
       "    <tr style=\"text-align: right;\">\n",
       "      <th></th>\n",
       "      <th>order_date</th>\n",
       "      <th>dot</th>\n",
       "      <th>company</th>\n",
       "      <th>order_num</th>\n",
       "    </tr>\n",
       "  </thead>\n",
       "  <tbody>\n",
       "    <tr>\n",
       "      <th>5977844</th>\n",
       "      <td>2018-11-12</td>\n",
       "      <td>相城洋沟娄点部</td>\n",
       "      <td>苏州怡阳</td>\n",
       "      <td>9983</td>\n",
       "    </tr>\n",
       "    <tr>\n",
       "      <th>7001755</th>\n",
       "      <td>2018-09-09</td>\n",
       "      <td>青浦纪王点部</td>\n",
       "      <td>苏州天阳蟹业</td>\n",
       "      <td>9316</td>\n",
       "    </tr>\n",
       "    <tr>\n",
       "      <th>7831388</th>\n",
       "      <td>2018-09-08</td>\n",
       "      <td>青浦纪王点部</td>\n",
       "      <td>苏州天阳蟹业</td>\n",
       "      <td>8773</td>\n",
       "    </tr>\n",
       "    <tr>\n",
       "      <th>8552765</th>\n",
       "      <td>2018-11-11</td>\n",
       "      <td>相城洋沟娄点部</td>\n",
       "      <td>苏州怡阳</td>\n",
       "      <td>8270</td>\n",
       "    </tr>\n",
       "    <tr>\n",
       "      <th>5280879</th>\n",
       "      <td>2018-09-23</td>\n",
       "      <td>相城洋沟娄点部</td>\n",
       "      <td>苏州怡阳</td>\n",
       "      <td>7712</td>\n",
       "    </tr>\n",
       "  </tbody>\n",
       "</table>\n",
       "</div>"
      ],
      "text/plain": [
       "        order_date      dot company  order_num\n",
       "5977844 2018-11-12  相城洋沟娄点部    苏州怡阳       9983\n",
       "7001755 2018-09-09   青浦纪王点部  苏州天阳蟹业       9316\n",
       "7831388 2018-09-08   青浦纪王点部  苏州天阳蟹业       8773\n",
       "8552765 2018-11-11  相城洋沟娄点部    苏州怡阳       8270\n",
       "5280879 2018-09-23  相城洋沟娄点部    苏州怡阳       7712"
      ]
     },
     "execution_count": 10,
     "metadata": {},
     "output_type": "execute_result"
    }
   ],
   "source": [
    "dot_data_tmp.sort_values(by = 'order_num', ascending = False).head()"
   ]
  },
  {
   "cell_type": "code",
   "execution_count": 129,
   "metadata": {},
   "outputs": [
    {
     "data": {
      "text/plain": [
       "<matplotlib.axes._subplots.AxesSubplot at 0x1ce08fbe7f0>"
      ]
     },
     "execution_count": 129,
     "metadata": {},
     "output_type": "execute_result"
    },
    {
     "data": {
      "image/png": "[encoded data removed]",
      "text/plain": [
       "<Figure size 432x288 with 1 Axes>"
      ]
     },
     "metadata": {
      "needs_background": "light"
     },
     "output_type": "display_data"
    }
   ],
   "source": [
    "dot_data_tmp['order_num'].hist(bins = 20, range = (0,100))"
   ]
  },
  {
   "cell_type": "code",
   "execution_count": 124,
   "metadata": {},
   "outputs": [
    {
     "data": {
      "text/plain": [
       "0.005837943652408437"
      ]
     },
     "execution_count": 124,
     "metadata": {},
     "output_type": "execute_result"
    }
   ],
   "source": [
    "len(dot_data_tmp[dot_data_tmp['order_num'] >40])/len(dot_data_tmp)"
   ]
  },
  {
   "cell_type": "code",
   "execution_count": 139,
   "metadata": {},
   "outputs": [
    {
     "data": {
      "text/plain": [
       "<matplotlib.axes._subplots.AxesSubplot at 0x1ce0a3aca58>"
      ]
     },
     "execution_count": 139,
     "metadata": {},
     "output_type": "execute_result"
    },
    {
     "data": {
      "image/png": "[encoded data removed]",
      "text/plain": [
       "<Figure size 1152x360 with 1 Axes>"
      ]
     },
     "metadata": {
      "needs_background": "light"
     },
     "output_type": "display_data"
    }
   ],
   "source": [
    "dot_data_tmp.index = dot_data_tmp['order_date']\n",
    "dot_data_tmp.loc[dot_data_tmp['dot'] == '石壁会江点部', ['order_num']].resample('D').sum().plot(figsize = (16,5))"
   ]
  },
  {
   "cell_type": "code",
   "execution_count": null,
   "metadata": {},
   "outputs": [],
   "source": [
    "# a1 = dot_data_tmp.loc[dot_data_tmp['dot'] == '相城洋沟娄点部', ['order_num']].resample('D').sum()\n",
    "# a1.describe()"
   ]
  },
  {
   "cell_type": "code",
   "execution_count": 9,
   "metadata": {},
   "outputs": [],
   "source": [
    "dot_data_tmp.loc[dot_data_tmp['order_num'] > 40, ['order_num']] = 1"
   ]
  },
  {
   "cell_type": "code",
   "execution_count": 141,
   "metadata": {},
   "outputs": [],
   "source": [
    "dot_data_tmp = dot_data_tmp.drop(['company'], axis = 1)"
   ]
  },
  {
   "cell_type": "code",
   "execution_count": 142,
   "metadata": {},
   "outputs": [],
   "source": [
    "dot_groupby = dot_data_tmp.groupby(['dot', 'order_date']).sum()\n",
    "dot_groupby.reset_index(inplace = True)"
   ]
  },
  {
   "cell_type": "code",
   "execution_count": 143,
   "metadata": {},
   "outputs": [
    {
     "data": {
      "text/html": [
       "<div>\n",
       "<style scoped>\n",
       "    .dataframe tbody tr th:only-of-type {\n",
       "        vertical-align: middle;\n",
       "    }\n",
       "\n",
       "    .dataframe tbody tr th {\n",
       "        vertical-align: top;\n",
       "    }\n",
       "\n",
       "    .dataframe thead th {\n",
       "        text-align: right;\n",
       "    }\n",
       "</style>\n",
       "<table border=\"1\" class=\"dataframe\">\n",
       "  <thead>\n",
       "    <tr style=\"text-align: right;\">\n",
       "      <th></th>\n",
       "      <th>dot</th>\n",
       "      <th>order_date</th>\n",
       "      <th>order_num</th>\n",
       "    </tr>\n",
       "  </thead>\n",
       "  <tbody>\n",
       "    <tr>\n",
       "      <th>341710</th>\n",
       "      <td>晋江华科点部</td>\n",
       "      <td>2019-02-08</td>\n",
       "      <td>11</td>\n",
       "    </tr>\n",
       "    <tr>\n",
       "      <th>28328</th>\n",
       "      <td>临平章家河点部</td>\n",
       "      <td>2019-02-08</td>\n",
       "      <td>6</td>\n",
       "    </tr>\n",
       "    <tr>\n",
       "      <th>341393</th>\n",
       "      <td>晋江华山点部</td>\n",
       "      <td>2019-02-08</td>\n",
       "      <td>18</td>\n",
       "    </tr>\n",
       "    <tr>\n",
       "      <th>535884</th>\n",
       "      <td>白云太和点部</td>\n",
       "      <td>2019-02-08</td>\n",
       "      <td>10</td>\n",
       "    </tr>\n",
       "    <tr>\n",
       "      <th>600331</th>\n",
       "      <td>绍兴柏舍点部</td>\n",
       "      <td>2019-02-08</td>\n",
       "      <td>19</td>\n",
       "    </tr>\n",
       "  </tbody>\n",
       "</table>\n",
       "</div>"
      ],
      "text/plain": [
       "            dot order_date  order_num\n",
       "341710   晋江华科点部 2019-02-08         11\n",
       "28328   临平章家河点部 2019-02-08          6\n",
       "341393   晋江华山点部 2019-02-08         18\n",
       "535884   白云太和点部 2019-02-08         10\n",
       "600331   绍兴柏舍点部 2019-02-08         19"
      ]
     },
     "execution_count": 143,
     "metadata": {},
     "output_type": "execute_result"
    }
   ],
   "source": [
    "dot_groupby.sort_values(by = 'order_date', inplace = True)\n",
    "dot_groupby.tail()"
   ]
  },
  {
   "cell_type": "code",
   "execution_count": 13,
   "metadata": {},
   "outputs": [],
   "source": [
    "dot_preprocessing = pd.DataFrame()\n",
    "for i, dot in enumerate(dot_groupby['dot'].unique()):\n",
    "    one_dot = dot_groupby.loc[dot_groupby['dot'] == dot]\n",
    "    check_time = dot_info.loc[dot_info['dot'] == dot, 'check_date']\n",
    "    one_dot = one_dot[one_dot['order_date'] > check_time.iloc[0]]\n",
    "    if len(one_dot) == 0:\n",
    "        continue\n",
    "    num_median = np.median(one_dot['order_num'])\n",
    "    \n",
    "    one_dot.index = one_dot['order_date']\n",
    "    one_dot_resample = one_dot.resample('D').asfreq()\n",
    "    one_dot_resample.drop(['order_date'], axis = 1, inplace = True)\n",
    "    one_dot_resample.reset_index(inplace = True)\n",
    "    one_dot_resample['dot'].fillna(dot, inplace = True)\n",
    "    one_dot_resample['order_num'].fillna(num_median, inplace = True)\n",
    "    one_dot_resample['dot_id'] = i + 1\n",
    "\n",
    "    dot_preprocessing = pd.concat([dot_preprocessing, one_dot_resample], axis = 0,ignore_index = True)"
   ]
  },
  {
   "cell_type": "code",
   "execution_count": 14,
   "metadata": {},
   "outputs": [
    {
     "data": {
      "text/html": [
       "<div>\n",
       "<style scoped>\n",
       "    .dataframe tbody tr th:only-of-type {\n",
       "        vertical-align: middle;\n",
       "    }\n",
       "\n",
       "    .dataframe tbody tr th {\n",
       "        vertical-align: top;\n",
       "    }\n",
       "\n",
       "    .dataframe thead th {\n",
       "        text-align: right;\n",
       "    }\n",
       "</style>\n",
       "<table border=\"1\" class=\"dataframe\">\n",
       "  <thead>\n",
       "    <tr style=\"text-align: right;\">\n",
       "      <th></th>\n",
       "      <th>order_date</th>\n",
       "      <th>dot</th>\n",
       "      <th>order_num</th>\n",
       "      <th>dot_id</th>\n",
       "    </tr>\n",
       "  </thead>\n",
       "  <tbody>\n",
       "    <tr>\n",
       "      <th>0</th>\n",
       "      <td>2017-01-14</td>\n",
       "      <td>桐乡凤鸣点部</td>\n",
       "      <td>58.0</td>\n",
       "      <td>1</td>\n",
       "    </tr>\n",
       "    <tr>\n",
       "      <th>1</th>\n",
       "      <td>2017-01-15</td>\n",
       "      <td>桐乡凤鸣点部</td>\n",
       "      <td>54.0</td>\n",
       "      <td>1</td>\n",
       "    </tr>\n",
       "    <tr>\n",
       "      <th>2</th>\n",
       "      <td>2017-01-16</td>\n",
       "      <td>桐乡凤鸣点部</td>\n",
       "      <td>67.0</td>\n",
       "      <td>1</td>\n",
       "    </tr>\n",
       "    <tr>\n",
       "      <th>3</th>\n",
       "      <td>2017-01-17</td>\n",
       "      <td>桐乡凤鸣点部</td>\n",
       "      <td>70.0</td>\n",
       "      <td>1</td>\n",
       "    </tr>\n",
       "    <tr>\n",
       "      <th>4</th>\n",
       "      <td>2017-01-18</td>\n",
       "      <td>桐乡凤鸣点部</td>\n",
       "      <td>67.0</td>\n",
       "      <td>1</td>\n",
       "    </tr>\n",
       "  </tbody>\n",
       "</table>\n",
       "</div>"
      ],
      "text/plain": [
       "  order_date     dot  order_num  dot_id\n",
       "0 2017-01-14  桐乡凤鸣点部       58.0       1\n",
       "1 2017-01-15  桐乡凤鸣点部       54.0       1\n",
       "2 2017-01-16  桐乡凤鸣点部       67.0       1\n",
       "3 2017-01-17  桐乡凤鸣点部       70.0       1\n",
       "4 2017-01-18  桐乡凤鸣点部       67.0       1"
      ]
     },
     "execution_count": 14,
     "metadata": {},
     "output_type": "execute_result"
    }
   ],
   "source": [
    "dot_preprocessing.head()"
   ]
  },
  {
   "cell_type": "code",
   "execution_count": 57,
   "metadata": {},
   "outputs": [
    {
     "data": {
      "text/plain": [
       "<matplotlib.axes._subplots.AxesSubplot at 0x156a3d99ef0>"
      ]
     },
     "execution_count": 57,
     "metadata": {},
     "output_type": "execute_result"
    },
    {
     "data": {
      "image/png": "[encoded data removed]",
      "text/plain": [
       "<Figure size 432x288 with 1 Axes>"
      ]
     },
     "metadata": {
      "needs_background": "light"
     },
     "output_type": "display_data"
    }
   ],
   "source": [
    "dot_preprocessing.loc[dot_preprocessing['dot'] == '青浦纪王点部',['order_num']].plot.box()  # 青浦纪王点部"
   ]
  },
  {
   "cell_type": "code",
   "execution_count": 63,
   "metadata": {},
   "outputs": [
    {
     "data": {
      "text/plain": [
       "<matplotlib.axes._subplots.AxesSubplot at 0x156a3910320>"
      ]
     },
     "execution_count": 63,
     "metadata": {},
     "output_type": "execute_result"
    },
    {
     "data": {
      "image/png": "[encoded data removed]",
      "text/plain": [
       "<Figure size 1152x360 with 1 Axes>"
      ]
     },
     "metadata": {
      "needs_background": "light"
     },
     "output_type": "display_data"
    }
   ],
   "source": [
    "dot_preprocessing.loc[dot_preprocessing['dot'] == '青浦纪王点部', ['order_num']].reset_index(drop=True).plot(figsize = (16, 5))"
   ]
  },
  {
   "cell_type": "code",
   "execution_count": 15,
   "metadata": {},
   "outputs": [
    {
     "data": {
      "text/html": [
       "<div>\n",
       "<style scoped>\n",
       "    .dataframe tbody tr th:only-of-type {\n",
       "        vertical-align: middle;\n",
       "    }\n",
       "\n",
       "    .dataframe tbody tr th {\n",
       "        vertical-align: top;\n",
       "    }\n",
       "\n",
       "    .dataframe thead th {\n",
       "        text-align: right;\n",
       "    }\n",
       "</style>\n",
       "<table border=\"1\" class=\"dataframe\">\n",
       "  <thead>\n",
       "    <tr style=\"text-align: right;\">\n",
       "      <th></th>\n",
       "      <th>order_date</th>\n",
       "      <th>dot</th>\n",
       "      <th>order_num</th>\n",
       "      <th>dot_id</th>\n",
       "    </tr>\n",
       "  </thead>\n",
       "  <tbody>\n",
       "    <tr>\n",
       "      <th>0</th>\n",
       "      <td>2017-01-14</td>\n",
       "      <td>桐乡凤鸣点部</td>\n",
       "      <td>4.077537</td>\n",
       "      <td>1</td>\n",
       "    </tr>\n",
       "    <tr>\n",
       "      <th>108416</th>\n",
       "      <td>2017-01-14</td>\n",
       "      <td>扬州槐泗点部</td>\n",
       "      <td>3.931826</td>\n",
       "      <td>181</td>\n",
       "    </tr>\n",
       "    <tr>\n",
       "      <th>107668</th>\n",
       "      <td>2017-01-14</td>\n",
       "      <td>青岛平度点部</td>\n",
       "      <td>1.386294</td>\n",
       "      <td>180</td>\n",
       "    </tr>\n",
       "    <tr>\n",
       "      <th>106918</th>\n",
       "      <td>2017-01-14</td>\n",
       "      <td>南昌高新点部</td>\n",
       "      <td>1.609438</td>\n",
       "      <td>179</td>\n",
       "    </tr>\n",
       "    <tr>\n",
       "      <th>106169</th>\n",
       "      <td>2017-01-14</td>\n",
       "      <td>长春二道点部</td>\n",
       "      <td>0.693147</td>\n",
       "      <td>178</td>\n",
       "    </tr>\n",
       "  </tbody>\n",
       "</table>\n",
       "</div>"
      ],
      "text/plain": [
       "       order_date     dot  order_num  dot_id\n",
       "0      2017-01-14  桐乡凤鸣点部   4.077537       1\n",
       "108416 2017-01-14  扬州槐泗点部   3.931826     181\n",
       "107668 2017-01-14  青岛平度点部   1.386294     180\n",
       "106918 2017-01-14  南昌高新点部   1.609438     179\n",
       "106169 2017-01-14  长春二道点部   0.693147     178"
      ]
     },
     "execution_count": 15,
     "metadata": {},
     "output_type": "execute_result"
    }
   ],
   "source": [
    "dot_prep = dot_preprocessing.copy()\n",
    "dot_prep['order_num'] = np.log1p(dot_prep['order_num'])\n",
    "dot_prep.sort_values(by = ['order_date'], inplace = True)\n",
    "dot_prep.head()"
   ]
  },
  {
   "cell_type": "code",
   "execution_count": 16,
   "metadata": {},
   "outputs": [
    {
     "data": {
      "text/html": [
       "<div>\n",
       "<style scoped>\n",
       "    .dataframe tbody tr th:only-of-type {\n",
       "        vertical-align: middle;\n",
       "    }\n",
       "\n",
       "    .dataframe tbody tr th {\n",
       "        vertical-align: top;\n",
       "    }\n",
       "\n",
       "    .dataframe thead th {\n",
       "        text-align: right;\n",
       "    }\n",
       "</style>\n",
       "<table border=\"1\" class=\"dataframe\">\n",
       "  <thead>\n",
       "    <tr style=\"text-align: right;\">\n",
       "      <th></th>\n",
       "      <th>dot</th>\n",
       "      <th>check_date</th>\n",
       "      <th>dot_type</th>\n",
       "      <th>city_code</th>\n",
       "      <th>area</th>\n",
       "      <th>province</th>\n",
       "      <th>city</th>\n",
       "      <th>district</th>\n",
       "      <th>town</th>\n",
       "      <th>village</th>\n",
       "      <th>order_date</th>\n",
       "      <th>order_num</th>\n",
       "      <th>dot_id</th>\n",
       "    </tr>\n",
       "  </thead>\n",
       "  <tbody>\n",
       "    <tr>\n",
       "      <th>0</th>\n",
       "      <td>清江新下塘点部</td>\n",
       "      <td>2018-09-13</td>\n",
       "      <td>大点部</td>\n",
       "      <td>577</td>\n",
       "      <td>华东</td>\n",
       "      <td>浙江省</td>\n",
       "      <td>温州市</td>\n",
       "      <td>乐清市</td>\n",
       "      <td>城东街道</td>\n",
       "      <td>新下塘村</td>\n",
       "      <td>2018-09-14</td>\n",
       "      <td>3.258097</td>\n",
       "      <td>1026.0</td>\n",
       "    </tr>\n",
       "    <tr>\n",
       "      <th>1</th>\n",
       "      <td>清江新下塘点部</td>\n",
       "      <td>2018-09-13</td>\n",
       "      <td>大点部</td>\n",
       "      <td>577</td>\n",
       "      <td>华东</td>\n",
       "      <td>浙江省</td>\n",
       "      <td>温州市</td>\n",
       "      <td>乐清市</td>\n",
       "      <td>城东街道</td>\n",
       "      <td>新下塘村</td>\n",
       "      <td>2018-09-15</td>\n",
       "      <td>3.332205</td>\n",
       "      <td>1026.0</td>\n",
       "    </tr>\n",
       "    <tr>\n",
       "      <th>2</th>\n",
       "      <td>清江新下塘点部</td>\n",
       "      <td>2018-09-13</td>\n",
       "      <td>大点部</td>\n",
       "      <td>577</td>\n",
       "      <td>华东</td>\n",
       "      <td>浙江省</td>\n",
       "      <td>温州市</td>\n",
       "      <td>乐清市</td>\n",
       "      <td>城东街道</td>\n",
       "      <td>新下塘村</td>\n",
       "      <td>2018-09-16</td>\n",
       "      <td>2.397895</td>\n",
       "      <td>1026.0</td>\n",
       "    </tr>\n",
       "    <tr>\n",
       "      <th>3</th>\n",
       "      <td>清江新下塘点部</td>\n",
       "      <td>2018-09-13</td>\n",
       "      <td>大点部</td>\n",
       "      <td>577</td>\n",
       "      <td>华东</td>\n",
       "      <td>浙江省</td>\n",
       "      <td>温州市</td>\n",
       "      <td>乐清市</td>\n",
       "      <td>城东街道</td>\n",
       "      <td>新下塘村</td>\n",
       "      <td>2018-09-17</td>\n",
       "      <td>2.833213</td>\n",
       "      <td>1026.0</td>\n",
       "    </tr>\n",
       "    <tr>\n",
       "      <th>4</th>\n",
       "      <td>清江新下塘点部</td>\n",
       "      <td>2018-09-13</td>\n",
       "      <td>大点部</td>\n",
       "      <td>577</td>\n",
       "      <td>华东</td>\n",
       "      <td>浙江省</td>\n",
       "      <td>温州市</td>\n",
       "      <td>乐清市</td>\n",
       "      <td>城东街道</td>\n",
       "      <td>新下塘村</td>\n",
       "      <td>2018-09-18</td>\n",
       "      <td>3.401197</td>\n",
       "      <td>1026.0</td>\n",
       "    </tr>\n",
       "  </tbody>\n",
       "</table>\n",
       "</div>"
      ],
      "text/plain": [
       "       dot  check_date dot_type  city_code area province city district  town  \\\n",
       "0  清江新下塘点部  2018-09-13      大点部        577   华东      浙江省  温州市      乐清市  城东街道   \n",
       "1  清江新下塘点部  2018-09-13      大点部        577   华东      浙江省  温州市      乐清市  城东街道   \n",
       "2  清江新下塘点部  2018-09-13      大点部        577   华东      浙江省  温州市      乐清市  城东街道   \n",
       "3  清江新下塘点部  2018-09-13      大点部        577   华东      浙江省  温州市      乐清市  城东街道   \n",
       "4  清江新下塘点部  2018-09-13      大点部        577   华东      浙江省  温州市      乐清市  城东街道   \n",
       "\n",
       "  village order_date  order_num  dot_id  \n",
       "0    新下塘村 2018-09-14   3.258097  1026.0  \n",
       "1    新下塘村 2018-09-15   3.332205  1026.0  \n",
       "2    新下塘村 2018-09-16   2.397895  1026.0  \n",
       "3    新下塘村 2018-09-17   2.833213  1026.0  \n",
       "4    新下塘村 2018-09-18   3.401197  1026.0  "
      ]
     },
     "execution_count": 16,
     "metadata": {},
     "output_type": "execute_result"
    }
   ],
   "source": [
    "dot_data = pd.merge(dot_info, dot_prep, how = 'left', on = 'dot')\n",
    "dot_data.head()"
   ]
  },
  {
   "cell_type": "code",
   "execution_count": 17,
   "metadata": {},
   "outputs": [],
   "source": [
    "dot_data.loc[dot_data['city'].isnull(), ['city']] = dot_data.loc[dot_data['city'].isnull(), ['province']].values\n",
    "dot_data.loc[dot_data['district'].isnull(), ['district']] = dot_data.loc[dot_data['district'].isnull(), ['city']].values"
   ]
  },
  {
   "cell_type": "code",
   "execution_count": 18,
   "metadata": {},
   "outputs": [],
   "source": [
    "dot_data.dropna(axis = 0, inplace = True)\n",
    "dot_data.sort_values(by = 'order_date', ascending = True, inplace = True)"
   ]
  },
  {
   "cell_type": "code",
   "execution_count": 19,
   "metadata": {},
   "outputs": [
    {
     "data": {
      "text/plain": [
       "2411"
      ]
     },
     "execution_count": 19,
     "metadata": {},
     "output_type": "execute_result"
    }
   ],
   "source": [
    "len(dot_data['dot'].unique())"
   ]
  },
  {
   "cell_type": "code",
   "execution_count": 20,
   "metadata": {},
   "outputs": [],
   "source": [
    "def time_feature(data):\n",
    "    # 时间\n",
    "    dot_prep_1 = data.copy()\n",
    "    \n",
    "    dot_prep_1['year'] = dot_prep_1.order_date.dt.year\n",
    "    dot_prep_1['month'] = dot_prep_1.order_date.dt.month\n",
    "    dot_prep_1['day'] = dot_prep_1.order_date.dt.day\n",
    "    dot_prep_1['dayofweek'] = dot_prep_1.order_date.dt.dayofweek\n",
    "    dot_prep_1['dayofyear'] = dot_prep_1.order_date.dt.dayofyear\n",
    "    dot_prep_1['weekofyear'] = dot_prep_1.order_date.dt.weekofyear\n",
    "    \n",
    "    weekofsun = pd.date_range('2017-12-01', periods = round(len(dot_prep_1['order_date'].unique())/7), freq = 'W-SUN')\n",
    "    dot_prep_1['weekofsun'] = 0\n",
    "    dot_prep_1.loc[dot_prep_1['order_date'].isin(weekofsun), ['weekofsun']] = 1\n",
    "    \n",
    "    dot_prep_1['holidays'] = 0\n",
    "    dot_prep_1.loc[dot_prep_1['order_date'].isin(\n",
    "    pd.to_datetime(['2017-01-01', '2018-01-01', '2019-01-01', '2020-01-01', '2021-01-01', '2017-01-23','2017-01-24', '2017-01-25',\n",
    "                    '2017-01-26','2017-01-27', '2017-01-28', '2017-01-29', '2017-01-30', '2017-01-31', '2017-02-01', '2017-02-02',\n",
    "                    '2017-02-03','2017-02-04','2018-02-12', '2018-02-13',  '2018-02-14','2018-02-15', '2018-02-16', '2018-02-17', \n",
    "                    '2018-02-18', '2018-02-19', '2018-02-20', '2018-02-21','2018-02-22','2018-02-23', '2018-02-24', '2019-02-01', \n",
    "                    '2019-02-02', '2019-02-03','2019-02-04', '2019-02-05', '2019-02-06', '2019-02-07', '2019-02-08', '2019-02-09', \n",
    "                    '2019-02-10', '2019-02-11', '2019-02-12', '2019-02-13','2017-04-02', '2017-04-03', '2017-04-04', '2018-04-05', \n",
    "                    '2018-04-06', '2018-04-07', '2019-04-05', '2019-04-06', '2019-04-07','2017-05-01', '2017-05-02', '2017-05-03', \n",
    "                    '2018-05-01', '2018-05-02', '2018-05-03', '2019-05-01', '2019-05-02', '2019-05-03','2017-05-30', '2018-06-18', \n",
    "                    '2019-06-07', '2017-10-04', '2018-09-22', '2018-09-23', '2018-09-24', '2019-09-13', '2019-09-14', '2019-09-15',\n",
    "                    '2017-10-01', '2017-10-02', '2017-10-03',  '2017-10-04', '2017-10-05', '2017-10-06', '2017-10-07','2018-10-01',\n",
    "                    '2018-10-02', '2018-10-03', '2018-10-04', '2018-10-05', '2018-10-06', '2018-10-07', '2019-10-01', '2019-10-02', \n",
    "                    '2019-10-03', '2019-10-04', '2019-10-05', '2019-10-06', '2019-10-07'])), ['holidays']] = 1\n",
    "    \n",
    "    return dot_prep_1\n",
    "\n",
    "def create_feature(data, all_dot):\n",
    "    dot_prep_1 = time_feature(data)\n",
    "    dot_prep_ts = data.copy()\n",
    "    dot_prep_ts.index = pd.to_datetime(dot_prep_ts['order_date'])\n",
    "    \n",
    "    dot_prep_2 = pd.DataFrame()\n",
    "    dot_prep_3 = pd.DataFrame()\n",
    "    for dot in all_dot:\n",
    "        dot_ts = dot_prep_ts.loc[dot_prep_ts['dot'] == dot, ['order_num']]\n",
    "        dot_ts.sort_index(ascending = True, inplace = True)\n",
    "        # lagging\n",
    "        lagging = pd.concat([dot_ts.shift(1), dot_ts.shift(2), dot_ts.shift(3), dot_ts.shift(4), dot_ts.shift(5), dot_ts.shift(6), dot_ts.shift(7)], axis = 1)\n",
    "        lagging.columns = ['lagging1', 'lagging2', 'lagging3', 'lagging4', 'lagging5', 'lagging6', 'lagging7']\n",
    "        lagging['dot'] = dot\n",
    "        lagging['order_date'] = dot_ts.index\n",
    "        lagging.dropna(axis = 0, inplace = True)\n",
    "        dot_prep_2 = pd.concat([dot_prep_2, lagging], axis = 0)\n",
    "        \n",
    "        # rolling\n",
    "        rolling = pd.concat([dot_ts.rolling(window = 3).mean(), dot_ts.rolling(window = 5).mean(), dot_ts.rolling(window = 7).mean()], axis = 1)\n",
    "        rolling.index = rolling.index + pd.DateOffset(days = 1)\n",
    "        rolling.columns = ['rolling3', 'rolling5', 'rolling7']\n",
    "        rolling['dot'] = dot\n",
    "        rolling['order_date'] = rolling.index\n",
    "        rolling.dropna(axis = 0, inplace = True)\n",
    "        dot_prep_3 = pd.concat([dot_prep_3, rolling], axis = 0)\n",
    "    dot_prep_2.reset_index(drop = True, inplace = True)\n",
    "    dot_prep_3.reset_index(drop = True, inplace = True)\n",
    "    \n",
    "    # merge\n",
    "    dot_prep_result_tmp = pd.merge(dot_prep_1, dot_prep_2, how = 'right', on = ['dot', 'order_date'])\n",
    "    dot_prep_result = pd.merge(dot_prep_result_tmp, dot_prep_3, how = 'left', on = ['dot', 'order_date'])\n",
    "    dot_prep_result.sort_values(by = 'order_date', ascending = True, inplace = True)\n",
    "#     dot_prep_result.drop(['dot', 'order_date'], axis = 1, inplace = True)\n",
    "    \n",
    "    return dot_prep_result"
   ]
  },
  {
   "cell_type": "code",
   "execution_count": 21,
   "metadata": {},
   "outputs": [
    {
     "name": "stdout",
     "output_type": "stream",
     "text": [
      "START:  2019-02-25 18:00:40\n",
      "END:  2019-02-25 18:04:24\n"
     ]
    }
   ],
   "source": [
    "print(\"START: \",datetime.datetime.now().strftime(\"%Y-%m-%d %H:%M:%S\"))\n",
    "all_dot = dot_data['dot'].unique()\n",
    "dot_prep_feature = create_feature(dot_data, all_dot)\n",
    "print(\"END: \",datetime.datetime.now().strftime(\"%Y-%m-%d %H:%M:%S\"))"
   ]
  },
  {
   "cell_type": "markdown",
   "metadata": {},
   "source": [
    "dot_prep_feature.to_csv(path + \"dot_prep_feature.csv\", encoding = 'GBK')"
   ]
  },
  {
   "cell_type": "code",
   "execution_count": 22,
   "metadata": {},
   "outputs": [
    {
     "data": {
      "text/html": [
       "<div>\n",
       "<style scoped>\n",
       "    .dataframe tbody tr th:only-of-type {\n",
       "        vertical-align: middle;\n",
       "    }\n",
       "\n",
       "    .dataframe tbody tr th {\n",
       "        vertical-align: top;\n",
       "    }\n",
       "\n",
       "    .dataframe thead th {\n",
       "        text-align: right;\n",
       "    }\n",
       "</style>\n",
       "<table border=\"1\" class=\"dataframe\">\n",
       "  <thead>\n",
       "    <tr style=\"text-align: right;\">\n",
       "      <th></th>\n",
       "      <th>dot</th>\n",
       "      <th>dot_type</th>\n",
       "      <th>city_code</th>\n",
       "      <th>area</th>\n",
       "      <th>province</th>\n",
       "      <th>order_date</th>\n",
       "      <th>order_num</th>\n",
       "      <th>dot_id</th>\n",
       "      <th>year</th>\n",
       "      <th>month</th>\n",
       "      <th>...</th>\n",
       "      <th>lagging1</th>\n",
       "      <th>lagging2</th>\n",
       "      <th>lagging3</th>\n",
       "      <th>lagging4</th>\n",
       "      <th>lagging5</th>\n",
       "      <th>lagging6</th>\n",
       "      <th>lagging7</th>\n",
       "      <th>rolling3</th>\n",
       "      <th>rolling5</th>\n",
       "      <th>rolling7</th>\n",
       "    </tr>\n",
       "  </thead>\n",
       "  <tbody>\n",
       "    <tr>\n",
       "      <th>0</th>\n",
       "      <td>闵行吴泾点部</td>\n",
       "      <td>小点部</td>\n",
       "      <td>21</td>\n",
       "      <td>华东</td>\n",
       "      <td>上海</td>\n",
       "      <td>2017-01-21</td>\n",
       "      <td>1.386294</td>\n",
       "      <td>222.0</td>\n",
       "      <td>2017</td>\n",
       "      <td>1</td>\n",
       "      <td>...</td>\n",
       "      <td>1.945910</td>\n",
       "      <td>3.295837</td>\n",
       "      <td>2.397895</td>\n",
       "      <td>2.772589</td>\n",
       "      <td>2.995732</td>\n",
       "      <td>0.693147</td>\n",
       "      <td>2.484907</td>\n",
       "      <td>2.546547</td>\n",
       "      <td>2.681593</td>\n",
       "      <td>2.369431</td>\n",
       "    </tr>\n",
       "    <tr>\n",
       "      <th>100</th>\n",
       "      <td>昆明机场点部</td>\n",
       "      <td>航空组</td>\n",
       "      <td>871</td>\n",
       "      <td>华北</td>\n",
       "      <td>云南省</td>\n",
       "      <td>2017-01-21</td>\n",
       "      <td>1.791759</td>\n",
       "      <td>78.0</td>\n",
       "      <td>2017</td>\n",
       "      <td>1</td>\n",
       "      <td>...</td>\n",
       "      <td>1.386294</td>\n",
       "      <td>0.693147</td>\n",
       "      <td>1.609438</td>\n",
       "      <td>1.098612</td>\n",
       "      <td>2.079442</td>\n",
       "      <td>0.693147</td>\n",
       "      <td>0.693147</td>\n",
       "      <td>1.229626</td>\n",
       "      <td>1.373387</td>\n",
       "      <td>1.179033</td>\n",
       "    </tr>\n",
       "    <tr>\n",
       "      <th>99</th>\n",
       "      <td>沙井和一点部</td>\n",
       "      <td>大点部</td>\n",
       "      <td>755</td>\n",
       "      <td>华南</td>\n",
       "      <td>广东省</td>\n",
       "      <td>2017-01-21</td>\n",
       "      <td>4.262680</td>\n",
       "      <td>15.0</td>\n",
       "      <td>2017</td>\n",
       "      <td>1</td>\n",
       "      <td>...</td>\n",
       "      <td>4.852030</td>\n",
       "      <td>5.351858</td>\n",
       "      <td>4.941642</td>\n",
       "      <td>5.049856</td>\n",
       "      <td>5.262690</td>\n",
       "      <td>4.394449</td>\n",
       "      <td>4.890349</td>\n",
       "      <td>5.048510</td>\n",
       "      <td>5.091615</td>\n",
       "      <td>4.963268</td>\n",
       "    </tr>\n",
       "    <tr>\n",
       "      <th>98</th>\n",
       "      <td>济南高新点部</td>\n",
       "      <td>大点部</td>\n",
       "      <td>531</td>\n",
       "      <td>华北</td>\n",
       "      <td>山东省</td>\n",
       "      <td>2017-01-21</td>\n",
       "      <td>1.386294</td>\n",
       "      <td>240.0</td>\n",
       "      <td>2017</td>\n",
       "      <td>1</td>\n",
       "      <td>...</td>\n",
       "      <td>2.397895</td>\n",
       "      <td>1.791759</td>\n",
       "      <td>1.609438</td>\n",
       "      <td>1.945910</td>\n",
       "      <td>1.791759</td>\n",
       "      <td>0.693147</td>\n",
       "      <td>1.791759</td>\n",
       "      <td>1.933031</td>\n",
       "      <td>1.907352</td>\n",
       "      <td>1.717381</td>\n",
       "    </tr>\n",
       "    <tr>\n",
       "      <th>97</th>\n",
       "      <td>园区亭东点部</td>\n",
       "      <td>大点部</td>\n",
       "      <td>512</td>\n",
       "      <td>华东</td>\n",
       "      <td>江苏省</td>\n",
       "      <td>2017-01-21</td>\n",
       "      <td>2.397895</td>\n",
       "      <td>199.0</td>\n",
       "      <td>2017</td>\n",
       "      <td>1</td>\n",
       "      <td>...</td>\n",
       "      <td>3.555348</td>\n",
       "      <td>3.663562</td>\n",
       "      <td>3.496508</td>\n",
       "      <td>3.496508</td>\n",
       "      <td>3.465736</td>\n",
       "      <td>1.609438</td>\n",
       "      <td>2.890372</td>\n",
       "      <td>3.571806</td>\n",
       "      <td>3.535532</td>\n",
       "      <td>3.168210</td>\n",
       "    </tr>\n",
       "  </tbody>\n",
       "</table>\n",
       "<p>5 rows × 26 columns</p>\n",
       "</div>"
      ],
      "text/plain": [
       "        dot dot_type  city_code area province order_date  order_num  dot_id  \\\n",
       "0    闵行吴泾点部      小点部         21   华东       上海 2017-01-21   1.386294   222.0   \n",
       "100  昆明机场点部      航空组        871   华北      云南省 2017-01-21   1.791759    78.0   \n",
       "99   沙井和一点部      大点部        755   华南      广东省 2017-01-21   4.262680    15.0   \n",
       "98   济南高新点部      大点部        531   华北      山东省 2017-01-21   1.386294   240.0   \n",
       "97   园区亭东点部      大点部        512   华东      江苏省 2017-01-21   2.397895   199.0   \n",
       "\n",
       "     year  month    ...     lagging1  lagging2  lagging3  lagging4  lagging5  \\\n",
       "0    2017      1    ...     1.945910  3.295837  2.397895  2.772589  2.995732   \n",
       "100  2017      1    ...     1.386294  0.693147  1.609438  1.098612  2.079442   \n",
       "99   2017      1    ...     4.852030  5.351858  4.941642  5.049856  5.262690   \n",
       "98   2017      1    ...     2.397895  1.791759  1.609438  1.945910  1.791759   \n",
       "97   2017      1    ...     3.555348  3.663562  3.496508  3.496508  3.465736   \n",
       "\n",
       "     lagging6  lagging7  rolling3  rolling5  rolling7  \n",
       "0    0.693147  2.484907  2.546547  2.681593  2.369431  \n",
       "100  0.693147  0.693147  1.229626  1.373387  1.179033  \n",
       "99   4.394449  4.890349  5.048510  5.091615  4.963268  \n",
       "98   0.693147  1.791759  1.933031  1.907352  1.717381  \n",
       "97   1.609438  2.890372  3.571806  3.535532  3.168210  \n",
       "\n",
       "[5 rows x 26 columns]"
      ]
     },
     "execution_count": 22,
     "metadata": {},
     "output_type": "execute_result"
    }
   ],
   "source": [
    "dot_res_tmp = dot_prep_feature.drop(['check_date', 'city', 'district', 'town', 'village'], axis = 1)\n",
    "dot_res_tmp.head()"
   ]
  },
  {
   "cell_type": "code",
   "execution_count": 23,
   "metadata": {},
   "outputs": [],
   "source": [
    "# 统计特征\n",
    "dot_prep_sta = dot_res_tmp.copy()\n",
    "dot_prep_dayofweek = dot_prep_sta.groupby(['dot', 'dayofweek'])['order_num'].agg([('week_mean', np.mean), ('week_median', np.median), ('week_min', np.min), ('week_max', np.max), ('week_std', np.std)]).reset_index()\n",
    "dot_prep_day = dot_prep_sta.groupby(['dot', 'day'])['order_num'].agg([('day_mean', np.mean), ('day_median', np.median), ('day_min', np.min), ('day_max', np.max), ('day_std', np.std)]).reset_index()\n",
    "\n",
    "dot_prep_tmp = pd.merge(dot_prep_sta, dot_prep_dayofweek, on = ['dot', 'dayofweek'], how = 'left')\n",
    "dot_prep_stas = pd.merge(dot_prep_tmp, dot_prep_day, on = ['dot', 'day'], how = 'left')"
   ]
  },
  {
   "cell_type": "code",
   "execution_count": 24,
   "metadata": {},
   "outputs": [
    {
     "data": {
      "text/html": [
       "<div>\n",
       "<style scoped>\n",
       "    .dataframe tbody tr th:only-of-type {\n",
       "        vertical-align: middle;\n",
       "    }\n",
       "\n",
       "    .dataframe tbody tr th {\n",
       "        vertical-align: top;\n",
       "    }\n",
       "\n",
       "    .dataframe thead th {\n",
       "        text-align: right;\n",
       "    }\n",
       "</style>\n",
       "<table border=\"1\" class=\"dataframe\">\n",
       "  <thead>\n",
       "    <tr style=\"text-align: right;\">\n",
       "      <th></th>\n",
       "      <th>dot</th>\n",
       "      <th>city_code</th>\n",
       "      <th>order_date</th>\n",
       "      <th>order_num</th>\n",
       "      <th>dot_id</th>\n",
       "      <th>year</th>\n",
       "      <th>month</th>\n",
       "      <th>day</th>\n",
       "      <th>dayofweek</th>\n",
       "      <th>dayofyear</th>\n",
       "      <th>...</th>\n",
       "      <th>海南省</th>\n",
       "      <th>湖北省</th>\n",
       "      <th>湖南省</th>\n",
       "      <th>甘肃省</th>\n",
       "      <th>福建省</th>\n",
       "      <th>贵州省</th>\n",
       "      <th>辽宁省</th>\n",
       "      <th>重庆</th>\n",
       "      <th>陕西省</th>\n",
       "      <th>黑龙江省</th>\n",
       "    </tr>\n",
       "  </thead>\n",
       "  <tbody>\n",
       "    <tr>\n",
       "      <th>0</th>\n",
       "      <td>闵行吴泾点部</td>\n",
       "      <td>21</td>\n",
       "      <td>2017-01-21</td>\n",
       "      <td>1.386294</td>\n",
       "      <td>222.0</td>\n",
       "      <td>2017</td>\n",
       "      <td>1</td>\n",
       "      <td>21</td>\n",
       "      <td>5</td>\n",
       "      <td>21</td>\n",
       "      <td>...</td>\n",
       "      <td>0</td>\n",
       "      <td>0</td>\n",
       "      <td>0</td>\n",
       "      <td>0</td>\n",
       "      <td>0</td>\n",
       "      <td>0</td>\n",
       "      <td>0</td>\n",
       "      <td>0</td>\n",
       "      <td>0</td>\n",
       "      <td>0</td>\n",
       "    </tr>\n",
       "    <tr>\n",
       "      <th>1</th>\n",
       "      <td>昆明机场点部</td>\n",
       "      <td>871</td>\n",
       "      <td>2017-01-21</td>\n",
       "      <td>1.791759</td>\n",
       "      <td>78.0</td>\n",
       "      <td>2017</td>\n",
       "      <td>1</td>\n",
       "      <td>21</td>\n",
       "      <td>5</td>\n",
       "      <td>21</td>\n",
       "      <td>...</td>\n",
       "      <td>0</td>\n",
       "      <td>0</td>\n",
       "      <td>0</td>\n",
       "      <td>0</td>\n",
       "      <td>0</td>\n",
       "      <td>0</td>\n",
       "      <td>0</td>\n",
       "      <td>0</td>\n",
       "      <td>0</td>\n",
       "      <td>0</td>\n",
       "    </tr>\n",
       "    <tr>\n",
       "      <th>2</th>\n",
       "      <td>沙井和一点部</td>\n",
       "      <td>755</td>\n",
       "      <td>2017-01-21</td>\n",
       "      <td>4.262680</td>\n",
       "      <td>15.0</td>\n",
       "      <td>2017</td>\n",
       "      <td>1</td>\n",
       "      <td>21</td>\n",
       "      <td>5</td>\n",
       "      <td>21</td>\n",
       "      <td>...</td>\n",
       "      <td>0</td>\n",
       "      <td>0</td>\n",
       "      <td>0</td>\n",
       "      <td>0</td>\n",
       "      <td>0</td>\n",
       "      <td>0</td>\n",
       "      <td>0</td>\n",
       "      <td>0</td>\n",
       "      <td>0</td>\n",
       "      <td>0</td>\n",
       "    </tr>\n",
       "    <tr>\n",
       "      <th>3</th>\n",
       "      <td>济南高新点部</td>\n",
       "      <td>531</td>\n",
       "      <td>2017-01-21</td>\n",
       "      <td>1.386294</td>\n",
       "      <td>240.0</td>\n",
       "      <td>2017</td>\n",
       "      <td>1</td>\n",
       "      <td>21</td>\n",
       "      <td>5</td>\n",
       "      <td>21</td>\n",
       "      <td>...</td>\n",
       "      <td>0</td>\n",
       "      <td>0</td>\n",
       "      <td>0</td>\n",
       "      <td>0</td>\n",
       "      <td>0</td>\n",
       "      <td>0</td>\n",
       "      <td>0</td>\n",
       "      <td>0</td>\n",
       "      <td>0</td>\n",
       "      <td>0</td>\n",
       "    </tr>\n",
       "    <tr>\n",
       "      <th>4</th>\n",
       "      <td>园区亭东点部</td>\n",
       "      <td>512</td>\n",
       "      <td>2017-01-21</td>\n",
       "      <td>2.397895</td>\n",
       "      <td>199.0</td>\n",
       "      <td>2017</td>\n",
       "      <td>1</td>\n",
       "      <td>21</td>\n",
       "      <td>5</td>\n",
       "      <td>21</td>\n",
       "      <td>...</td>\n",
       "      <td>0</td>\n",
       "      <td>0</td>\n",
       "      <td>0</td>\n",
       "      <td>0</td>\n",
       "      <td>0</td>\n",
       "      <td>0</td>\n",
       "      <td>0</td>\n",
       "      <td>0</td>\n",
       "      <td>0</td>\n",
       "      <td>0</td>\n",
       "    </tr>\n",
       "  </tbody>\n",
       "</table>\n",
       "<p>5 rows × 70 columns</p>\n",
       "</div>"
      ],
      "text/plain": [
       "      dot  city_code order_date  order_num  dot_id  year  month  day  \\\n",
       "0  闵行吴泾点部         21 2017-01-21   1.386294   222.0  2017      1   21   \n",
       "1  昆明机场点部        871 2017-01-21   1.791759    78.0  2017      1   21   \n",
       "2  沙井和一点部        755 2017-01-21   4.262680    15.0  2017      1   21   \n",
       "3  济南高新点部        531 2017-01-21   1.386294   240.0  2017      1   21   \n",
       "4  园区亭东点部        512 2017-01-21   2.397895   199.0  2017      1   21   \n",
       "\n",
       "   dayofweek  dayofyear  ...   海南省  湖北省  湖南省  甘肃省  福建省  贵州省  辽宁省  重庆  陕西省  \\\n",
       "0          5         21  ...     0    0    0    0    0    0    0   0    0   \n",
       "1          5         21  ...     0    0    0    0    0    0    0   0    0   \n",
       "2          5         21  ...     0    0    0    0    0    0    0   0    0   \n",
       "3          5         21  ...     0    0    0    0    0    0    0   0    0   \n",
       "4          5         21  ...     0    0    0    0    0    0    0   0    0   \n",
       "\n",
       "   黑龙江省  \n",
       "0     0  \n",
       "1     0  \n",
       "2     0  \n",
       "3     0  \n",
       "4     0  \n",
       "\n",
       "[5 rows x 70 columns]"
      ]
     },
     "execution_count": 24,
     "metadata": {},
     "output_type": "execute_result"
    }
   ],
   "source": [
    "dot_res = pd.concat([dot_prep_stas, pd.get_dummies(dot_prep_stas['dot_type']), pd.get_dummies(dot_prep_stas['area']), pd.get_dummies(dot_prep_stas['province'])], axis = 1)\n",
    "dot_res.drop(['dot_type', 'area', 'province'], axis = 1, inplace = True)\n",
    "dot_res.head()"
   ]
  },
  {
   "cell_type": "code",
   "execution_count": 25,
   "metadata": {},
   "outputs": [
    {
     "data": {
      "text/plain": [
       "Index(['dot', 'city_code', 'order_date', 'order_num', 'dot_id', 'year',\n",
       "       'month', 'day', 'dayofweek', 'dayofyear', 'weekofyear', 'weekofsun',\n",
       "       'holidays', 'lagging1', 'lagging2', 'lagging3', 'lagging4', 'lagging5',\n",
       "       'lagging6', 'lagging7', 'rolling3', 'rolling5', 'rolling7', 'week_mean',\n",
       "       'week_median', 'week_min', 'week_max', 'week_std', 'day_mean',\n",
       "       'day_median', 'day_min', 'day_max', 'day_std', '二级中转场', '大点部', '小点部',\n",
       "       '航空组', '虚拟点部', '京津冀', '华东', '华北', '华南', '上海', '云南省', '内蒙古', '北京', '吉林省',\n",
       "       '四川省', '天津', '安徽省', '山东省', '山西省', '广东省', '广西', '新疆', '江苏省', '江西省',\n",
       "       '河北省', '河南省', '浙江省', '海南省', '湖北省', '湖南省', '甘肃省', '福建省', '贵州省', '辽宁省',\n",
       "       '重庆', '陕西省', '黑龙江省'],\n",
       "      dtype='object')"
      ]
     },
     "execution_count": 25,
     "metadata": {},
     "output_type": "execute_result"
    }
   ],
   "source": [
    "dot_res.columns"
   ]
  },
  {
   "cell_type": "markdown",
   "metadata": {},
   "source": [
    "dot_res.to_csv(path + \"dot_res.csv\", encoding = 'GBK')"
   ]
  },
  {
   "cell_type": "code",
   "execution_count": null,
   "metadata": {},
   "outputs": [],
   "source": [
    "dot_res = pd.read_csv(path + \"dot_res.csv\", encoding = 'GBK')"
   ]
  },
  {
   "cell_type": "code",
   "execution_count": null,
   "metadata": {},
   "outputs": [],
   "source": [
    "dot_train = dot_res[: -(30 * 2407)]\n",
    "dot_test = dot_res[-(30 * 2407) :]"
   ]
  },
  {
   "cell_type": "code",
   "execution_count": null,
   "metadata": {},
   "outputs": [],
   "source": [
    "dot_xtrain = dot_train.drop(['order_num'], axis = 1)\n",
    "dot_ytrain = dot_train['order_num']\n",
    "dot_xtest = dot_test.drop(['order_num'], axis = 1)\n",
    "dot_ytest = dot_test['order_num']"
   ]
  },
  {
   "cell_type": "code",
   "execution_count": null,
   "metadata": {},
   "outputs": [],
   "source": [
    "def RMSE(y_test, y_pred):\n",
    "    return np.sqrt(np.sum((y_test - y_pred) ** 2)/len(y_test))\n",
    "\n",
    "def MAE(y_test, y_pred):\n",
    "    return np.sum(np.abs(y_test - y_pred))/len(y_test)"
   ]
  },
  {
   "cell_type": "code",
   "execution_count": null,
   "metadata": {},
   "outputs": [],
   "source": [
    "def xgboost_model(x_train, y_train):\n",
    "    params = {\n",
    "        \"learning_rate\": 0.01,\n",
    "        \"n_estimators\": 3300,\n",
    "        \"max_depth\": 5,\n",
    "        \"min_child_weight\": 3,\n",
    "        \"gamma\": 0.5,\n",
    "        \"subsample\": 0.9,\n",
    "        \"colsample_bytree\": 0.8,\n",
    "        \"silent\": 1,\n",
    "        \"reg_alpha\" : 0.05,\n",
    "        \"reg_lambda\" : 0.05,\n",
    "        \"seed\": 21\n",
    "    }\n",
    "    print(\"train_start : \", datetime.datetime.now().strftime(\"%Y-%m-%d %H:%M:%S\"))\n",
    "    gbm = xgb.XGBRegressor(**params)\n",
    "    gbm.fit(x_train.drop(['dot', 'order_date'], axis = 1), y_train)\n",
    "    print(\"train_end : \", datetime.datetime.now().strftime(\"%Y-%m-%d %H:%M:%S\"))\n",
    "    \n",
    "    for column, importance in zip(x_train.drop(['dot', 'order_date'], axis = 1).columns, gbm.feature_importances_):\n",
    "        print(column, '\\t', importance)\n",
    "    # plot_importance(gbm)\n",
    "    # plt.savefig(path + \"feature_importance.png\")\n",
    "    \n",
    "    return gbm"
   ]
  },
  {
   "cell_type": "code",
   "execution_count": null,
   "metadata": {},
   "outputs": [],
   "source": [
    "gbm = xgboost_model(dot_xtrain, dot_ytrain)"
   ]
  },
  {
   "cell_type": "markdown",
   "metadata": {},
   "source": [
    "### dump model"
   ]
  },
  {
   "cell_type": "markdown",
   "metadata": {},
   "source": [
    "import pickle fw = open(path + \"gbm.txt\", 'wb') pickle.dump(gbm, fw)"
   ]
  },
  {
   "cell_type": "markdown",
   "metadata": {},
   "source": [
    "### load model"
   ]
  },
  {
   "cell_type": "markdown",
   "metadata": {},
   "source": [
    "import pickle\n",
    "rw = open(path + 'gbm.txt', 'rb')\n",
    "gbm = pickle.load(rw)"
   ]
  },
  {
   "cell_type": "markdown",
   "metadata": {},
   "source": [
    "### 预测方式1"
   ]
  },
  {
   "cell_type": "code",
   "execution_count": null,
   "metadata": {},
   "outputs": [],
   "source": [
    "def xgb_predict(gbm, x_test, y_test, path):\n",
    "    # 验证\n",
    "    print(\"predict_start : \", datetime.datetime.now().strftime(\"%Y-%m-%d %H:%M:%S\"))\n",
    "    y_pre = gbm.predict(x_test.drop(['dot', 'order_date'], axis = 1))\n",
    "    print(\"predict_end : \", datetime.datetime.now().strftime(\"%Y-%m-%d %H:%M:%S\"))\n",
    "    result = pd.DataFrame({'dot' : x_test['dot'], 'order_date' : x_test['order_date'], 'y_test' : np.expm1(y_test), 'y_pre' : np.expm1(y_pre)})\n",
    "    result['RMSE'] = RMSE(np.expm1(y_test), np.expm1(y_pre))\n",
    "    result['MAE'] = MAE(np.expm1(y_test), np.expm1(y_pre))\n",
    "    print(\"MAE : \", MAE(np.expm1(y_test), np.expm1(y_pre)), \" RMSE : \", RMSE(np.expm1(y_test), np.expm1(y_pre)))\n",
    "#     result = pd.DataFrame({'dot' : x_test['dot'], 'order_date' : x_test['order_date'], 'y_test' : y_test, 'y_pre' : y_pre})\n",
    "#     result['RMSE'] = RMSE(y_test, y_pre)\n",
    "#     result['MAE'] = MAE(y_test, y_pre)\n",
    "#     print(\"MAE : \", MAE(y_test, y_pre), \" RMSE : \", RMSE(y_test, y_pre))\n",
    "    \n",
    "    result.to_csv(path + \"dot_result.csv\", encoding = 'GBK', index = False)\n",
    "    return result"
   ]
  },
  {
   "cell_type": "code",
   "execution_count": null,
   "metadata": {},
   "outputs": [],
   "source": [
    "result = xgb_predict(gbm, dot_xtest, dot_ytest, path)"
   ]
  },
  {
   "cell_type": "code",
   "execution_count": null,
   "metadata": {},
   "outputs": [],
   "source": [
    "plt.rcParams['font.sans-serif']=['SimHei']\n",
    "col_1 = ['y_test','y_pre']\n",
    "L = np.random.randint( low = 0, high = 2411, size = 3 )\n",
    "for i in L:\n",
    "    s1 = pd.DataFrame(result[result['dot'] == result['dot'].unique()[i]], columns = col_1)\n",
    "    s1.plot(title = 'dot {}'.format(result['dot'].unique()[i]), figsize = (8,4))"
   ]
  },
  {
   "cell_type": "markdown",
   "metadata": {},
   "source": [
    "### 预测方式2"
   ]
  },
  {
   "cell_type": "code",
   "execution_count": null,
   "metadata": {},
   "outputs": [],
   "source": [
    "def pre_feature(data, dot_name):\n",
    "    x_test_tmp = pd.DataFrame()\n",
    "    rolling_tmp = pd.DataFrame()\n",
    "    for dot in dot_name:\n",
    "        # lagging\n",
    "        dot_test = data.loc[data['dot'] == dot]\n",
    "        dot_test_ts = dot_test.copy()\n",
    "        dot_test['lagging7'] = dot_test['lagging6']\n",
    "        dot_test['lagging6'] = dot_test['lagging5']\n",
    "        dot_test['lagging5'] = dot_test['lagging4']\n",
    "        dot_test['lagging4'] = dot_test['lagging3']\n",
    "        dot_test['lagging3'] = dot_test['lagging2']\n",
    "        dot_test['lagging2'] = dot_test['lagging1']\n",
    "        dot_test['lagging1'] = dot_test['order_num']\n",
    "\n",
    "        x_test_tmp = pd.concat([x_test_tmp, dot_test])\n",
    "\n",
    "        # rolling\n",
    "        dot_test_ts.index = pd.to_datetime(dot_test_ts['order_date'])\n",
    "        num_ts = dot_test_ts.loc[dot_test_ts['dot'] == dot, ['order_num']]\n",
    "        rolling = pd.concat([num_ts.rolling(window = 3).mean(), num_ts.rolling(window = 5).mean(), num_ts.rolling(window = 7).mean()], axis = 1)\n",
    "    #     rolling.index = rolling.index + pd.DateOffset(days = 1)\n",
    "        rolling.columns = ['rolling3', 'rolling5', 'rolling7']\n",
    "        rolling['dot'] = dot\n",
    "        rolling['order_date'] = rolling.index\n",
    "        rolling_tmp = pd.concat([rolling_tmp, rolling])\n",
    "\n",
    "    x_test = pd.merge(x_test_tmp.drop(['rolling3', 'rolling5', 'rolling7'], axis = 1), rolling_tmp, how = 'left', on = ['dot', 'order_date'])\n",
    "    x_test['order_date'] = x_test['order_date'] + pd.DateOffset(days = 1)\n",
    "    x_test.dropna(axis = 0, inplace = True)\n",
    "    \n",
    "    return x_test"
   ]
  },
  {
   "cell_type": "code",
   "execution_count": null,
   "metadata": {},
   "outputs": [],
   "source": [
    "print(\"START : \", datetime.datetime.now().strftime(\"%Y-%m-%d %H:%M:%S\"))\n",
    "result_to_csv = pd.DataFrame()\n",
    "pre_date = dot_train['order_date'].max() + pd.DateOffset(months = -1)\n",
    "org_test = dot_train[dot_train['order_date'] > pre_date]\n",
    "feature = ['dot', 'city_code', 'order_date', 'dot_id', 'lagging1', 'lagging2', 'lagging3', 'lagging4', 'lagging5',\n",
    "       'lagging6', 'lagging7', 'rolling3', 'rolling5', 'rolling7', 'week_mean',\n",
    "       'week_median', 'week_min', 'week_max', 'week_std', 'day_mean',\n",
    "       'day_median', 'day_min', 'day_max', 'day_std', '二级中转场', '大点部', '小点部',\n",
    "       '航空组', '虚拟点部', '京津冀', '华东', '华北', '华南', '上海', '云南省', '内蒙古', '北京', '吉林省',\n",
    "       '四川省', '天津', '安徽省', '山东省', '山西省', '广东省', '广西', '新疆', '江苏省', '江西省',\n",
    "       '河北省', '河南省', '浙江省', '海南省', '湖北省', '湖南省', '甘肃省', '福建省', '贵州省', '辽宁省',\n",
    "       '重庆', '陕西省', '黑龙江省']\n",
    "feature_num = ['dot', 'city_code', 'order_date', 'dot_id', 'year',\n",
    "       'month', 'day', 'dayofweek', 'dayofyear', 'weekofyear', 'weekofsun',\n",
    "       'holidays', 'lagging1', 'lagging2', 'lagging3', 'lagging4', 'lagging5',\n",
    "       'lagging6', 'lagging7', 'rolling3', 'rolling5', 'rolling7', 'week_mean',\n",
    "       'week_median', 'week_min', 'week_max', 'week_std', 'day_mean',\n",
    "       'day_median', 'day_min', 'day_max', 'day_std', '二级中转场', '大点部', '小点部',\n",
    "       '航空组', '虚拟点部', '京津冀', '华东', '华北', '华南', '上海', '云南省', '内蒙古', '北京', '吉林省',\n",
    "       '四川省', '天津', '安徽省', '山东省', '山西省', '广东省', '广西', '新疆', '江苏省', '江西省',\n",
    "       '河北省', '河南省', '浙江省', '海南省', '湖北省', '湖南省', '甘肃省', '福建省', '贵州省', '辽宁省',\n",
    "       '重庆', '陕西省', '黑龙江省']\n",
    "feature_date = ['dot', 'city_code', 'order_date', 'order_num', 'dot_id', 'year',\n",
    "       'month', 'day', 'dayofweek', 'dayofyear', 'weekofyear', 'weekofsun',\n",
    "       'holidays', 'lagging1', 'lagging2', 'lagging3', 'lagging4', 'lagging5',\n",
    "       'lagging6', 'lagging7', 'rolling3', 'rolling5', 'rolling7', 'week_mean',\n",
    "       'week_median', 'week_min', 'week_max', 'week_std', 'day_mean',\n",
    "       'day_median', 'day_min', 'day_max', 'day_std', '二级中转场', '大点部', '小点部',\n",
    "       '航空组', '虚拟点部', '京津冀', '华东', '华北', '华南', '上海', '云南省', '内蒙古', '北京', '吉林省',\n",
    "       '四川省', '天津', '安徽省', '山东省', '山西省', '广东省', '广西', '新疆', '江苏省', '江西省',\n",
    "       '河北省', '河南省', '浙江省', '海南省', '湖北省', '湖南省', '甘肃省', '福建省', '贵州省', '辽宁省',\n",
    "       '重庆', '陕西省', '黑龙江省']\n",
    "for i in range(30):\n",
    "    print(i)\n",
    "    x_test = pre_feature(org_test, all_dot)\n",
    "    last_train_date = pd.to_datetime('2019-01-03') + pd.DateOffset(days = i + 1)\n",
    "    x_test = x_test.loc[x_test['order_date'] == last_train_date, feature]#.drop(['year', 'month', 'day', 'dayofweek', 'dayofyear', 'weekofyear', 'weekofsun', 'holidays'])\n",
    "#     x_test['order_date'] = x_test['order_date'] + pd.DateOffset(days = i)\n",
    "    \n",
    "    x_test = time_feature(x_test)\n",
    "    x_test = x_test[feature_num]\n",
    "\n",
    "    y_pre = gbm.predict(x_test.drop(['dot', 'order_date'], axis = 1))\n",
    "    result = pd.DataFrame({'dot' : x_test['dot'], 'order_date' : x_test['order_date'], 'order_num' : y_pre})\n",
    "    result_to_csv = pd.concat([result_to_csv, result])\n",
    "    x_test = pd.merge(x_test, result, on = ['dot', 'order_date'], how = 'left')\n",
    "    x_test = x_test[feature_date]\n",
    "    \n",
    "    org_test = pd.concat([org_test, x_test])\n",
    "print(\"END : \", datetime.datetime.now().strftime(\"%Y-%m-%d %H:%M:%S\"))"
   ]
  },
  {
   "cell_type": "code",
   "execution_count": null,
   "metadata": {},
   "outputs": [],
   "source": [
    "result_to_csv['order_num'] = np.expm1(result_to_csv['order_num'])\n",
    "result_to_csv.head()"
   ]
  },
  {
   "cell_type": "code",
   "execution_count": null,
   "metadata": {},
   "outputs": [],
   "source": [
    "org_data = dot_data.copy()\n",
    "org_data['order_num'] = np.expm1(org_data['order_num'])\n",
    "org_data.tail()"
   ]
  },
  {
   "cell_type": "code",
   "execution_count": null,
   "metadata": {},
   "outputs": [],
   "source": [
    "r1 = pd.merge(result_to_csv, org_data, on = ['dot', 'order_date'], how = 'left')\n",
    "r1 = r1[['dot', 'order_date', 'order_num_x', 'dot_id', 'order_num_y']]\n",
    "r1.columns = ['dot', 'order_date', 'y_pre', 'dot_id', 'y_test']\n",
    "r1 = r1[['dot', 'order_date', 'dot_id', 'y_test', 'y_pre']]\n",
    "r1.head()"
   ]
  },
  {
   "cell_type": "code",
   "execution_count": null,
   "metadata": {},
   "outputs": [],
   "source": [
    "print(\"MAE : \", MAE(r1.y_test, r1.y_pre))\n",
    "print(\"RMSE : \", RMSE(r1.y_test, r1.y_pre))"
   ]
  },
  {
   "cell_type": "code",
   "execution_count": null,
   "metadata": {},
   "outputs": [],
   "source": [
    "plt.rcParams['font.sans-serif']=['SimHei']\n",
    "col_1 = ['y_pre','y_test']\n",
    "L = np.random.randint( low = 0, high = 183, size = 3 )\n",
    "for i in L:\n",
    "    s1 = pd.DataFrame(r1[r1['dot'] == r1['dot'].unique()[i]], columns = col_1)\n",
    "    s1.plot(title = 'dot {}'.format(r1['dot'].unique()[i]), figsize = (8,4))"
   ]
  }
 ],
 "metadata": {
  "kernelspec": {
   "display_name": "Python 3",
   "language": "python",
   "name": "python3"
  },
  "language_info": {
   "codemirror_mode": {
    "name": "ipython",
    "version": 3
   },
   "file_extension": ".py",
   "mimetype": "text/x-python",
   "name": "python",
   "nbconvert_exporter": "python",
   "pygments_lexer": "ipython3",
   "version": "3.7.0"
  }
 },
 "nbformat": 4,
 "nbformat_minor": 2
}
