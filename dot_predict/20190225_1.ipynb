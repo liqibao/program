{
 "cells": [
  {
   "cell_type": "code",
   "execution_count": 1,
   "metadata": {},
   "outputs": [],
   "source": [
    "import os\n",
    "import numpy as np\n",
    "import pandas as pd\n",
    "import matplotlib.pyplot as plt\n",
    "\n",
    "from matplotlib.pylab import rcParams\n",
    "import xgboost as xgb\n",
    "from xgboost import plot_importance\n",
    "import warnings\n",
    "\n",
    "import time\n",
    "import datetime\n",
    "warnings.filterwarnings('ignore')\n",
    "path = \"D:/program/program1/Cargo_forecast/dot_data_all/\""
   ]
  },
  {
   "cell_type": "code",
   "execution_count": 2,
   "metadata": {},
   "outputs": [],
   "source": [
    "dot_res = pd.read_csv(path + \"dot_res.csv\", encoding = 'GBK', index_col = 0)"
   ]
  },
  {
   "cell_type": "code",
   "execution_count": 71,
   "metadata": {
    "scrolled": false
   },
   "outputs": [],
   "source": [
    "dot_res = dot_res[~dot_res['dot'].isin(a1)]"
   ]
  },
  {
   "cell_type": "code",
   "execution_count": 72,
   "metadata": {},
   "outputs": [
    {
     "data": {
      "text/plain": [
       "dot            0\n",
       "city_code      0\n",
       "order_date     0\n",
       "order_num      0\n",
       "dot_id         0\n",
       "year           0\n",
       "month          0\n",
       "day            0\n",
       "dayofweek      0\n",
       "dayofyear      0\n",
       "weekofyear     0\n",
       "weekofsun      0\n",
       "holidays       0\n",
       "lagging1       0\n",
       "lagging2       0\n",
       "lagging3       0\n",
       "lagging4       0\n",
       "lagging5       0\n",
       "lagging6       0\n",
       "lagging7       0\n",
       "rolling3       0\n",
       "rolling5       0\n",
       "rolling7       0\n",
       "week_mean      0\n",
       "week_median    0\n",
       "week_min       0\n",
       "week_max       0\n",
       "week_std       0\n",
       "day_mean       0\n",
       "day_median     0\n",
       "              ..\n",
       "华北             0\n",
       "华南             0\n",
       "上海             0\n",
       "云南省            0\n",
       "内蒙古            0\n",
       "北京             0\n",
       "吉林省            0\n",
       "四川省            0\n",
       "天津             0\n",
       "安徽省            0\n",
       "山东省            0\n",
       "山西省            0\n",
       "广东省            0\n",
       "广西             0\n",
       "新疆             0\n",
       "江苏省            0\n",
       "江西省            0\n",
       "河北省            0\n",
       "河南省            0\n",
       "浙江省            0\n",
       "海南省            0\n",
       "湖北省            0\n",
       "湖南省            0\n",
       "甘肃省            0\n",
       "福建省            0\n",
       "贵州省            0\n",
       "辽宁省            0\n",
       "重庆             0\n",
       "陕西省            0\n",
       "黑龙江省           0\n",
       "Length: 70, dtype: int64"
      ]
     },
     "execution_count": 72,
     "metadata": {},
     "output_type": "execute_result"
    }
   ],
   "source": [
    "dot_res.isnull().sum()"
   ]
  },
  {
   "cell_type": "code",
   "execution_count": 64,
   "metadata": {},
   "outputs": [],
   "source": [
    "a1 = dot_res[dot_res['week_std'].isnull()]['dot'].unique()"
   ]
  },
  {
   "cell_type": "code",
   "execution_count": null,
   "metadata": {},
   "outputs": [],
   "source": [
    "dot_res[]"
   ]
  },
  {
   "cell_type": "code",
   "execution_count": 3,
   "metadata": {},
   "outputs": [],
   "source": [
    "dot_res['order_date'] = pd.to_datetime(dot_res['order_date'])"
   ]
  },
  {
   "cell_type": "code",
   "execution_count": 4,
   "metadata": {},
   "outputs": [
    {
     "data": {
      "text/plain": [
       "2407"
      ]
     },
     "execution_count": 4,
     "metadata": {},
     "output_type": "execute_result"
    }
   ],
   "source": [
    "len(dot_res['dot'].unique())"
   ]
  },
  {
   "cell_type": "code",
   "execution_count": 16,
   "metadata": {},
   "outputs": [],
   "source": [
    "# dot_train = dot_res[: -(30 * 2407)]\n",
    "# dot_test = dot_res[-(30 * 2407) :]"
   ]
  },
  {
   "cell_type": "code",
   "execution_count": 7,
   "metadata": {},
   "outputs": [],
   "source": [
    "train_date = dot_res['order_date'].max() + pd.DateOffset(months = -1)\n",
    "dot_train = dot_res[dot_res['order_date'] <= train_date]\n",
    "dot_test = dot_res[dot_res['order_date'] > train_date]"
   ]
  },
  {
   "cell_type": "code",
   "execution_count": 8,
   "metadata": {},
   "outputs": [],
   "source": [
    "dot_xtrain = dot_train.drop(['order_num'], axis = 1)\n",
    "dot_ytrain = dot_train['order_num']\n",
    "dot_xtest = dot_test.drop(['order_num'], axis = 1)\n",
    "dot_ytest = dot_test['order_num']"
   ]
  },
  {
   "cell_type": "code",
   "execution_count": 9,
   "metadata": {},
   "outputs": [],
   "source": [
    "def RMSE(y_test, y_pred):\n",
    "    return np.sqrt(np.sum((y_test - y_pred) ** 2)/len(y_test))\n",
    "\n",
    "def MAE(y_test, y_pred):\n",
    "    return np.sum(np.abs(y_test - y_pred))/len(y_test)"
   ]
  },
  {
   "cell_type": "code",
   "execution_count": 10,
   "metadata": {},
   "outputs": [],
   "source": [
    "def xgboost_model(x_train, y_train):\n",
    "    params = {\n",
    "        \"learning_rate\": 0.01,\n",
    "        \"n_estimators\": 3300,\n",
    "        \"max_depth\": 5,\n",
    "        \"min_child_weight\": 3,\n",
    "        \"gamma\": 0.5,\n",
    "        \"subsample\": 0.9,\n",
    "        \"colsample_bytree\": 0.8,\n",
    "        \"silent\": 1,\n",
    "        \"reg_alpha\" : 0.05,\n",
    "        \"reg_lambda\" : 0.05,\n",
    "        \"seed\": 21\n",
    "    }\n",
    "    print(\"train_start : \", datetime.datetime.now().strftime(\"%Y-%m-%d %H:%M:%S\"))\n",
    "    gbm = xgb.XGBRegressor(**params)\n",
    "    gbm.fit(x_train.drop(['dot', 'order_date'], axis = 1), y_train)\n",
    "    print(\"train_end : \", datetime.datetime.now().strftime(\"%Y-%m-%d %H:%M:%S\"))\n",
    "    \n",
    "    for column, importance in zip(x_train.drop(['dot', 'order_date'], axis = 1).columns, gbm.feature_importances_):\n",
    "        print(column, '\\t', importance)\n",
    "    # plot_importance(gbm)\n",
    "    # plt.savefig(path + \"feature_importance.png\")\n",
    "    \n",
    "    return gbm"
   ]
  },
  {
   "cell_type": "code",
   "execution_count": 11,
   "metadata": {},
   "outputs": [
    {
     "name": "stdout",
     "output_type": "stream",
     "text": [
      "train_start :  2019-02-26 09:56:23\n",
      "train_end :  2019-02-26 11:45:06\n",
      "city_code \t 0.0138158975\n",
      "dot_id \t 0.021206273\n",
      "year \t 0.008396288\n",
      "month \t 0.010459435\n",
      "day \t 0.034775827\n",
      "dayofweek \t 0.04830432\n",
      "dayofyear \t 0.058886927\n",
      "weekofyear \t 0.015211858\n",
      "weekofsun \t 0.0058507146\n",
      "holidays \t 0.037844885\n",
      "lagging1 \t 0.058948513\n",
      "lagging2 \t 0.024460092\n",
      "lagging3 \t 0.022201922\n",
      "lagging4 \t 0.019307358\n",
      "lagging5 \t 0.018096156\n",
      "lagging6 \t 0.020241419\n",
      "lagging7 \t 0.045912713\n",
      "rolling3 \t 0.026112663\n",
      "rolling5 \t 0.021534735\n",
      "rolling7 \t 0.041519545\n",
      "week_mean \t 0.046107735\n",
      "week_median \t 0.03871736\n",
      "week_min \t 0.009720397\n",
      "week_max \t 0.026010018\n",
      "week_std \t 0.059153803\n",
      "day_mean \t 0.04225858\n",
      "day_median \t 0.04339793\n",
      "day_min \t 0.04011332\n",
      "day_max \t 0.050336674\n",
      "day_std \t 0.07495073\n",
      "二级中转场 \t 0.0\n",
      "大点部 \t 0.00041057644\n",
      "小点部 \t 0.00013343735\n",
      "航空组 \t 0.0003695188\n",
      "虚拟点部 \t 0.0\n",
      "京津冀 \t 0.0007390376\n",
      "华东 \t 0.00045163409\n",
      "华北 \t 0.0012419937\n",
      "华南 \t 0.0014370176\n",
      "上海 \t 0.0005542782\n",
      "云南省 \t 0.00029766792\n",
      "内蒙古 \t 0.0\n",
      "北京 \t 0.0004413697\n",
      "吉林省 \t 6.158647e-05\n",
      "四川省 \t 0.00024634588\n",
      "天津 \t 0.00019502381\n",
      "安徽省 \t 9.23797e-05\n",
      "山东省 \t 0.00029766792\n",
      "山西省 \t 0.0\n",
      "广东省 \t 0.0012419937\n",
      "广西 \t 1.0264412e-05\n",
      "新疆 \t 0.0\n",
      "江苏省 \t 0.00033872557\n",
      "江西省 \t 0.00010264411\n",
      "河北省 \t 0.00028740353\n",
      "河南省 \t 0.00012317294\n",
      "浙江省 \t 0.0052348496\n",
      "海南省 \t 0.0\n",
      "湖北省 \t 0.00025661028\n",
      "湖南省 \t 7.185088e-05\n",
      "甘肃省 \t 0.0\n",
      "福建省 \t 0.0010469699\n",
      "贵州省 \t 0.00010264411\n",
      "辽宁省 \t 0.00028740353\n",
      "重庆 \t 7.185088e-05\n",
      "陕西省 \t 0.0\n",
      "黑龙江省 \t 0.0\n"
     ]
    }
   ],
   "source": [
    "gbm = xgboost_model(dot_xtrain, dot_ytrain)"
   ]
  },
  {
   "cell_type": "markdown",
   "metadata": {},
   "source": [
    "### dump model"
   ]
  },
  {
   "cell_type": "markdown",
   "metadata": {},
   "source": [
    "import pickle \n",
    "fw = open(path + \"gbm.txt\", 'wb') \n",
    "pickle.dump(gbm, fw)"
   ]
  },
  {
   "cell_type": "markdown",
   "metadata": {},
   "source": [
    "### load model"
   ]
  },
  {
   "cell_type": "markdown",
   "metadata": {},
   "source": [
    "import pickle rw = open(path + 'gbm.txt', 'rb') gbm = pickle.load(rw)"
   ]
  },
  {
   "cell_type": "markdown",
   "metadata": {},
   "source": [
    "### 预测方式1"
   ]
  },
  {
   "cell_type": "code",
   "execution_count": 14,
   "metadata": {},
   "outputs": [],
   "source": [
    "def xgb_predict(gbm, x_test, y_test, path):\n",
    "    # 验证\n",
    "    print(\"predict_start : \", datetime.datetime.now().strftime(\"%Y-%m-%d %H:%M:%S\"))\n",
    "    y_pre = gbm.predict(x_test.drop(['dot', 'order_date'], axis = 1))\n",
    "    print(\"predict_end : \", datetime.datetime.now().strftime(\"%Y-%m-%d %H:%M:%S\"))\n",
    "    result = pd.DataFrame({'dot' : x_test['dot'], 'order_date' : x_test['order_date'], 'y_test' : np.expm1(y_test), 'y_pre' : np.expm1(y_pre)})\n",
    "    result['RMSE'] = RMSE(np.expm1(y_test), np.expm1(y_pre))\n",
    "    result['MAE'] = MAE(np.expm1(y_test), np.expm1(y_pre))\n",
    "    print(\"MAE : \", MAE(np.expm1(y_test), np.expm1(y_pre)), \" RMSE : \", RMSE(np.expm1(y_test), np.expm1(y_pre)))\n",
    "#     result = pd.DataFrame({'dot' : x_test['dot'], 'order_date' : x_test['order_date'], 'y_test' : y_test, 'y_pre' : y_pre})\n",
    "#     result['RMSE'] = RMSE(y_test, y_pre)\n",
    "#     result['MAE'] = MAE(y_test, y_pre)\n",
    "#     print(\"MAE : \", MAE(y_test, y_pre), \" RMSE : \", RMSE(y_test, y_pre))\n",
    "    \n",
    "    result.to_csv(path + \"dot_result.csv\", encoding = 'GBK', index = False)\n",
    "    return result"
   ]
  },
  {
   "cell_type": "code",
   "execution_count": 15,
   "metadata": {},
   "outputs": [
    {
     "name": "stdout",
     "output_type": "stream",
     "text": [
      "predict_start :  2019-02-26 11:49:43\n",
      "predict_end :  2019-02-26 11:49:53\n",
      "MAE :  8.28976449331314  RMSE :  13.809427900237647\n"
     ]
    }
   ],
   "source": [
    "result = xgb_predict(gbm, dot_xtest, dot_ytest, path)"
   ]
  },
  {
   "cell_type": "code",
   "execution_count": 19,
   "metadata": {},
   "outputs": [
    {
     "data": {
      "image/png": "[encoded data removed]",
      "text/plain": [
       "<Figure size 576x288 with 1 Axes>"
      ]
     },
     "metadata": {
      "needs_background": "light"
     },
     "output_type": "display_data"
    },
    {
     "data": {
      "image/png": "[encoded data removed]",
      "text/plain": [
       "<Figure size 576x288 with 1 Axes>"
      ]
     },
     "metadata": {
      "needs_background": "light"
     },
     "output_type": "display_data"
    },
    {
     "data": {
      "image/png": "[encoded data removed]",
      "text/plain": [
       "<Figure size 576x288 with 1 Axes>"
      ]
     },
     "metadata": {
      "needs_background": "light"
     },
     "output_type": "display_data"
    }
   ],
   "source": [
    "plt.rcParams['font.sans-serif']=['SimHei']\n",
    "col_1 = ['y_test','y_pre']\n",
    "L = np.random.randint( low = 0, high = 2411, size = 3 )\n",
    "for i in L:\n",
    "    s1 = pd.DataFrame(result[result['dot'] == result['dot'].unique()[i]], columns = col_1)\n",
    "    s1.plot(title = 'dot {}'.format(result['dot'].reset_index(drop = True).unique()[i]), figsize = (8,4))"
   ]
  },
  {
   "cell_type": "markdown",
   "metadata": {},
   "source": [
    "### 预测方式2"
   ]
  },
  {
   "cell_type": "code",
   "execution_count": 21,
   "metadata": {},
   "outputs": [],
   "source": [
    "def pre_feature(data, dot_name):\n",
    "    x_test_tmp = pd.DataFrame()\n",
    "    rolling_tmp = pd.DataFrame()\n",
    "    for dot in dot_name:\n",
    "        # lagging\n",
    "        dot_test = data.loc[data['dot'] == dot]\n",
    "        dot_test_ts = dot_test.copy()\n",
    "        dot_test['lagging7'] = dot_test['lagging6']\n",
    "        dot_test['lagging6'] = dot_test['lagging5']\n",
    "        dot_test['lagging5'] = dot_test['lagging4']\n",
    "        dot_test['lagging4'] = dot_test['lagging3']\n",
    "        dot_test['lagging3'] = dot_test['lagging2']\n",
    "        dot_test['lagging2'] = dot_test['lagging1']\n",
    "        dot_test['lagging1'] = dot_test['order_num']\n",
    "\n",
    "        x_test_tmp = pd.concat([x_test_tmp, dot_test])\n",
    "\n",
    "        # rolling\n",
    "        dot_test_ts.index = pd.to_datetime(dot_test_ts['order_date'])\n",
    "        num_ts = dot_test_ts.loc[dot_test_ts['dot'] == dot, ['order_num']]\n",
    "        rolling = pd.concat([num_ts.rolling(window = 3).mean(), num_ts.rolling(window = 5).mean(), num_ts.rolling(window = 7).mean()], axis = 1)\n",
    "    #     rolling.index = rolling.index + pd.DateOffset(days = 1)\n",
    "        rolling.columns = ['rolling3', 'rolling5', 'rolling7']\n",
    "        rolling['dot'] = dot\n",
    "        rolling['order_date'] = rolling.index\n",
    "        rolling_tmp = pd.concat([rolling_tmp, rolling])\n",
    "\n",
    "    x_test = pd.merge(x_test_tmp.drop(['rolling3', 'rolling5', 'rolling7'], axis = 1), rolling_tmp, how = 'left', on = ['dot', 'order_date'])\n",
    "    x_test['order_date'] = x_test['order_date'] + pd.DateOffset(days = 1)\n",
    "    x_test.dropna(axis = 0, inplace = True)\n",
    "    \n",
    "    return x_test"
   ]
  },
  {
   "cell_type": "code",
   "execution_count": null,
   "metadata": {},
   "outputs": [],
   "source": [
    "print(\"START : \", datetime.datetime.now().strftime(\"%Y-%m-%d %H:%M:%S\"))\n",
    "result_to_csv = pd.DataFrame()\n",
    "pre_date = dot_train['order_date'].max() + pd.DateOffset(months = -1)\n",
    "org_test = dot_train[dot_train['order_date'] > pre_date]\n",
    "feature = ['dot', 'city_code', 'order_date', 'dot_id', 'lagging1', 'lagging2', 'lagging3', 'lagging4', 'lagging5',\n",
    "       'lagging6', 'lagging7', 'rolling3', 'rolling5', 'rolling7', 'week_mean',\n",
    "       'week_median', 'week_min', 'week_max', 'week_std', 'day_mean',\n",
    "       'day_median', 'day_min', 'day_max', 'day_std', '二级中转场', '大点部', '小点部',\n",
    "       '航空组', '虚拟点部', '京津冀', '华东', '华北', '华南', '上海', '云南省', '内蒙古', '北京', '吉林省',\n",
    "       '四川省', '天津', '安徽省', '山东省', '山西省', '广东省', '广西', '新疆', '江苏省', '江西省',\n",
    "       '河北省', '河南省', '浙江省', '海南省', '湖北省', '湖南省', '甘肃省', '福建省', '贵州省', '辽宁省',\n",
    "       '重庆', '陕西省', '黑龙江省']\n",
    "feature_num = ['dot', 'city_code', 'order_date', 'dot_id', 'year',\n",
    "       'month', 'day', 'dayofweek', 'dayofyear', 'weekofyear', 'weekofsun',\n",
    "       'holidays', 'lagging1', 'lagging2', 'lagging3', 'lagging4', 'lagging5',\n",
    "       'lagging6', 'lagging7', 'rolling3', 'rolling5', 'rolling7', 'week_mean',\n",
    "       'week_median', 'week_min', 'week_max', 'week_std', 'day_mean',\n",
    "       'day_median', 'day_min', 'day_max', 'day_std', '二级中转场', '大点部', '小点部',\n",
    "       '航空组', '虚拟点部', '京津冀', '华东', '华北', '华南', '上海', '云南省', '内蒙古', '北京', '吉林省',\n",
    "       '四川省', '天津', '安徽省', '山东省', '山西省', '广东省', '广西', '新疆', '江苏省', '江西省',\n",
    "       '河北省', '河南省', '浙江省', '海南省', '湖北省', '湖南省', '甘肃省', '福建省', '贵州省', '辽宁省',\n",
    "       '重庆', '陕西省', '黑龙江省']\n",
    "feature_date = ['dot', 'city_code', 'order_date', 'order_num', 'dot_id', 'year',\n",
    "       'month', 'day', 'dayofweek', 'dayofyear', 'weekofyear', 'weekofsun',\n",
    "       'holidays', 'lagging1', 'lagging2', 'lagging3', 'lagging4', 'lagging5',\n",
    "       'lagging6', 'lagging7', 'rolling3', 'rolling5', 'rolling7', 'week_mean',\n",
    "       'week_median', 'week_min', 'week_max', 'week_std', 'day_mean',\n",
    "       'day_median', 'day_min', 'day_max', 'day_std', '二级中转场', '大点部', '小点部',\n",
    "       '航空组', '虚拟点部', '京津冀', '华东', '华北', '华南', '上海', '云南省', '内蒙古', '北京', '吉林省',\n",
    "       '四川省', '天津', '安徽省', '山东省', '山西省', '广东省', '广西', '新疆', '江苏省', '江西省',\n",
    "       '河北省', '河南省', '浙江省', '海南省', '湖北省', '湖南省', '甘肃省', '福建省', '贵州省', '辽宁省',\n",
    "       '重庆', '陕西省', '黑龙江省']\n",
    "for i in range(15):\n",
    "    print(i)\n",
    "    x_test = pre_feature(org_test, all_dot)\n",
    "    last_train_date = pd.to_datetime('2019-01-08') + pd.DateOffset(days = i + 1)\n",
    "    x_test = x_test.loc[x_test['order_date'] == last_train_date, feature]#.drop(['year', 'month', 'day', 'dayofweek', 'dayofyear', 'weekofyear', 'weekofsun', 'holidays'])\n",
    "#     x_test['order_date'] = x_test['order_date'] + pd.DateOffset(days = i)\n",
    "    \n",
    "    x_test = time_feature(x_test)\n",
    "    x_test = x_test[feature_num]\n",
    "\n",
    "    y_pre = gbm.predict(x_test.drop(['dot', 'order_date'], axis = 1))\n",
    "    result = pd.DataFrame({'dot' : x_test['dot'], 'order_date' : x_test['order_date'], 'order_num' : y_pre})\n",
    "    result_to_csv = pd.concat([result_to_csv, result])\n",
    "    x_test = pd.merge(x_test, result, on = ['dot', 'order_date'], how = 'left')\n",
    "    x_test = x_test[feature_date]\n",
    "    \n",
    "    org_test = pd.concat([org_test, x_test])\n",
    "print(\"END : \", datetime.datetime.now().strftime(\"%Y-%m-%d %H:%M:%S\"))"
   ]
  },
  {
   "cell_type": "code",
   "execution_count": null,
   "metadata": {},
   "outputs": [],
   "source": [
    "result_to_csv['order_num'] = np.expm1(result_to_csv['order_num'])\n",
    "result_to_csv.head()"
   ]
  },
  {
   "cell_type": "code",
   "execution_count": null,
   "metadata": {},
   "outputs": [],
   "source": [
    "org_data = dot_data.copy()\n",
    "org_data['order_num'] = np.expm1(org_data['order_num'])\n",
    "org_data.tail()"
   ]
  },
  {
   "cell_type": "code",
   "execution_count": null,
   "metadata": {},
   "outputs": [],
   "source": [
    "r1 = pd.merge(result_to_csv, org_data, on = ['dot', 'order_date'], how = 'left')\n",
    "r1 = r1[['dot', 'order_date', 'order_num_x', 'dot_id', 'order_num_y']]\n",
    "r1.columns = ['dot', 'order_date', 'y_pre', 'dot_id', 'y_test']\n",
    "r1 = r1[['dot', 'order_date', 'dot_id', 'y_test', 'y_pre']]\n",
    "r1.head()"
   ]
  },
  {
   "cell_type": "code",
   "execution_count": null,
   "metadata": {},
   "outputs": [],
   "source": [
    "print(\"MAE : \", MAE(r1.y_test, r1.y_pre))\n",
    "print(\"RMSE : \", RMSE(r1.y_test, r1.y_pre))"
   ]
  },
  {
   "cell_type": "code",
   "execution_count": null,
   "metadata": {},
   "outputs": [],
   "source": [
    "plt.rcParams['font.sans-serif']=['SimHei']\n",
    "col_1 = ['y_pre','y_test']\n",
    "L = np.random.randint( low = 0, high = 183, size = 3 )\n",
    "for i in L:\n",
    "    s1 = pd.DataFrame(r1[r1['dot'] == r1['dot'].unique()[i]], columns = col_1)\n",
    "    s1.plot(title = 'dot {}'.format(r1['dot'].unique()[i]), figsize = (8,4))"
   ]
  },
  {
   "cell_type": "code",
   "execution_count": 86,
   "metadata": {},
   "outputs": [
    {
     "data": {
      "text/plain": [
       "Index(['dot', 'city_code', 'order_date', 'order_num', 'dot_id', 'lagging1',\n",
       "       'lagging2', 'lagging3', 'lagging4', 'lagging5', 'lagging6', 'lagging7',\n",
       "       'rolling3', 'rolling5', 'rolling7', 'week_mean', 'week_median',\n",
       "       'week_min', 'week_max', 'week_std', 'day_mean', 'day_median', 'day_min',\n",
       "       'day_max', 'day_std', '二级中转场', '大点部', '小点部', '航空组', '虚拟点部', '京津冀', '华东',\n",
       "       '华北', '华南', '上海', '云南省', '内蒙古', '北京', '吉林省', '四川省', '天津', '安徽省', '山东省',\n",
       "       '山西省', '广东省', '广西', '新疆', '江苏省', '江西省', '河北省', '河南省', '浙江省', '海南省',\n",
       "       '湖北省', '湖南省', '甘肃省', '福建省', '贵州省', '辽宁省', '重庆', '陕西省', '黑龙江省'],\n",
       "      dtype='object')"
      ]
     },
     "execution_count": 86,
     "metadata": {},
     "output_type": "execute_result"
    }
   ],
   "source": [
    "dot_train.columns.drop(['year', 'month', 'day', 'dayofweek', 'dayofyear', 'weekofyear', 'weekofsun', 'holidays'])"
   ]
  },
  {
   "cell_type": "code",
   "execution_count": 90,
   "metadata": {},
   "outputs": [
    {
     "data": {
      "text/plain": [
       "DatetimeIndex(['2017-01-01', '2017-01-08', '2017-01-15', '2017-01-22',\n",
       "               '2017-01-29', '2017-02-05', '2017-02-12', '2017-02-19',\n",
       "               '2017-02-26', '2017-03-05',\n",
       "               ...\n",
       "               '2018-12-02', '2018-12-09', '2018-12-16', '2018-12-23',\n",
       "               '2018-12-30', '2019-01-06', '2019-01-13', '2019-01-20',\n",
       "               '2019-01-27', '2019-02-03'],\n",
       "              dtype='datetime64[ns]', length=110, freq='W-SUN')"
      ]
     },
     "execution_count": 90,
     "metadata": {},
     "output_type": "execute_result"
    }
   ],
   "source": [
    "pd.date_range('2017-01-01', '2019-02-08', freq='W-SUN')"
   ]
  },
  {
   "cell_type": "code",
   "execution_count": null,
   "metadata": {},
   "outputs": [],
   "source": []
  },
  {
   "cell_type": "code",
   "execution_count": null,
   "metadata": {},
   "outputs": [],
   "source": []
  },
  {
   "cell_type": "code",
   "execution_count": null,
   "metadata": {},
   "outputs": [],
   "source": []
  }
 ],
 "metadata": {
  "kernelspec": {
   "display_name": "Python 3",
   "language": "python",
   "name": "python3"
  },
  "language_info": {
   "codemirror_mode": {
    "name": "ipython",
    "version": 3
   },
   "file_extension": ".py",
   "mimetype": "text/x-python",
   "name": "python",
   "nbconvert_exporter": "python",
   "pygments_lexer": "ipython3",
   "version": "3.7.0"
  }
 },
 "nbformat": 4,
 "nbformat_minor": 2
}
