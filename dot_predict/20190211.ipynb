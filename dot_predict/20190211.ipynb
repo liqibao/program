{
 "cells": [
  {
   "cell_type": "code",
   "execution_count": 1,
   "metadata": {},
   "outputs": [
    {
     "name": "stdout",
     "output_type": "stream",
     "text": [
      "['20181207dot1.xlsx', '20181207_莉娜_点部#1.xlsx', '20181207_莉娜_点部#2.xlsx', '20181207_莉娜_点部#3.xlsx', '20190103_1.csv', '20190103_2.csv', '20190103_点部取货量_1.xlsx', '20190103_点部取货量_2.xlsx', '20190103_点部派货量_1.xlsx', '20190103_点部派货量_2.xlsx', 'accurate.xlsx', 'comments.txt', 'dot_result.csv', 'dot_result_new.csv', 'feature_importance.png', 'rmse1.csv', 'test.csv', 'test_predict.png']\n"
     ]
    }
   ],
   "source": [
    "import os\n",
    "import numpy as np\n",
    "import pandas as pd\n",
    "import matplotlib.pyplot as plt\n",
    "\n",
    "from matplotlib.pylab import rcParams\n",
    "from statsmodels.tsa.stattools import adfuller\n",
    "from statsmodels.tsa.arima_model import ARIMA, ARMA\n",
    "from statsmodels.tsa.stattools import acf, pacf\n",
    "\n",
    "import xgboost as xgb\n",
    "from xgboost import plot_importance\n",
    "from statsmodels.graphics.tsaplots import plot_acf, plot_pacf\n",
    "import warnings\n",
    "\n",
    "import datetime\n",
    "warnings.filterwarnings('ignore')\n",
    "path = \"D:/program/program1/Cargo_forecast/dot_data_all/\"\n",
    "print(os.listdir(path))"
   ]
  },
  {
   "cell_type": "code",
   "execution_count": 2,
   "metadata": {},
   "outputs": [],
   "source": [
    "rcParams['figure.figsize'] = 16,4"
   ]
  },
  {
   "cell_type": "code",
   "execution_count": 3,
   "metadata": {},
   "outputs": [],
   "source": [
    "dot_data_1 = pd.read_excel(path + '20190103_点部取货量_1.xlsx', parse_dates=[1])\n",
    "dot_data_2 = pd.read_excel(path + '20190103_点部取货量_2.xlsx', parse_dates = [1])"
   ]
  },
  {
   "cell_type": "code",
   "execution_count": 4,
   "metadata": {},
   "outputs": [
    {
     "data": {
      "text/html": [
       "<div>\n",
       "<style scoped>\n",
       "    .dataframe tbody tr th:only-of-type {\n",
       "        vertical-align: middle;\n",
       "    }\n",
       "\n",
       "    .dataframe tbody tr th {\n",
       "        vertical-align: top;\n",
       "    }\n",
       "\n",
       "    .dataframe thead th {\n",
       "        text-align: right;\n",
       "    }\n",
       "</style>\n",
       "<table border=\"1\" class=\"dataframe\">\n",
       "  <thead>\n",
       "    <tr style=\"text-align: right;\">\n",
       "      <th></th>\n",
       "      <th>dot</th>\n",
       "      <th>order_date</th>\n",
       "      <th>order_num</th>\n",
       "      <th>num</th>\n",
       "      <th>jifei_weight</th>\n",
       "      <th>shiji_weight</th>\n",
       "      <th>longitude</th>\n",
       "      <th>latitude</th>\n",
       "    </tr>\n",
       "  </thead>\n",
       "  <tbody>\n",
       "    <tr>\n",
       "      <th>0</th>\n",
       "      <td>13825092291</td>\n",
       "      <td>2017-05-23</td>\n",
       "      <td>1</td>\n",
       "      <td>1</td>\n",
       "      <td>1.0</td>\n",
       "      <td>1.0</td>\n",
       "      <td>NaN</td>\n",
       "      <td>NaN</td>\n",
       "    </tr>\n",
       "    <tr>\n",
       "      <th>1</th>\n",
       "      <td>15102680258</td>\n",
       "      <td>2017-06-06</td>\n",
       "      <td>1</td>\n",
       "      <td>1</td>\n",
       "      <td>1.0</td>\n",
       "      <td>1.0</td>\n",
       "      <td>NaN</td>\n",
       "      <td>NaN</td>\n",
       "    </tr>\n",
       "    <tr>\n",
       "      <th>2</th>\n",
       "      <td>ERP客户系统组</td>\n",
       "      <td>2017-06-09</td>\n",
       "      <td>1</td>\n",
       "      <td>1</td>\n",
       "      <td>3.0</td>\n",
       "      <td>3.0</td>\n",
       "      <td>NaN</td>\n",
       "      <td>NaN</td>\n",
       "    </tr>\n",
       "    <tr>\n",
       "      <th>3</th>\n",
       "      <td>IT采购组</td>\n",
       "      <td>2017-04-13</td>\n",
       "      <td>8</td>\n",
       "      <td>8</td>\n",
       "      <td>8.0</td>\n",
       "      <td>8.0</td>\n",
       "      <td>NaN</td>\n",
       "      <td>NaN</td>\n",
       "    </tr>\n",
       "    <tr>\n",
       "      <th>4</th>\n",
       "      <td>IT采购组</td>\n",
       "      <td>2017-05-03</td>\n",
       "      <td>4</td>\n",
       "      <td>5</td>\n",
       "      <td>10.0</td>\n",
       "      <td>10.0</td>\n",
       "      <td>NaN</td>\n",
       "      <td>NaN</td>\n",
       "    </tr>\n",
       "  </tbody>\n",
       "</table>\n",
       "</div>"
      ],
      "text/plain": [
       "           dot order_date  order_num  num  jifei_weight  shiji_weight  \\\n",
       "0  13825092291 2017-05-23          1    1           1.0           1.0   \n",
       "1  15102680258 2017-06-06          1    1           1.0           1.0   \n",
       "2     ERP客户系统组 2017-06-09          1    1           3.0           3.0   \n",
       "3        IT采购组 2017-04-13          8    8           8.0           8.0   \n",
       "4        IT采购组 2017-05-03          4    5          10.0          10.0   \n",
       "\n",
       "   longitude  latitude  \n",
       "0        NaN       NaN  \n",
       "1        NaN       NaN  \n",
       "2        NaN       NaN  \n",
       "3        NaN       NaN  \n",
       "4        NaN       NaN  "
      ]
     },
     "execution_count": 4,
     "metadata": {},
     "output_type": "execute_result"
    }
   ],
   "source": [
    "dot_data = pd.concat([dot_data_1,dot_data_2],ignore_index = True)\n",
    "data = dot_data.copy()\n",
    "data.head()"
   ]
  },
  {
   "cell_type": "code",
   "execution_count": 5,
   "metadata": {},
   "outputs": [],
   "source": [
    "data = data.drop(['num', 'jifei_weight', 'shiji_weight', 'longitude', 'latitude'], axis = 1)"
   ]
  },
  {
   "cell_type": "code",
   "execution_count": 6,
   "metadata": {},
   "outputs": [
    {
     "data": {
      "text/html": [
       "<div>\n",
       "<style scoped>\n",
       "    .dataframe tbody tr th:only-of-type {\n",
       "        vertical-align: middle;\n",
       "    }\n",
       "\n",
       "    .dataframe tbody tr th {\n",
       "        vertical-align: top;\n",
       "    }\n",
       "\n",
       "    .dataframe thead th {\n",
       "        text-align: right;\n",
       "    }\n",
       "</style>\n",
       "<table border=\"1\" class=\"dataframe\">\n",
       "  <thead>\n",
       "    <tr style=\"text-align: right;\">\n",
       "      <th></th>\n",
       "      <th>dot</th>\n",
       "      <th>order_date</th>\n",
       "      <th>order_num</th>\n",
       "    </tr>\n",
       "    <tr>\n",
       "      <th>order_date</th>\n",
       "      <th></th>\n",
       "      <th></th>\n",
       "      <th></th>\n",
       "    </tr>\n",
       "  </thead>\n",
       "  <tbody>\n",
       "    <tr>\n",
       "      <th>2017-05-23</th>\n",
       "      <td>13825092291</td>\n",
       "      <td>2017-05-23</td>\n",
       "      <td>1</td>\n",
       "    </tr>\n",
       "    <tr>\n",
       "      <th>2017-06-06</th>\n",
       "      <td>15102680258</td>\n",
       "      <td>2017-06-06</td>\n",
       "      <td>1</td>\n",
       "    </tr>\n",
       "    <tr>\n",
       "      <th>2017-06-09</th>\n",
       "      <td>ERP客户系统组</td>\n",
       "      <td>2017-06-09</td>\n",
       "      <td>1</td>\n",
       "    </tr>\n",
       "    <tr>\n",
       "      <th>2017-04-13</th>\n",
       "      <td>IT采购组</td>\n",
       "      <td>2017-04-13</td>\n",
       "      <td>8</td>\n",
       "    </tr>\n",
       "    <tr>\n",
       "      <th>2017-05-03</th>\n",
       "      <td>IT采购组</td>\n",
       "      <td>2017-05-03</td>\n",
       "      <td>4</td>\n",
       "    </tr>\n",
       "  </tbody>\n",
       "</table>\n",
       "</div>"
      ],
      "text/plain": [
       "                    dot order_date  order_num\n",
       "order_date                                   \n",
       "2017-05-23  13825092291 2017-05-23          1\n",
       "2017-06-06  15102680258 2017-06-06          1\n",
       "2017-06-09     ERP客户系统组 2017-06-09          1\n",
       "2017-04-13        IT采购组 2017-04-13          8\n",
       "2017-05-03        IT采购组 2017-05-03          4"
      ]
     },
     "execution_count": 6,
     "metadata": {},
     "output_type": "execute_result"
    }
   ],
   "source": [
    "data_ts = data.copy()\n",
    "data_ts.index = pd.to_datetime(data['order_date'])\n",
    "data_ts.head()"
   ]
  },
  {
   "cell_type": "code",
   "execution_count": 7,
   "metadata": {},
   "outputs": [
    {
     "data": {
      "text/html": [
       "<div>\n",
       "<style scoped>\n",
       "    .dataframe tbody tr th:only-of-type {\n",
       "        vertical-align: middle;\n",
       "    }\n",
       "\n",
       "    .dataframe tbody tr th {\n",
       "        vertical-align: top;\n",
       "    }\n",
       "\n",
       "    .dataframe thead th {\n",
       "        text-align: right;\n",
       "    }\n",
       "</style>\n",
       "<table border=\"1\" class=\"dataframe\">\n",
       "  <thead>\n",
       "    <tr style=\"text-align: right;\">\n",
       "      <th></th>\n",
       "      <th>dot</th>\n",
       "      <th>order_date</th>\n",
       "      <th>order_num</th>\n",
       "    </tr>\n",
       "    <tr>\n",
       "      <th>order_date</th>\n",
       "      <th></th>\n",
       "      <th></th>\n",
       "      <th></th>\n",
       "    </tr>\n",
       "  </thead>\n",
       "  <tbody>\n",
       "    <tr>\n",
       "      <th>2017-12-01</th>\n",
       "      <td>坂田上雪点部</td>\n",
       "      <td>2017-12-01</td>\n",
       "      <td>313</td>\n",
       "    </tr>\n",
       "    <tr>\n",
       "      <th>2017-12-01</th>\n",
       "      <td>嘉定城区点部</td>\n",
       "      <td>2017-12-01</td>\n",
       "      <td>20</td>\n",
       "    </tr>\n",
       "    <tr>\n",
       "      <th>2017-12-01</th>\n",
       "      <td>荔湾芳村二级装卸组</td>\n",
       "      <td>2017-12-01</td>\n",
       "      <td>1</td>\n",
       "    </tr>\n",
       "    <tr>\n",
       "      <th>2017-12-01</th>\n",
       "      <td>无锡旺庄点部</td>\n",
       "      <td>2017-12-01</td>\n",
       "      <td>58</td>\n",
       "    </tr>\n",
       "    <tr>\n",
       "      <th>2017-12-01</th>\n",
       "      <td>宝安机场分拨一区包车组</td>\n",
       "      <td>2017-12-01</td>\n",
       "      <td>2</td>\n",
       "    </tr>\n",
       "  </tbody>\n",
       "</table>\n",
       "</div>"
      ],
      "text/plain": [
       "                    dot order_date  order_num\n",
       "order_date                                   \n",
       "2017-12-01       坂田上雪点部 2017-12-01        313\n",
       "2017-12-01       嘉定城区点部 2017-12-01         20\n",
       "2017-12-01    荔湾芳村二级装卸组 2017-12-01          1\n",
       "2017-12-01       无锡旺庄点部 2017-12-01         58\n",
       "2017-12-01  宝安机场分拨一区包车组 2017-12-01          2"
      ]
     },
     "execution_count": 7,
     "metadata": {},
     "output_type": "execute_result"
    }
   ],
   "source": [
    "data_ts.sort_index(ascending = True, inplace = True)\n",
    "tmp = data_ts['2017-12':]\n",
    "tmp.head()"
   ]
  },
  {
   "cell_type": "code",
   "execution_count": 8,
   "metadata": {},
   "outputs": [
    {
     "data": {
      "text/plain": [
       "338"
      ]
     },
     "execution_count": 8,
     "metadata": {},
     "output_type": "execute_result"
    }
   ],
   "source": [
    "data_count = pd.DataFrame(tmp['order_date'].groupby(tmp['dot']).count())\n",
    "data_count.reset_index(inplace = True)\n",
    "useful_dot_name = data_count.loc[data_count['order_date'] >= 390, ['dot']]\n",
    "len(useful_dot_name)"
   ]
  },
  {
   "cell_type": "code",
   "execution_count": 9,
   "metadata": {},
   "outputs": [],
   "source": [
    "dot_preprocessing = pd.DataFrame()\n",
    "for i, dot in enumerate(useful_dot_name['dot']):\n",
    "    one_dot = data.loc[data['dot'] == dot]\n",
    "    one_dot = one_dot.loc[one_dot[\"order_date\"] >= pd.to_datetime('2017-12-01')]\n",
    "    num_median = np.median(one_dot['order_num'])\n",
    "    ts = pd.date_range('2017-12-01', '2018-12-31')\n",
    "    df_ts = pd.DataFrame(ts, columns = ['order_date'])\n",
    "    df_ts['dot'] = dot\n",
    "    df_ts['dot_id'] = i + 1\n",
    "    merge_res = pd.merge(df_ts, one_dot, how= 'left')\n",
    "#     merge_res = merge_res.loc[merge_res[\"order_date\"] >= pd.to_datetime('2017-12-01')]\n",
    "    merge_res['order_num'].fillna(num_median, inplace = True)\n",
    "    if len(merge_res) >= 390:\n",
    "        dot_preprocessing = pd.concat([dot_preprocessing, merge_res], axis = 0,ignore_index = True)"
   ]
  },
  {
   "cell_type": "code",
   "execution_count": 10,
   "metadata": {
    "scrolled": true
   },
   "outputs": [
    {
     "name": "stdout",
     "output_type": "stream",
     "text": [
      "<class 'pandas.core.frame.DataFrame'>\n",
      "Int64Index: 133848 entries, 0 to 133847\n",
      "Data columns (total 4 columns):\n",
      "dot           133848 non-null object\n",
      "dot_id        133848 non-null int64\n",
      "order_date    133848 non-null datetime64[ns]\n",
      "order_num     133848 non-null float64\n",
      "dtypes: datetime64[ns](1), float64(1), int64(1), object(1)\n",
      "memory usage: 5.1+ MB\n"
     ]
    }
   ],
   "source": [
    "dot_prep = dot_preprocessing[['dot', 'dot_id', 'order_date', 'order_num']]\n",
    "dot_prep.sort_values(by = ['order_date'], inplace = True)\n",
    "dot_prep.info()"
   ]
  },
  {
   "cell_type": "markdown",
   "metadata": {},
   "source": [
    "## 拆分"
   ]
  },
  {
   "cell_type": "code",
   "execution_count": 11,
   "metadata": {},
   "outputs": [],
   "source": [
    "dot_train = dot_prep[: -(30 * 338)]\n",
    "dot_test = dot_prep[-(30 * 338) :]   # 每个点部留一个月数据做测试"
   ]
  },
  {
   "cell_type": "markdown",
   "metadata": {},
   "source": [
    "## 创建特征"
   ]
  },
  {
   "cell_type": "code",
   "execution_count": 12,
   "metadata": {},
   "outputs": [],
   "source": [
    "def create_feature(data):\n",
    "    # 时间\n",
    "    dot_prep_1 = data.copy()\n",
    "    \n",
    "    dot_prep_1['year'] = dot_prep_1.order_date.dt.year\n",
    "    dot_prep_1['month'] = dot_prep_1.order_date.dt.month\n",
    "    dot_prep_1['day'] = dot_prep_1.order_date.dt.day\n",
    "    dot_prep_1['dayofweek'] = dot_prep_1.order_date.dt.dayofweek\n",
    "    dot_prep_1['dayofyear'] = dot_prep_1.order_date.dt.dayofyear\n",
    "    dot_prep_1['weekofyear'] = dot_prep_1.order_date.dt.weekofyear\n",
    "    \n",
    "    weekofsun = pd.date_range('2017-12-01', periods = round(len(dot_prep['order_date'].unique())/7), freq = 'W-SUN')\n",
    "    dot_prep_1['weekofsun'] = 0\n",
    "    dot_prep_1.loc[dot_prep_1['order_date'].isin(weekofsun), ['weekofsun']] = 1\n",
    "    \n",
    "#     dot_prep_1['season'] = 1\n",
    "#     dot_prep_1.loc[dot_prep_1['month'].isin([1,2,3]), ['season']] = 1\n",
    "#     dot_prep_1.loc[dot_prep_1['month'].isin([4,5,6]), ['season']] = 2\n",
    "#     dot_prep_1.loc[dot_prep_1['month'].isin([7,8,9]), ['season']] = 3\n",
    "#     dot_prep_1.loc[dot_prep_1['month'].isin([10,11,12]), ['season']] = 4\n",
    "    \n",
    "    dot_prep_1['holidays'] = 0\n",
    "    dot_prep_1.loc[dot_prep_1['order_date'].isin(\n",
    "    pd.to_datetime(['2017-01-01', '2018-01-01', '2019-01-01', '2020-01-01', '2021-01-01', '2017-01-23','2017-01-24', '2017-01-25',\n",
    "                    '2017-01-26','2017-01-27', '2017-01-28', '2017-01-29', '2017-01-30', '2017-01-31', '2017-02-01', '2017-02-02',\n",
    "                    '2017-02-03','2017-02-04','2018-02-12', '2018-02-13',  '2018-02-14','2018-02-15', '2018-02-16', '2018-02-17', \n",
    "                    '2018-02-18', '2018-02-19', '2018-02-20', '2018-02-21','2018-02-22','2018-02-23', '2018-02-24', '2019-02-01', \n",
    "                    '2019-02-02', '2019-02-03','2019-02-04', '2019-02-05', '2019-02-06', '2019-02-07', '2019-02-08', '2019-02-09', \n",
    "                    '2019-02-10', '2019-02-11', '2019-02-12', '2019-02-13','2017-04-02', '2017-04-03', '2017-04-04', '2018-04-05', \n",
    "                    '2018-04-06', '2018-04-07', '2019-04-05', '2019-04-06', '2019-04-07','2017-05-01', '2017-05-02', '2017-05-03', \n",
    "                    '2018-05-01', '2018-05-02', '2018-05-03', '2019-05-01', '2019-05-02', '2019-05-03','2017-05-30', '2018-06-18', \n",
    "                    '2019-06-07', '2017-10-04', '2018-09-22', '2018-09-23', '2018-09-24', '2019-09-13', '2019-09-14', '2019-09-15',\n",
    "                    '2017-10-01', '2017-10-02', '2017-10-03',  '2017-10-04', '2017-10-05', '2017-10-06', '2017-10-07','2018-10-01',\n",
    "                    '2018-10-02', '2018-10-03', '2018-10-04', '2018-10-05', '2018-10-06', '2018-10-07', '2019-10-01', '2019-10-02', \n",
    "                    '2019-10-03', '2019-10-04', '2019-10-05', '2019-10-06', '2019-10-07'])), ['holidays']] = 1\n",
    "    \n",
    "    # lagging\n",
    "    dot_prep_ts = data.copy()\n",
    "    dot_prep_ts.index = pd.to_datetime(dot_prep_ts['order_date'])\n",
    "    \n",
    "    dot_prep_2 = pd.DataFrame()\n",
    "    for dot in useful_dot_name['dot']:\n",
    "        dot_ts = dot_prep_ts.loc[dot_prep_ts['dot'] == dot, ['order_num']]\n",
    "        lagging = pd.concat([dot_ts.shift(1), dot_ts.shift(2), dot_ts.shift(3), dot_ts.shift(4), dot_ts.shift(5), dot_ts.shift(6), dot_ts.shift(7)], axis = 1)\n",
    "        lagging.columns = ['lagging1', 'lagging2', 'lagging3', 'lagging4', 'lagging5', 'lagging6', 'lagging7']\n",
    "        lagging['dot'] = dot\n",
    "        lagging['order_date'] = dot_ts.index\n",
    "        lagging.dropna(axis = 0, inplace = True)\n",
    "        dot_prep_2 = pd.concat([dot_prep_2, lagging], axis = 0)\n",
    "    dot_prep_2.reset_index(drop = True, inplace = True)\n",
    "    \n",
    "    # rolling\n",
    "    dot_prep_3 = pd.DataFrame()\n",
    "    for dot in useful_dot_name['dot']:\n",
    "        dot_ts = dot_prep_ts.loc[dot_prep_ts['dot'] == dot, ['order_num']]\n",
    "        rolling = pd.concat([dot_ts.rolling(window = 3).mean(), dot_ts.rolling(window = 5).mean(), dot_ts.rolling(window = 7).mean(), dot_ts.rolling(window = 8).mean()], axis = 1)\n",
    "        rolling.columns = ['rolling3', 'rolling5', 'rolling7', 'rolling8']\n",
    "        rolling['dot'] = dot\n",
    "        rolling['order_date'] = dot_ts.index\n",
    "        rolling.dropna(axis = 0, inplace = True)\n",
    "        dot_prep_3 = pd.concat([dot_prep_3, rolling], axis = 0)\n",
    "    dot_prep_3.reset_index(drop = True, inplace = True)\n",
    "    \n",
    "    # merge\n",
    "    dot_prep_result_tmp = pd.merge(dot_prep_1, dot_prep_2, how = 'right', on = ['dot', 'order_date'])\n",
    "    dot_prep_result = pd.merge(dot_prep_result_tmp, dot_prep_3, how = 'left', on = ['dot', 'order_date'])\n",
    "    dot_prep_result.sort_values(by = 'order_date', ascending = True, inplace = True)\n",
    "#     dot_prep_result.drop(['dot', 'order_date'], axis = 1, inplace = True)\n",
    "    \n",
    "    return dot_prep_result"
   ]
  },
  {
   "cell_type": "code",
   "execution_count": 14,
   "metadata": {},
   "outputs": [],
   "source": [
    "dot_prep_train = create_feature(dot_train)\n",
    "dot_prep_test = create_feature(dot_test)"
   ]
  },
  {
   "cell_type": "code",
   "execution_count": 162,
   "metadata": {},
   "outputs": [],
   "source": [
    "# one_hot = pd.get_dummies(dot_prep_test['dot'])"
   ]
  },
  {
   "cell_type": "code",
   "execution_count": 164,
   "metadata": {},
   "outputs": [],
   "source": [
    "# dot_prep_train = pd.merge(dot_prep_train, one_hot, left_index = True, right_index = True)\n",
    "# dot_prep_test = pd.merge(dot_prep_test, one_hot, left_index = True, right_index = True)"
   ]
  },
  {
   "cell_type": "code",
   "execution_count": 174,
   "metadata": {},
   "outputs": [],
   "source": [
    "# dot_prep_test.head()"
   ]
  },
  {
   "cell_type": "code",
   "execution_count": 145,
   "metadata": {},
   "outputs": [],
   "source": [
    "# 统计特征\n",
    "# dot_prep_sta = dot_prep_train.copy()\n",
    "# dot_prep_dayofweek = dot_prep_sta.groupby(['dot_id', 'dayofweek'])['order_num'].agg([('week_mean', np.mean), ('week_median', np.median), ('week_min', np.min), ('week_max', np.max), ('week_std', np.std)]).reset_index()\n",
    "# dot_prep_day = dot_prep_sta.groupby(['dot_id', 'day'])['order_num'].agg([('day_mean', np.mean), ('day_median', np.median), ('day_min', np.min), ('day_max', np.max), ('day_std', np.std)]).reset_index()\n",
    "# dot_prep_tmp = pd.merge(dot_prep_4, dot_prep_dayofweek, on = ['dot_id', 'dayofweek'], how = 'left')\n",
    "# dot_prep_4 = pd.merge(dot_prep_tmp, dot_prep_day, on = ['dot_id', 'day'], how = 'left')"
   ]
  },
  {
   "cell_type": "code",
   "execution_count": 15,
   "metadata": {},
   "outputs": [
    {
     "data": {
      "text/plain": [
       "Index(['dot', 'dot_id', 'order_date', 'order_num', 'year', 'month', 'day',\n",
       "       'dayofweek', 'dayofyear', 'weekofyear', 'weekofsun', 'holidays',\n",
       "       'lagging1', 'lagging2', 'lagging3', 'lagging4', 'lagging5', 'lagging6',\n",
       "       'lagging7', 'rolling3', 'rolling5', 'rolling7', 'rolling8'],\n",
       "      dtype='object')"
      ]
     },
     "execution_count": 15,
     "metadata": {},
     "output_type": "execute_result"
    }
   ],
   "source": [
    "dot_prep_train.columns"
   ]
  },
  {
   "cell_type": "code",
   "execution_count": 16,
   "metadata": {},
   "outputs": [],
   "source": [
    "dot_xtrain = dot_prep_train.drop(['order_num'], axis = 1)\n",
    "dot_ytrain = dot_prep_train['order_num']\n",
    "dot_xtest = dot_prep_test.drop(['order_num'], axis = 1)\n",
    "dot_ytest = dot_prep_test['order_num']"
   ]
  },
  {
   "cell_type": "code",
   "execution_count": 17,
   "metadata": {},
   "outputs": [
    {
     "data": {
      "text/html": [
       "<div>\n",
       "<style scoped>\n",
       "    .dataframe tbody tr th:only-of-type {\n",
       "        vertical-align: middle;\n",
       "    }\n",
       "\n",
       "    .dataframe tbody tr th {\n",
       "        vertical-align: top;\n",
       "    }\n",
       "\n",
       "    .dataframe thead th {\n",
       "        text-align: right;\n",
       "    }\n",
       "</style>\n",
       "<table border=\"1\" class=\"dataframe\">\n",
       "  <thead>\n",
       "    <tr style=\"text-align: right;\">\n",
       "      <th></th>\n",
       "      <th>dot_id</th>\n",
       "      <th>order_date</th>\n",
       "      <th>order_num</th>\n",
       "      <th>year</th>\n",
       "      <th>month</th>\n",
       "      <th>day</th>\n",
       "      <th>dayofweek</th>\n",
       "      <th>dayofyear</th>\n",
       "      <th>weekofyear</th>\n",
       "      <th>weekofsun</th>\n",
       "      <th>...</th>\n",
       "      <th>lagging2</th>\n",
       "      <th>lagging3</th>\n",
       "      <th>lagging4</th>\n",
       "      <th>lagging5</th>\n",
       "      <th>lagging6</th>\n",
       "      <th>lagging7</th>\n",
       "      <th>rolling3</th>\n",
       "      <th>rolling5</th>\n",
       "      <th>rolling7</th>\n",
       "      <th>rolling8</th>\n",
       "    </tr>\n",
       "  </thead>\n",
       "  <tbody>\n",
       "    <tr>\n",
       "      <th>118031</th>\n",
       "      <td>1</td>\n",
       "      <td>2018-11-22</td>\n",
       "      <td>78.0</td>\n",
       "      <td>2018</td>\n",
       "      <td>11</td>\n",
       "      <td>22</td>\n",
       "      <td>3</td>\n",
       "      <td>326</td>\n",
       "      <td>47</td>\n",
       "      <td>0</td>\n",
       "      <td>...</td>\n",
       "      <td>74.0</td>\n",
       "      <td>70.0</td>\n",
       "      <td>111.0</td>\n",
       "      <td>213.0</td>\n",
       "      <td>63.0</td>\n",
       "      <td>63.0</td>\n",
       "      <td>76.333333</td>\n",
       "      <td>82.0</td>\n",
       "      <td>98.000000</td>\n",
       "      <td>93.625</td>\n",
       "    </tr>\n",
       "    <tr>\n",
       "      <th>118618</th>\n",
       "      <td>1</td>\n",
       "      <td>2018-11-23</td>\n",
       "      <td>53.0</td>\n",
       "      <td>2018</td>\n",
       "      <td>11</td>\n",
       "      <td>23</td>\n",
       "      <td>4</td>\n",
       "      <td>327</td>\n",
       "      <td>47</td>\n",
       "      <td>0</td>\n",
       "      <td>...</td>\n",
       "      <td>77.0</td>\n",
       "      <td>74.0</td>\n",
       "      <td>70.0</td>\n",
       "      <td>111.0</td>\n",
       "      <td>213.0</td>\n",
       "      <td>63.0</td>\n",
       "      <td>69.333333</td>\n",
       "      <td>70.4</td>\n",
       "      <td>96.571429</td>\n",
       "      <td>92.375</td>\n",
       "    </tr>\n",
       "    <tr>\n",
       "      <th>118781</th>\n",
       "      <td>1</td>\n",
       "      <td>2018-11-24</td>\n",
       "      <td>79.0</td>\n",
       "      <td>2018</td>\n",
       "      <td>11</td>\n",
       "      <td>24</td>\n",
       "      <td>5</td>\n",
       "      <td>328</td>\n",
       "      <td>47</td>\n",
       "      <td>0</td>\n",
       "      <td>...</td>\n",
       "      <td>78.0</td>\n",
       "      <td>77.0</td>\n",
       "      <td>74.0</td>\n",
       "      <td>70.0</td>\n",
       "      <td>111.0</td>\n",
       "      <td>213.0</td>\n",
       "      <td>70.000000</td>\n",
       "      <td>72.2</td>\n",
       "      <td>77.428571</td>\n",
       "      <td>94.375</td>\n",
       "    </tr>\n",
       "    <tr>\n",
       "      <th>119092</th>\n",
       "      <td>1</td>\n",
       "      <td>2018-11-25</td>\n",
       "      <td>72.0</td>\n",
       "      <td>2018</td>\n",
       "      <td>11</td>\n",
       "      <td>25</td>\n",
       "      <td>6</td>\n",
       "      <td>329</td>\n",
       "      <td>47</td>\n",
       "      <td>1</td>\n",
       "      <td>...</td>\n",
       "      <td>53.0</td>\n",
       "      <td>78.0</td>\n",
       "      <td>77.0</td>\n",
       "      <td>74.0</td>\n",
       "      <td>70.0</td>\n",
       "      <td>111.0</td>\n",
       "      <td>68.000000</td>\n",
       "      <td>71.8</td>\n",
       "      <td>71.857143</td>\n",
       "      <td>76.750</td>\n",
       "    </tr>\n",
       "    <tr>\n",
       "      <th>119632</th>\n",
       "      <td>1</td>\n",
       "      <td>2018-11-26</td>\n",
       "      <td>80.0</td>\n",
       "      <td>2018</td>\n",
       "      <td>11</td>\n",
       "      <td>26</td>\n",
       "      <td>0</td>\n",
       "      <td>330</td>\n",
       "      <td>48</td>\n",
       "      <td>0</td>\n",
       "      <td>...</td>\n",
       "      <td>79.0</td>\n",
       "      <td>53.0</td>\n",
       "      <td>78.0</td>\n",
       "      <td>77.0</td>\n",
       "      <td>74.0</td>\n",
       "      <td>70.0</td>\n",
       "      <td>77.000000</td>\n",
       "      <td>72.4</td>\n",
       "      <td>73.285714</td>\n",
       "      <td>72.875</td>\n",
       "    </tr>\n",
       "    <tr>\n",
       "      <th>119828</th>\n",
       "      <td>1</td>\n",
       "      <td>2018-11-27</td>\n",
       "      <td>78.0</td>\n",
       "      <td>2018</td>\n",
       "      <td>11</td>\n",
       "      <td>27</td>\n",
       "      <td>1</td>\n",
       "      <td>331</td>\n",
       "      <td>48</td>\n",
       "      <td>0</td>\n",
       "      <td>...</td>\n",
       "      <td>72.0</td>\n",
       "      <td>79.0</td>\n",
       "      <td>53.0</td>\n",
       "      <td>78.0</td>\n",
       "      <td>77.0</td>\n",
       "      <td>74.0</td>\n",
       "      <td>76.666667</td>\n",
       "      <td>72.4</td>\n",
       "      <td>73.857143</td>\n",
       "      <td>73.875</td>\n",
       "    </tr>\n",
       "    <tr>\n",
       "      <th>120092</th>\n",
       "      <td>1</td>\n",
       "      <td>2018-11-28</td>\n",
       "      <td>71.0</td>\n",
       "      <td>2018</td>\n",
       "      <td>11</td>\n",
       "      <td>28</td>\n",
       "      <td>2</td>\n",
       "      <td>332</td>\n",
       "      <td>48</td>\n",
       "      <td>0</td>\n",
       "      <td>...</td>\n",
       "      <td>80.0</td>\n",
       "      <td>72.0</td>\n",
       "      <td>79.0</td>\n",
       "      <td>53.0</td>\n",
       "      <td>78.0</td>\n",
       "      <td>77.0</td>\n",
       "      <td>76.333333</td>\n",
       "      <td>76.0</td>\n",
       "      <td>73.000000</td>\n",
       "      <td>73.500</td>\n",
       "    </tr>\n",
       "    <tr>\n",
       "      <th>120384</th>\n",
       "      <td>1</td>\n",
       "      <td>2018-11-29</td>\n",
       "      <td>85.0</td>\n",
       "      <td>2018</td>\n",
       "      <td>11</td>\n",
       "      <td>29</td>\n",
       "      <td>3</td>\n",
       "      <td>333</td>\n",
       "      <td>48</td>\n",
       "      <td>0</td>\n",
       "      <td>...</td>\n",
       "      <td>78.0</td>\n",
       "      <td>80.0</td>\n",
       "      <td>72.0</td>\n",
       "      <td>79.0</td>\n",
       "      <td>53.0</td>\n",
       "      <td>78.0</td>\n",
       "      <td>78.000000</td>\n",
       "      <td>77.2</td>\n",
       "      <td>74.000000</td>\n",
       "      <td>74.500</td>\n",
       "    </tr>\n",
       "    <tr>\n",
       "      <th>120971</th>\n",
       "      <td>1</td>\n",
       "      <td>2018-11-30</td>\n",
       "      <td>94.0</td>\n",
       "      <td>2018</td>\n",
       "      <td>11</td>\n",
       "      <td>30</td>\n",
       "      <td>4</td>\n",
       "      <td>334</td>\n",
       "      <td>48</td>\n",
       "      <td>0</td>\n",
       "      <td>...</td>\n",
       "      <td>71.0</td>\n",
       "      <td>78.0</td>\n",
       "      <td>80.0</td>\n",
       "      <td>72.0</td>\n",
       "      <td>79.0</td>\n",
       "      <td>53.0</td>\n",
       "      <td>83.333333</td>\n",
       "      <td>81.6</td>\n",
       "      <td>79.857143</td>\n",
       "      <td>76.500</td>\n",
       "    </tr>\n",
       "    <tr>\n",
       "      <th>121127</th>\n",
       "      <td>1</td>\n",
       "      <td>2018-12-01</td>\n",
       "      <td>58.0</td>\n",
       "      <td>2018</td>\n",
       "      <td>12</td>\n",
       "      <td>1</td>\n",
       "      <td>5</td>\n",
       "      <td>335</td>\n",
       "      <td>48</td>\n",
       "      <td>0</td>\n",
       "      <td>...</td>\n",
       "      <td>85.0</td>\n",
       "      <td>71.0</td>\n",
       "      <td>78.0</td>\n",
       "      <td>80.0</td>\n",
       "      <td>72.0</td>\n",
       "      <td>79.0</td>\n",
       "      <td>79.000000</td>\n",
       "      <td>77.2</td>\n",
       "      <td>76.857143</td>\n",
       "      <td>77.125</td>\n",
       "    </tr>\n",
       "  </tbody>\n",
       "</table>\n",
       "<p>10 rows × 22 columns</p>\n",
       "</div>"
      ],
      "text/plain": [
       "        dot_id order_date  order_num  year  month  day  dayofweek  dayofyear  \\\n",
       "118031       1 2018-11-22       78.0  2018     11   22          3        326   \n",
       "118618       1 2018-11-23       53.0  2018     11   23          4        327   \n",
       "118781       1 2018-11-24       79.0  2018     11   24          5        328   \n",
       "119092       1 2018-11-25       72.0  2018     11   25          6        329   \n",
       "119632       1 2018-11-26       80.0  2018     11   26          0        330   \n",
       "119828       1 2018-11-27       78.0  2018     11   27          1        331   \n",
       "120092       1 2018-11-28       71.0  2018     11   28          2        332   \n",
       "120384       1 2018-11-29       85.0  2018     11   29          3        333   \n",
       "120971       1 2018-11-30       94.0  2018     11   30          4        334   \n",
       "121127       1 2018-12-01       58.0  2018     12    1          5        335   \n",
       "\n",
       "        weekofyear  weekofsun    ...     lagging2  lagging3  lagging4  \\\n",
       "118031          47          0    ...         74.0      70.0     111.0   \n",
       "118618          47          0    ...         77.0      74.0      70.0   \n",
       "118781          47          0    ...         78.0      77.0      74.0   \n",
       "119092          47          1    ...         53.0      78.0      77.0   \n",
       "119632          48          0    ...         79.0      53.0      78.0   \n",
       "119828          48          0    ...         72.0      79.0      53.0   \n",
       "120092          48          0    ...         80.0      72.0      79.0   \n",
       "120384          48          0    ...         78.0      80.0      72.0   \n",
       "120971          48          0    ...         71.0      78.0      80.0   \n",
       "121127          48          0    ...         85.0      71.0      78.0   \n",
       "\n",
       "        lagging5  lagging6  lagging7   rolling3  rolling5   rolling7  rolling8  \n",
       "118031     213.0      63.0      63.0  76.333333      82.0  98.000000    93.625  \n",
       "118618     111.0     213.0      63.0  69.333333      70.4  96.571429    92.375  \n",
       "118781      70.0     111.0     213.0  70.000000      72.2  77.428571    94.375  \n",
       "119092      74.0      70.0     111.0  68.000000      71.8  71.857143    76.750  \n",
       "119632      77.0      74.0      70.0  77.000000      72.4  73.285714    72.875  \n",
       "119828      78.0      77.0      74.0  76.666667      72.4  73.857143    73.875  \n",
       "120092      53.0      78.0      77.0  76.333333      76.0  73.000000    73.500  \n",
       "120384      79.0      53.0      78.0  78.000000      77.2  74.000000    74.500  \n",
       "120971      72.0      79.0      53.0  83.333333      81.6  79.857143    76.500  \n",
       "121127      80.0      72.0      79.0  79.000000      77.2  76.857143    77.125  \n",
       "\n",
       "[10 rows x 22 columns]"
      ]
     },
     "execution_count": 17,
     "metadata": {},
     "output_type": "execute_result"
    }
   ],
   "source": [
    "dot_prep_train.drop(['dot'], axis = 1)[dot_xtrain['dot_id']==1].tail(10)"
   ]
  },
  {
   "cell_type": "markdown",
   "metadata": {},
   "source": [
    "## 评估方法"
   ]
  },
  {
   "cell_type": "code",
   "execution_count": 18,
   "metadata": {},
   "outputs": [],
   "source": [
    "def RMSE(y_test, y_pred):\n",
    "    return np.sqrt(np.sum((y_test - y_pred) ** 2)/len(y_test))\n",
    "\n",
    "def MAE(y_test, y_pred):\n",
    "    return np.sum(np.abs(y_test - y_pred))/len(y_test)"
   ]
  },
  {
   "cell_type": "code",
   "execution_count": 19,
   "metadata": {},
   "outputs": [],
   "source": [
    "def xgboost_model(x_train, y_train):\n",
    "    params = {\n",
    "        \"learning_rate\": 0.01,                   # [0,1]， 默认0.3\n",
    "        \"n_estimators\": 3300,\n",
    "        \"max_depth\": 5,                         # [0,∞]， 默认6\n",
    "        \"min_child_weight\": 3,                  # [0,∞]， 默认1\n",
    "        \"gamma\": 0.5,                             # [0,∞]， 默认0\n",
    "        \"subsample\": 0.9,                       # (0,1]， 默认1\n",
    "        \"colsample_bytree\": 0.8,                # (0,1]， 默认1\n",
    "        \"silent\": 1,                            # 默认0，输出信息\n",
    "        \"reg_alpha\" : 0.05,\n",
    "        \"reg_lambda\" : 0.05,\n",
    "        \"seed\": 21\n",
    "    }\n",
    "    print(\"train_start : \", datetime.datetime.now().strftime(\"%Y-%m-%d %H:%M:%S\"))\n",
    "    gbm = xgb.XGBRegressor(**params)\n",
    "    gbm.fit(x_train.drop(['dot', 'order_date'], axis = 1), y_train)\n",
    "    print(\"train_end : \", datetime.datetime.now().strftime(\"%Y-%m-%d %H:%M:%S\"))\n",
    "    \n",
    "    for column, importance in zip(x_train.drop(['dot', 'order_date'], axis = 1).columns, gbm.feature_importances_):\n",
    "        print(column, '\\t', importance)\n",
    "    # plot_importance(gbm)\n",
    "    # plt.savefig(path + \"feature_importance.png\")\n",
    "    \n",
    "    return gbm\n",
    "\n",
    "def xgb_predict(gbm, x_test, y_test, path):\n",
    "    # 验证\n",
    "    print(\"predict_start : \", datetime.datetime.now().strftime(\"%Y-%m-%d %H:%M:%S\"))\n",
    "    y_pre = gbm.predict(x_test.drop(['dot', 'order_date'], axis = 1))\n",
    "    print(\"predict_end : \", datetime.datetime.now().strftime(\"%Y-%m-%d %H:%M:%S\"))\n",
    "    result = pd.DataFrame({'dot' : x_test['dot'], 'order_date' : x_test['order_date'], 'y_test' : y_test, 'y_pre' : y_pre})\n",
    "    result['RMSE'] = RMSE(y_test, y_pre)\n",
    "    result['MAE'] = MAE(y_test, y_pre)\n",
    "    print(\"MAE : \", MAE(y_test, y_pre), \" RMSE : \", RMSE(y_test, y_pre))\n",
    "    \n",
    "    result.to_csv(path + \"dot_result.csv\", encoding = 'GBK', index = False)\n",
    "    return result"
   ]
  },
  {
   "cell_type": "code",
   "execution_count": 20,
   "metadata": {
    "scrolled": false
   },
   "outputs": [
    {
     "name": "stdout",
     "output_type": "stream",
     "text": [
      "train_start :  2019-02-14 10:05:00\n",
      "train_end :  2019-02-14 10:12:07\n",
      "dot_id \t 0.0067723785\n",
      "year \t 0.00022901762\n",
      "month \t 0.0065978887\n",
      "day \t 0.01688187\n",
      "dayofweek \t 0.0443858\n",
      "dayofyear \t 0.014188187\n",
      "weekofyear \t 0.0020175362\n",
      "weekofsun \t 0.0035116035\n",
      "holidays \t 0.011461787\n",
      "lagging1 \t 0.20957294\n",
      "lagging2 \t 0.18685657\n",
      "lagging3 \t 0.037297156\n",
      "lagging4 \t 0.03691546\n",
      "lagging5 \t 0.020077212\n",
      "lagging6 \t 0.018190542\n",
      "lagging7 \t 0.046970423\n",
      "rolling3 \t 0.24652112\n",
      "rolling5 \t 0.047864683\n",
      "rolling7 \t 0.018724917\n",
      "rolling8 \t 0.02496292\n"
     ]
    }
   ],
   "source": [
    "gbm = xgboost_model(dot_xtrain, dot_ytrain)"
   ]
  },
  {
   "cell_type": "code",
   "execution_count": 21,
   "metadata": {},
   "outputs": [
    {
     "name": "stdout",
     "output_type": "stream",
     "text": [
      "predict_start :  2019-02-14 10:12:09\n",
      "predict_end :  2019-02-14 10:12:10\n",
      "MAE :  5.2546027762926055  RMSE :  21.891356516658192\n"
     ]
    }
   ],
   "source": [
    "result = xgb_predict(gbm, dot_xtest, dot_ytest, path)"
   ]
  },
  {
   "cell_type": "code",
   "execution_count": 22,
   "metadata": {
    "scrolled": false
   },
   "outputs": [
    {
     "data": {
      "image/png": "[encoded data removed]",
      "text/plain": [
       "<Figure size 576x288 with 1 Axes>"
      ]
     },
     "metadata": {
      "needs_background": "light"
     },
     "output_type": "display_data"
    },
    {
     "data": {
      "image/png": "[encoded data removed]",
      "text/plain": [
       "<Figure size 576x288 with 1 Axes>"
      ]
     },
     "metadata": {
      "needs_background": "light"
     },
     "output_type": "display_data"
    },
    {
     "data": {
      "image/png": "[encoded data removed]",
      "text/plain": [
       "<Figure size 576x288 with 1 Axes>"
      ]
     },
     "metadata": {
      "needs_background": "light"
     },
     "output_type": "display_data"
    }
   ],
   "source": [
    "plt.rcParams['font.sans-serif']=['SimHei']\n",
    "col_1 = ['y_test','y_pre']\n",
    "L = np.random.randint( low = 0, high = 337, size = 3 )\n",
    "for i in L:\n",
    "    s1 = pd.DataFrame(result[result['dot'] == result['dot'].unique()[i]], columns = col_1)\n",
    "    s1.plot(title = 'dot {}'.format(result['dot'].unique()[i]), figsize = (8,4))"
   ]
  },
  {
   "cell_type": "code",
   "execution_count": null,
   "metadata": {},
   "outputs": [],
   "source": []
  },
  {
   "cell_type": "code",
   "execution_count": null,
   "metadata": {},
   "outputs": [],
   "source": [
    "def RollData(data,windowsize=None,rollcol=\"jiangshu\"):\n",
    "    dot=data[\"dot\"].unique().tolist()\n",
    "    DF=pd.DataFrame() \n",
    "    for i in dot:\n",
    "        df=data[data[\"dot\"]==i]\n",
    "        df2=pd.DataFrame(index=df.index+pd.DateOffset(days=1))\n",
    "        df2['roll']= df[rollcol].values\n",
    "        for j in windowsize:\n",
    "            if j>1:\n",
    "                df['roll_mean_'+str(j)] = pd.Series(df2['roll'].rolling(j).mean())\n",
    "            df1=pd.DataFrame(index=df.index+pd.DateOffset(days=j))\n",
    "            df1['roll_' + str(j)]= df[rollcol].values\n",
    "            df=pd.merge(df,df1,how=\"left\",right_index=True,left_index=True)\n",
    "        DF=pd.concat([DF,df])\n",
    "    return DF"
   ]
  },
  {
   "cell_type": "code",
   "execution_count": null,
   "metadata": {},
   "outputs": [],
   "source": []
  },
  {
   "cell_type": "code",
   "execution_count": null,
   "metadata": {},
   "outputs": [],
   "source": [
    "gbm = xgb.XGBRegressor(max_depth=8,\n",
    "                       learning_rate=0.01,\n",
    "                       n_estimators=1000,\n",
    "                       silent=True,\n",
    "                       objective=mape_object,\n",
    "                       #objective='reg:linear',\n",
    "                       nthread=-1,\n",
    "                       gamma=0,\n",
    "                       min_child_weight=6,\n",
    "                       max_delta_step=0,\n",
    "                       subsample=0.9,\n",
    "                       colsample_bytree=0.8,\n",
    "                       colsample_bylevel=1,\n",
    "                       reg_alpha=1e0,\n",
    "                       reg_lambda=0,\n",
    "                       scale_pos_weight=1,\n",
    "                       seed=9,\n",
    "                       missing=None)\n",
    "\n",
    "gbm.fit(train.values, train_label.values, eval_metric=mape_ln, \n",
    "        verbose=True, eval_set=[(test.values, test_label.values)],\n",
    "        early_stopping_rounds=10)"
   ]
  },
  {
   "cell_type": "code",
   "execution_count": null,
   "metadata": {},
   "outputs": [],
   "source": []
  },
  {
   "cell_type": "code",
   "execution_count": 25,
   "metadata": {},
   "outputs": [
    {
     "data": {
      "text/html": [
       "<div>\n",
       "<style scoped>\n",
       "    .dataframe tbody tr th:only-of-type {\n",
       "        vertical-align: middle;\n",
       "    }\n",
       "\n",
       "    .dataframe tbody tr th {\n",
       "        vertical-align: top;\n",
       "    }\n",
       "\n",
       "    .dataframe thead th {\n",
       "        text-align: right;\n",
       "    }\n",
       "</style>\n",
       "<table border=\"1\" class=\"dataframe\">\n",
       "  <thead>\n",
       "    <tr style=\"text-align: right;\">\n",
       "      <th></th>\n",
       "      <th>0</th>\n",
       "    </tr>\n",
       "  </thead>\n",
       "  <tbody>\n",
       "    <tr>\n",
       "      <th>0</th>\n",
       "      <td>1.0</td>\n",
       "    </tr>\n",
       "    <tr>\n",
       "      <th>1</th>\n",
       "      <td>2.0</td>\n",
       "    </tr>\n",
       "    <tr>\n",
       "      <th>2</th>\n",
       "      <td>3.0</td>\n",
       "    </tr>\n",
       "    <tr>\n",
       "      <th>3</th>\n",
       "      <td>4.0</td>\n",
       "    </tr>\n",
       "    <tr>\n",
       "      <th>4</th>\n",
       "      <td>5.0</td>\n",
       "    </tr>\n",
       "    <tr>\n",
       "      <th>5</th>\n",
       "      <td>6.0</td>\n",
       "    </tr>\n",
       "    <tr>\n",
       "      <th>6</th>\n",
       "      <td>7.0</td>\n",
       "    </tr>\n",
       "    <tr>\n",
       "      <th>7</th>\n",
       "      <td>8.0</td>\n",
       "    </tr>\n",
       "    <tr>\n",
       "      <th>8</th>\n",
       "      <td>9.0</td>\n",
       "    </tr>\n",
       "    <tr>\n",
       "      <th>9</th>\n",
       "      <td>NaN</td>\n",
       "    </tr>\n",
       "  </tbody>\n",
       "</table>\n",
       "</div>"
      ],
      "text/plain": [
       "     0\n",
       "0  1.0\n",
       "1  2.0\n",
       "2  3.0\n",
       "3  4.0\n",
       "4  5.0\n",
       "5  6.0\n",
       "6  7.0\n",
       "7  8.0\n",
       "8  9.0\n",
       "9  NaN"
      ]
     },
     "execution_count": 25,
     "metadata": {},
     "output_type": "execute_result"
    }
   ],
   "source": [
    "a = pd.DataFrame([1,2,3,4,5,6,7,8,9, None])\n",
    "a"
   ]
  },
  {
   "cell_type": "code",
   "execution_count": 27,
   "metadata": {},
   "outputs": [
    {
     "data": {
      "text/html": [
       "<div>\n",
       "<style scoped>\n",
       "    .dataframe tbody tr th:only-of-type {\n",
       "        vertical-align: middle;\n",
       "    }\n",
       "\n",
       "    .dataframe tbody tr th {\n",
       "        vertical-align: top;\n",
       "    }\n",
       "\n",
       "    .dataframe thead th {\n",
       "        text-align: right;\n",
       "    }\n",
       "</style>\n",
       "<table border=\"1\" class=\"dataframe\">\n",
       "  <thead>\n",
       "    <tr style=\"text-align: right;\">\n",
       "      <th></th>\n",
       "      <th>0</th>\n",
       "      <th>0</th>\n",
       "    </tr>\n",
       "  </thead>\n",
       "  <tbody>\n",
       "    <tr>\n",
       "      <th>0</th>\n",
       "      <td>1.000000</td>\n",
       "      <td>1.000000</td>\n",
       "    </tr>\n",
       "    <tr>\n",
       "      <th>1</th>\n",
       "      <td>1.666667</td>\n",
       "      <td>1.571429</td>\n",
       "    </tr>\n",
       "    <tr>\n",
       "      <th>2</th>\n",
       "      <td>2.428571</td>\n",
       "      <td>2.189189</td>\n",
       "    </tr>\n",
       "    <tr>\n",
       "      <th>3</th>\n",
       "      <td>3.266667</td>\n",
       "      <td>2.851429</td>\n",
       "    </tr>\n",
       "    <tr>\n",
       "      <th>4</th>\n",
       "      <td>4.161290</td>\n",
       "      <td>3.555698</td>\n",
       "    </tr>\n",
       "    <tr>\n",
       "      <th>5</th>\n",
       "      <td>5.095238</td>\n",
       "      <td>4.299079</td>\n",
       "    </tr>\n",
       "    <tr>\n",
       "      <th>6</th>\n",
       "      <td>6.055118</td>\n",
       "      <td>5.078326</td>\n",
       "    </tr>\n",
       "    <tr>\n",
       "      <th>7</th>\n",
       "      <td>7.031373</td>\n",
       "      <td>5.890004</td>\n",
       "    </tr>\n",
       "    <tr>\n",
       "      <th>8</th>\n",
       "      <td>8.017613</td>\n",
       "      <td>6.730621</td>\n",
       "    </tr>\n",
       "    <tr>\n",
       "      <th>9</th>\n",
       "      <td>8.017613</td>\n",
       "      <td>6.730621</td>\n",
       "    </tr>\n",
       "  </tbody>\n",
       "</table>\n",
       "</div>"
      ],
      "text/plain": [
       "          0         0\n",
       "0  1.000000  1.000000\n",
       "1  1.666667  1.571429\n",
       "2  2.428571  2.189189\n",
       "3  3.266667  2.851429\n",
       "4  4.161290  3.555698\n",
       "5  5.095238  4.299079\n",
       "6  6.055118  5.078326\n",
       "7  7.031373  5.890004\n",
       "8  8.017613  6.730621\n",
       "9  8.017613  6.730621"
      ]
     },
     "execution_count": 27,
     "metadata": {},
     "output_type": "execute_result"
    }
   ],
   "source": [
    "pd.concat([a.ewm(span = 3).mean(), a.ewm(span = 7).mean()], axis = 1)"
   ]
  },
  {
   "cell_type": "code",
   "execution_count": null,
   "metadata": {},
   "outputs": [],
   "source": [
    "pd.concat([a.rolling(window=3, min_periods = 2).mean(), a.rolling(window=5, min_periods = 4).mean(), a.rolling(window=6).mean()], axis = 1)"
   ]
  },
  {
   "cell_type": "code",
   "execution_count": null,
   "metadata": {},
   "outputs": [],
   "source": []
  },
  {
   "cell_type": "code",
   "execution_count": null,
   "metadata": {},
   "outputs": [],
   "source": []
  },
  {
   "cell_type": "code",
   "execution_count": null,
   "metadata": {},
   "outputs": [],
   "source": []
  },
  {
   "cell_type": "code",
   "execution_count": null,
   "metadata": {},
   "outputs": [],
   "source": []
  },
  {
   "cell_type": "code",
   "execution_count": null,
   "metadata": {},
   "outputs": [],
   "source": []
  },
  {
   "cell_type": "code",
   "execution_count": null,
   "metadata": {},
   "outputs": [],
   "source": []
  },
  {
   "cell_type": "code",
   "execution_count": null,
   "metadata": {},
   "outputs": [],
   "source": []
  },
  {
   "cell_type": "code",
   "execution_count": null,
   "metadata": {},
   "outputs": [],
   "source": []
  },
  {
   "cell_type": "code",
   "execution_count": null,
   "metadata": {},
   "outputs": [],
   "source": []
  },
  {
   "cell_type": "code",
   "execution_count": null,
   "metadata": {},
   "outputs": [],
   "source": []
  },
  {
   "cell_type": "code",
   "execution_count": null,
   "metadata": {},
   "outputs": [],
   "source": []
  },
  {
   "cell_type": "code",
   "execution_count": null,
   "metadata": {},
   "outputs": [],
   "source": []
  },
  {
   "cell_type": "code",
   "execution_count": null,
   "metadata": {},
   "outputs": [],
   "source": []
  },
  {
   "cell_type": "code",
   "execution_count": null,
   "metadata": {},
   "outputs": [],
   "source": []
  },
  {
   "cell_type": "code",
   "execution_count": null,
   "metadata": {},
   "outputs": [],
   "source": []
  },
  {
   "cell_type": "code",
   "execution_count": null,
   "metadata": {},
   "outputs": [],
   "source": []
  },
  {
   "cell_type": "code",
   "execution_count": null,
   "metadata": {},
   "outputs": [],
   "source": []
  },
  {
   "cell_type": "code",
   "execution_count": null,
   "metadata": {},
   "outputs": [],
   "source": []
  },
  {
   "cell_type": "code",
   "execution_count": null,
   "metadata": {},
   "outputs": [],
   "source": []
  },
  {
   "cell_type": "code",
   "execution_count": null,
   "metadata": {},
   "outputs": [],
   "source": []
  },
  {
   "cell_type": "code",
   "execution_count": null,
   "metadata": {},
   "outputs": [],
   "source": []
  },
  {
   "cell_type": "code",
   "execution_count": null,
   "metadata": {},
   "outputs": [],
   "source": []
  },
  {
   "cell_type": "code",
   "execution_count": null,
   "metadata": {},
   "outputs": [],
   "source": []
  },
  {
   "cell_type": "code",
   "execution_count": null,
   "metadata": {},
   "outputs": [],
   "source": []
  },
  {
   "cell_type": "code",
   "execution_count": null,
   "metadata": {},
   "outputs": [],
   "source": []
  },
  {
   "cell_type": "code",
   "execution_count": null,
   "metadata": {},
   "outputs": [],
   "source": []
  },
  {
   "cell_type": "code",
   "execution_count": null,
   "metadata": {},
   "outputs": [],
   "source": []
  }
 ],
 "metadata": {
  "kernelspec": {
   "display_name": "Python 3",
   "language": "python",
   "name": "python3"
  },
  "language_info": {
   "codemirror_mode": {
    "name": "ipython",
    "version": 3
   },
   "file_extension": ".py",
   "mimetype": "text/x-python",
   "name": "python",
   "nbconvert_exporter": "python",
   "pygments_lexer": "ipython3",
   "version": "3.7.0"
  }
 },
 "nbformat": 4,
 "nbformat_minor": 2
}
