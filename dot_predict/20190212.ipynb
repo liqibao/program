{
 "cells": [
  {
   "cell_type": "code",
   "execution_count": 1,
   "metadata": {},
   "outputs": [
    {
     "name": "stdout",
     "output_type": "stream",
     "text": [
      "['20181207dot1.xlsx', '20181207_莉娜_点部#1.xlsx', '20181207_莉娜_点部#2.xlsx', '20181207_莉娜_点部#3.xlsx', '20190103_1.csv', '20190103_2.csv', '20190103_点部取货量_1.xlsx', '20190103_点部取货量_2.xlsx', '20190103_点部派货量_1.xlsx', '20190103_点部派货量_2.xlsx', 'accurate.xlsx', 'comments.txt', 'dot_result.csv', 'dot_result_new.csv', 'feature_importance.png', 'rmse1.csv', 'test.csv', 'test_predict.png']\n"
     ]
    }
   ],
   "source": [
    "import os\n",
    "import numpy as np\n",
    "import pandas as pd\n",
    "import matplotlib.pyplot as plt\n",
    "\n",
    "from matplotlib.pylab import rcParams\n",
    "from statsmodels.tsa.stattools import adfuller\n",
    "from statsmodels.tsa.arima_model import ARIMA, ARMA\n",
    "from statsmodels.tsa.stattools import acf, pacf\n",
    "\n",
    "import xgboost as xgb\n",
    "from xgboost import plot_importance\n",
    "from statsmodels.graphics.tsaplots import plot_acf, plot_pacf\n",
    "import warnings\n",
    "\n",
    "import datetime\n",
    "warnings.filterwarnings('ignore')\n",
    "path = \"D:/program/program1/Cargo_forecast/dot_data_all/\"\n",
    "print(os.listdir(path))"
   ]
  },
  {
   "cell_type": "code",
   "execution_count": 2,
   "metadata": {},
   "outputs": [],
   "source": [
    "rcParams['figure.figsize'] = 16,4"
   ]
  },
  {
   "cell_type": "markdown",
   "metadata": {},
   "source": [
    "## 读取数据"
   ]
  },
  {
   "cell_type": "code",
   "execution_count": 3,
   "metadata": {},
   "outputs": [],
   "source": [
    "dot_data_1 = pd.read_excel(path + '20190103_点部取货量_1.xlsx', parse_dates=[1])\n",
    "dot_data_2 = pd.read_excel(path + '20190103_点部取货量_2.xlsx', parse_dates = [1])"
   ]
  },
  {
   "cell_type": "code",
   "execution_count": 4,
   "metadata": {},
   "outputs": [
    {
     "data": {
      "text/html": [
       "<div>\n",
       "<style scoped>\n",
       "    .dataframe tbody tr th:only-of-type {\n",
       "        vertical-align: middle;\n",
       "    }\n",
       "\n",
       "    .dataframe tbody tr th {\n",
       "        vertical-align: top;\n",
       "    }\n",
       "\n",
       "    .dataframe thead th {\n",
       "        text-align: right;\n",
       "    }\n",
       "</style>\n",
       "<table border=\"1\" class=\"dataframe\">\n",
       "  <thead>\n",
       "    <tr style=\"text-align: right;\">\n",
       "      <th></th>\n",
       "      <th>dot</th>\n",
       "      <th>order_date</th>\n",
       "      <th>order_num</th>\n",
       "      <th>num</th>\n",
       "      <th>jifei_weight</th>\n",
       "      <th>shiji_weight</th>\n",
       "      <th>longitude</th>\n",
       "      <th>latitude</th>\n",
       "    </tr>\n",
       "  </thead>\n",
       "  <tbody>\n",
       "    <tr>\n",
       "      <th>0</th>\n",
       "      <td>13825092291</td>\n",
       "      <td>2017-05-23</td>\n",
       "      <td>1</td>\n",
       "      <td>1</td>\n",
       "      <td>1.0</td>\n",
       "      <td>1.0</td>\n",
       "      <td>NaN</td>\n",
       "      <td>NaN</td>\n",
       "    </tr>\n",
       "    <tr>\n",
       "      <th>1</th>\n",
       "      <td>15102680258</td>\n",
       "      <td>2017-06-06</td>\n",
       "      <td>1</td>\n",
       "      <td>1</td>\n",
       "      <td>1.0</td>\n",
       "      <td>1.0</td>\n",
       "      <td>NaN</td>\n",
       "      <td>NaN</td>\n",
       "    </tr>\n",
       "    <tr>\n",
       "      <th>2</th>\n",
       "      <td>ERP客户系统组</td>\n",
       "      <td>2017-06-09</td>\n",
       "      <td>1</td>\n",
       "      <td>1</td>\n",
       "      <td>3.0</td>\n",
       "      <td>3.0</td>\n",
       "      <td>NaN</td>\n",
       "      <td>NaN</td>\n",
       "    </tr>\n",
       "    <tr>\n",
       "      <th>3</th>\n",
       "      <td>IT采购组</td>\n",
       "      <td>2017-04-13</td>\n",
       "      <td>8</td>\n",
       "      <td>8</td>\n",
       "      <td>8.0</td>\n",
       "      <td>8.0</td>\n",
       "      <td>NaN</td>\n",
       "      <td>NaN</td>\n",
       "    </tr>\n",
       "    <tr>\n",
       "      <th>4</th>\n",
       "      <td>IT采购组</td>\n",
       "      <td>2017-05-03</td>\n",
       "      <td>4</td>\n",
       "      <td>5</td>\n",
       "      <td>10.0</td>\n",
       "      <td>10.0</td>\n",
       "      <td>NaN</td>\n",
       "      <td>NaN</td>\n",
       "    </tr>\n",
       "  </tbody>\n",
       "</table>\n",
       "</div>"
      ],
      "text/plain": [
       "           dot order_date  order_num  num  jifei_weight  shiji_weight  \\\n",
       "0  13825092291 2017-05-23          1    1           1.0           1.0   \n",
       "1  15102680258 2017-06-06          1    1           1.0           1.0   \n",
       "2     ERP客户系统组 2017-06-09          1    1           3.0           3.0   \n",
       "3        IT采购组 2017-04-13          8    8           8.0           8.0   \n",
       "4        IT采购组 2017-05-03          4    5          10.0          10.0   \n",
       "\n",
       "   longitude  latitude  \n",
       "0        NaN       NaN  \n",
       "1        NaN       NaN  \n",
       "2        NaN       NaN  \n",
       "3        NaN       NaN  \n",
       "4        NaN       NaN  "
      ]
     },
     "execution_count": 4,
     "metadata": {},
     "output_type": "execute_result"
    }
   ],
   "source": [
    "dot_data = pd.concat([dot_data_1,dot_data_2],ignore_index = True)\n",
    "data = dot_data.copy()\n",
    "data.head()"
   ]
  },
  {
   "cell_type": "code",
   "execution_count": 5,
   "metadata": {},
   "outputs": [],
   "source": [
    "data = data.drop(['num', 'jifei_weight', 'shiji_weight', 'longitude', 'latitude'], axis = 1)"
   ]
  },
  {
   "cell_type": "code",
   "execution_count": 6,
   "metadata": {},
   "outputs": [
    {
     "data": {
      "text/html": [
       "<div>\n",
       "<style scoped>\n",
       "    .dataframe tbody tr th:only-of-type {\n",
       "        vertical-align: middle;\n",
       "    }\n",
       "\n",
       "    .dataframe tbody tr th {\n",
       "        vertical-align: top;\n",
       "    }\n",
       "\n",
       "    .dataframe thead th {\n",
       "        text-align: right;\n",
       "    }\n",
       "</style>\n",
       "<table border=\"1\" class=\"dataframe\">\n",
       "  <thead>\n",
       "    <tr style=\"text-align: right;\">\n",
       "      <th></th>\n",
       "      <th>dot</th>\n",
       "      <th>order_date</th>\n",
       "      <th>order_num</th>\n",
       "    </tr>\n",
       "    <tr>\n",
       "      <th>order_date</th>\n",
       "      <th></th>\n",
       "      <th></th>\n",
       "      <th></th>\n",
       "    </tr>\n",
       "  </thead>\n",
       "  <tbody>\n",
       "    <tr>\n",
       "      <th>2017-05-23</th>\n",
       "      <td>13825092291</td>\n",
       "      <td>2017-05-23</td>\n",
       "      <td>1</td>\n",
       "    </tr>\n",
       "    <tr>\n",
       "      <th>2017-06-06</th>\n",
       "      <td>15102680258</td>\n",
       "      <td>2017-06-06</td>\n",
       "      <td>1</td>\n",
       "    </tr>\n",
       "    <tr>\n",
       "      <th>2017-06-09</th>\n",
       "      <td>ERP客户系统组</td>\n",
       "      <td>2017-06-09</td>\n",
       "      <td>1</td>\n",
       "    </tr>\n",
       "    <tr>\n",
       "      <th>2017-04-13</th>\n",
       "      <td>IT采购组</td>\n",
       "      <td>2017-04-13</td>\n",
       "      <td>8</td>\n",
       "    </tr>\n",
       "    <tr>\n",
       "      <th>2017-05-03</th>\n",
       "      <td>IT采购组</td>\n",
       "      <td>2017-05-03</td>\n",
       "      <td>4</td>\n",
       "    </tr>\n",
       "  </tbody>\n",
       "</table>\n",
       "</div>"
      ],
      "text/plain": [
       "                    dot order_date  order_num\n",
       "order_date                                   \n",
       "2017-05-23  13825092291 2017-05-23          1\n",
       "2017-06-06  15102680258 2017-06-06          1\n",
       "2017-06-09     ERP客户系统组 2017-06-09          1\n",
       "2017-04-13        IT采购组 2017-04-13          8\n",
       "2017-05-03        IT采购组 2017-05-03          4"
      ]
     },
     "execution_count": 6,
     "metadata": {},
     "output_type": "execute_result"
    }
   ],
   "source": [
    "data_ts = data.copy()\n",
    "data_ts.index = pd.to_datetime(data['order_date'])\n",
    "data_ts.head()"
   ]
  },
  {
   "cell_type": "markdown",
   "metadata": {},
   "source": [
    "## 数据预处理"
   ]
  },
  {
   "cell_type": "code",
   "execution_count": 7,
   "metadata": {},
   "outputs": [
    {
     "data": {
      "text/html": [
       "<div>\n",
       "<style scoped>\n",
       "    .dataframe tbody tr th:only-of-type {\n",
       "        vertical-align: middle;\n",
       "    }\n",
       "\n",
       "    .dataframe tbody tr th {\n",
       "        vertical-align: top;\n",
       "    }\n",
       "\n",
       "    .dataframe thead th {\n",
       "        text-align: right;\n",
       "    }\n",
       "</style>\n",
       "<table border=\"1\" class=\"dataframe\">\n",
       "  <thead>\n",
       "    <tr style=\"text-align: right;\">\n",
       "      <th></th>\n",
       "      <th>dot</th>\n",
       "      <th>order_date</th>\n",
       "      <th>order_num</th>\n",
       "    </tr>\n",
       "    <tr>\n",
       "      <th>order_date</th>\n",
       "      <th></th>\n",
       "      <th></th>\n",
       "      <th></th>\n",
       "    </tr>\n",
       "  </thead>\n",
       "  <tbody>\n",
       "    <tr>\n",
       "      <th>2017-12-01</th>\n",
       "      <td>坂田上雪点部</td>\n",
       "      <td>2017-12-01</td>\n",
       "      <td>313</td>\n",
       "    </tr>\n",
       "    <tr>\n",
       "      <th>2017-12-01</th>\n",
       "      <td>嘉定城区点部</td>\n",
       "      <td>2017-12-01</td>\n",
       "      <td>20</td>\n",
       "    </tr>\n",
       "    <tr>\n",
       "      <th>2017-12-01</th>\n",
       "      <td>荔湾芳村二级装卸组</td>\n",
       "      <td>2017-12-01</td>\n",
       "      <td>1</td>\n",
       "    </tr>\n",
       "    <tr>\n",
       "      <th>2017-12-01</th>\n",
       "      <td>无锡旺庄点部</td>\n",
       "      <td>2017-12-01</td>\n",
       "      <td>58</td>\n",
       "    </tr>\n",
       "    <tr>\n",
       "      <th>2017-12-01</th>\n",
       "      <td>宝安机场分拨一区包车组</td>\n",
       "      <td>2017-12-01</td>\n",
       "      <td>2</td>\n",
       "    </tr>\n",
       "  </tbody>\n",
       "</table>\n",
       "</div>"
      ],
      "text/plain": [
       "                    dot order_date  order_num\n",
       "order_date                                   \n",
       "2017-12-01       坂田上雪点部 2017-12-01        313\n",
       "2017-12-01       嘉定城区点部 2017-12-01         20\n",
       "2017-12-01    荔湾芳村二级装卸组 2017-12-01          1\n",
       "2017-12-01       无锡旺庄点部 2017-12-01         58\n",
       "2017-12-01  宝安机场分拨一区包车组 2017-12-01          2"
      ]
     },
     "execution_count": 7,
     "metadata": {},
     "output_type": "execute_result"
    }
   ],
   "source": [
    "data_ts.sort_index(ascending = True, inplace = True)\n",
    "tmp = data_ts['2017-12':]\n",
    "tmp.head()"
   ]
  },
  {
   "cell_type": "code",
   "execution_count": 8,
   "metadata": {},
   "outputs": [
    {
     "data": {
      "text/plain": [
       "338"
      ]
     },
     "execution_count": 8,
     "metadata": {},
     "output_type": "execute_result"
    }
   ],
   "source": [
    "data_count = pd.DataFrame(tmp['order_date'].groupby(tmp['dot']).count())\n",
    "data_count.reset_index(inplace = True)\n",
    "useful_dot_name = data_count.loc[data_count['order_date'] >= 390, ['dot']]\n",
    "len(useful_dot_name)"
   ]
  },
  {
   "cell_type": "code",
   "execution_count": 9,
   "metadata": {},
   "outputs": [],
   "source": [
    "dot_preprocessing = pd.DataFrame()\n",
    "for i, dot in enumerate(useful_dot_name['dot']):\n",
    "    one_dot = data.loc[data['dot'] == dot]\n",
    "    one_dot = one_dot.loc[one_dot[\"order_date\"] >= pd.to_datetime('2017-12-01')]\n",
    "    num_median = np.median(one_dot['order_num'])\n",
    "    ts = pd.date_range('2017-12-01', '2018-12-31')\n",
    "    df_ts = pd.DataFrame(ts, columns = ['order_date'])\n",
    "    df_ts['dot'] = dot\n",
    "    df_ts['dot_id'] = i + 1\n",
    "    merge_res = pd.merge(df_ts, one_dot, how= 'left')\n",
    "#     merge_res = merge_res.loc[merge_res[\"order_date\"] >= pd.to_datetime('2017-12-01')]\n",
    "    merge_res['order_num'].fillna(num_median, inplace = True)\n",
    "    if len(merge_res) >= 390:\n",
    "        dot_preprocessing = pd.concat([dot_preprocessing, merge_res], axis = 0,ignore_index = True)"
   ]
  },
  {
   "cell_type": "code",
   "execution_count": 10,
   "metadata": {},
   "outputs": [
    {
     "name": "stdout",
     "output_type": "stream",
     "text": [
      "<class 'pandas.core.frame.DataFrame'>\n",
      "Int64Index: 133848 entries, 0 to 133847\n",
      "Data columns (total 4 columns):\n",
      "dot           133848 non-null object\n",
      "dot_id        133848 non-null int64\n",
      "order_date    133848 non-null datetime64[ns]\n",
      "order_num     133848 non-null float64\n",
      "dtypes: datetime64[ns](1), float64(1), int64(1), object(1)\n",
      "memory usage: 5.1+ MB\n"
     ]
    }
   ],
   "source": [
    "dot_prep = dot_preprocessing[['dot', 'dot_id', 'order_date', 'order_num']]\n",
    "dot_prep.sort_values(by = ['order_date'], inplace = True)\n",
    "dot_prep.info()"
   ]
  },
  {
   "cell_type": "markdown",
   "metadata": {},
   "source": [
    "## 创建特征"
   ]
  },
  {
   "cell_type": "code",
   "execution_count": 11,
   "metadata": {},
   "outputs": [],
   "source": [
    "def create_feature(data):\n",
    "    # 时间\n",
    "    dot_prep_1 = data.copy()\n",
    "    \n",
    "    dot_prep_1['year'] = dot_prep_1.order_date.dt.year\n",
    "    dot_prep_1['month'] = dot_prep_1.order_date.dt.month\n",
    "    dot_prep_1['day'] = dot_prep_1.order_date.dt.day\n",
    "    dot_prep_1['dayofweek'] = dot_prep_1.order_date.dt.dayofweek\n",
    "    dot_prep_1['dayofyear'] = dot_prep_1.order_date.dt.dayofyear\n",
    "    dot_prep_1['weekofyear'] = dot_prep_1.order_date.dt.weekofyear\n",
    "    \n",
    "    weekofsun = pd.date_range('2017-12-01', periods = round(len(dot_prep['order_date'].unique())/7), freq = 'W-SUN')\n",
    "    dot_prep_1['weekofsun'] = 0\n",
    "    dot_prep_1.loc[dot_prep_1['order_date'].isin(weekofsun), ['weekofsun']] = 1\n",
    "    \n",
    "#     dot_prep_1['season'] = 1\n",
    "#     dot_prep_1.loc[dot_prep_1['month'].isin([1,2,3]), ['season']] = 1\n",
    "#     dot_prep_1.loc[dot_prep_1['month'].isin([4,5,6]), ['season']] = 2\n",
    "#     dot_prep_1.loc[dot_prep_1['month'].isin([7,8,9]), ['season']] = 3\n",
    "#     dot_prep_1.loc[dot_prep_1['month'].isin([10,11,12]), ['season']] = 4\n",
    "    \n",
    "    dot_prep_1['holidays'] = 0\n",
    "    dot_prep_1.loc[dot_prep_1['order_date'].isin(\n",
    "    pd.to_datetime(['2017-01-01', '2018-01-01', '2019-01-01', '2020-01-01', '2021-01-01', '2017-01-23','2017-01-24', '2017-01-25',\n",
    "                    '2017-01-26','2017-01-27', '2017-01-28', '2017-01-29', '2017-01-30', '2017-01-31', '2017-02-01', '2017-02-02',\n",
    "                    '2017-02-03','2017-02-04','2018-02-12', '2018-02-13',  '2018-02-14','2018-02-15', '2018-02-16', '2018-02-17', \n",
    "                    '2018-02-18', '2018-02-19', '2018-02-20', '2018-02-21','2018-02-22','2018-02-23', '2018-02-24', '2019-02-01', \n",
    "                    '2019-02-02', '2019-02-03','2019-02-04', '2019-02-05', '2019-02-06', '2019-02-07', '2019-02-08', '2019-02-09', \n",
    "                    '2019-02-10', '2019-02-11', '2019-02-12', '2019-02-13','2017-04-02', '2017-04-03', '2017-04-04', '2018-04-05', \n",
    "                    '2018-04-06', '2018-04-07', '2019-04-05', '2019-04-06', '2019-04-07','2017-05-01', '2017-05-02', '2017-05-03', \n",
    "                    '2018-05-01', '2018-05-02', '2018-05-03', '2019-05-01', '2019-05-02', '2019-05-03','2017-05-30', '2018-06-18', \n",
    "                    '2019-06-07', '2017-10-04', '2018-09-22', '2018-09-23', '2018-09-24', '2019-09-13', '2019-09-14', '2019-09-15',\n",
    "                    '2017-10-01', '2017-10-02', '2017-10-03',  '2017-10-04', '2017-10-05', '2017-10-06', '2017-10-07','2018-10-01',\n",
    "                    '2018-10-02', '2018-10-03', '2018-10-04', '2018-10-05', '2018-10-06', '2018-10-07', '2019-10-01', '2019-10-02', \n",
    "                    '2019-10-03', '2019-10-04', '2019-10-05', '2019-10-06', '2019-10-07'])), ['holidays']] = 1\n",
    "    \n",
    "    # lagging\n",
    "    dot_prep_ts = data.copy()\n",
    "    dot_prep_ts.index = pd.to_datetime(dot_prep_ts['order_date'])\n",
    "    \n",
    "    dot_prep_2 = pd.DataFrame()\n",
    "    for dot in useful_dot_name['dot']:\n",
    "        dot_ts = dot_prep_ts.loc[dot_prep_ts['dot'] == dot, ['order_num']]\n",
    "        lagging = pd.concat([dot_ts.shift(1), dot_ts.shift(2), dot_ts.shift(3), dot_ts.shift(4), dot_ts.shift(5), dot_ts.shift(6), dot_ts.shift(7)], axis = 1)\n",
    "        lagging.columns = ['lagging1', 'lagging2', 'lagging3', 'lagging4', 'lagging5', 'lagging6', 'lagging7']\n",
    "        lagging['dot'] = dot\n",
    "        lagging['order_date'] = dot_ts.index\n",
    "        lagging.dropna(axis = 0, inplace = True)\n",
    "        dot_prep_2 = pd.concat([dot_prep_2, lagging], axis = 0)\n",
    "    dot_prep_2.reset_index(drop = True, inplace = True)\n",
    "    \n",
    "    # rolling\n",
    "    dot_prep_3 = pd.DataFrame()\n",
    "    for dot in useful_dot_name['dot']:\n",
    "        dot_ts = dot_prep_ts.loc[dot_prep_ts['dot'] == dot, ['order_num']]\n",
    "        rolling = pd.concat([dot_ts.rolling(window = 3).mean(), dot_ts.rolling(window = 7).mean()], axis = 1)\n",
    "        rolling.columns = ['rolling3', 'rolling7']\n",
    "        rolling['dot'] = dot\n",
    "        rolling['order_date'] = dot_ts.index\n",
    "        rolling.dropna(axis = 0, inplace = True)\n",
    "        dot_prep_3 = pd.concat([dot_prep_3, rolling], axis = 0)\n",
    "    dot_prep_3.reset_index(drop = True, inplace = True)\n",
    "    \n",
    "    # merge\n",
    "    dot_prep_result_tmp = pd.merge(dot_prep_1, dot_prep_2, how = 'right', on = ['dot', 'order_date'])\n",
    "    dot_prep_result = pd.merge(dot_prep_result_tmp, dot_prep_3, how = 'left', on = ['dot', 'order_date'])\n",
    "    dot_prep_result.sort_values(by = 'order_date', ascending = True, inplace = True)\n",
    "#     dot_prep_result.drop(['dot', 'order_date'], axis = 1, inplace = True)\n",
    "    \n",
    "    return dot_prep_result"
   ]
  },
  {
   "cell_type": "code",
   "execution_count": 12,
   "metadata": {},
   "outputs": [],
   "source": [
    "dot_prep_feature = create_feature(dot_prep)"
   ]
  },
  {
   "cell_type": "code",
   "execution_count": 13,
   "metadata": {},
   "outputs": [],
   "source": [
    "dot_train = dot_prep_feature[: -(30 * 338)]\n",
    "dot_test = dot_prep_feature[-(30 * 338) :]   # 每个点部留一个月数据做测试"
   ]
  },
  {
   "cell_type": "code",
   "execution_count": 14,
   "metadata": {},
   "outputs": [],
   "source": [
    "dot_xtrain = dot_train.drop(['order_num'], axis = 1)\n",
    "dot_ytrain = dot_train['order_num']\n",
    "dot_xtest = dot_test.drop(['order_num'], axis = 1)\n",
    "dot_ytest = dot_test['order_num']"
   ]
  },
  {
   "cell_type": "markdown",
   "metadata": {},
   "source": [
    "## 评估函数"
   ]
  },
  {
   "cell_type": "code",
   "execution_count": 15,
   "metadata": {},
   "outputs": [],
   "source": [
    "def RMSE(y_test, y_pred):\n",
    "    return np.sqrt(np.sum((y_test - y_pred) ** 2)/len(y_test))\n",
    "\n",
    "def MAE(y_test, y_pred):\n",
    "    return np.sum(np.abs(y_test - y_pred))/len(y_test)"
   ]
  },
  {
   "cell_type": "code",
   "execution_count": 16,
   "metadata": {},
   "outputs": [],
   "source": [
    "def xgboost_model(x_train, y_train):\n",
    "    params = {\n",
    "        \"learning_rate\": 0.01,                   # [0,1]， 默认0.3\n",
    "        \"n_estimators\": 3300,\n",
    "        \"max_depth\": 5,                         # [0,∞]， 默认6\n",
    "        \"min_child_weight\": 3,                  # [0,∞]， 默认1\n",
    "        \"gamma\": 0.5,                             # [0,∞]， 默认0\n",
    "        \"subsample\": 0.9,                       # (0,1]， 默认1\n",
    "        \"colsample_bytree\": 0.8,                # (0,1]， 默认1\n",
    "        \"silent\": 1,                            # 默认0，输出信息\n",
    "        \"reg_alpha\" : 0.05,\n",
    "        \"reg_lambda\" : 0.05,\n",
    "        \"seed\": 21\n",
    "    }\n",
    "    print(\"train_start : \", datetime.datetime.now().strftime(\"%Y-%m-%d %H:%M:%S\"))\n",
    "    gbm = xgb.XGBRegressor(**params)\n",
    "    gbm.fit(x_train.drop(['dot', 'order_date'], axis = 1), y_train)\n",
    "    \n",
    "    for column, importance in zip(x_train.drop(['dot', 'order_date'], axis = 1).columns, gbm.feature_importances_):\n",
    "        print(column, '\\t', importance)\n",
    "    # plot_importance(gbm)\n",
    "    # plt.savefig(path + \"feature_importance.png\")\n",
    "    print(\"train_end : \", datetime.datetime.now().strftime(\"%Y-%m-%d %H:%M:%S\"))\n",
    "    return gbm\n",
    "\n",
    "def xgb_predict(gbm, dot_train, x_test, y_test, path):\n",
    "    # 验证\n",
    "    dot_train['order_date'] = dot_train['order_date'] + pd.DateOffset(days = 1)\n",
    "    dot_train['lagging7'] = dot_train['lagging6']\n",
    "    dot_train['lagging6'] = dot_train['lagging5']\n",
    "    dot_train['lagging5'] = dot_train['lagging4']\n",
    "    dot_train['lagging4'] = dot_train['lagging3']\n",
    "    dot_train['lagging3'] = dot_train['lagging2']\n",
    "    dot_train['lagging2'] = dot_train['lagging1']\n",
    "    dot_train['lagging1'] = dot_train['order_num']\n",
    "    \n",
    "    print(\"predict_start : \", datetime.datetime.now().strftime(\"%Y-%m-%d %H:%M:%S\"))\n",
    "    for order_date in x_test['order_date'].unique():\n",
    "        test_X = dot_train[dot_train['order_date'] == order_date]\n",
    "        y_pre = gbm.predict(test_X.drop(['dot', 'order_date', 'order_num'], axis = 1))\n",
    "        \n",
    "        dot_train['lagging7'] = dot_train['lagging6']\n",
    "        dot_train['lagging6'] = dot_train['lagging5']\n",
    "        dot_train['lagging5'] = dot_train['lagging4']\n",
    "        dot_train['lagging4'] = dot_train['lagging3']\n",
    "        dot_train['lagging3'] = dot_train['lagging2']\n",
    "        dot_train['lagging2'] = dot_train['lagging1']\n",
    "        dot_train['lagging1'] = y_pre\n",
    "        \n",
    "        dot_train['order_date'] = dot_train['order_date'] + pd.DateOffset(days = 1)\n",
    "        \n",
    "        \n",
    "    print(\"predict_end : \", datetime.datetime.now().strftime(\"%Y-%m-%d %H:%M:%S\"))\n",
    "    result = pd.DataFrame({'dot' : x_test['dot'], 'order_date' : x_test['order_date'], 'y_test' : y_test, 'y_pre' : y_pre})\n",
    "    result['RMSE'] = RMSE(y_test, y_pre)\n",
    "    result['MAE'] = MAE(y_test, y_pre)\n",
    "    print(\"MAE : \", MAE(y_test, y_pre), \" RMSE : \", RMSE(y_test, y_pre))\n",
    "    \n",
    "    result.to_csv(path + \"dot_result.csv\", encoding = 'GBK', index = False)\n",
    "    return result"
   ]
  },
  {
   "cell_type": "code",
   "execution_count": 27,
   "metadata": {},
   "outputs": [
    {
     "name": "stdout",
     "output_type": "stream",
     "text": [
      "start :  2019-02-12 17:18:11\n",
      "end :  2019-02-12 17:24:59\n",
      "year \t 0.00029687292\n",
      "month \t 0.007960593\n",
      "day \t 0.020077407\n",
      "dayofweek \t 0.04467388\n",
      "dayofyear \t 0.017955314\n",
      "weekofyear \t 0.0027268329\n",
      "weekofsun \t 0.004980868\n",
      "holidays \t 0.014271892\n",
      "lagging1 \t 0.20088401\n",
      "lagging2 \t 0.18685402\n",
      "lagging3 \t 0.03553679\n",
      "lagging4 \t 0.03338171\n",
      "lagging5 \t 0.03102872\n",
      "lagging6 \t 0.035349872\n",
      "lagging7 \t 0.05371201\n",
      "rolling3 \t 0.24788891\n",
      "rolling7 \t 0.062420283\n"
     ]
    }
   ],
   "source": [
    "gbm = xgboost_model(dot_xtrain, dot_ytrain, dot_xtest, dot_ytest, path)\n",
    "result = xgb_predict(gbm, x_test, y_test, path)"
   ]
  },
  {
   "cell_type": "code",
   "execution_count": 31,
   "metadata": {},
   "outputs": [
    {
     "data": {
      "image/png": "[encoded data removed]",
      "text/plain": [
       "<Figure size 576x288 with 1 Axes>"
      ]
     },
     "metadata": {
      "needs_background": "light"
     },
     "output_type": "display_data"
    },
    {
     "data": {
      "image/png": "[encoded data removed]",
      "text/plain": [
       "<Figure size 576x288 with 1 Axes>"
      ]
     },
     "metadata": {
      "needs_background": "light"
     },
     "output_type": "display_data"
    },
    {
     "data": {
      "image/png": "[encoded data removed]",
      "text/plain": [
       "<Figure size 576x288 with 1 Axes>"
      ]
     },
     "metadata": {
      "needs_background": "light"
     },
     "output_type": "display_data"
    }
   ],
   "source": [
    "plt.rcParams['font.sans-serif']=['SimHei']\n",
    "col_1 = ['y_test','y_pre']\n",
    "L = np.random.randint( low = 0, high = 337, size = 3 )\n",
    "for i in L:\n",
    "    s1 = pd.DataFrame(result[result['dot'] == result['dot'].unique()[i]], columns = col_1)\n",
    "    s1.plot(title = 'dot {}'.format(result['dot'].unique()[i]), figsize = (8,4))"
   ]
  },
  {
   "cell_type": "code",
   "execution_count": null,
   "metadata": {},
   "outputs": [],
   "source": []
  },
  {
   "cell_type": "code",
   "execution_count": null,
   "metadata": {},
   "outputs": [],
   "source": []
  },
  {
   "cell_type": "code",
   "execution_count": null,
   "metadata": {},
   "outputs": [],
   "source": []
  },
  {
   "cell_type": "code",
   "execution_count": null,
   "metadata": {},
   "outputs": [],
   "source": []
  },
  {
   "cell_type": "code",
   "execution_count": null,
   "metadata": {},
   "outputs": [],
   "source": []
  },
  {
   "cell_type": "code",
   "execution_count": null,
   "metadata": {},
   "outputs": [],
   "source": [
    "# def xgboost_model(x_train, y_train, x_test, y_test, path):\n",
    "#     params = {\n",
    "#         \"learning_rate\": 0.01,                   # [0,1]， 默认0.3\n",
    "#         \"n_estimators\": 3300,\n",
    "#         \"max_depth\": 5,                         # [0,∞]， 默认6\n",
    "#         \"min_child_weight\": 3,                  # [0,∞]， 默认1\n",
    "#         \"gamma\": 0.5,                             # [0,∞]， 默认0\n",
    "#         \"subsample\": 0.9,                       # (0,1]， 默认1\n",
    "#         \"colsample_bytree\": 0.8,                # (0,1]， 默认1\n",
    "#         \"silent\": 1,                            # 默认0，输出信息\n",
    "#         \"reg_alpha\" : 0.05,\n",
    "#         \"reg_lambda\" : 0.05,\n",
    "#         \"seed\": 21\n",
    "#     }\n",
    "#     print(\"start : \", datetime.datetime.now().strftime(\"%Y-%m-%d %H:%M:%S\"))\n",
    "#     gbm = xgb.XGBRegressor(**params)\n",
    "#     gbm.fit(x_train.drop(['dot', 'order_date'], axis = 1), y_train)\n",
    "    \n",
    "#     x_test['lagging7'] = x_test['lagging6']\n",
    "#     x_test['lagging6'] = x_test['lagging5']\n",
    "#     x_test['lagging5'] = x_test['lagging4']\n",
    "#     x_test['lagging4'] = x_test['lagging3']\n",
    "#     x_test['lagging3'] = x_test['lagging2']\n",
    "#     x_test['lagging2'] = x_test['lagging1']\n",
    "#     x_test['lagging1'] = y_test\n",
    "#     for i in range(30):\n",
    "#         y_pre = gbm.predict(x_test.drop(['dot', 'order_date'], axis = 1))\n",
    "        \n",
    "#         x_test['lagging7'] = x_test['lagging6']\n",
    "#         x_test['lagging6'] = x_test['lagging5']\n",
    "#         x_test['lagging5'] = x_test['lagging4']\n",
    "#         x_test['lagging4'] = x_test['lagging3']\n",
    "#         x_test['lagging3'] = x_test['lagging2']\n",
    "#         x_test['lagging2'] = x_test['lagging1']\n",
    "#         x_test['lagging1'] = y_pre\n",
    "        \n",
    "# #         x_test['y_pre'] = y_pre\n",
    "#         x_test['order_date'] = x_test['order_date'] + pd.DateOffset(days = 1)\n",
    "#         result = pd.DataFrame({'dot' : x_test['dot'], 'order_date' : x_test['order_date'], 'y_pre' : y_pre})\n",
    "#         result.to_csv(path + \"dot_result_new.csv\", encoding = 'GBK', mode = 'a', index = False)\n",
    "        \n",
    "#     print(\"end : \", datetime.datetime.now().strftime(\"%Y-%m-%d %H:%M:%S\"))\n",
    "    \n",
    "#     for column, importance in zip(x_train.drop(['dot', 'order_date'], axis = 1).columns, gbm.feature_importances_):\n",
    "#         print(column, '\\t', importance)\n",
    "#     return result"
   ]
  },
  {
   "cell_type": "code",
   "execution_count": null,
   "metadata": {},
   "outputs": [],
   "source": []
  },
  {
   "cell_type": "code",
   "execution_count": null,
   "metadata": {},
   "outputs": [],
   "source": []
  },
  {
   "cell_type": "code",
   "execution_count": null,
   "metadata": {},
   "outputs": [],
   "source": []
  },
  {
   "cell_type": "code",
   "execution_count": null,
   "metadata": {},
   "outputs": [],
   "source": []
  },
  {
   "cell_type": "code",
   "execution_count": null,
   "metadata": {},
   "outputs": [],
   "source": []
  },
  {
   "cell_type": "code",
   "execution_count": null,
   "metadata": {},
   "outputs": [],
   "source": []
  },
  {
   "cell_type": "code",
   "execution_count": null,
   "metadata": {},
   "outputs": [],
   "source": []
  },
  {
   "cell_type": "code",
   "execution_count": null,
   "metadata": {},
   "outputs": [],
   "source": []
  },
  {
   "cell_type": "code",
   "execution_count": null,
   "metadata": {},
   "outputs": [],
   "source": []
  },
  {
   "cell_type": "code",
   "execution_count": null,
   "metadata": {},
   "outputs": [],
   "source": []
  },
  {
   "cell_type": "code",
   "execution_count": null,
   "metadata": {},
   "outputs": [],
   "source": []
  },
  {
   "cell_type": "code",
   "execution_count": null,
   "metadata": {},
   "outputs": [],
   "source": []
  },
  {
   "cell_type": "code",
   "execution_count": null,
   "metadata": {},
   "outputs": [],
   "source": []
  },
  {
   "cell_type": "code",
   "execution_count": null,
   "metadata": {},
   "outputs": [],
   "source": []
  },
  {
   "cell_type": "code",
   "execution_count": null,
   "metadata": {},
   "outputs": [],
   "source": []
  },
  {
   "cell_type": "code",
   "execution_count": null,
   "metadata": {},
   "outputs": [],
   "source": []
  },
  {
   "cell_type": "code",
   "execution_count": null,
   "metadata": {},
   "outputs": [],
   "source": []
  },
  {
   "cell_type": "code",
   "execution_count": null,
   "metadata": {},
   "outputs": [],
   "source": []
  },
  {
   "cell_type": "code",
   "execution_count": null,
   "metadata": {},
   "outputs": [],
   "source": []
  },
  {
   "cell_type": "code",
   "execution_count": null,
   "metadata": {},
   "outputs": [],
   "source": []
  },
  {
   "cell_type": "code",
   "execution_count": null,
   "metadata": {},
   "outputs": [],
   "source": []
  },
  {
   "cell_type": "code",
   "execution_count": null,
   "metadata": {},
   "outputs": [],
   "source": []
  },
  {
   "cell_type": "code",
   "execution_count": null,
   "metadata": {},
   "outputs": [],
   "source": []
  },
  {
   "cell_type": "code",
   "execution_count": null,
   "metadata": {},
   "outputs": [],
   "source": []
  },
  {
   "cell_type": "code",
   "execution_count": null,
   "metadata": {},
   "outputs": [],
   "source": []
  },
  {
   "cell_type": "code",
   "execution_count": null,
   "metadata": {},
   "outputs": [],
   "source": []
  },
  {
   "cell_type": "code",
   "execution_count": null,
   "metadata": {},
   "outputs": [],
   "source": []
  },
  {
   "cell_type": "code",
   "execution_count": null,
   "metadata": {},
   "outputs": [],
   "source": []
  },
  {
   "cell_type": "code",
   "execution_count": null,
   "metadata": {},
   "outputs": [],
   "source": []
  },
  {
   "cell_type": "code",
   "execution_count": null,
   "metadata": {},
   "outputs": [],
   "source": []
  },
  {
   "cell_type": "code",
   "execution_count": null,
   "metadata": {},
   "outputs": [],
   "source": []
  },
  {
   "cell_type": "code",
   "execution_count": null,
   "metadata": {},
   "outputs": [],
   "source": []
  },
  {
   "cell_type": "code",
   "execution_count": null,
   "metadata": {},
   "outputs": [],
   "source": []
  },
  {
   "cell_type": "code",
   "execution_count": null,
   "metadata": {},
   "outputs": [],
   "source": []
  },
  {
   "cell_type": "code",
   "execution_count": null,
   "metadata": {},
   "outputs": [],
   "source": []
  },
  {
   "cell_type": "code",
   "execution_count": null,
   "metadata": {},
   "outputs": [],
   "source": []
  },
  {
   "cell_type": "code",
   "execution_count": null,
   "metadata": {},
   "outputs": [],
   "source": []
  },
  {
   "cell_type": "code",
   "execution_count": null,
   "metadata": {},
   "outputs": [],
   "source": []
  },
  {
   "cell_type": "code",
   "execution_count": null,
   "metadata": {},
   "outputs": [],
   "source": []
  },
  {
   "cell_type": "code",
   "execution_count": null,
   "metadata": {},
   "outputs": [],
   "source": []
  },
  {
   "cell_type": "code",
   "execution_count": null,
   "metadata": {},
   "outputs": [],
   "source": []
  },
  {
   "cell_type": "code",
   "execution_count": null,
   "metadata": {},
   "outputs": [],
   "source": []
  },
  {
   "cell_type": "code",
   "execution_count": null,
   "metadata": {},
   "outputs": [],
   "source": []
  },
  {
   "cell_type": "code",
   "execution_count": null,
   "metadata": {},
   "outputs": [],
   "source": []
  },
  {
   "cell_type": "code",
   "execution_count": null,
   "metadata": {},
   "outputs": [],
   "source": []
  },
  {
   "cell_type": "code",
   "execution_count": null,
   "metadata": {},
   "outputs": [],
   "source": []
  },
  {
   "cell_type": "code",
   "execution_count": null,
   "metadata": {},
   "outputs": [],
   "source": []
  },
  {
   "cell_type": "code",
   "execution_count": null,
   "metadata": {},
   "outputs": [],
   "source": []
  },
  {
   "cell_type": "code",
   "execution_count": null,
   "metadata": {},
   "outputs": [],
   "source": []
  },
  {
   "cell_type": "code",
   "execution_count": null,
   "metadata": {},
   "outputs": [],
   "source": []
  },
  {
   "cell_type": "code",
   "execution_count": null,
   "metadata": {},
   "outputs": [],
   "source": []
  },
  {
   "cell_type": "code",
   "execution_count": null,
   "metadata": {},
   "outputs": [],
   "source": []
  },
  {
   "cell_type": "code",
   "execution_count": null,
   "metadata": {},
   "outputs": [],
   "source": []
  },
  {
   "cell_type": "code",
   "execution_count": null,
   "metadata": {},
   "outputs": [],
   "source": []
  },
  {
   "cell_type": "code",
   "execution_count": null,
   "metadata": {},
   "outputs": [],
   "source": []
  },
  {
   "cell_type": "code",
   "execution_count": null,
   "metadata": {},
   "outputs": [],
   "source": []
  },
  {
   "cell_type": "code",
   "execution_count": null,
   "metadata": {},
   "outputs": [],
   "source": []
  },
  {
   "cell_type": "code",
   "execution_count": null,
   "metadata": {},
   "outputs": [],
   "source": []
  },
  {
   "cell_type": "code",
   "execution_count": null,
   "metadata": {},
   "outputs": [],
   "source": []
  },
  {
   "cell_type": "code",
   "execution_count": null,
   "metadata": {},
   "outputs": [],
   "source": []
  },
  {
   "cell_type": "code",
   "execution_count": null,
   "metadata": {},
   "outputs": [],
   "source": []
  },
  {
   "cell_type": "code",
   "execution_count": null,
   "metadata": {},
   "outputs": [],
   "source": []
  },
  {
   "cell_type": "code",
   "execution_count": null,
   "metadata": {},
   "outputs": [],
   "source": []
  },
  {
   "cell_type": "code",
   "execution_count": null,
   "metadata": {},
   "outputs": [],
   "source": []
  },
  {
   "cell_type": "code",
   "execution_count": null,
   "metadata": {},
   "outputs": [],
   "source": []
  },
  {
   "cell_type": "code",
   "execution_count": null,
   "metadata": {},
   "outputs": [],
   "source": []
  },
  {
   "cell_type": "code",
   "execution_count": null,
   "metadata": {},
   "outputs": [],
   "source": []
  }
 ],
 "metadata": {
  "kernelspec": {
   "display_name": "Python 3",
   "language": "python",
   "name": "python3"
  },
  "language_info": {
   "codemirror_mode": {
    "name": "ipython",
    "version": 3
   },
   "file_extension": ".py",
   "mimetype": "text/x-python",
   "name": "python",
   "nbconvert_exporter": "python",
   "pygments_lexer": "ipython3",
   "version": "3.7.0"
  }
 },
 "nbformat": 4,
 "nbformat_minor": 2
}
