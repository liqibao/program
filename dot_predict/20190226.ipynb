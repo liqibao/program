{
 "cells": [
  {
   "cell_type": "code",
   "execution_count": 1,
   "metadata": {},
   "outputs": [],
   "source": [
    "import os\n",
    "import numpy as np\n",
    "import pandas as pd\n",
    "import matplotlib.pyplot as plt\n",
    "\n",
    "from matplotlib.pylab import rcParams\n",
    "import xgboost as xgb\n",
    "from xgboost import plot_importance\n",
    "import warnings\n",
    "\n",
    "import time\n",
    "import datetime\n",
    "warnings.filterwarnings('ignore')\n",
    "path = \"D:/program/program1/Cargo_forecast/dot_data_all/\""
   ]
  },
  {
   "cell_type": "code",
   "execution_count": 2,
   "metadata": {},
   "outputs": [],
   "source": [
    "dot_num1 = pd.read_csv(path + 'cst1.csv', header = None, names = ['order_date', 'dot', 'company', 'order_num'])\n",
    "dot_num2 = pd.read_csv(path + 'cst2.csv', header = None, names = ['order_date', 'dot', 'company', 'order_num'])"
   ]
  },
  {
   "cell_type": "code",
   "execution_count": 3,
   "metadata": {},
   "outputs": [],
   "source": [
    "dot_info = pd.read_csv(path + 'dot_1.csv', header = None, names = ['dot', 'check_date', 'dot_type', 'city_code', 'area', 'province', 'city', 'district', 'town', 'village'])"
   ]
  },
  {
   "cell_type": "code",
   "execution_count": 3,
   "metadata": {},
   "outputs": [
    {
     "data": {
      "text/plain": [
       "14279441"
      ]
     },
     "execution_count": 3,
     "metadata": {},
     "output_type": "execute_result"
    }
   ],
   "source": [
    "dot_num = pd.concat([dot_num1, dot_num2], ignore_index = True)\n",
    "len(dot_num)\n",
    "dot_num['order_date'] = [str(x)[0:4] +'-'+ str(x)[4:6] +'-'+ str(x)[6:] for x in dot_num['order_date']]\n",
    "dot_num['order_date'] = pd.to_datetime(dot_num['order_date'])"
   ]
  },
  {
   "cell_type": "code",
   "execution_count": 58,
   "metadata": {},
   "outputs": [],
   "source": [
    "dot_data_tmp = dot_num[dot_num['dot'].isin(dot_info['dot'])]"
   ]
  },
  {
   "cell_type": "code",
   "execution_count": 59,
   "metadata": {},
   "outputs": [
    {
     "data": {
      "text/html": [
       "<div>\n",
       "<style scoped>\n",
       "    .dataframe tbody tr th:only-of-type {\n",
       "        vertical-align: middle;\n",
       "    }\n",
       "\n",
       "    .dataframe tbody tr th {\n",
       "        vertical-align: top;\n",
       "    }\n",
       "\n",
       "    .dataframe thead th {\n",
       "        text-align: right;\n",
       "    }\n",
       "</style>\n",
       "<table border=\"1\" class=\"dataframe\">\n",
       "  <thead>\n",
       "    <tr style=\"text-align: right;\">\n",
       "      <th></th>\n",
       "      <th>order_date</th>\n",
       "      <th>dot</th>\n",
       "      <th>company</th>\n",
       "      <th>order_num</th>\n",
       "    </tr>\n",
       "  </thead>\n",
       "  <tbody>\n",
       "    <tr>\n",
       "      <th>1</th>\n",
       "      <td>2017-09-19</td>\n",
       "      <td>甪直澄北点部</td>\n",
       "      <td>广州优之辰光</td>\n",
       "      <td>1</td>\n",
       "    </tr>\n",
       "    <tr>\n",
       "      <th>2</th>\n",
       "      <td>2017-02-28</td>\n",
       "      <td>龙岗碧岭点部</td>\n",
       "      <td>深圳嘉利铧鑫</td>\n",
       "      <td>1</td>\n",
       "    </tr>\n",
       "    <tr>\n",
       "      <th>11</th>\n",
       "      <td>2017-02-26</td>\n",
       "      <td>福田梅林点部</td>\n",
       "      <td>深圳晶明（上梅林）</td>\n",
       "      <td>1</td>\n",
       "    </tr>\n",
       "    <tr>\n",
       "      <th>12</th>\n",
       "      <td>2017-04-13</td>\n",
       "      <td>寮步东坑点部</td>\n",
       "      <td>东莞鼎立(寮步)</td>\n",
       "      <td>1</td>\n",
       "    </tr>\n",
       "    <tr>\n",
       "      <th>13</th>\n",
       "      <td>2017-11-25</td>\n",
       "      <td>华强北燕南点部</td>\n",
       "      <td>北京前海润林</td>\n",
       "      <td>1</td>\n",
       "    </tr>\n",
       "  </tbody>\n",
       "</table>\n",
       "</div>"
      ],
      "text/plain": [
       "   order_date      dot    company  order_num\n",
       "1  2017-09-19   甪直澄北点部     广州优之辰光          1\n",
       "2  2017-02-28   龙岗碧岭点部     深圳嘉利铧鑫          1\n",
       "11 2017-02-26   福田梅林点部  深圳晶明（上梅林）          1\n",
       "12 2017-04-13   寮步东坑点部   东莞鼎立(寮步)          1\n",
       "13 2017-11-25  华强北燕南点部     北京前海润林          1"
      ]
     },
     "execution_count": 59,
     "metadata": {},
     "output_type": "execute_result"
    }
   ],
   "source": [
    "dot_data_tmp.head()"
   ]
  },
  {
   "cell_type": "code",
   "execution_count": 6,
   "metadata": {},
   "outputs": [],
   "source": [
    "dot_data_tmp = dot_data_tmp.drop(['company'], axis = 1)"
   ]
  },
  {
   "cell_type": "code",
   "execution_count": 7,
   "metadata": {},
   "outputs": [],
   "source": [
    "dot_groupby = dot_data_tmp.groupby(['dot', 'order_date']).sum()\n",
    "dot_groupby.reset_index(inplace = True)"
   ]
  },
  {
   "cell_type": "code",
   "execution_count": 17,
   "metadata": {},
   "outputs": [],
   "source": [
    "# a = dot_groupby.loc[dot_groupby['dot'] == '雨花大桥点部']"
   ]
  },
  {
   "cell_type": "code",
   "execution_count": 18,
   "metadata": {},
   "outputs": [],
   "source": [
    "# a.index = a['order_date']"
   ]
  },
  {
   "cell_type": "code",
   "execution_count": 19,
   "metadata": {},
   "outputs": [
    {
     "data": {
      "text/plain": [
       "<matplotlib.axes._subplots.AxesSubplot at 0x23c80f53780>"
      ]
     },
     "execution_count": 19,
     "metadata": {},
     "output_type": "execute_result"
    },
    {
     "data": {
      "image/png": "[encoded data removed]",
      "text/plain": [
       "<Figure size 1152x360 with 1 Axes>"
      ]
     },
     "metadata": {
      "needs_background": "light"
     },
     "output_type": "display_data"
    }
   ],
   "source": [
    "# a.loc[a['dot'] == '雨花大桥点部', ['order_num']].plot(figsize = (16,5))"
   ]
  },
  {
   "cell_type": "code",
   "execution_count": 55,
   "metadata": {},
   "outputs": [
    {
     "data": {
      "text/plain": [
       "<matplotlib.axes._subplots.AxesSubplot at 0x23c823c8550>"
      ]
     },
     "execution_count": 55,
     "metadata": {},
     "output_type": "execute_result"
    },
    {
     "data": {
      "image/png": "[encoded data removed]",
      "text/plain": [
       "<Figure size 1152x360 with 1 Axes>"
      ]
     },
     "metadata": {
      "needs_background": "light"
     },
     "output_type": "display_data"
    }
   ],
   "source": [
    "# b.loc[b['dot'] == '淄博贾村点部', ['order_num']].plot(figsize = (16,5))"
   ]
  },
  {
   "cell_type": "code",
   "execution_count": 53,
   "metadata": {},
   "outputs": [],
   "source": [
    "# b = dot_preprocessing.loc[dot_preprocessing['dot'] == '淄博贾村点部']\n",
    "# b.index = b['order_date']"
   ]
  },
  {
   "cell_type": "code",
   "execution_count": 20,
   "metadata": {},
   "outputs": [
    {
     "data": {
      "text/html": [
       "<div>\n",
       "<style scoped>\n",
       "    .dataframe tbody tr th:only-of-type {\n",
       "        vertical-align: middle;\n",
       "    }\n",
       "\n",
       "    .dataframe tbody tr th {\n",
       "        vertical-align: top;\n",
       "    }\n",
       "\n",
       "    .dataframe thead th {\n",
       "        text-align: right;\n",
       "    }\n",
       "</style>\n",
       "<table border=\"1\" class=\"dataframe\">\n",
       "  <thead>\n",
       "    <tr style=\"text-align: right;\">\n",
       "      <th></th>\n",
       "      <th>dot</th>\n",
       "      <th>order_date</th>\n",
       "      <th>order_num</th>\n",
       "    </tr>\n",
       "  </thead>\n",
       "  <tbody>\n",
       "    <tr>\n",
       "      <th>362815</th>\n",
       "      <td>桐乡凤鸣点部</td>\n",
       "      <td>2017-01-01</td>\n",
       "      <td>45</td>\n",
       "    </tr>\n",
       "    <tr>\n",
       "      <th>520924</th>\n",
       "      <td>珠海白蕉点部</td>\n",
       "      <td>2017-01-01</td>\n",
       "      <td>1</td>\n",
       "    </tr>\n",
       "    <tr>\n",
       "      <th>255774</th>\n",
       "      <td>常熟海虞点部</td>\n",
       "      <td>2017-01-01</td>\n",
       "      <td>1</td>\n",
       "    </tr>\n",
       "    <tr>\n",
       "      <th>436426</th>\n",
       "      <td>济南桑梓店点部</td>\n",
       "      <td>2017-01-01</td>\n",
       "      <td>26</td>\n",
       "    </tr>\n",
       "    <tr>\n",
       "      <th>354527</th>\n",
       "      <td>松江九亭点部</td>\n",
       "      <td>2017-01-01</td>\n",
       "      <td>7</td>\n",
       "    </tr>\n",
       "  </tbody>\n",
       "</table>\n",
       "</div>"
      ],
      "text/plain": [
       "            dot order_date  order_num\n",
       "362815   桐乡凤鸣点部 2017-01-01         45\n",
       "520924   珠海白蕉点部 2017-01-01          1\n",
       "255774   常熟海虞点部 2017-01-01          1\n",
       "436426  济南桑梓店点部 2017-01-01         26\n",
       "354527   松江九亭点部 2017-01-01          7"
      ]
     },
     "execution_count": 20,
     "metadata": {},
     "output_type": "execute_result"
    }
   ],
   "source": [
    "dot_groupby.sort_values(by = 'order_date', inplace = True)\n",
    "dot_groupby.head()"
   ]
  },
  {
   "cell_type": "code",
   "execution_count": 21,
   "metadata": {},
   "outputs": [
    {
     "name": "stdout",
     "output_type": "stream",
     "text": [
      "<class 'pandas.core.frame.DataFrame'>\n",
      "Int64Index: 752452 entries, 362815 to 600331\n",
      "Data columns (total 3 columns):\n",
      "dot           752452 non-null object\n",
      "order_date    752452 non-null datetime64[ns]\n",
      "order_num     752452 non-null int64\n",
      "dtypes: datetime64[ns](1), int64(1), object(1)\n",
      "memory usage: 23.0+ MB\n"
     ]
    }
   ],
   "source": [
    "dot_groupby.info()"
   ]
  },
  {
   "cell_type": "code",
   "execution_count": 22,
   "metadata": {},
   "outputs": [],
   "source": [
    "dot_preprocessing = pd.DataFrame()\n",
    "for i, dot in enumerate(dot_groupby['dot'].unique()):\n",
    "    one_dot = dot_groupby.loc[dot_groupby['dot'] == dot]\n",
    "    check_time = dot_info.loc[dot_info['dot'] == dot, 'check_date']\n",
    "    one_dot = one_dot[one_dot['order_date'] > check_time.iloc[0]]\n",
    "    if len(one_dot) == 0:\n",
    "        continue\n",
    "    num_median = np.median(one_dot['order_num'])\n",
    "\n",
    "    # 均值填充异常点\n",
    "    lp = np.percentile(one_dot['order_num'],25)\n",
    "    up = np.percentile(one_dot['order_num'],75)\n",
    "    check_num = up + 1.5 * (up - lp)\n",
    "    num_mean = np.mean(one_dot['order_num'])\n",
    "    one_dot.loc[one_dot['order_num'] >= check_num, ['order_num']] = num_mean\n",
    "    \n",
    "    # 填充日期，中位数填充缺失值\n",
    "    one_dot.index = one_dot['order_date']\n",
    "    one_dot_resample = one_dot.resample('D').asfreq()\n",
    "    one_dot_resample.drop(['order_date'], axis = 1, inplace = True)\n",
    "    one_dot_resample.reset_index(inplace = True)\n",
    "    one_dot_resample['dot'].fillna(dot, inplace = True)\n",
    "    one_dot_resample['order_num'].fillna(num_median, inplace = True)\n",
    "    one_dot_resample['dot_id'] = i + 1\n",
    "\n",
    "    dot_preprocessing = pd.concat([dot_preprocessing, one_dot_resample], axis = 0,ignore_index = True)"
   ]
  },
  {
   "cell_type": "code",
   "execution_count": 23,
   "metadata": {},
   "outputs": [
    {
     "data": {
      "text/html": [
       "<div>\n",
       "<style scoped>\n",
       "    .dataframe tbody tr th:only-of-type {\n",
       "        vertical-align: middle;\n",
       "    }\n",
       "\n",
       "    .dataframe tbody tr th {\n",
       "        vertical-align: top;\n",
       "    }\n",
       "\n",
       "    .dataframe thead th {\n",
       "        text-align: right;\n",
       "    }\n",
       "</style>\n",
       "<table border=\"1\" class=\"dataframe\">\n",
       "  <thead>\n",
       "    <tr style=\"text-align: right;\">\n",
       "      <th></th>\n",
       "      <th>order_date</th>\n",
       "      <th>dot</th>\n",
       "      <th>order_num</th>\n",
       "      <th>dot_id</th>\n",
       "    </tr>\n",
       "  </thead>\n",
       "  <tbody>\n",
       "    <tr>\n",
       "      <th>0</th>\n",
       "      <td>2017-01-14</td>\n",
       "      <td>桐乡凤鸣点部</td>\n",
       "      <td>4.077537</td>\n",
       "      <td>1</td>\n",
       "    </tr>\n",
       "    <tr>\n",
       "      <th>108416</th>\n",
       "      <td>2017-01-14</td>\n",
       "      <td>扬州槐泗点部</td>\n",
       "      <td>3.931826</td>\n",
       "      <td>181</td>\n",
       "    </tr>\n",
       "    <tr>\n",
       "      <th>107668</th>\n",
       "      <td>2017-01-14</td>\n",
       "      <td>青岛平度点部</td>\n",
       "      <td>1.386294</td>\n",
       "      <td>180</td>\n",
       "    </tr>\n",
       "    <tr>\n",
       "      <th>106918</th>\n",
       "      <td>2017-01-14</td>\n",
       "      <td>南昌高新点部</td>\n",
       "      <td>1.609438</td>\n",
       "      <td>179</td>\n",
       "    </tr>\n",
       "    <tr>\n",
       "      <th>106169</th>\n",
       "      <td>2017-01-14</td>\n",
       "      <td>长春二道点部</td>\n",
       "      <td>0.693147</td>\n",
       "      <td>178</td>\n",
       "    </tr>\n",
       "  </tbody>\n",
       "</table>\n",
       "</div>"
      ],
      "text/plain": [
       "       order_date     dot  order_num  dot_id\n",
       "0      2017-01-14  桐乡凤鸣点部   4.077537       1\n",
       "108416 2017-01-14  扬州槐泗点部   3.931826     181\n",
       "107668 2017-01-14  青岛平度点部   1.386294     180\n",
       "106918 2017-01-14  南昌高新点部   1.609438     179\n",
       "106169 2017-01-14  长春二道点部   0.693147     178"
      ]
     },
     "execution_count": 23,
     "metadata": {},
     "output_type": "execute_result"
    }
   ],
   "source": [
    "dot_prep = dot_preprocessing.copy()\n",
    "dot_prep['order_num'] = np.log1p(dot_prep['order_num'])\n",
    "dot_prep.sort_values(by = ['order_date'], inplace = True)\n",
    "dot_prep.head()"
   ]
  },
  {
   "cell_type": "code",
   "execution_count": 24,
   "metadata": {},
   "outputs": [],
   "source": [
    "dot_data = pd.merge(dot_info, dot_prep, how = 'left', on = 'dot')"
   ]
  },
  {
   "cell_type": "code",
   "execution_count": 25,
   "metadata": {},
   "outputs": [],
   "source": [
    "dot_data.loc[dot_data['city'].isnull(), ['city']] = dot_data.loc[dot_data['city'].isnull(), ['province']].values\n",
    "dot_data.loc[dot_data['district'].isnull(), ['district']] = dot_data.loc[dot_data['district'].isnull(), ['city']].values"
   ]
  },
  {
   "cell_type": "code",
   "execution_count": 26,
   "metadata": {},
   "outputs": [],
   "source": [
    "dot_data.dropna(axis = 0, inplace = True)\n",
    "dot_data.sort_values(by = 'order_date', ascending = True, inplace = True)"
   ]
  },
  {
   "cell_type": "code",
   "execution_count": 154,
   "metadata": {},
   "outputs": [
    {
     "data": {
      "text/html": [
       "<div>\n",
       "<style scoped>\n",
       "    .dataframe tbody tr th:only-of-type {\n",
       "        vertical-align: middle;\n",
       "    }\n",
       "\n",
       "    .dataframe tbody tr th {\n",
       "        vertical-align: top;\n",
       "    }\n",
       "\n",
       "    .dataframe thead th {\n",
       "        text-align: right;\n",
       "    }\n",
       "</style>\n",
       "<table border=\"1\" class=\"dataframe\">\n",
       "  <thead>\n",
       "    <tr style=\"text-align: right;\">\n",
       "      <th></th>\n",
       "      <th>dot</th>\n",
       "      <th>check_date</th>\n",
       "      <th>dot_type</th>\n",
       "      <th>city_code</th>\n",
       "      <th>area</th>\n",
       "      <th>province</th>\n",
       "      <th>city</th>\n",
       "      <th>district</th>\n",
       "      <th>town</th>\n",
       "      <th>village</th>\n",
       "      <th>order_date</th>\n",
       "      <th>order_num</th>\n",
       "      <th>dot_id</th>\n",
       "    </tr>\n",
       "  </thead>\n",
       "  <tbody>\n",
       "    <tr>\n",
       "      <th>447390</th>\n",
       "      <td>哈尔滨道里点部</td>\n",
       "      <td>2017-01-13</td>\n",
       "      <td>大点部</td>\n",
       "      <td>451</td>\n",
       "      <td>华北</td>\n",
       "      <td>黑龙江省</td>\n",
       "      <td>哈尔滨市</td>\n",
       "      <td>道里区</td>\n",
       "      <td>新发镇</td>\n",
       "      <td>东明村</td>\n",
       "      <td>2017-01-14</td>\n",
       "      <td>1.386294</td>\n",
       "      <td>175.0</td>\n",
       "    </tr>\n",
       "    <tr>\n",
       "      <th>519474</th>\n",
       "      <td>湖州康山点部</td>\n",
       "      <td>2017-01-13</td>\n",
       "      <td>大点部</td>\n",
       "      <td>572</td>\n",
       "      <td>华东</td>\n",
       "      <td>浙江省</td>\n",
       "      <td>湖州市</td>\n",
       "      <td>吴兴区</td>\n",
       "      <td>康山街道</td>\n",
       "      <td>巴黎春天社区</td>\n",
       "      <td>2017-01-14</td>\n",
       "      <td>2.708050</td>\n",
       "      <td>54.0</td>\n",
       "    </tr>\n",
       "    <tr>\n",
       "      <th>329546</th>\n",
       "      <td>光明圳美点部</td>\n",
       "      <td>2017-01-13</td>\n",
       "      <td>大点部</td>\n",
       "      <td>755</td>\n",
       "      <td>华南</td>\n",
       "      <td>广东省</td>\n",
       "      <td>深圳市</td>\n",
       "      <td>光明区</td>\n",
       "      <td>新湖街道</td>\n",
       "      <td>圳美居委会</td>\n",
       "      <td>2017-01-14</td>\n",
       "      <td>4.499810</td>\n",
       "      <td>30.0</td>\n",
       "    </tr>\n",
       "    <tr>\n",
       "      <th>220223</th>\n",
       "      <td>大连开发区点部</td>\n",
       "      <td>2017-01-13</td>\n",
       "      <td>大点部</td>\n",
       "      <td>411</td>\n",
       "      <td>华北</td>\n",
       "      <td>辽宁省</td>\n",
       "      <td>大连市</td>\n",
       "      <td>金州区</td>\n",
       "      <td>马桥子街道</td>\n",
       "      <td>岭湾峰尚社区</td>\n",
       "      <td>2017-01-14</td>\n",
       "      <td>1.791759</td>\n",
       "      <td>167.0</td>\n",
       "    </tr>\n",
       "    <tr>\n",
       "      <th>129947</th>\n",
       "      <td>常熟沙家浜点部</td>\n",
       "      <td>2017-01-13</td>\n",
       "      <td>大点部</td>\n",
       "      <td>512</td>\n",
       "      <td>华东</td>\n",
       "      <td>江苏省</td>\n",
       "      <td>苏州市</td>\n",
       "      <td>常熟市</td>\n",
       "      <td>沙家浜镇</td>\n",
       "      <td>沙南村</td>\n",
       "      <td>2017-01-14</td>\n",
       "      <td>3.433987</td>\n",
       "      <td>127.0</td>\n",
       "    </tr>\n",
       "  </tbody>\n",
       "</table>\n",
       "</div>"
      ],
      "text/plain": [
       "            dot  check_date dot_type  city_code area province  city district  \\\n",
       "447390  哈尔滨道里点部  2017-01-13      大点部        451   华北     黑龙江省  哈尔滨市      道里区   \n",
       "519474   湖州康山点部  2017-01-13      大点部        572   华东      浙江省   湖州市      吴兴区   \n",
       "329546   光明圳美点部  2017-01-13      大点部        755   华南      广东省   深圳市      光明区   \n",
       "220223  大连开发区点部  2017-01-13      大点部        411   华北      辽宁省   大连市      金州区   \n",
       "129947  常熟沙家浜点部  2017-01-13      大点部        512   华东      江苏省   苏州市      常熟市   \n",
       "\n",
       "         town village order_date  order_num  dot_id  \n",
       "447390    新发镇     东明村 2017-01-14   1.386294   175.0  \n",
       "519474   康山街道  巴黎春天社区 2017-01-14   2.708050    54.0  \n",
       "329546   新湖街道   圳美居委会 2017-01-14   4.499810    30.0  \n",
       "220223  马桥子街道  岭湾峰尚社区 2017-01-14   1.791759   167.0  \n",
       "129947   沙家浜镇     沙南村 2017-01-14   3.433987   127.0  "
      ]
     },
     "execution_count": 154,
     "metadata": {},
     "output_type": "execute_result"
    }
   ],
   "source": [
    "dot_data.head()"
   ]
  },
  {
   "cell_type": "code",
   "execution_count": 99,
   "metadata": {},
   "outputs": [
    {
     "data": {
      "text/plain": [
       "Index(['dot', 'check_date', 'dot_type', 'city_code', 'area', 'province',\n",
       "       'city', 'district', 'town', 'village', 'order_date', 'order_num',\n",
       "       'dot_id'],\n",
       "      dtype='object')"
      ]
     },
     "execution_count": 99,
     "metadata": {},
     "output_type": "execute_result"
    }
   ],
   "source": [
    "dot_data.columns"
   ]
  },
  {
   "cell_type": "code",
   "execution_count": 51,
   "metadata": {},
   "outputs": [],
   "source": [
    "def time_feature(data):\n",
    "    # 时间\n",
    "    dot_prep_1 = data.copy()\n",
    "    \n",
    "    dot_prep_1['year'] = dot_prep_1.order_date.dt.year\n",
    "    dot_prep_1['month'] = dot_prep_1.order_date.dt.month\n",
    "    dot_prep_1['day'] = dot_prep_1.order_date.dt.day\n",
    "    dot_prep_1['dayofweek'] = dot_prep_1.order_date.dt.dayofweek\n",
    "    dot_prep_1['dayofyear'] = dot_prep_1.order_date.dt.dayofyear\n",
    "    dot_prep_1['weekofyear'] = dot_prep_1.order_date.dt.weekofyear\n",
    "    \n",
    "    weekofsun = pd.date_range('2017-12-01', periods = round(len(dot_prep_1['order_date'].unique())/7), freq = 'W-SUN')\n",
    "    dot_prep_1['weekofsun'] = 0\n",
    "    dot_prep_1.loc[dot_prep_1['order_date'].isin(weekofsun), ['weekofsun']] = 1\n",
    "    \n",
    "    dot_prep_1['holidays'] = 0\n",
    "    dot_prep_1.loc[dot_prep_1['order_date'].isin(\n",
    "    pd.to_datetime(['2017-01-01', '2018-01-01', '2019-01-01', '2020-01-01', '2021-01-01', '2017-01-23','2017-01-24', '2017-01-25',\n",
    "                    '2017-01-26','2017-01-27', '2017-01-28', '2017-01-29', '2017-01-30', '2017-01-31', '2017-02-01', '2017-02-02',\n",
    "                    '2017-02-03','2017-02-04','2018-02-12', '2018-02-13',  '2018-02-14','2018-02-15', '2018-02-16', '2018-02-17', \n",
    "                    '2018-02-18', '2018-02-19', '2018-02-20', '2018-02-21','2018-02-22','2018-02-23', '2018-02-24', '2019-02-01', \n",
    "                    '2019-02-02', '2019-02-03','2019-02-04', '2019-02-05', '2019-02-06', '2019-02-07', '2019-02-08', '2019-02-09', \n",
    "                    '2019-02-10', '2019-02-11', '2019-02-12', '2019-02-13','2017-04-02', '2017-04-03', '2017-04-04', '2018-04-05', \n",
    "                    '2018-04-06', '2018-04-07', '2019-04-05', '2019-04-06', '2019-04-07','2017-05-01', '2017-05-02', '2017-05-03', \n",
    "                    '2018-05-01', '2018-05-02', '2018-05-03', '2019-05-01', '2019-05-02', '2019-05-03','2017-05-30', '2018-06-18', \n",
    "                    '2019-06-07', '2017-10-04', '2018-09-22', '2018-09-23', '2018-09-24', '2019-09-13', '2019-09-14', '2019-09-15',\n",
    "                    '2017-10-01', '2017-10-02', '2017-10-03',  '2017-10-04', '2017-10-05', '2017-10-06', '2017-10-07','2018-10-01',\n",
    "                    '2018-10-02', '2018-10-03', '2018-10-04', '2018-10-05', '2018-10-06', '2018-10-07', '2019-10-01', '2019-10-02', \n",
    "                    '2019-10-03', '2019-10-04', '2019-10-05', '2019-10-06', '2019-10-07'])), ['holidays']] = 1\n",
    "    \n",
    "    return dot_prep_1\n",
    "\n",
    "def create_feature(data, all_dot):\n",
    "    dot_prep_1 = time_feature(data)\n",
    "    dot_prep_ts = data.copy()\n",
    "    dot_prep_ts.index = pd.to_datetime(dot_prep_ts['order_date'])\n",
    "    \n",
    "    dot_prep_2 = pd.DataFrame()\n",
    "    dot_prep_3 = pd.DataFrame()\n",
    "    for dot in all_dot:\n",
    "        dot_ts = dot_prep_ts.loc[dot_prep_ts['dot'] == dot, ['order_num']]\n",
    "        dot_ts.sort_index(ascending = True, inplace = True)\n",
    "        # lagging\n",
    "        lagging = pd.concat([dot_ts.shift(1), dot_ts.shift(2), dot_ts.shift(3), dot_ts.shift(4), dot_ts.shift(5), dot_ts.shift(6), dot_ts.shift(7)], axis = 1)\n",
    "        lagging.columns = ['lagging1', 'lagging2', 'lagging3', 'lagging4', 'lagging5', 'lagging6', 'lagging7']\n",
    "        lagging['dot'] = dot\n",
    "        lagging['order_date'] = dot_ts.index\n",
    "        lagging.dropna(axis = 0, inplace = True)\n",
    "        dot_prep_2 = pd.concat([dot_prep_2, lagging], axis = 0)\n",
    "        \n",
    "        # rolling\n",
    "        rolling = pd.concat([dot_ts.rolling(window = 3).mean(), dot_ts.rolling(window = 5).mean(), dot_ts.rolling(window = 7).mean()], axis = 1)\n",
    "        rolling.index = rolling.index + pd.DateOffset(days = 1)\n",
    "        rolling.columns = ['rolling3', 'rolling5', 'rolling7']\n",
    "        rolling['dot'] = dot\n",
    "        rolling['order_date'] = rolling.index\n",
    "        rolling.dropna(axis = 0, inplace = True)\n",
    "        dot_prep_3 = pd.concat([dot_prep_3, rolling], axis = 0)\n",
    "    dot_prep_2.reset_index(drop = True, inplace = True)\n",
    "    dot_prep_3.reset_index(drop = True, inplace = True)\n",
    "    \n",
    "    # merge\n",
    "    dot_prep_result_tmp = pd.merge(dot_prep_1, dot_prep_2, how = 'right', on = ['dot', 'order_date'])\n",
    "    dot_prep_result = pd.merge(dot_prep_result_tmp, dot_prep_3, how = 'left', on = ['dot', 'order_date'])\n",
    "    dot_prep_result.sort_values(by = 'order_date', ascending = True, inplace = True)\n",
    "#     dot_prep_result.drop(['dot', 'order_date'], axis = 1, inplace = True)\n",
    "    \n",
    "    return dot_prep_result"
   ]
  },
  {
   "cell_type": "code",
   "execution_count": 52,
   "metadata": {},
   "outputs": [
    {
     "name": "stdout",
     "output_type": "stream",
     "text": [
      "START:  2019-02-26 17:05:20\n",
      "END:  2019-02-26 17:08:44\n"
     ]
    }
   ],
   "source": [
    "print(\"START: \",datetime.datetime.now().strftime(\"%Y-%m-%d %H:%M:%S\"))\n",
    "all_dot = dot_data['dot'].unique()\n",
    "dot_prep_feature = create_feature(dot_data, all_dot)\n",
    "print(\"END: \",datetime.datetime.now().strftime(\"%Y-%m-%d %H:%M:%S\"))"
   ]
  },
  {
   "cell_type": "code",
   "execution_count": 97,
   "metadata": {},
   "outputs": [
    {
     "data": {
      "text/plain": [
       "Index(['dot', 'dot_type', 'city_code', 'area', 'province', 'order_date',\n",
       "       'order_num', 'dot_id', 'year', 'month', 'day', 'dayofweek', 'dayofyear',\n",
       "       'weekofyear', 'weekofsun', 'holidays', 'lagging1', 'lagging2',\n",
       "       'lagging3', 'lagging4', 'lagging5', 'lagging6', 'lagging7', 'rolling3',\n",
       "       'rolling5', 'rolling7'],\n",
       "      dtype='object')"
      ]
     },
     "execution_count": 97,
     "metadata": {},
     "output_type": "execute_result"
    }
   ],
   "source": [
    "dot_prep_sta.columns"
   ]
  },
  {
   "cell_type": "code",
   "execution_count": 54,
   "metadata": {},
   "outputs": [],
   "source": [
    "# 统计特征\n",
    "dot_prep_sta = dot_res_tmp.copy()\n",
    "dot_prep_dayofweek = dot_prep_sta.groupby(['dot', 'dayofweek'])['order_num'].agg([('week_mean', np.mean), ('week_median', np.median), ('week_min', np.min), ('week_max', np.max), ('week_std', np.std)]).reset_index()\n",
    "dot_prep_day = dot_prep_sta.groupby(['dot', 'day'])['order_num'].agg([('day_mean', np.mean), ('day_median', np.median), ('day_min', np.min), ('day_max', np.max), ('day_std', np.std)]).reset_index()\n",
    "\n",
    "dot_prep_tmp = pd.merge(dot_prep_sta, dot_prep_dayofweek, on = ['dot', 'dayofweek'], how = 'left')\n",
    "dot_prep_stas = pd.merge(dot_prep_tmp, dot_prep_day, on = ['dot', 'day'], how = 'left')"
   ]
  },
  {
   "cell_type": "code",
   "execution_count": 55,
   "metadata": {},
   "outputs": [],
   "source": [
    "dot_res = pd.concat([dot_prep_stas, pd.get_dummies(dot_prep_stas['dot_type']), pd.get_dummies(dot_prep_stas['area']), pd.get_dummies(dot_prep_stas['province'])], axis = 1)\n",
    "dot_res.drop(['dot_type', 'area', 'province'], axis = 1, inplace = True)\n",
    "dot_res = dot_res[~dot_res['dot'].isin(dot_res[dot_res['week_std'].isnull()]['dot'].unique())]"
   ]
  },
  {
   "cell_type": "code",
   "execution_count": 98,
   "metadata": {},
   "outputs": [
    {
     "data": {
      "text/plain": [
       "Index(['dot', 'check_date', 'dot_type', 'city_code', 'area', 'province',\n",
       "       'city', 'district', 'town', 'village', 'order_date', 'order_num',\n",
       "       'dot_id'],\n",
       "      dtype='object')"
      ]
     },
     "execution_count": 98,
     "metadata": {},
     "output_type": "execute_result"
    }
   ],
   "source": [
    "dot_data.columns"
   ]
  },
  {
   "cell_type": "code",
   "execution_count": 95,
   "metadata": {},
   "outputs": [
    {
     "data": {
      "text/plain": [
       "Index(['dot', 'city_code', 'order_date', 'order_num', 'dot_id', 'year',\n",
       "       'month', 'day', 'dayofweek', 'dayofyear', 'weekofyear', 'weekofsun',\n",
       "       'holidays', 'lagging1', 'lagging2', 'lagging3', 'lagging4', 'lagging5',\n",
       "       'lagging6', 'lagging7', 'rolling3', 'rolling5', 'rolling7', 'week_mean',\n",
       "       'week_median', 'week_min', 'week_max', 'week_std', 'day_mean',\n",
       "       'day_median', 'day_min', 'day_max', 'day_std', '二级中转场', '大点部', '小点部',\n",
       "       '航空组', '虚拟点部', '京津冀', '华东', '华北', '华南', '上海', '云南省', '内蒙古', '北京', '吉林省',\n",
       "       '四川省', '天津', '安徽省', '山东省', '山西省', '广东省', '广西', '新疆', '江苏省', '江西省',\n",
       "       '河北省', '河南省', '浙江省', '海南省', '湖北省', '湖南省', '甘肃省', '福建省', '贵州省', '辽宁省',\n",
       "       '重庆', '陕西省', '黑龙江省'],\n",
       "      dtype='object')"
      ]
     },
     "execution_count": 95,
     "metadata": {},
     "output_type": "execute_result"
    }
   ],
   "source": [
    "dot_res.columns"
   ]
  },
  {
   "cell_type": "markdown",
   "metadata": {},
   "source": [
    "### 存储数据"
   ]
  },
  {
   "cell_type": "markdown",
   "metadata": {},
   "source": [
    "dot_res.to_csv(path + \"dot_res_20190226.csv\", encoding = 'GBK')"
   ]
  },
  {
   "cell_type": "code",
   "execution_count": 58,
   "metadata": {},
   "outputs": [],
   "source": [
    "train_date = dot_res['order_date'].max() + pd.DateOffset(months = -1)\n",
    "dot_train = dot_res[dot_res['order_date'] <= train_date]\n",
    "dot_test = dot_res[dot_res['order_date'] > train_date]"
   ]
  },
  {
   "cell_type": "code",
   "execution_count": 59,
   "metadata": {},
   "outputs": [],
   "source": [
    "dot_xtrain = dot_train.drop(['order_num'], axis = 1)\n",
    "dot_ytrain = dot_train['order_num']\n",
    "dot_xtest = dot_test.drop(['order_num'], axis = 1)\n",
    "dot_ytest = dot_test['order_num']"
   ]
  },
  {
   "cell_type": "code",
   "execution_count": 60,
   "metadata": {},
   "outputs": [],
   "source": [
    "def RMSE(y_test, y_pred):\n",
    "    return np.sqrt(np.sum((y_test - y_pred) ** 2)/len(y_test))\n",
    "\n",
    "def MAE(y_test, y_pred):\n",
    "    return np.sum(np.abs(y_test - y_pred))/len(y_test)"
   ]
  },
  {
   "cell_type": "code",
   "execution_count": 61,
   "metadata": {},
   "outputs": [],
   "source": [
    "def xgboost_model(x_train, y_train):\n",
    "    params = {\n",
    "        \"learning_rate\": 0.01,\n",
    "        \"n_estimators\": 3300,\n",
    "        \"max_depth\": 5,\n",
    "        \"min_child_weight\": 3,\n",
    "        \"gamma\": 0.5,\n",
    "        \"subsample\": 0.9,\n",
    "        \"colsample_bytree\": 0.8,\n",
    "        \"silent\": 1,\n",
    "        \"reg_alpha\" : 0.05,\n",
    "        \"reg_lambda\" : 0.05,\n",
    "        \"seed\": 21\n",
    "    }\n",
    "    print(\"train_start : \", datetime.datetime.now().strftime(\"%Y-%m-%d %H:%M:%S\"))\n",
    "    gbm = xgb.XGBRegressor(**params)\n",
    "    gbm.fit(x_train.drop(['dot', 'order_date'], axis = 1), y_train)\n",
    "    print(\"train_end : \", datetime.datetime.now().strftime(\"%Y-%m-%d %H:%M:%S\"))\n",
    "    \n",
    "    for column, importance in zip(x_train.drop(['dot', 'order_date'], axis = 1).columns, gbm.feature_importances_):\n",
    "        print(column, '\\t', importance)\n",
    "    # plot_importance(gbm)\n",
    "    # plt.savefig(path + \"feature_importance.png\")\n",
    "    \n",
    "    return gbm"
   ]
  },
  {
   "cell_type": "code",
   "execution_count": 62,
   "metadata": {},
   "outputs": [
    {
     "name": "stdout",
     "output_type": "stream",
     "text": [
      "train_start :  2019-02-26 17:12:02\n",
      "train_end :  2019-02-26 19:01:31\n",
      "city_code \t 0.011757497\n",
      "dot_id \t 0.018124409\n",
      "year \t 0.007769088\n",
      "month \t 0.0112173995\n",
      "day \t 0.034015726\n",
      "dayofweek \t 0.043997135\n",
      "dayofyear \t 0.058922507\n",
      "weekofyear \t 0.014593006\n",
      "weekofsun \t 0.0046323705\n",
      "holidays \t 0.03763022\n",
      "lagging1 \t 0.059317194\n",
      "lagging2 \t 0.029819587\n",
      "lagging3 \t 0.02237248\n",
      "lagging4 \t 0.022881418\n",
      "lagging5 \t 0.022725621\n",
      "lagging6 \t 0.025052192\n",
      "lagging7 \t 0.047507763\n",
      "rolling3 \t 0.025935043\n",
      "rolling5 \t 0.020991078\n",
      "rolling7 \t 0.042428773\n",
      "week_mean \t 0.042096406\n",
      "week_median \t 0.0379522\n",
      "week_min \t 0.011612086\n",
      "week_max \t 0.03214616\n",
      "week_std \t 0.056377817\n",
      "day_mean \t 0.04504617\n",
      "day_median \t 0.036664277\n",
      "day_min \t 0.04078771\n",
      "day_max \t 0.04350897\n",
      "day_std \t 0.07562397\n",
      "二级中转场 \t 0.0\n",
      "大点部 \t 0.0008516914\n",
      "小点部 \t 0.00034275386\n",
      "航空组 \t 0.0009036238\n",
      "虚拟点部 \t 0.0\n",
      "京津冀 \t 0.00017657017\n",
      "华东 \t 0.00035314035\n",
      "华北 \t 0.00112174\n",
      "华南 \t 0.0015268127\n",
      "上海 \t 0.0006335753\n",
      "云南省 \t 0.00051932404\n",
      "内蒙古 \t 0.0\n",
      "北京 \t 0.00038429978\n",
      "吉林省 \t 0.0\n",
      "四川省 \t 0.0002700485\n",
      "天津 \t 7.270537e-05\n",
      "安徽省 \t 0.00010386481\n",
      "山东省 \t 0.00039468627\n",
      "山西省 \t 1.0386481e-05\n",
      "广东省 \t 0.0012775372\n",
      "广西 \t 0.0\n",
      "新疆 \t 0.0\n",
      "江苏省 \t 0.0014229479\n",
      "江西省 \t 0.00012463777\n",
      "河北省 \t 0.00038429978\n",
      "河南省 \t 0.00018695666\n",
      "浙江省 \t 0.0042065247\n",
      "海南省 \t 0.0\n",
      "湖北省 \t 0.00017657017\n",
      "湖南省 \t 0.00010386481\n",
      "甘肃省 \t 0.0\n",
      "福建省 \t 0.0007270537\n",
      "贵州省 \t 1.0386481e-05\n",
      "辽宁省 \t 0.0001661837\n",
      "重庆 \t 4.1545925e-05\n",
      "陕西省 \t 0.0\n",
      "黑龙江省 \t 0.0\n"
     ]
    }
   ],
   "source": [
    "gbm = xgboost_model(dot_xtrain, dot_ytrain)"
   ]
  },
  {
   "cell_type": "code",
   "execution_count": 63,
   "metadata": {},
   "outputs": [],
   "source": [
    "def xgb_predict(gbm, x_test, y_test, path):\n",
    "    # 验证\n",
    "    print(\"predict_start : \", datetime.datetime.now().strftime(\"%Y-%m-%d %H:%M:%S\"))\n",
    "    y_pre = gbm.predict(x_test.drop(['dot', 'order_date'], axis = 1))\n",
    "    print(\"predict_end : \", datetime.datetime.now().strftime(\"%Y-%m-%d %H:%M:%S\"))\n",
    "    result = pd.DataFrame({'dot' : x_test['dot'], 'order_date' : x_test['order_date'], 'y_test' : np.expm1(y_test), 'y_pre' : np.expm1(y_pre)})\n",
    "    result['RMSE'] = RMSE(np.expm1(y_test), np.expm1(y_pre))\n",
    "    result['MAE'] = MAE(np.expm1(y_test), np.expm1(y_pre))\n",
    "    print(\"MAE : \", MAE(np.expm1(y_test), np.expm1(y_pre)), \" RMSE : \", RMSE(np.expm1(y_test), np.expm1(y_pre)))\n",
    "#     result = pd.DataFrame({'dot' : x_test['dot'], 'order_date' : x_test['order_date'], 'y_test' : y_test, 'y_pre' : y_pre})\n",
    "#     result['RMSE'] = RMSE(y_test, y_pre)\n",
    "#     result['MAE'] = MAE(y_test, y_pre)\n",
    "#     print(\"MAE : \", MAE(y_test, y_pre), \" RMSE : \", RMSE(y_test, y_pre))\n",
    "    \n",
    "    result.to_csv(path + \"dot_result.csv\", encoding = 'GBK', index = False)\n",
    "    return result"
   ]
  },
  {
   "cell_type": "code",
   "execution_count": 64,
   "metadata": {},
   "outputs": [
    {
     "name": "stdout",
     "output_type": "stream",
     "text": [
      "predict_start :  2019-02-26 19:01:31\n",
      "predict_end :  2019-02-26 19:01:40\n",
      "MAE :  10.770999959477898  RMSE :  28.404381034028923\n"
     ]
    }
   ],
   "source": [
    "result = xgb_predict(gbm, dot_xtest, dot_ytest, path)"
   ]
  },
  {
   "cell_type": "code",
   "execution_count": 85,
   "metadata": {},
   "outputs": [
    {
     "data": {
      "text/plain": [
       "order_date   2018-12-08\n",
       "dtype: datetime64[ns]"
      ]
     },
     "execution_count": 85,
     "metadata": {},
     "output_type": "execute_result"
    }
   ],
   "source": [
    "dot_train.loc[dot_train['dot'] == '高桥紫翠点部', ['order_date']].max() + pd.DateOffset(months=-1)"
   ]
  },
  {
   "cell_type": "code",
   "execution_count": 69,
   "metadata": {},
   "outputs": [
    {
     "data": {
      "image/png": "[encoded data removed]",
      "text/plain": [
       "<Figure size 576x288 with 1 Axes>"
      ]
     },
     "metadata": {
      "needs_background": "light"
     },
     "output_type": "display_data"
    },
    {
     "data": {
      "image/png": "[encoded data removed]",
      "text/plain": [
       "<Figure size 576x288 with 1 Axes>"
      ]
     },
     "metadata": {
      "needs_background": "light"
     },
     "output_type": "display_data"
    },
    {
     "data": {
      "image/png": "[encoded data removed]",
      "text/plain": [
       "<Figure size 576x288 with 1 Axes>"
      ]
     },
     "metadata": {
      "needs_background": "light"
     },
     "output_type": "display_data"
    }
   ],
   "source": [
    "plt.rcParams['font.sans-serif']=['SimHei']\n",
    "col_1 = ['y_test','y_pre']\n",
    "L = np.random.randint( low = 0, high = 2411, size = 3 )\n",
    "for i in L:\n",
    "    s1 = pd.DataFrame(result[result['dot'] == result['dot'].unique()[i]], columns = col_1)\n",
    "    s1.plot(title = 'dot {}'.format(result['dot'].unique()[i]), figsize = (8,4))"
   ]
  },
  {
   "cell_type": "code",
   "execution_count": 109,
   "metadata": {},
   "outputs": [],
   "source": [
    "def pre_feature(data, dot_name):\n",
    "    x_test_tmp = pd.DataFrame()\n",
    "    rolling_tmp = pd.DataFrame()\n",
    "    for dot in dot_name:\n",
    "        # lagging\n",
    "        dot_test = data.loc[data['dot'] == dot]\n",
    "        dot_test_ts = dot_test.copy()\n",
    "        dot_test['lagging7'] = dot_test['lagging6']\n",
    "        dot_test['lagging6'] = dot_test['lagging5']\n",
    "        dot_test['lagging5'] = dot_test['lagging4']\n",
    "        dot_test['lagging4'] = dot_test['lagging3']\n",
    "        dot_test['lagging3'] = dot_test['lagging2']\n",
    "        dot_test['lagging2'] = dot_test['lagging1']\n",
    "        dot_test['lagging1'] = dot_test['order_num']\n",
    "\n",
    "        x_test_tmp = pd.concat([x_test_tmp, dot_test])\n",
    "\n",
    "        # rolling\n",
    "        dot_test_ts.index = pd.to_datetime(dot_test_ts['order_date'])\n",
    "        num_ts = dot_test_ts.loc[dot_test_ts['dot'] == dot, ['order_num']]\n",
    "        rolling = pd.concat([num_ts.rolling(window = 3).mean(), num_ts.rolling(window = 5).mean(), num_ts.rolling(window = 7).mean()], axis = 1)\n",
    "    #     rolling.index = rolling.index + pd.DateOffset(days = 1)\n",
    "        rolling.columns = ['rolling3', 'rolling5', 'rolling7']\n",
    "        rolling['dot'] = dot\n",
    "        rolling['order_date'] = rolling.index\n",
    "        rolling_tmp = pd.concat([rolling_tmp, rolling])\n",
    "\n",
    "    x_test = pd.merge(x_test_tmp.drop(['rolling3', 'rolling5', 'rolling7'], axis = 1), rolling_tmp, how = 'left', on = ['dot', 'order_date'])\n",
    "    x_test['order_date'] = x_test['order_date'] + pd.DateOffset(days = 1)\n",
    "    x_test.dropna(axis = 0, inplace = True)\n",
    "    \n",
    "    return x_test"
   ]
  },
  {
   "cell_type": "code",
   "execution_count": 110,
   "metadata": {},
   "outputs": [
    {
     "name": "stdout",
     "output_type": "stream",
     "text": [
      "START :  2019-02-27 11:42:24\n",
      "END :  2019-02-27 11:49:47\n"
     ]
    }
   ],
   "source": [
    "pre_date = dot_train['order_date'].max() + pd.DateOffset(months = -1)\n",
    "org_test = dot_train[dot_train['order_date'] > pre_date]\n",
    "test_dot = org_test['dot'].unique()\n",
    "print(\"START : \", datetime.datetime.now().strftime(\"%Y-%m-%d %H:%M:%S\"))\n",
    "x_test = pre_feature(org_test, all_dot)\n",
    "print(\"END : \", datetime.datetime.now().strftime(\"%Y-%m-%d %H:%M:%S\"))\n",
    "# x_test.head()"
   ]
  },
  {
   "cell_type": "code",
   "execution_count": 115,
   "metadata": {},
   "outputs": [],
   "source": [
    "test_dot = org_test['dot'].unique()"
   ]
  },
  {
   "cell_type": "code",
   "execution_count": 116,
   "metadata": {},
   "outputs": [],
   "source": [
    "x_test = pre_feature(org_test, test_dot)"
   ]
  },
  {
   "cell_type": "code",
   "execution_count": 126,
   "metadata": {},
   "outputs": [
    {
     "data": {
      "text/plain": [
       "2293"
      ]
     },
     "execution_count": 126,
     "metadata": {},
     "output_type": "execute_result"
    }
   ],
   "source": [
    "len(x_test['dot'].unique())"
   ]
  },
  {
   "cell_type": "code",
   "execution_count": 123,
   "metadata": {},
   "outputs": [],
   "source": [
    "feature_date = dot_train.columns.drop(['year', 'month', 'day', 'dayofweek', 'dayofyear', 'weekofyear', 'weekofsun', 'holidays'])\n",
    "last_train_date = dot_train['order_date'].max() + pd.DateOffset(days = 1)\n",
    "x_test_day = x_test.loc[x_test['order_date'] == last_train_date, feature_date]"
   ]
  },
  {
   "cell_type": "code",
   "execution_count": 129,
   "metadata": {},
   "outputs": [],
   "source": [
    "feature_num = dot_res.columns.drop(['order_num'])\n",
    "feature = dot_res.columns\n",
    "x_test_day = time_feature(x_test_day)\n",
    "x_test_day = x_test_day[feature_num]"
   ]
  },
  {
   "cell_type": "code",
   "execution_count": 131,
   "metadata": {},
   "outputs": [],
   "source": [
    "y_pre = gbm.predict(x_test_day.drop(['dot', 'order_date'], axis=1))\n",
    "result = pd.DataFrame({'dot':x_test_day['dot'], 'order_date': x_test_day['order_date'], 'order_num': y_pre})\n",
    "# result_to_csv = pd.concat([result_to_csv, result])"
   ]
  },
  {
   "cell_type": "code",
   "execution_count": 139,
   "metadata": {},
   "outputs": [
    {
     "data": {
      "text/plain": [
       "2217"
      ]
     },
     "execution_count": 139,
     "metadata": {},
     "output_type": "execute_result"
    }
   ],
   "source": [
    "len(x_test_day)"
   ]
  },
  {
   "cell_type": "code",
   "execution_count": 150,
   "metadata": {},
   "outputs": [
    {
     "data": {
      "text/html": [
       "<div>\n",
       "<style scoped>\n",
       "    .dataframe tbody tr th:only-of-type {\n",
       "        vertical-align: middle;\n",
       "    }\n",
       "\n",
       "    .dataframe tbody tr th {\n",
       "        vertical-align: top;\n",
       "    }\n",
       "\n",
       "    .dataframe thead th {\n",
       "        text-align: right;\n",
       "    }\n",
       "</style>\n",
       "<table border=\"1\" class=\"dataframe\">\n",
       "  <thead>\n",
       "    <tr style=\"text-align: right;\">\n",
       "      <th></th>\n",
       "      <th>dot</th>\n",
       "      <th>city_code</th>\n",
       "      <th>order_date</th>\n",
       "      <th>dot_id</th>\n",
       "      <th>year</th>\n",
       "      <th>month</th>\n",
       "      <th>day</th>\n",
       "      <th>dayofweek</th>\n",
       "      <th>dayofyear</th>\n",
       "      <th>weekofyear</th>\n",
       "      <th>...</th>\n",
       "      <th>湖北省</th>\n",
       "      <th>湖南省</th>\n",
       "      <th>甘肃省</th>\n",
       "      <th>福建省</th>\n",
       "      <th>贵州省</th>\n",
       "      <th>辽宁省</th>\n",
       "      <th>重庆</th>\n",
       "      <th>陕西省</th>\n",
       "      <th>黑龙江省</th>\n",
       "      <th>order_num</th>\n",
       "    </tr>\n",
       "  </thead>\n",
       "  <tbody>\n",
       "    <tr>\n",
       "      <th>0</th>\n",
       "      <td>南汇宣桥点部</td>\n",
       "      <td>21</td>\n",
       "      <td>2019-01-09</td>\n",
       "      <td>330.0</td>\n",
       "      <td>2019</td>\n",
       "      <td>1</td>\n",
       "      <td>9</td>\n",
       "      <td>2</td>\n",
       "      <td>9</td>\n",
       "      <td>2</td>\n",
       "      <td>...</td>\n",
       "      <td>0</td>\n",
       "      <td>0</td>\n",
       "      <td>0</td>\n",
       "      <td>0</td>\n",
       "      <td>0</td>\n",
       "      <td>0</td>\n",
       "      <td>0</td>\n",
       "      <td>0</td>\n",
       "      <td>0</td>\n",
       "      <td>4.446571</td>\n",
       "    </tr>\n",
       "  </tbody>\n",
       "</table>\n",
       "<p>1 rows × 70 columns</p>\n",
       "</div>"
      ],
      "text/plain": [
       "      dot  city_code order_date  dot_id  year  month  day  dayofweek  \\\n",
       "0  南汇宣桥点部         21 2019-01-09   330.0  2019      1    9          2   \n",
       "\n",
       "   dayofyear  weekofyear    ...      湖北省  湖南省  甘肃省  福建省  贵州省  辽宁省  重庆  陕西省  \\\n",
       "0          9           2    ...        0    0    0    0    0    0   0    0   \n",
       "\n",
       "   黑龙江省  order_num  \n",
       "0     0   4.446571  \n",
       "\n",
       "[1 rows x 70 columns]"
      ]
     },
     "execution_count": 150,
     "metadata": {},
     "output_type": "execute_result"
    }
   ],
   "source": [
    "x_test_merge[x_test_merge['dot'] == '南汇宣桥点部'].head(2)"
   ]
  },
  {
   "cell_type": "code",
   "execution_count": 152,
   "metadata": {},
   "outputs": [
    {
     "data": {
      "text/html": [
       "<div>\n",
       "<style scoped>\n",
       "    .dataframe tbody tr th:only-of-type {\n",
       "        vertical-align: middle;\n",
       "    }\n",
       "\n",
       "    .dataframe tbody tr th {\n",
       "        vertical-align: top;\n",
       "    }\n",
       "\n",
       "    .dataframe thead th {\n",
       "        text-align: right;\n",
       "    }\n",
       "</style>\n",
       "<table border=\"1\" class=\"dataframe\">\n",
       "  <thead>\n",
       "    <tr style=\"text-align: right;\">\n",
       "      <th></th>\n",
       "      <th>dot</th>\n",
       "      <th>city_code</th>\n",
       "      <th>order_date</th>\n",
       "      <th>order_num</th>\n",
       "      <th>dot_id</th>\n",
       "      <th>year</th>\n",
       "      <th>month</th>\n",
       "      <th>day</th>\n",
       "      <th>dayofweek</th>\n",
       "      <th>dayofyear</th>\n",
       "      <th>...</th>\n",
       "      <th>海南省</th>\n",
       "      <th>湖北省</th>\n",
       "      <th>湖南省</th>\n",
       "      <th>甘肃省</th>\n",
       "      <th>福建省</th>\n",
       "      <th>贵州省</th>\n",
       "      <th>辽宁省</th>\n",
       "      <th>重庆</th>\n",
       "      <th>陕西省</th>\n",
       "      <th>黑龙江省</th>\n",
       "    </tr>\n",
       "  </thead>\n",
       "  <tbody>\n",
       "    <tr>\n",
       "      <th>611366</th>\n",
       "      <td>南汇宣桥点部</td>\n",
       "      <td>21</td>\n",
       "      <td>2019-01-07</td>\n",
       "      <td>4.304065</td>\n",
       "      <td>330.0</td>\n",
       "      <td>2019</td>\n",
       "      <td>1</td>\n",
       "      <td>7</td>\n",
       "      <td>0</td>\n",
       "      <td>7</td>\n",
       "      <td>...</td>\n",
       "      <td>0</td>\n",
       "      <td>0</td>\n",
       "      <td>0</td>\n",
       "      <td>0</td>\n",
       "      <td>0</td>\n",
       "      <td>0</td>\n",
       "      <td>0</td>\n",
       "      <td>0</td>\n",
       "      <td>0</td>\n",
       "      <td>0</td>\n",
       "    </tr>\n",
       "    <tr>\n",
       "      <th>614297</th>\n",
       "      <td>南汇宣桥点部</td>\n",
       "      <td>21</td>\n",
       "      <td>2019-01-08</td>\n",
       "      <td>4.276666</td>\n",
       "      <td>330.0</td>\n",
       "      <td>2019</td>\n",
       "      <td>1</td>\n",
       "      <td>8</td>\n",
       "      <td>1</td>\n",
       "      <td>8</td>\n",
       "      <td>...</td>\n",
       "      <td>0</td>\n",
       "      <td>0</td>\n",
       "      <td>0</td>\n",
       "      <td>0</td>\n",
       "      <td>0</td>\n",
       "      <td>0</td>\n",
       "      <td>0</td>\n",
       "      <td>0</td>\n",
       "      <td>0</td>\n",
       "      <td>0</td>\n",
       "    </tr>\n",
       "  </tbody>\n",
       "</table>\n",
       "<p>2 rows × 70 columns</p>\n",
       "</div>"
      ],
      "text/plain": [
       "           dot  city_code order_date  order_num  dot_id  year  month  day  \\\n",
       "611366  南汇宣桥点部         21 2019-01-07   4.304065   330.0  2019      1    7   \n",
       "614297  南汇宣桥点部         21 2019-01-08   4.276666   330.0  2019      1    8   \n",
       "\n",
       "        dayofweek  dayofyear  ...   海南省  湖北省  湖南省  甘肃省  福建省  贵州省  辽宁省  重庆  \\\n",
       "611366          0          7  ...     0    0    0    0    0    0    0   0   \n",
       "614297          1          8  ...     0    0    0    0    0    0    0   0   \n",
       "\n",
       "        陕西省  黑龙江省  \n",
       "611366    0     0  \n",
       "614297    0     0  \n",
       "\n",
       "[2 rows x 70 columns]"
      ]
     },
     "execution_count": 152,
     "metadata": {},
     "output_type": "execute_result"
    }
   ],
   "source": [
    "org_test[org_test['dot'] == '南汇宣桥点部'].tail(2)"
   ]
  },
  {
   "cell_type": "code",
   "execution_count": 153,
   "metadata": {},
   "outputs": [
    {
     "data": {
      "text/html": [
       "<div>\n",
       "<style scoped>\n",
       "    .dataframe tbody tr th:only-of-type {\n",
       "        vertical-align: middle;\n",
       "    }\n",
       "\n",
       "    .dataframe tbody tr th {\n",
       "        vertical-align: top;\n",
       "    }\n",
       "\n",
       "    .dataframe thead th {\n",
       "        text-align: right;\n",
       "    }\n",
       "</style>\n",
       "<table border=\"1\" class=\"dataframe\">\n",
       "  <thead>\n",
       "    <tr style=\"text-align: right;\">\n",
       "      <th></th>\n",
       "      <th>dot</th>\n",
       "      <th>city_code</th>\n",
       "      <th>order_date</th>\n",
       "      <th>order_num</th>\n",
       "      <th>dot_id</th>\n",
       "      <th>year</th>\n",
       "      <th>month</th>\n",
       "      <th>day</th>\n",
       "      <th>dayofweek</th>\n",
       "      <th>dayofyear</th>\n",
       "      <th>...</th>\n",
       "      <th>甘肃省</th>\n",
       "      <th>福建省</th>\n",
       "      <th>贵州省</th>\n",
       "      <th>辽宁省</th>\n",
       "      <th>重庆</th>\n",
       "      <th>陕西省</th>\n",
       "      <th>黑龙江省</th>\n",
       "      <th>rolling3</th>\n",
       "      <th>rolling5</th>\n",
       "      <th>rolling7</th>\n",
       "    </tr>\n",
       "  </thead>\n",
       "  <tbody>\n",
       "    <tr>\n",
       "      <th>29</th>\n",
       "      <td>南汇宣桥点部</td>\n",
       "      <td>21</td>\n",
       "      <td>2019-01-08</td>\n",
       "      <td>4.304065</td>\n",
       "      <td>330.0</td>\n",
       "      <td>2019</td>\n",
       "      <td>1</td>\n",
       "      <td>7</td>\n",
       "      <td>0</td>\n",
       "      <td>7</td>\n",
       "      <td>...</td>\n",
       "      <td>0</td>\n",
       "      <td>0</td>\n",
       "      <td>0</td>\n",
       "      <td>0</td>\n",
       "      <td>0</td>\n",
       "      <td>0</td>\n",
       "      <td>0</td>\n",
       "      <td>4.059855</td>\n",
       "      <td>4.339602</td>\n",
       "      <td>4.158077</td>\n",
       "    </tr>\n",
       "    <tr>\n",
       "      <th>30</th>\n",
       "      <td>南汇宣桥点部</td>\n",
       "      <td>21</td>\n",
       "      <td>2019-01-09</td>\n",
       "      <td>4.276666</td>\n",
       "      <td>330.0</td>\n",
       "      <td>2019</td>\n",
       "      <td>1</td>\n",
       "      <td>8</td>\n",
       "      <td>1</td>\n",
       "      <td>8</td>\n",
       "      <td>...</td>\n",
       "      <td>0</td>\n",
       "      <td>0</td>\n",
       "      <td>0</td>\n",
       "      <td>0</td>\n",
       "      <td>0</td>\n",
       "      <td>0</td>\n",
       "      <td>0</td>\n",
       "      <td>4.143626</td>\n",
       "      <td>4.212404</td>\n",
       "      <td>4.309190</td>\n",
       "    </tr>\n",
       "  </tbody>\n",
       "</table>\n",
       "<p>2 rows × 70 columns</p>\n",
       "</div>"
      ],
      "text/plain": [
       "       dot  city_code order_date  order_num  dot_id  year  month  day  \\\n",
       "29  南汇宣桥点部         21 2019-01-08   4.304065   330.0  2019      1    7   \n",
       "30  南汇宣桥点部         21 2019-01-09   4.276666   330.0  2019      1    8   \n",
       "\n",
       "    dayofweek  dayofyear    ...     甘肃省  福建省  贵州省  辽宁省  重庆  陕西省  黑龙江省  \\\n",
       "29          0          7    ...       0    0    0    0   0    0     0   \n",
       "30          1          8    ...       0    0    0    0   0    0     0   \n",
       "\n",
       "    rolling3  rolling5  rolling7  \n",
       "29  4.059855  4.339602  4.158077  \n",
       "30  4.143626  4.212404  4.309190  \n",
       "\n",
       "[2 rows x 70 columns]"
      ]
     },
     "execution_count": 153,
     "metadata": {},
     "output_type": "execute_result"
    }
   ],
   "source": [
    "x_test[x_test['dot'] == '南汇宣桥点部'].tail(2)"
   ]
  },
  {
   "cell_type": "code",
   "execution_count": null,
   "metadata": {},
   "outputs": [],
   "source": []
  }
 ],
 "metadata": {
  "kernelspec": {
   "display_name": "Python 3",
   "language": "python",
   "name": "python3"
  },
  "language_info": {
   "codemirror_mode": {
    "name": "ipython",
    "version": 3
   },
   "file_extension": ".py",
   "mimetype": "text/x-python",
   "name": "python",
   "nbconvert_exporter": "python",
   "pygments_lexer": "ipython3",
   "version": "3.6.5"
  }
 },
 "nbformat": 4,
 "nbformat_minor": 2
}
