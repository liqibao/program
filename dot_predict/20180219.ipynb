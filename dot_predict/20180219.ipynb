{
 "cells": [
  {
   "cell_type": "code",
   "execution_count": 1,
   "metadata": {},
   "outputs": [
    {
     "name": "stdout",
     "output_type": "stream",
     "text": [
      "['20181207dot1.xlsx', '20181207_莉娜_点部#1.xlsx', '20181207_莉娜_点部#2.xlsx', '20181207_莉娜_点部#3.xlsx', '20190103_1.csv', '20190103_2.csv', '20190103_点部取货量_1.xlsx', '20190103_点部取货量_2.xlsx', '20190103_点部派货量_1.xlsx', '20190103_点部派货量_2.xlsx', '20190218.csv', '20190219.csv', 'accurate.xlsx', 'comments.txt', 'cst1.csv', 'cst2.csv', 'document.csv', 'dot.csv', 'dot_result.csv']\n"
     ]
    }
   ],
   "source": [
    "import os\n",
    "import numpy as np\n",
    "import pandas as pd\n",
    "import matplotlib.pyplot as plt\n",
    "\n",
    "from matplotlib.pylab import rcParams\n",
    "from statsmodels.tsa.stattools import adfuller\n",
    "from statsmodels.tsa.arima_model import ARIMA, ARMA\n",
    "from statsmodels.tsa.stattools import acf, pacf\n",
    "\n",
    "import xgboost as xgb\n",
    "from xgboost import plot_importance\n",
    "from statsmodels.graphics.tsaplots import plot_acf, plot_pacf\n",
    "import warnings\n",
    "\n",
    "import datetime\n",
    "from sklearn.decomposition import PCA, IncrementalPCA\n",
    "warnings.filterwarnings('ignore')\n",
    "path = \"D:/program/program1/Cargo_forecast/dot_data_all/\"\n",
    "print(os.listdir(path))"
   ]
  },
  {
   "cell_type": "code",
   "execution_count": 2,
   "metadata": {},
   "outputs": [],
   "source": [
    "dot_data_1 = pd.read_csv(path + '20190219.csv', header = None, names = ['dot', 'order_date', 'order_num'])\n",
    "dot_data_2 = pd.read_csv(path + 'dot.csv', header = None, names = ['dot', 'dot_type', 'area', 'city_code', 'department', 'province', 'city', 'district', 'town', 'village'])\n"
   ]
  },
  {
   "cell_type": "code",
   "execution_count": 3,
   "metadata": {},
   "outputs": [
    {
     "data": {
      "text/html": [
       "<div>\n",
       "<style scoped>\n",
       "    .dataframe tbody tr th:only-of-type {\n",
       "        vertical-align: middle;\n",
       "    }\n",
       "\n",
       "    .dataframe tbody tr th {\n",
       "        vertical-align: top;\n",
       "    }\n",
       "\n",
       "    .dataframe thead th {\n",
       "        text-align: right;\n",
       "    }\n",
       "</style>\n",
       "<table border=\"1\" class=\"dataframe\">\n",
       "  <thead>\n",
       "    <tr style=\"text-align: right;\">\n",
       "      <th></th>\n",
       "      <th>dot</th>\n",
       "      <th>order_date</th>\n",
       "      <th>order_num</th>\n",
       "    </tr>\n",
       "  </thead>\n",
       "  <tbody>\n",
       "    <tr>\n",
       "      <th>155652</th>\n",
       "      <td>大朗卢屋点部</td>\n",
       "      <td>2017-12-01</td>\n",
       "      <td>51</td>\n",
       "    </tr>\n",
       "    <tr>\n",
       "      <th>155653</th>\n",
       "      <td>大连开发区点部</td>\n",
       "      <td>2017-12-01</td>\n",
       "      <td>9</td>\n",
       "    </tr>\n",
       "    <tr>\n",
       "      <th>155654</th>\n",
       "      <td>天宁遥观点部</td>\n",
       "      <td>2017-12-01</td>\n",
       "      <td>49</td>\n",
       "    </tr>\n",
       "    <tr>\n",
       "      <th>155655</th>\n",
       "      <td>天津一级装卸组</td>\n",
       "      <td>2017-12-01</td>\n",
       "      <td>192</td>\n",
       "    </tr>\n",
       "    <tr>\n",
       "      <th>155656</th>\n",
       "      <td>太仓徐行点部</td>\n",
       "      <td>2017-12-01</td>\n",
       "      <td>35</td>\n",
       "    </tr>\n",
       "  </tbody>\n",
       "</table>\n",
       "</div>"
      ],
      "text/plain": [
       "            dot order_date  order_num\n",
       "155652   大朗卢屋点部 2017-12-01         51\n",
       "155653  大连开发区点部 2017-12-01          9\n",
       "155654   天宁遥观点部 2017-12-01         49\n",
       "155655  天津一级装卸组 2017-12-01        192\n",
       "155656   太仓徐行点部 2017-12-01         35"
      ]
     },
     "execution_count": 3,
     "metadata": {},
     "output_type": "execute_result"
    }
   ],
   "source": [
    "dot_data_1['order_date'] = pd.to_datetime(dot_data_1['order_date'])\n",
    "dot_data_1 = dot_data_1[dot_data_1['order_date'] >= pd.to_datetime('2017-12-01')]\n",
    "dot_data_1 = dot_data_1[dot_data_1['order_date'] <= pd.to_datetime('2019-01-31')]\n",
    "dot_data_1.head()"
   ]
  },
  {
   "cell_type": "code",
   "execution_count": 8,
   "metadata": {},
   "outputs": [
    {
     "data": {
      "text/html": [
       "<div>\n",
       "<style scoped>\n",
       "    .dataframe tbody tr th:only-of-type {\n",
       "        vertical-align: middle;\n",
       "    }\n",
       "\n",
       "    .dataframe tbody tr th {\n",
       "        vertical-align: top;\n",
       "    }\n",
       "\n",
       "    .dataframe thead th {\n",
       "        text-align: right;\n",
       "    }\n",
       "</style>\n",
       "<table border=\"1\" class=\"dataframe\">\n",
       "  <thead>\n",
       "    <tr style=\"text-align: right;\">\n",
       "      <th></th>\n",
       "      <th>dot</th>\n",
       "      <th>order_date</th>\n",
       "      <th>order_num</th>\n",
       "    </tr>\n",
       "  </thead>\n",
       "  <tbody>\n",
       "    <tr>\n",
       "      <th>581191</th>\n",
       "      <td>相城洋沟娄点部</td>\n",
       "      <td>2018-07-28</td>\n",
       "      <td>8171</td>\n",
       "    </tr>\n",
       "    <tr>\n",
       "      <th>829741</th>\n",
       "      <td>相城洋沟娄点部</td>\n",
       "      <td>2018-11-11</td>\n",
       "      <td>8571</td>\n",
       "    </tr>\n",
       "    <tr>\n",
       "      <th>710983</th>\n",
       "      <td>相城洋沟娄点部</td>\n",
       "      <td>2018-09-23</td>\n",
       "      <td>9531</td>\n",
       "    </tr>\n",
       "    <tr>\n",
       "      <th>835796</th>\n",
       "      <td>相城洋沟娄点部</td>\n",
       "      <td>2018-11-13</td>\n",
       "      <td>9572</td>\n",
       "    </tr>\n",
       "    <tr>\n",
       "      <th>833158</th>\n",
       "      <td>相城洋沟娄点部</td>\n",
       "      <td>2018-11-12</td>\n",
       "      <td>10449</td>\n",
       "    </tr>\n",
       "  </tbody>\n",
       "</table>\n",
       "</div>"
      ],
      "text/plain": [
       "            dot order_date  order_num\n",
       "581191  相城洋沟娄点部 2018-07-28       8171\n",
       "829741  相城洋沟娄点部 2018-11-11       8571\n",
       "710983  相城洋沟娄点部 2018-09-23       9531\n",
       "835796  相城洋沟娄点部 2018-11-13       9572\n",
       "833158  相城洋沟娄点部 2018-11-12      10449"
      ]
     },
     "execution_count": 8,
     "metadata": {},
     "output_type": "execute_result"
    }
   ],
   "source": [
    "dot_data_1[dot_data_1['dot'] == '相城洋沟娄点部'].sort_values(by = 'order_num').tail()"
   ]
  },
  {
   "cell_type": "code",
   "execution_count": 5,
   "metadata": {},
   "outputs": [],
   "source": [
    "dot_data_1.dropna(axis = 0, inplace = True)"
   ]
  },
  {
   "cell_type": "code",
   "execution_count": 6,
   "metadata": {},
   "outputs": [
    {
     "data": {
      "text/plain": [
       "dot           0\n",
       "order_date    0\n",
       "order_num     0\n",
       "dtype: int64"
      ]
     },
     "execution_count": 6,
     "metadata": {},
     "output_type": "execute_result"
    }
   ],
   "source": [
    "dot_data_1.isnull().sum()"
   ]
  },
  {
   "cell_type": "code",
   "execution_count": 7,
   "metadata": {},
   "outputs": [
    {
     "data": {
      "text/html": [
       "<div>\n",
       "<style scoped>\n",
       "    .dataframe tbody tr th:only-of-type {\n",
       "        vertical-align: middle;\n",
       "    }\n",
       "\n",
       "    .dataframe tbody tr th {\n",
       "        vertical-align: top;\n",
       "    }\n",
       "\n",
       "    .dataframe thead th {\n",
       "        text-align: right;\n",
       "    }\n",
       "</style>\n",
       "<table border=\"1\" class=\"dataframe\">\n",
       "  <thead>\n",
       "    <tr style=\"text-align: right;\">\n",
       "      <th></th>\n",
       "      <th>dot</th>\n",
       "      <th>order_date</th>\n",
       "      <th>order_num</th>\n",
       "    </tr>\n",
       "  </thead>\n",
       "  <tbody>\n",
       "    <tr>\n",
       "      <th>155652</th>\n",
       "      <td>大朗卢屋点部</td>\n",
       "      <td>2017-12-01</td>\n",
       "      <td>51</td>\n",
       "    </tr>\n",
       "    <tr>\n",
       "      <th>155653</th>\n",
       "      <td>大连开发区点部</td>\n",
       "      <td>2017-12-01</td>\n",
       "      <td>9</td>\n",
       "    </tr>\n",
       "    <tr>\n",
       "      <th>155654</th>\n",
       "      <td>天宁遥观点部</td>\n",
       "      <td>2017-12-01</td>\n",
       "      <td>49</td>\n",
       "    </tr>\n",
       "    <tr>\n",
       "      <th>155655</th>\n",
       "      <td>天津一级装卸组</td>\n",
       "      <td>2017-12-01</td>\n",
       "      <td>192</td>\n",
       "    </tr>\n",
       "    <tr>\n",
       "      <th>155656</th>\n",
       "      <td>太仓徐行点部</td>\n",
       "      <td>2017-12-01</td>\n",
       "      <td>35</td>\n",
       "    </tr>\n",
       "  </tbody>\n",
       "</table>\n",
       "</div>"
      ],
      "text/plain": [
       "            dot order_date  order_num\n",
       "155652   大朗卢屋点部 2017-12-01         51\n",
       "155653  大连开发区点部 2017-12-01          9\n",
       "155654   天宁遥观点部 2017-12-01         49\n",
       "155655  天津一级装卸组 2017-12-01        192\n",
       "155656   太仓徐行点部 2017-12-01         35"
      ]
     },
     "execution_count": 7,
     "metadata": {},
     "output_type": "execute_result"
    }
   ],
   "source": [
    "dot_data_1.head()"
   ]
  },
  {
   "cell_type": "code",
   "execution_count": 41,
   "metadata": {},
   "outputs": [
    {
     "data": {
      "text/html": [
       "<div>\n",
       "<style scoped>\n",
       "    .dataframe tbody tr th:only-of-type {\n",
       "        vertical-align: middle;\n",
       "    }\n",
       "\n",
       "    .dataframe tbody tr th {\n",
       "        vertical-align: top;\n",
       "    }\n",
       "\n",
       "    .dataframe thead th {\n",
       "        text-align: right;\n",
       "    }\n",
       "</style>\n",
       "<table border=\"1\" class=\"dataframe\">\n",
       "  <thead>\n",
       "    <tr style=\"text-align: right;\">\n",
       "      <th></th>\n",
       "      <th>dot</th>\n",
       "    </tr>\n",
       "  </thead>\n",
       "  <tbody>\n",
       "    <tr>\n",
       "      <th>31</th>\n",
       "      <td>上虞上浦点部</td>\n",
       "    </tr>\n",
       "    <tr>\n",
       "      <th>32</th>\n",
       "      <td>上虞东关点部</td>\n",
       "    </tr>\n",
       "    <tr>\n",
       "      <th>36</th>\n",
       "      <td>上虞小越点部</td>\n",
       "    </tr>\n",
       "    <tr>\n",
       "      <th>38</th>\n",
       "      <td>上虞崧厦点部</td>\n",
       "    </tr>\n",
       "    <tr>\n",
       "      <th>66</th>\n",
       "      <td>东丽机场点部</td>\n",
       "    </tr>\n",
       "  </tbody>\n",
       "</table>\n",
       "</div>"
      ],
      "text/plain": [
       "       dot\n",
       "31  上虞上浦点部\n",
       "32  上虞东关点部\n",
       "36  上虞小越点部\n",
       "38  上虞崧厦点部\n",
       "66  东丽机场点部"
      ]
     },
     "execution_count": 41,
     "metadata": {},
     "output_type": "execute_result"
    }
   ],
   "source": [
    "data_count = pd.DataFrame(dot_data_1['order_date'].groupby(dot_data_1['dot']).count())\n",
    "data_count.reset_index(inplace = True)\n",
    "useful_dot_name = data_count.loc[data_count['order_date'] >= 400, ['dot']]\n",
    "# len(useful_dot_name)\n",
    "useful_dot_name.head()"
   ]
  },
  {
   "cell_type": "code",
   "execution_count": 48,
   "metadata": {},
   "outputs": [
    {
     "data": {
      "text/plain": [
       "<matplotlib.axes._subplots.AxesSubplot at 0x14e0e148128>"
      ]
     },
     "execution_count": 48,
     "metadata": {},
     "output_type": "execute_result"
    },
    {
     "data": {
      "image/png": "[encoded data removed]",
      "text/plain": [
       "<Figure size 1152x360 with 1 Axes>"
      ]
     },
     "metadata": {
      "needs_background": "light"
     },
     "output_type": "display_data"
    }
   ],
   "source": [
    "plt.rcParams['font.sans-serif']=['SimHei']\n",
    "dot_ts = dot_data_1.copy()\n",
    "dot_ts.index = dot_ts['order_date']\n",
    "result_ts = dot_ts.loc[dot_ts['dot'] == '相城洋沟娄点部', ['order_num']]\n",
    "# result_ts = np.log(result_ts)\n",
    "# result_ts = result_ts['order_num'].resample('D').sum()\n",
    "result_ts.plot(figsize = (16,5), color = 'r', linewidth=1, title = \"dot : 相城洋沟娄点部\")"
   ]
  },
  {
   "cell_type": "code",
   "execution_count": 10,
   "metadata": {},
   "outputs": [],
   "source": [
    "dot_preprocessing = pd.DataFrame()\n",
    "for i, dot in enumerate(useful_dot_name['dot']):\n",
    "    one_dot = dot_data_1.loc[dot_data_1['dot'] == dot]\n",
    "    one_dot = one_dot.loc[one_dot[\"order_date\"] >= pd.to_datetime('2017-12-01')]\n",
    "    num_median = np.median(one_dot['order_num'])\n",
    "    ts = pd.date_range('2017-12-01', '2019-01-31')\n",
    "    df_ts = pd.DataFrame(ts, columns = ['order_date'])\n",
    "    df_ts['dot'] = dot\n",
    "    df_ts['dot_id'] = i + 1\n",
    "    merge_res = pd.merge(df_ts, one_dot, how= 'left')\n",
    "#     merge_res = merge_res.loc[merge_res[\"order_date\"] >= pd.to_datetime('2017-12-01')]\n",
    "    merge_res['order_num'].fillna(num_median, inplace = True)\n",
    "    if len(merge_res) >= 390:\n",
    "        dot_preprocessing = pd.concat([dot_preprocessing, merge_res], axis = 0,ignore_index = True)"
   ]
  },
  {
   "cell_type": "code",
   "execution_count": 11,
   "metadata": {},
   "outputs": [
    {
     "name": "stdout",
     "output_type": "stream",
     "text": [
      "<class 'pandas.core.frame.DataFrame'>\n",
      "RangeIndex: 292495 entries, 0 to 292494\n",
      "Data columns (total 4 columns):\n",
      "order_date    292495 non-null datetime64[ns]\n",
      "dot           292495 non-null object\n",
      "dot_id        292495 non-null int64\n",
      "order_num     292495 non-null float64\n",
      "dtypes: datetime64[ns](1), float64(1), int64(1), object(1)\n",
      "memory usage: 8.9+ MB\n"
     ]
    }
   ],
   "source": [
    "dot_preprocessing.info()"
   ]
  },
  {
   "cell_type": "code",
   "execution_count": 14,
   "metadata": {},
   "outputs": [
    {
     "data": {
      "text/plain": [
       "count    685.0\n",
       "mean     427.0\n",
       "std        0.0\n",
       "min      427.0\n",
       "25%      427.0\n",
       "50%      427.0\n",
       "75%      427.0\n",
       "max      427.0\n",
       "Name: order_date, dtype: float64"
      ]
     },
     "execution_count": 14,
     "metadata": {},
     "output_type": "execute_result"
    }
   ],
   "source": [
    "dot_preprocessing['order_date'].groupby(dot_preprocessing['dot']).count().describe()"
   ]
  },
  {
   "cell_type": "code",
   "execution_count": 15,
   "metadata": {},
   "outputs": [
    {
     "data": {
      "text/html": [
       "<div>\n",
       "<style scoped>\n",
       "    .dataframe tbody tr th:only-of-type {\n",
       "        vertical-align: middle;\n",
       "    }\n",
       "\n",
       "    .dataframe tbody tr th {\n",
       "        vertical-align: top;\n",
       "    }\n",
       "\n",
       "    .dataframe thead th {\n",
       "        text-align: right;\n",
       "    }\n",
       "</style>\n",
       "<table border=\"1\" class=\"dataframe\">\n",
       "  <thead>\n",
       "    <tr style=\"text-align: right;\">\n",
       "      <th></th>\n",
       "      <th>order_date</th>\n",
       "      <th>dot</th>\n",
       "      <th>dot_id</th>\n",
       "      <th>order_num</th>\n",
       "    </tr>\n",
       "  </thead>\n",
       "  <tbody>\n",
       "    <tr>\n",
       "      <th>0</th>\n",
       "      <td>2017-12-01</td>\n",
       "      <td>上虞上浦点部</td>\n",
       "      <td>1</td>\n",
       "      <td>2.708050</td>\n",
       "    </tr>\n",
       "    <tr>\n",
       "      <th>26901</th>\n",
       "      <td>2017-12-01</td>\n",
       "      <td>南山西丽点部</td>\n",
       "      <td>64</td>\n",
       "      <td>4.919981</td>\n",
       "    </tr>\n",
       "    <tr>\n",
       "      <th>265594</th>\n",
       "      <td>2017-12-01</td>\n",
       "      <td>闵行点部</td>\n",
       "      <td>623</td>\n",
       "      <td>3.784190</td>\n",
       "    </tr>\n",
       "    <tr>\n",
       "      <th>112728</th>\n",
       "      <td>2017-12-01</td>\n",
       "      <td>张江陆家嘴点部</td>\n",
       "      <td>265</td>\n",
       "      <td>2.197225</td>\n",
       "    </tr>\n",
       "    <tr>\n",
       "      <th>179767</th>\n",
       "      <td>2017-12-01</td>\n",
       "      <td>温岭金清点部</td>\n",
       "      <td>422</td>\n",
       "      <td>1.098612</td>\n",
       "    </tr>\n",
       "  </tbody>\n",
       "</table>\n",
       "</div>"
      ],
      "text/plain": [
       "       order_date      dot  dot_id  order_num\n",
       "0      2017-12-01   上虞上浦点部       1   2.708050\n",
       "26901  2017-12-01   南山西丽点部      64   4.919981\n",
       "265594 2017-12-01     闵行点部     623   3.784190\n",
       "112728 2017-12-01  张江陆家嘴点部     265   2.197225\n",
       "179767 2017-12-01   温岭金清点部     422   1.098612"
      ]
     },
     "execution_count": 15,
     "metadata": {},
     "output_type": "execute_result"
    }
   ],
   "source": [
    "dot_prep = dot_preprocessing.copy()\n",
    "dot_prep['order_num'] = np.log1p(dot_prep['order_num'])\n",
    "dot_prep.sort_values(by = ['order_date'], inplace = True)\n",
    "dot_prep.head()"
   ]
  },
  {
   "cell_type": "code",
   "execution_count": 12,
   "metadata": {},
   "outputs": [
    {
     "data": {
      "text/html": [
       "<div>\n",
       "<style scoped>\n",
       "    .dataframe tbody tr th:only-of-type {\n",
       "        vertical-align: middle;\n",
       "    }\n",
       "\n",
       "    .dataframe tbody tr th {\n",
       "        vertical-align: top;\n",
       "    }\n",
       "\n",
       "    .dataframe thead th {\n",
       "        text-align: right;\n",
       "    }\n",
       "</style>\n",
       "<table border=\"1\" class=\"dataframe\">\n",
       "  <thead>\n",
       "    <tr style=\"text-align: right;\">\n",
       "      <th></th>\n",
       "      <th>dot</th>\n",
       "      <th>dot_type</th>\n",
       "      <th>area</th>\n",
       "      <th>city_code</th>\n",
       "      <th>department</th>\n",
       "      <th>province</th>\n",
       "      <th>city</th>\n",
       "      <th>district</th>\n",
       "      <th>town</th>\n",
       "      <th>village</th>\n",
       "    </tr>\n",
       "  </thead>\n",
       "  <tbody>\n",
       "    <tr>\n",
       "      <th>0</th>\n",
       "      <td>清江新下塘点部</td>\n",
       "      <td>大点部</td>\n",
       "      <td>华东</td>\n",
       "      <td>577</td>\n",
       "      <td>清江操作部</td>\n",
       "      <td>浙江省</td>\n",
       "      <td>温州市</td>\n",
       "      <td>乐清市</td>\n",
       "      <td>城东街道</td>\n",
       "      <td>新下塘村</td>\n",
       "    </tr>\n",
       "    <tr>\n",
       "      <th>1</th>\n",
       "      <td>香洲洪湾点部</td>\n",
       "      <td>大点部</td>\n",
       "      <td>华南</td>\n",
       "      <td>756</td>\n",
       "      <td>香洲操作部</td>\n",
       "      <td>广东省</td>\n",
       "      <td>珠海市</td>\n",
       "      <td>香洲区</td>\n",
       "      <td>南屏镇</td>\n",
       "      <td>洪湾社区</td>\n",
       "    </tr>\n",
       "    <tr>\n",
       "      <th>2</th>\n",
       "      <td>贵阳三甫点部</td>\n",
       "      <td>大点部</td>\n",
       "      <td>华北</td>\n",
       "      <td>851</td>\n",
       "      <td>贵阳操作部</td>\n",
       "      <td>贵州省</td>\n",
       "      <td>贵阳市</td>\n",
       "      <td>观山湖区</td>\n",
       "      <td>金华镇</td>\n",
       "      <td>三甫村</td>\n",
       "    </tr>\n",
       "    <tr>\n",
       "      <th>3</th>\n",
       "      <td>镇江大港点部</td>\n",
       "      <td>大点部</td>\n",
       "      <td>华东</td>\n",
       "      <td>511</td>\n",
       "      <td>镇江操作部</td>\n",
       "      <td>江苏省</td>\n",
       "      <td>镇江市</td>\n",
       "      <td>镇江新区</td>\n",
       "      <td>大路镇</td>\n",
       "      <td>大路村</td>\n",
       "    </tr>\n",
       "    <tr>\n",
       "      <th>4</th>\n",
       "      <td>三水竹山点部</td>\n",
       "      <td>大点部</td>\n",
       "      <td>华南</td>\n",
       "      <td>757</td>\n",
       "      <td>三水操作部</td>\n",
       "      <td>广东省</td>\n",
       "      <td>佛山市</td>\n",
       "      <td>三水区</td>\n",
       "      <td>乐平镇</td>\n",
       "      <td>竹山村</td>\n",
       "    </tr>\n",
       "  </tbody>\n",
       "</table>\n",
       "</div>"
      ],
      "text/plain": [
       "       dot dot_type area  city_code department province city district  town  \\\n",
       "0  清江新下塘点部      大点部   华东        577      清江操作部      浙江省  温州市      乐清市  城东街道   \n",
       "1   香洲洪湾点部      大点部   华南        756      香洲操作部      广东省  珠海市      香洲区   南屏镇   \n",
       "2   贵阳三甫点部      大点部   华北        851      贵阳操作部      贵州省  贵阳市     观山湖区   金华镇   \n",
       "3   镇江大港点部      大点部   华东        511      镇江操作部      江苏省  镇江市     镇江新区   大路镇   \n",
       "4   三水竹山点部      大点部   华南        757      三水操作部      广东省  佛山市      三水区   乐平镇   \n",
       "\n",
       "  village  \n",
       "0    新下塘村  \n",
       "1    洪湾社区  \n",
       "2     三甫村  \n",
       "3     大路村  \n",
       "4     竹山村  "
      ]
     },
     "execution_count": 12,
     "metadata": {},
     "output_type": "execute_result"
    }
   ],
   "source": [
    "dot_data_2.head()"
   ]
  },
  {
   "cell_type": "code",
   "execution_count": 19,
   "metadata": {},
   "outputs": [
    {
     "data": {
      "text/html": [
       "<div>\n",
       "<style scoped>\n",
       "    .dataframe tbody tr th:only-of-type {\n",
       "        vertical-align: middle;\n",
       "    }\n",
       "\n",
       "    .dataframe tbody tr th {\n",
       "        vertical-align: top;\n",
       "    }\n",
       "\n",
       "    .dataframe thead th {\n",
       "        text-align: right;\n",
       "    }\n",
       "</style>\n",
       "<table border=\"1\" class=\"dataframe\">\n",
       "  <thead>\n",
       "    <tr style=\"text-align: right;\">\n",
       "      <th></th>\n",
       "      <th>dot</th>\n",
       "      <th>dot_type</th>\n",
       "      <th>area</th>\n",
       "      <th>city_code</th>\n",
       "      <th>department</th>\n",
       "      <th>province</th>\n",
       "      <th>city</th>\n",
       "      <th>district</th>\n",
       "      <th>town</th>\n",
       "      <th>village</th>\n",
       "      <th>order_date</th>\n",
       "      <th>dot_id</th>\n",
       "      <th>order_num</th>\n",
       "    </tr>\n",
       "  </thead>\n",
       "  <tbody>\n",
       "    <tr>\n",
       "      <th>0</th>\n",
       "      <td>清江新下塘点部</td>\n",
       "      <td>大点部</td>\n",
       "      <td>华东</td>\n",
       "      <td>577</td>\n",
       "      <td>清江操作部</td>\n",
       "      <td>浙江省</td>\n",
       "      <td>温州市</td>\n",
       "      <td>乐清市</td>\n",
       "      <td>城东街道</td>\n",
       "      <td>新下塘村</td>\n",
       "      <td>NaT</td>\n",
       "      <td>NaN</td>\n",
       "      <td>NaN</td>\n",
       "    </tr>\n",
       "    <tr>\n",
       "      <th>1</th>\n",
       "      <td>香洲洪湾点部</td>\n",
       "      <td>大点部</td>\n",
       "      <td>华南</td>\n",
       "      <td>756</td>\n",
       "      <td>香洲操作部</td>\n",
       "      <td>广东省</td>\n",
       "      <td>珠海市</td>\n",
       "      <td>香洲区</td>\n",
       "      <td>南屏镇</td>\n",
       "      <td>洪湾社区</td>\n",
       "      <td>NaT</td>\n",
       "      <td>NaN</td>\n",
       "      <td>NaN</td>\n",
       "    </tr>\n",
       "    <tr>\n",
       "      <th>2</th>\n",
       "      <td>贵阳三甫点部</td>\n",
       "      <td>大点部</td>\n",
       "      <td>华北</td>\n",
       "      <td>851</td>\n",
       "      <td>贵阳操作部</td>\n",
       "      <td>贵州省</td>\n",
       "      <td>贵阳市</td>\n",
       "      <td>观山湖区</td>\n",
       "      <td>金华镇</td>\n",
       "      <td>三甫村</td>\n",
       "      <td>NaT</td>\n",
       "      <td>NaN</td>\n",
       "      <td>NaN</td>\n",
       "    </tr>\n",
       "    <tr>\n",
       "      <th>3</th>\n",
       "      <td>镇江大港点部</td>\n",
       "      <td>大点部</td>\n",
       "      <td>华东</td>\n",
       "      <td>511</td>\n",
       "      <td>镇江操作部</td>\n",
       "      <td>江苏省</td>\n",
       "      <td>镇江市</td>\n",
       "      <td>镇江新区</td>\n",
       "      <td>大路镇</td>\n",
       "      <td>大路村</td>\n",
       "      <td>2017-12-01</td>\n",
       "      <td>612.0</td>\n",
       "      <td>2.564949</td>\n",
       "    </tr>\n",
       "    <tr>\n",
       "      <th>4</th>\n",
       "      <td>镇江大港点部</td>\n",
       "      <td>大点部</td>\n",
       "      <td>华东</td>\n",
       "      <td>511</td>\n",
       "      <td>镇江操作部</td>\n",
       "      <td>江苏省</td>\n",
       "      <td>镇江市</td>\n",
       "      <td>镇江新区</td>\n",
       "      <td>大路镇</td>\n",
       "      <td>大路村</td>\n",
       "      <td>2017-12-02</td>\n",
       "      <td>612.0</td>\n",
       "      <td>2.639057</td>\n",
       "    </tr>\n",
       "  </tbody>\n",
       "</table>\n",
       "</div>"
      ],
      "text/plain": [
       "       dot dot_type area  city_code department province city district  town  \\\n",
       "0  清江新下塘点部      大点部   华东        577      清江操作部      浙江省  温州市      乐清市  城东街道   \n",
       "1   香洲洪湾点部      大点部   华南        756      香洲操作部      广东省  珠海市      香洲区   南屏镇   \n",
       "2   贵阳三甫点部      大点部   华北        851      贵阳操作部      贵州省  贵阳市     观山湖区   金华镇   \n",
       "3   镇江大港点部      大点部   华东        511      镇江操作部      江苏省  镇江市     镇江新区   大路镇   \n",
       "4   镇江大港点部      大点部   华东        511      镇江操作部      江苏省  镇江市     镇江新区   大路镇   \n",
       "\n",
       "  village order_date  dot_id  order_num  \n",
       "0    新下塘村        NaT     NaN        NaN  \n",
       "1    洪湾社区        NaT     NaN        NaN  \n",
       "2     三甫村        NaT     NaN        NaN  \n",
       "3     大路村 2017-12-01   612.0   2.564949  \n",
       "4     大路村 2017-12-02   612.0   2.639057  "
      ]
     },
     "execution_count": 19,
     "metadata": {},
     "output_type": "execute_result"
    }
   ],
   "source": [
    "dot_data = pd.merge(dot_data_2, dot_prep, how = 'left', on = 'dot')\n",
    "dot_data.head()"
   ]
  },
  {
   "cell_type": "code",
   "execution_count": 21,
   "metadata": {},
   "outputs": [],
   "source": [
    "dot_data.loc[dot_data['city'].isnull(), ['city']] = dot_data.loc[dot_data['city'].isnull(), ['province']].values\n",
    "dot_data.loc[dot_data['district'].isnull(), ['district']] = dot_data.loc[dot_data['district'].isnull(), ['city']].values"
   ]
  },
  {
   "cell_type": "code",
   "execution_count": 23,
   "metadata": {},
   "outputs": [],
   "source": [
    "dot_data.dropna(axis = 0, inplace = True)\n",
    "dot_data.sort_values(by = 'order_date', ascending = True, inplace = True)"
   ]
  },
  {
   "cell_type": "code",
   "execution_count": 24,
   "metadata": {},
   "outputs": [
    {
     "name": "stdout",
     "output_type": "stream",
     "text": [
      "<class 'pandas.core.frame.DataFrame'>\n",
      "Int64Index: 289506 entries, 3 to 291469\n",
      "Data columns (total 13 columns):\n",
      "dot           289506 non-null object\n",
      "dot_type      289506 non-null object\n",
      "area          289506 non-null object\n",
      "city_code     289506 non-null int64\n",
      "department    289506 non-null object\n",
      "province      289506 non-null object\n",
      "city          289506 non-null object\n",
      "district      289506 non-null object\n",
      "town          289506 non-null object\n",
      "village       289506 non-null object\n",
      "order_date    289506 non-null datetime64[ns]\n",
      "dot_id        289506 non-null float64\n",
      "order_num     289506 non-null float64\n",
      "dtypes: datetime64[ns](1), float64(2), int64(1), object(9)\n",
      "memory usage: 30.9+ MB\n"
     ]
    }
   ],
   "source": [
    "dot_data.info()"
   ]
  },
  {
   "cell_type": "code",
   "execution_count": 25,
   "metadata": {},
   "outputs": [
    {
     "data": {
      "text/html": [
       "<div>\n",
       "<style scoped>\n",
       "    .dataframe tbody tr th:only-of-type {\n",
       "        vertical-align: middle;\n",
       "    }\n",
       "\n",
       "    .dataframe tbody tr th {\n",
       "        vertical-align: top;\n",
       "    }\n",
       "\n",
       "    .dataframe thead th {\n",
       "        text-align: right;\n",
       "    }\n",
       "</style>\n",
       "<table border=\"1\" class=\"dataframe\">\n",
       "  <thead>\n",
       "    <tr style=\"text-align: right;\">\n",
       "      <th></th>\n",
       "      <th>dot</th>\n",
       "      <th>dot_type</th>\n",
       "      <th>area</th>\n",
       "      <th>city_code</th>\n",
       "      <th>department</th>\n",
       "      <th>province</th>\n",
       "      <th>city</th>\n",
       "      <th>district</th>\n",
       "      <th>town</th>\n",
       "      <th>village</th>\n",
       "      <th>order_date</th>\n",
       "      <th>dot_id</th>\n",
       "      <th>order_num</th>\n",
       "    </tr>\n",
       "  </thead>\n",
       "  <tbody>\n",
       "    <tr>\n",
       "      <th>3</th>\n",
       "      <td>镇江大港点部</td>\n",
       "      <td>大点部</td>\n",
       "      <td>华东</td>\n",
       "      <td>511</td>\n",
       "      <td>镇江操作部</td>\n",
       "      <td>江苏省</td>\n",
       "      <td>镇江市</td>\n",
       "      <td>镇江新区</td>\n",
       "      <td>大路镇</td>\n",
       "      <td>大路村</td>\n",
       "      <td>2017-12-01</td>\n",
       "      <td>612.0</td>\n",
       "      <td>2.564949</td>\n",
       "    </tr>\n",
       "    <tr>\n",
       "      <th>21079</th>\n",
       "      <td>寮步横坑点部</td>\n",
       "      <td>大点部</td>\n",
       "      <td>华南</td>\n",
       "      <td>769</td>\n",
       "      <td>寮步操作部</td>\n",
       "      <td>广东省</td>\n",
       "      <td>东莞市</td>\n",
       "      <td>东莞市</td>\n",
       "      <td>寮步镇</td>\n",
       "      <td>霞边村</td>\n",
       "      <td>2017-12-01</td>\n",
       "      <td>234.0</td>\n",
       "      <td>4.882802</td>\n",
       "    </tr>\n",
       "    <tr>\n",
       "      <th>211032</th>\n",
       "      <td>龙华石龙点部</td>\n",
       "      <td>大点部</td>\n",
       "      <td>华南</td>\n",
       "      <td>755</td>\n",
       "      <td>龙华操作部</td>\n",
       "      <td>广东省</td>\n",
       "      <td>深圳市</td>\n",
       "      <td>宝安区</td>\n",
       "      <td>石岩街道</td>\n",
       "      <td>水田社区</td>\n",
       "      <td>2017-12-01</td>\n",
       "      <td>678.0</td>\n",
       "      <td>4.762174</td>\n",
       "    </tr>\n",
       "    <tr>\n",
       "      <th>211460</th>\n",
       "      <td>淀山湖宏洋点部</td>\n",
       "      <td>大点部</td>\n",
       "      <td>华东</td>\n",
       "      <td>512</td>\n",
       "      <td>淀山湖操作部</td>\n",
       "      <td>江苏省</td>\n",
       "      <td>苏州市</td>\n",
       "      <td>昆山市</td>\n",
       "      <td>千灯镇</td>\n",
       "      <td>支浦村</td>\n",
       "      <td>2017-12-01</td>\n",
       "      <td>410.0</td>\n",
       "      <td>3.295837</td>\n",
       "    </tr>\n",
       "    <tr>\n",
       "      <th>211891</th>\n",
       "      <td>北仑大碶点部</td>\n",
       "      <td>大点部</td>\n",
       "      <td>华东</td>\n",
       "      <td>574</td>\n",
       "      <td>北仑操作部</td>\n",
       "      <td>浙江省</td>\n",
       "      <td>宁波市</td>\n",
       "      <td>北仑区</td>\n",
       "      <td>大碶街道</td>\n",
       "      <td>横杨社区</td>\n",
       "      <td>2017-12-01</td>\n",
       "      <td>49.0</td>\n",
       "      <td>3.401197</td>\n",
       "    </tr>\n",
       "  </tbody>\n",
       "</table>\n",
       "</div>"
      ],
      "text/plain": [
       "            dot dot_type area  city_code department province city district  \\\n",
       "3        镇江大港点部      大点部   华东        511      镇江操作部      江苏省  镇江市     镇江新区   \n",
       "21079    寮步横坑点部      大点部   华南        769      寮步操作部      广东省  东莞市      东莞市   \n",
       "211032   龙华石龙点部      大点部   华南        755      龙华操作部      广东省  深圳市      宝安区   \n",
       "211460  淀山湖宏洋点部      大点部   华东        512     淀山湖操作部      江苏省  苏州市      昆山市   \n",
       "211891   北仑大碶点部      大点部   华东        574      北仑操作部      浙江省  宁波市      北仑区   \n",
       "\n",
       "        town village order_date  dot_id  order_num  \n",
       "3        大路镇     大路村 2017-12-01   612.0   2.564949  \n",
       "21079    寮步镇     霞边村 2017-12-01   234.0   4.882802  \n",
       "211032  石岩街道    水田社区 2017-12-01   678.0   4.762174  \n",
       "211460   千灯镇     支浦村 2017-12-01   410.0   3.295837  \n",
       "211891  大碶街道    横杨社区 2017-12-01    49.0   3.401197  "
      ]
     },
     "execution_count": 25,
     "metadata": {},
     "output_type": "execute_result"
    }
   ],
   "source": [
    "dot_data.head()"
   ]
  },
  {
   "cell_type": "code",
   "execution_count": 26,
   "metadata": {},
   "outputs": [],
   "source": [
    "def time_feature(data):\n",
    "    # 时间\n",
    "    dot_prep_1 = data.copy()\n",
    "    \n",
    "    dot_prep_1['year'] = dot_prep_1.order_date.dt.year\n",
    "    dot_prep_1['month'] = dot_prep_1.order_date.dt.month\n",
    "    dot_prep_1['day'] = dot_prep_1.order_date.dt.day\n",
    "    dot_prep_1['dayofweek'] = dot_prep_1.order_date.dt.dayofweek\n",
    "    dot_prep_1['dayofyear'] = dot_prep_1.order_date.dt.dayofyear\n",
    "    dot_prep_1['weekofyear'] = dot_prep_1.order_date.dt.weekofyear\n",
    "    \n",
    "    weekofsun = pd.date_range('2017-12-01', periods = round(len(dot_prep['order_date'].unique())/7), freq = 'W-SUN')\n",
    "    dot_prep_1['weekofsun'] = 0\n",
    "    dot_prep_1.loc[dot_prep_1['order_date'].isin(weekofsun), ['weekofsun']] = 1\n",
    "    \n",
    "    dot_prep_1['holidays'] = 0\n",
    "    dot_prep_1.loc[dot_prep_1['order_date'].isin(\n",
    "    pd.to_datetime(['2017-01-01', '2018-01-01', '2019-01-01', '2020-01-01', '2021-01-01', '2017-01-23','2017-01-24', '2017-01-25',\n",
    "                    '2017-01-26','2017-01-27', '2017-01-28', '2017-01-29', '2017-01-30', '2017-01-31', '2017-02-01', '2017-02-02',\n",
    "                    '2017-02-03','2017-02-04','2018-02-12', '2018-02-13',  '2018-02-14','2018-02-15', '2018-02-16', '2018-02-17', \n",
    "                    '2018-02-18', '2018-02-19', '2018-02-20', '2018-02-21','2018-02-22','2018-02-23', '2018-02-24', '2019-02-01', \n",
    "                    '2019-02-02', '2019-02-03','2019-02-04', '2019-02-05', '2019-02-06', '2019-02-07', '2019-02-08', '2019-02-09', \n",
    "                    '2019-02-10', '2019-02-11', '2019-02-12', '2019-02-13','2017-04-02', '2017-04-03', '2017-04-04', '2018-04-05', \n",
    "                    '2018-04-06', '2018-04-07', '2019-04-05', '2019-04-06', '2019-04-07','2017-05-01', '2017-05-02', '2017-05-03', \n",
    "                    '2018-05-01', '2018-05-02', '2018-05-03', '2019-05-01', '2019-05-02', '2019-05-03','2017-05-30', '2018-06-18', \n",
    "                    '2019-06-07', '2017-10-04', '2018-09-22', '2018-09-23', '2018-09-24', '2019-09-13', '2019-09-14', '2019-09-15',\n",
    "                    '2017-10-01', '2017-10-02', '2017-10-03',  '2017-10-04', '2017-10-05', '2017-10-06', '2017-10-07','2018-10-01',\n",
    "                    '2018-10-02', '2018-10-03', '2018-10-04', '2018-10-05', '2018-10-06', '2018-10-07', '2019-10-01', '2019-10-02', \n",
    "                    '2019-10-03', '2019-10-04', '2019-10-05', '2019-10-06', '2019-10-07'])), ['holidays']] = 1\n",
    "    return dot_prep_1\n",
    "\n",
    "def create_feature(data):\n",
    "    dot_prep_1 = time_feature(data)\n",
    "    dot_prep_ts = data.copy()\n",
    "    dot_prep_ts.index = pd.to_datetime(dot_prep_ts['order_date'])\n",
    "    \n",
    "    dot_prep_2 = pd.DataFrame()\n",
    "    dot_prep_3 = pd.DataFrame()\n",
    "    for dot in useful_dot_name['dot']:\n",
    "        dot_ts = dot_prep_ts.loc[dot_prep_ts['dot'] == dot, ['order_num']]\n",
    "        dot_ts.sort_index(ascending = True, inplace = True)\n",
    "        # lagging\n",
    "        lagging = pd.concat([dot_ts.shift(1), dot_ts.shift(2), dot_ts.shift(3), dot_ts.shift(4), dot_ts.shift(5), dot_ts.shift(6), dot_ts.shift(7)], axis = 1)\n",
    "        lagging.columns = ['lagging1', 'lagging2', 'lagging3', 'lagging4', 'lagging5', 'lagging6', 'lagging7']\n",
    "        lagging['dot'] = dot\n",
    "        lagging['order_date'] = dot_ts.index\n",
    "        lagging.dropna(axis = 0, inplace = True)\n",
    "        dot_prep_2 = pd.concat([dot_prep_2, lagging], axis = 0)\n",
    "        \n",
    "        # rolling\n",
    "        rolling = pd.concat([dot_ts.rolling(window = 3).mean(), dot_ts.rolling(window = 5).mean(), dot_ts.rolling(window = 7).mean()], axis = 1)\n",
    "        rolling.index = rolling.index + pd.DateOffset(days = 1)\n",
    "        rolling.columns = ['rolling3', 'rolling5', 'rolling7']\n",
    "        rolling['dot'] = dot\n",
    "        rolling['order_date'] = rolling.index\n",
    "        rolling.dropna(axis = 0, inplace = True)\n",
    "        dot_prep_3 = pd.concat([dot_prep_3, rolling], axis = 0)\n",
    "    dot_prep_2.reset_index(drop = True, inplace = True)\n",
    "    dot_prep_3.reset_index(drop = True, inplace = True)\n",
    "    \n",
    "    # merge\n",
    "    dot_prep_result_tmp = pd.merge(dot_prep_1, dot_prep_2, how = 'right', on = ['dot', 'order_date'])\n",
    "    dot_prep_result = pd.merge(dot_prep_result_tmp, dot_prep_3, how = 'left', on = ['dot', 'order_date'])\n",
    "    dot_prep_result.sort_values(by = 'order_date', ascending = True, inplace = True)\n",
    "#     dot_prep_result.drop(['dot', 'order_date'], axis = 1, inplace = True)\n",
    "    \n",
    "    return dot_prep_result"
   ]
  },
  {
   "cell_type": "code",
   "execution_count": 27,
   "metadata": {},
   "outputs": [],
   "source": [
    "dot_prep_feature = create_feature(dot_data)"
   ]
  },
  {
   "cell_type": "code",
   "execution_count": 28,
   "metadata": {},
   "outputs": [
    {
     "data": {
      "text/plain": [
       "Index(['dot', 'dot_type', 'area', 'city_code', 'department', 'province',\n",
       "       'city', 'district', 'town', 'village', 'order_date', 'dot_id',\n",
       "       'order_num', 'year', 'month', 'day', 'dayofweek', 'dayofyear',\n",
       "       'weekofyear', 'weekofsun', 'holidays', 'lagging1', 'lagging2',\n",
       "       'lagging3', 'lagging4', 'lagging5', 'lagging6', 'lagging7', 'rolling3',\n",
       "       'rolling5', 'rolling7'],\n",
       "      dtype='object')"
      ]
     },
     "execution_count": 28,
     "metadata": {},
     "output_type": "execute_result"
    }
   ],
   "source": [
    "dot_prep_feature.columns"
   ]
  },
  {
   "cell_type": "code",
   "execution_count": 31,
   "metadata": {},
   "outputs": [
    {
     "data": {
      "text/html": [
       "<div>\n",
       "<style scoped>\n",
       "    .dataframe tbody tr th:only-of-type {\n",
       "        vertical-align: middle;\n",
       "    }\n",
       "\n",
       "    .dataframe tbody tr th {\n",
       "        vertical-align: top;\n",
       "    }\n",
       "\n",
       "    .dataframe thead th {\n",
       "        text-align: right;\n",
       "    }\n",
       "</style>\n",
       "<table border=\"1\" class=\"dataframe\">\n",
       "  <thead>\n",
       "    <tr style=\"text-align: right;\">\n",
       "      <th></th>\n",
       "      <th>dot</th>\n",
       "      <th>dot_type</th>\n",
       "      <th>area</th>\n",
       "      <th>city_code</th>\n",
       "      <th>province</th>\n",
       "      <th>order_date</th>\n",
       "      <th>dot_id</th>\n",
       "      <th>order_num</th>\n",
       "      <th>year</th>\n",
       "      <th>month</th>\n",
       "      <th>...</th>\n",
       "      <th>lagging1</th>\n",
       "      <th>lagging2</th>\n",
       "      <th>lagging3</th>\n",
       "      <th>lagging4</th>\n",
       "      <th>lagging5</th>\n",
       "      <th>lagging6</th>\n",
       "      <th>lagging7</th>\n",
       "      <th>rolling3</th>\n",
       "      <th>rolling5</th>\n",
       "      <th>rolling7</th>\n",
       "    </tr>\n",
       "  </thead>\n",
       "  <tbody>\n",
       "    <tr>\n",
       "      <th>0</th>\n",
       "      <td>罗湖莲塘点部</td>\n",
       "      <td>大点部</td>\n",
       "      <td>华南</td>\n",
       "      <td>755</td>\n",
       "      <td>广东省</td>\n",
       "      <td>2017-12-08</td>\n",
       "      <td>562.0</td>\n",
       "      <td>5.411646</td>\n",
       "      <td>2017</td>\n",
       "      <td>12</td>\n",
       "      <td>...</td>\n",
       "      <td>4.615121</td>\n",
       "      <td>4.897840</td>\n",
       "      <td>4.727388</td>\n",
       "      <td>4.948760</td>\n",
       "      <td>4.077537</td>\n",
       "      <td>4.418841</td>\n",
       "      <td>4.709530</td>\n",
       "      <td>4.746783</td>\n",
       "      <td>4.653329</td>\n",
       "      <td>4.627859</td>\n",
       "    </tr>\n",
       "    <tr>\n",
       "      <th>447</th>\n",
       "      <td>上虞崧厦点部</td>\n",
       "      <td>大点部</td>\n",
       "      <td>华东</td>\n",
       "      <td>575</td>\n",
       "      <td>浙江省</td>\n",
       "      <td>2017-12-08</td>\n",
       "      <td>4.0</td>\n",
       "      <td>2.772589</td>\n",
       "      <td>2017</td>\n",
       "      <td>12</td>\n",
       "      <td>...</td>\n",
       "      <td>2.772589</td>\n",
       "      <td>2.772589</td>\n",
       "      <td>2.772589</td>\n",
       "      <td>2.772589</td>\n",
       "      <td>2.772589</td>\n",
       "      <td>2.772589</td>\n",
       "      <td>2.772589</td>\n",
       "      <td>2.772589</td>\n",
       "      <td>2.772589</td>\n",
       "      <td>2.772589</td>\n",
       "    </tr>\n",
       "    <tr>\n",
       "      <th>448</th>\n",
       "      <td>甪直澄北点部</td>\n",
       "      <td>大点部</td>\n",
       "      <td>华东</td>\n",
       "      <td>512</td>\n",
       "      <td>江苏省</td>\n",
       "      <td>2017-12-08</td>\n",
       "      <td>482.0</td>\n",
       "      <td>3.871201</td>\n",
       "      <td>2017</td>\n",
       "      <td>12</td>\n",
       "      <td>...</td>\n",
       "      <td>3.465736</td>\n",
       "      <td>3.610918</td>\n",
       "      <td>3.610918</td>\n",
       "      <td>3.258097</td>\n",
       "      <td>2.564949</td>\n",
       "      <td>3.496508</td>\n",
       "      <td>3.465736</td>\n",
       "      <td>3.562524</td>\n",
       "      <td>3.302124</td>\n",
       "      <td>3.353266</td>\n",
       "    </tr>\n",
       "    <tr>\n",
       "      <th>449</th>\n",
       "      <td>盐城滨海点部</td>\n",
       "      <td>大点部</td>\n",
       "      <td>华东</td>\n",
       "      <td>515</td>\n",
       "      <td>江苏省</td>\n",
       "      <td>2017-12-08</td>\n",
       "      <td>493.0</td>\n",
       "      <td>1.945910</td>\n",
       "      <td>2017</td>\n",
       "      <td>12</td>\n",
       "      <td>...</td>\n",
       "      <td>1.945910</td>\n",
       "      <td>1.945910</td>\n",
       "      <td>1.945910</td>\n",
       "      <td>1.945910</td>\n",
       "      <td>1.945910</td>\n",
       "      <td>1.945910</td>\n",
       "      <td>1.945910</td>\n",
       "      <td>1.945910</td>\n",
       "      <td>1.945910</td>\n",
       "      <td>1.945910</td>\n",
       "    </tr>\n",
       "    <tr>\n",
       "      <th>450</th>\n",
       "      <td>天河元岗点部</td>\n",
       "      <td>大点部</td>\n",
       "      <td>华南</td>\n",
       "      <td>20</td>\n",
       "      <td>广东省</td>\n",
       "      <td>2017-12-08</td>\n",
       "      <td>180.0</td>\n",
       "      <td>5.049856</td>\n",
       "      <td>2017</td>\n",
       "      <td>12</td>\n",
       "      <td>...</td>\n",
       "      <td>4.828314</td>\n",
       "      <td>5.337538</td>\n",
       "      <td>5.209486</td>\n",
       "      <td>4.532599</td>\n",
       "      <td>5.267858</td>\n",
       "      <td>4.990433</td>\n",
       "      <td>5.342334</td>\n",
       "      <td>5.125113</td>\n",
       "      <td>5.035159</td>\n",
       "      <td>5.072652</td>\n",
       "    </tr>\n",
       "  </tbody>\n",
       "</table>\n",
       "<p>5 rows × 26 columns</p>\n",
       "</div>"
      ],
      "text/plain": [
       "        dot dot_type area  city_code province order_date  dot_id  order_num  \\\n",
       "0    罗湖莲塘点部      大点部   华南        755      广东省 2017-12-08   562.0   5.411646   \n",
       "447  上虞崧厦点部      大点部   华东        575      浙江省 2017-12-08     4.0   2.772589   \n",
       "448  甪直澄北点部      大点部   华东        512      江苏省 2017-12-08   482.0   3.871201   \n",
       "449  盐城滨海点部      大点部   华东        515      江苏省 2017-12-08   493.0   1.945910   \n",
       "450  天河元岗点部      大点部   华南         20      广东省 2017-12-08   180.0   5.049856   \n",
       "\n",
       "     year  month    ...     lagging1  lagging2  lagging3  lagging4  lagging5  \\\n",
       "0    2017     12    ...     4.615121  4.897840  4.727388  4.948760  4.077537   \n",
       "447  2017     12    ...     2.772589  2.772589  2.772589  2.772589  2.772589   \n",
       "448  2017     12    ...     3.465736  3.610918  3.610918  3.258097  2.564949   \n",
       "449  2017     12    ...     1.945910  1.945910  1.945910  1.945910  1.945910   \n",
       "450  2017     12    ...     4.828314  5.337538  5.209486  4.532599  5.267858   \n",
       "\n",
       "     lagging6  lagging7  rolling3  rolling5  rolling7  \n",
       "0    4.418841  4.709530  4.746783  4.653329  4.627859  \n",
       "447  2.772589  2.772589  2.772589  2.772589  2.772589  \n",
       "448  3.496508  3.465736  3.562524  3.302124  3.353266  \n",
       "449  1.945910  1.945910  1.945910  1.945910  1.945910  \n",
       "450  4.990433  5.342334  5.125113  5.035159  5.072652  \n",
       "\n",
       "[5 rows x 26 columns]"
      ]
     },
     "execution_count": 31,
     "metadata": {},
     "output_type": "execute_result"
    }
   ],
   "source": [
    "dot_res_tmp = dot_prep_feature.drop(['department', 'city', 'district', 'town', 'village'], axis = 1)\n",
    "dot_res_tmp.head()"
   ]
  },
  {
   "cell_type": "code",
   "execution_count": 33,
   "metadata": {},
   "outputs": [
    {
     "data": {
      "text/html": [
       "<div>\n",
       "<style scoped>\n",
       "    .dataframe tbody tr th:only-of-type {\n",
       "        vertical-align: middle;\n",
       "    }\n",
       "\n",
       "    .dataframe tbody tr th {\n",
       "        vertical-align: top;\n",
       "    }\n",
       "\n",
       "    .dataframe thead th {\n",
       "        text-align: right;\n",
       "    }\n",
       "</style>\n",
       "<table border=\"1\" class=\"dataframe\">\n",
       "  <thead>\n",
       "    <tr style=\"text-align: right;\">\n",
       "      <th></th>\n",
       "      <th>dot</th>\n",
       "      <th>city_code</th>\n",
       "      <th>order_date</th>\n",
       "      <th>dot_id</th>\n",
       "      <th>order_num</th>\n",
       "      <th>year</th>\n",
       "      <th>month</th>\n",
       "      <th>day</th>\n",
       "      <th>dayofweek</th>\n",
       "      <th>dayofyear</th>\n",
       "      <th>...</th>\n",
       "      <th>广西</th>\n",
       "      <th>江苏省</th>\n",
       "      <th>江西省</th>\n",
       "      <th>河北省</th>\n",
       "      <th>河南省</th>\n",
       "      <th>浙江省</th>\n",
       "      <th>湖北省</th>\n",
       "      <th>福建省</th>\n",
       "      <th>贵州省</th>\n",
       "      <th>辽宁省</th>\n",
       "    </tr>\n",
       "  </thead>\n",
       "  <tbody>\n",
       "    <tr>\n",
       "      <th>0</th>\n",
       "      <td>罗湖莲塘点部</td>\n",
       "      <td>755</td>\n",
       "      <td>2017-12-08</td>\n",
       "      <td>562.0</td>\n",
       "      <td>5.411646</td>\n",
       "      <td>2017</td>\n",
       "      <td>12</td>\n",
       "      <td>8</td>\n",
       "      <td>4</td>\n",
       "      <td>342</td>\n",
       "      <td>...</td>\n",
       "      <td>0</td>\n",
       "      <td>0</td>\n",
       "      <td>0</td>\n",
       "      <td>0</td>\n",
       "      <td>0</td>\n",
       "      <td>0</td>\n",
       "      <td>0</td>\n",
       "      <td>0</td>\n",
       "      <td>0</td>\n",
       "      <td>0</td>\n",
       "    </tr>\n",
       "    <tr>\n",
       "      <th>447</th>\n",
       "      <td>上虞崧厦点部</td>\n",
       "      <td>575</td>\n",
       "      <td>2017-12-08</td>\n",
       "      <td>4.0</td>\n",
       "      <td>2.772589</td>\n",
       "      <td>2017</td>\n",
       "      <td>12</td>\n",
       "      <td>8</td>\n",
       "      <td>4</td>\n",
       "      <td>342</td>\n",
       "      <td>...</td>\n",
       "      <td>0</td>\n",
       "      <td>0</td>\n",
       "      <td>0</td>\n",
       "      <td>0</td>\n",
       "      <td>0</td>\n",
       "      <td>1</td>\n",
       "      <td>0</td>\n",
       "      <td>0</td>\n",
       "      <td>0</td>\n",
       "      <td>0</td>\n",
       "    </tr>\n",
       "    <tr>\n",
       "      <th>448</th>\n",
       "      <td>甪直澄北点部</td>\n",
       "      <td>512</td>\n",
       "      <td>2017-12-08</td>\n",
       "      <td>482.0</td>\n",
       "      <td>3.871201</td>\n",
       "      <td>2017</td>\n",
       "      <td>12</td>\n",
       "      <td>8</td>\n",
       "      <td>4</td>\n",
       "      <td>342</td>\n",
       "      <td>...</td>\n",
       "      <td>0</td>\n",
       "      <td>1</td>\n",
       "      <td>0</td>\n",
       "      <td>0</td>\n",
       "      <td>0</td>\n",
       "      <td>0</td>\n",
       "      <td>0</td>\n",
       "      <td>0</td>\n",
       "      <td>0</td>\n",
       "      <td>0</td>\n",
       "    </tr>\n",
       "    <tr>\n",
       "      <th>449</th>\n",
       "      <td>盐城滨海点部</td>\n",
       "      <td>515</td>\n",
       "      <td>2017-12-08</td>\n",
       "      <td>493.0</td>\n",
       "      <td>1.945910</td>\n",
       "      <td>2017</td>\n",
       "      <td>12</td>\n",
       "      <td>8</td>\n",
       "      <td>4</td>\n",
       "      <td>342</td>\n",
       "      <td>...</td>\n",
       "      <td>0</td>\n",
       "      <td>1</td>\n",
       "      <td>0</td>\n",
       "      <td>0</td>\n",
       "      <td>0</td>\n",
       "      <td>0</td>\n",
       "      <td>0</td>\n",
       "      <td>0</td>\n",
       "      <td>0</td>\n",
       "      <td>0</td>\n",
       "    </tr>\n",
       "    <tr>\n",
       "      <th>450</th>\n",
       "      <td>天河元岗点部</td>\n",
       "      <td>20</td>\n",
       "      <td>2017-12-08</td>\n",
       "      <td>180.0</td>\n",
       "      <td>5.049856</td>\n",
       "      <td>2017</td>\n",
       "      <td>12</td>\n",
       "      <td>8</td>\n",
       "      <td>4</td>\n",
       "      <td>342</td>\n",
       "      <td>...</td>\n",
       "      <td>0</td>\n",
       "      <td>0</td>\n",
       "      <td>0</td>\n",
       "      <td>0</td>\n",
       "      <td>0</td>\n",
       "      <td>0</td>\n",
       "      <td>0</td>\n",
       "      <td>0</td>\n",
       "      <td>0</td>\n",
       "      <td>0</td>\n",
       "    </tr>\n",
       "  </tbody>\n",
       "</table>\n",
       "<p>5 rows × 47 columns</p>\n",
       "</div>"
      ],
      "text/plain": [
       "        dot  city_code order_date  dot_id  order_num  year  month  day  \\\n",
       "0    罗湖莲塘点部        755 2017-12-08   562.0   5.411646  2017     12    8   \n",
       "447  上虞崧厦点部        575 2017-12-08     4.0   2.772589  2017     12    8   \n",
       "448  甪直澄北点部        512 2017-12-08   482.0   3.871201  2017     12    8   \n",
       "449  盐城滨海点部        515 2017-12-08   493.0   1.945910  2017     12    8   \n",
       "450  天河元岗点部         20 2017-12-08   180.0   5.049856  2017     12    8   \n",
       "\n",
       "     dayofweek  dayofyear ...   广西  江苏省  江西省  河北省  河南省  浙江省  湖北省  福建省  贵州省  \\\n",
       "0            4        342 ...    0    0    0    0    0    0    0    0    0   \n",
       "447          4        342 ...    0    0    0    0    0    1    0    0    0   \n",
       "448          4        342 ...    0    1    0    0    0    0    0    0    0   \n",
       "449          4        342 ...    0    1    0    0    0    0    0    0    0   \n",
       "450          4        342 ...    0    0    0    0    0    0    0    0    0   \n",
       "\n",
       "     辽宁省  \n",
       "0      0  \n",
       "447    0  \n",
       "448    0  \n",
       "449    0  \n",
       "450    0  \n",
       "\n",
       "[5 rows x 47 columns]"
      ]
     },
     "execution_count": 33,
     "metadata": {},
     "output_type": "execute_result"
    }
   ],
   "source": [
    "dot_res = pd.concat([dot_res_tmp, pd.get_dummies(dot_res_tmp['dot_type']), pd.get_dummies(dot_res_tmp['area']), pd.get_dummies(dot_res_tmp['province'])], axis = 1)\n",
    "dot_res.drop(['dot_type', 'area', 'province'], axis = 1, inplace = True)\n",
    "dot_res.head()"
   ]
  },
  {
   "cell_type": "code",
   "execution_count": 39,
   "metadata": {},
   "outputs": [
    {
     "data": {
      "text/plain": [
       "Index(['dot', 'city_code', 'order_date', 'dot_id', 'order_num', 'year',\n",
       "       'month', 'day', 'dayofweek', 'dayofyear', 'weekofyear', 'weekofsun',\n",
       "       'holidays', 'lagging1', 'lagging2', 'lagging3', 'lagging4', 'lagging5',\n",
       "       'lagging6', 'lagging7', 'rolling3', 'rolling5', 'rolling7', '大点部',\n",
       "       '小点部', '航空组', '京津冀', '华东', '华北', '华南', '上海', '北京', '四川省', '天津', '安徽省',\n",
       "       '山东省', '广东省', '广西', '江苏省', '江西省', '河北省', '河南省', '浙江省', '湖北省', '福建省',\n",
       "       '贵州省', '辽宁省'],\n",
       "      dtype='object')"
      ]
     },
     "execution_count": 39,
     "metadata": {},
     "output_type": "execute_result"
    }
   ],
   "source": [
    "dot_res.columns"
   ]
  },
  {
   "cell_type": "code",
   "execution_count": 40,
   "metadata": {},
   "outputs": [],
   "source": [
    "dot_train = dot_res[: -(30 * 338)]\n",
    "dot_test = dot_res[-(30 * 338) :]"
   ]
  },
  {
   "cell_type": "code",
   "execution_count": 41,
   "metadata": {},
   "outputs": [],
   "source": [
    "dot_xtrain = dot_train.drop(['order_num'], axis = 1)\n",
    "dot_ytrain = dot_train['order_num']\n",
    "dot_xtest = dot_test.drop(['order_num'], axis = 1)\n",
    "dot_ytest = dot_test['order_num']"
   ]
  },
  {
   "cell_type": "code",
   "execution_count": 42,
   "metadata": {},
   "outputs": [],
   "source": [
    "def RMSE(y_test, y_pred):\n",
    "    return np.sqrt(np.sum((y_test - y_pred) ** 2)/len(y_test))\n",
    "\n",
    "def MAE(y_test, y_pred):\n",
    "    return np.sum(np.abs(y_test - y_pred))/len(y_test)"
   ]
  },
  {
   "cell_type": "code",
   "execution_count": 43,
   "metadata": {},
   "outputs": [],
   "source": [
    "def xgboost_model(x_train, y_train):\n",
    "    params = {\n",
    "        \"learning_rate\": 0.01,\n",
    "        \"n_estimators\": 3300,\n",
    "        \"max_depth\": 5,\n",
    "        \"min_child_weight\": 3,\n",
    "        \"gamma\": 0.5,\n",
    "        \"subsample\": 0.9,\n",
    "        \"colsample_bytree\": 0.8,\n",
    "        \"silent\": 1,\n",
    "        \"reg_alpha\" : 0.05,\n",
    "        \"reg_lambda\" : 0.05,\n",
    "        \"seed\": 21\n",
    "    }\n",
    "    print(\"train_start : \", datetime.datetime.now().strftime(\"%Y-%m-%d %H:%M:%S\"))\n",
    "    gbm = xgb.XGBRegressor(**params)\n",
    "    gbm.fit(x_train.drop(['dot', 'order_date'], axis = 1), y_train)\n",
    "    print(\"train_end : \", datetime.datetime.now().strftime(\"%Y-%m-%d %H:%M:%S\"))\n",
    "    \n",
    "    for column, importance in zip(x_train.drop(['dot', 'order_date'], axis = 1).columns, gbm.feature_importances_):\n",
    "        print(column, '\\t', importance)\n",
    "    # plot_importance(gbm)\n",
    "    # plt.savefig(path + \"feature_importance.png\")\n",
    "    \n",
    "    return gbm"
   ]
  },
  {
   "cell_type": "code",
   "execution_count": 44,
   "metadata": {},
   "outputs": [
    {
     "name": "stdout",
     "output_type": "stream",
     "text": [
      "train_start :  2019-02-19 18:01:22\n",
      "train_end :  2019-02-19 18:31:26\n",
      "city_code \t 0.03500113\n",
      "dot_id \t 0.050237183\n",
      "year \t 0.0042918455\n",
      "month \t 0.01306754\n",
      "day \t 0.057239667\n",
      "dayofweek \t 0.065541\n",
      "dayofyear \t 0.07895866\n",
      "weekofyear \t 0.012401175\n",
      "weekofsun \t 0.0056245765\n",
      "holidays \t 0.030754462\n",
      "lagging1 \t 0.09603569\n",
      "lagging2 \t 0.06069573\n",
      "lagging3 \t 0.04788796\n",
      "lagging4 \t 0.04744748\n",
      "lagging5 \t 0.05044048\n",
      "lagging6 \t 0.054190196\n",
      "lagging7 \t 0.08312627\n",
      "rolling3 \t 0.06025525\n",
      "rolling5 \t 0.047300655\n",
      "rolling7 \t 0.05894511\n",
      "大点部 \t 0.003320533\n",
      "小点部 \t 0.0007454258\n",
      "航空组 \t 0.00088095776\n",
      "京津冀 \t 0.001197199\n",
      "华东 \t 0.0015360289\n",
      "华北 \t 0.0018861531\n",
      "华南 \t 0.001332731\n",
      "上海 \t 0.004178902\n",
      "北京 \t 0.00016941495\n",
      "四川省 \t 0.0005421279\n",
      "天津 \t 0.00050824485\n",
      "安徽省 \t 0.0008922521\n",
      "山东省 \t 0.00058730517\n",
      "广东省 \t 0.0029704089\n",
      "广西 \t 0.00042918455\n",
      "江苏省 \t 0.0030268806\n",
      "江西省 \t 0.00010164897\n",
      "河北省 \t 0.0019426248\n",
      "河南省 \t 0.00070024846\n",
      "浙江省 \t 0.011520217\n",
      "湖北省 \t 0.00075672014\n",
      "福建省 \t 0.0002597696\n",
      "贵州省 \t 0.0\n",
      "辽宁省 \t 0.0010729614\n"
     ]
    }
   ],
   "source": [
    "gbm = xgboost_model(dot_xtrain, dot_ytrain)"
   ]
  },
  {
   "cell_type": "markdown",
   "metadata": {},
   "source": [
    "## 预测方式1"
   ]
  },
  {
   "cell_type": "code",
   "execution_count": 54,
   "metadata": {},
   "outputs": [],
   "source": [
    "def xgb_predict(gbm, x_test, y_test, path):\n",
    "    # 验证\n",
    "    print(\"predict_start : \", datetime.datetime.now().strftime(\"%Y-%m-%d %H:%M:%S\"))\n",
    "    y_pre = gbm.predict(x_test.drop(['dot', 'order_date'], axis = 1))\n",
    "    print(\"predict_end : \", datetime.datetime.now().strftime(\"%Y-%m-%d %H:%M:%S\"))\n",
    "    result = pd.DataFrame({'dot' : x_test['dot'], 'order_date' : x_test['order_date'], 'y_test' : np.expm1(y_test), 'y_pre' : np.expm1(y_pre)})\n",
    "    result['RMSE'] = RMSE(np.expm1(y_test), np.expm1(y_pre))\n",
    "    result['MAE'] = MAE(np.expm1(y_test), np.expm1(y_pre))\n",
    "    print(\"MAE : \", MAE(np.expm1(y_test), np.expm1(y_pre)), \" RMSE : \", RMSE(np.expm1(y_test), np.expm1(y_pre)))\n",
    "#     result = pd.DataFrame({'dot' : x_test['dot'], 'order_date' : x_test['order_date'], 'y_test' : y_test, 'y_pre' : y_pre})\n",
    "#     result['RMSE'] = RMSE(y_test, y_pre)\n",
    "#     result['MAE'] = MAE(y_test, y_pre)\n",
    "#     print(\"MAE : \", MAE(y_test, y_pre), \" RMSE : \", RMSE(y_test, y_pre))\n",
    "    \n",
    "#     result.to_csv(path + \"dot_result.csv\", encoding = 'GBK', index = False)\n",
    "    return result"
   ]
  },
  {
   "cell_type": "code",
   "execution_count": 55,
   "metadata": {},
   "outputs": [
    {
     "name": "stdout",
     "output_type": "stream",
     "text": [
      "predict_start :  2019-02-19 20:36:16\n",
      "predict_end :  2019-02-19 20:36:18\n",
      "MAE :  18.279778232964773  RMSE :  47.94892030452914\n"
     ]
    }
   ],
   "source": [
    "result = xgb_predict(gbm, dot_xtest, dot_ytest, path)"
   ]
  },
  {
   "cell_type": "code",
   "execution_count": 48,
   "metadata": {},
   "outputs": [
    {
     "data": {
      "image/png": "[encoded data removed]",
      "text/plain": [
       "<Figure size 576x288 with 1 Axes>"
      ]
     },
     "metadata": {
      "needs_background": "light"
     },
     "output_type": "display_data"
    },
    {
     "data": {
      "image/png": "[encoded data removed]",
      "text/plain": [
       "<Figure size 576x288 with 1 Axes>"
      ]
     },
     "metadata": {
      "needs_background": "light"
     },
     "output_type": "display_data"
    },
    {
     "data": {
      "image/png": "[encoded data removed]",
      "text/plain": [
       "<Figure size 576x288 with 1 Axes>"
      ]
     },
     "metadata": {
      "needs_background": "light"
     },
     "output_type": "display_data"
    }
   ],
   "source": [
    "plt.rcParams['font.sans-serif']=['SimHei']\n",
    "col_1 = ['y_test','y_pre']\n",
    "L = np.random.randint( low = 0, high = 337, size = 3 )\n",
    "for i in L:\n",
    "    s1 = pd.DataFrame(result[result['dot'] == result['dot'].unique()[i]], columns = col_1)\n",
    "    s1.plot(title = 'dot {}'.format(result['dot'].unique()[i]), figsize = (8,4))"
   ]
  },
  {
   "cell_type": "markdown",
   "metadata": {},
   "source": [
    "## 预测方式2"
   ]
  },
  {
   "cell_type": "code",
   "execution_count": 49,
   "metadata": {},
   "outputs": [],
   "source": [
    "def pre_feature(data, dot_name):\n",
    "    x_test_tmp = pd.DataFrame()\n",
    "    rolling_tmp = pd.DataFrame()\n",
    "    for dot in dot_name['dot']:\n",
    "        # lagging\n",
    "        dot_test = data.loc[data['dot'] == dot]\n",
    "        dot_test_ts = dot_test.copy()\n",
    "        dot_test['lagging7'] = dot_test['lagging6']\n",
    "        dot_test['lagging6'] = dot_test['lagging5']\n",
    "        dot_test['lagging5'] = dot_test['lagging4']\n",
    "        dot_test['lagging4'] = dot_test['lagging3']\n",
    "        dot_test['lagging3'] = dot_test['lagging2']\n",
    "        dot_test['lagging2'] = dot_test['lagging1']\n",
    "        dot_test['lagging1'] = dot_test['order_num']\n",
    "\n",
    "        x_test_tmp = pd.concat([x_test_tmp, dot_test])\n",
    "\n",
    "        # rolling\n",
    "        dot_test_ts.index = pd.to_datetime(dot_test_ts['order_date'])\n",
    "        num_ts = dot_test_ts.loc[dot_test_ts['dot'] == dot, ['order_num']]\n",
    "        rolling = pd.concat([num_ts.rolling(window = 3).mean(), num_ts.rolling(window = 5).mean(), num_ts.rolling(window = 7).mean()], axis = 1)\n",
    "    #     rolling.index = rolling.index + pd.DateOffset(days = 1)\n",
    "        rolling.columns = ['rolling3', 'rolling5', 'rolling7']\n",
    "        rolling['dot'] = dot\n",
    "        rolling['order_date'] = rolling.index\n",
    "        rolling_tmp = pd.concat([rolling_tmp, rolling])\n",
    "\n",
    "    x_test = pd.merge(x_test_tmp.drop(['rolling3', 'rolling5', 'rolling7'], axis = 1), rolling_tmp, how = 'left', on = ['dot', 'order_date'])\n",
    "    x_test['order_date'] = x_test['order_date'] + pd.DateOffset(days = 1)\n",
    "    x_test.dropna(axis = 0, inplace = True)\n",
    "    \n",
    "    return x_test"
   ]
  },
  {
   "cell_type": "code",
   "execution_count": 50,
   "metadata": {},
   "outputs": [
    {
     "data": {
      "text/plain": [
       "Index(['dot', 'city_code', 'order_date', 'dot_id', 'order_num', 'year',\n",
       "       'month', 'day', 'dayofweek', 'dayofyear', 'weekofyear', 'weekofsun',\n",
       "       'holidays', 'lagging1', 'lagging2', 'lagging3', 'lagging4', 'lagging5',\n",
       "       'lagging6', 'lagging7', 'rolling3', 'rolling5', 'rolling7', '大点部',\n",
       "       '小点部', '航空组', '京津冀', '华东', '华北', '华南', '上海', '北京', '四川省', '天津', '安徽省',\n",
       "       '山东省', '广东省', '广西', '江苏省', '江西省', '河北省', '河南省', '浙江省', '湖北省', '福建省',\n",
       "       '贵州省', '辽宁省'],\n",
       "      dtype='object')"
      ]
     },
     "execution_count": 50,
     "metadata": {},
     "output_type": "execute_result"
    }
   ],
   "source": [
    "dot_train.columns"
   ]
  },
  {
   "cell_type": "code",
   "execution_count": null,
   "metadata": {},
   "outputs": [],
   "source": [
    "print(\"START : \", datetime.datetime.now().strftime(\"%Y-%m-%d %H:%M:%S\"))\n",
    "result_to_csv = pd.DataFrame()\n",
    "org_test = dot_train.copy()\n",
    "feature = ['dot', 'city_code', 'order_date', 'dot_id', 'lagging1', 'lagging2', 'lagging3', 'lagging4', 'lagging5',\n",
    "       'lagging6', 'lagging7', 'rolling3', 'rolling5', 'rolling7', '大点部',\n",
    "       '小点部', '航空组', '京津冀', '华东', '华北', '华南', '上海', '北京', '四川省', '天津', '安徽省',\n",
    "       '山东省', '广东省', '广西', '江苏省', '江西省', '河北省', '河南省', '浙江省', '湖北省', '福建省',\n",
    "       '贵州省', '辽宁省']\n",
    "feature_num = ['dot', 'city_code', 'order_date', 'dot_id', 'year',\n",
    "       'month', 'day', 'dayofweek', 'dayofyear', 'weekofyear', 'weekofsun',\n",
    "       'holidays', 'lagging1', 'lagging2', 'lagging3', 'lagging4', 'lagging5',\n",
    "       'lagging6', 'lagging7', 'rolling3', 'rolling5', 'rolling7', '大点部',\n",
    "       '小点部', '航空组', '京津冀', '华东', '华北', '华南', '上海', '北京', '四川省', '天津', '安徽省',\n",
    "       '山东省', '广东省', '广西', '江苏省', '江西省', '河北省', '河南省', '浙江省', '湖北省', '福建省',\n",
    "       '贵州省', '辽宁省']\n",
    "feature_date = ['dot', 'city_code', 'order_date', 'dot_id', 'order_num', 'year',\n",
    "       'month', 'day', 'dayofweek', 'dayofyear', 'weekofyear', 'weekofsun',\n",
    "       'holidays', 'lagging1', 'lagging2', 'lagging3', 'lagging4', 'lagging5',\n",
    "       'lagging6', 'lagging7', 'rolling3', 'rolling5', 'rolling7', '大点部',\n",
    "       '小点部', '航空组', '京津冀', '华东', '华北', '华南', '上海', '北京', '四川省', '天津', '安徽省',\n",
    "       '山东省', '广东省', '广西', '江苏省', '江西省', '河北省', '河南省', '浙江省', '湖北省', '福建省',\n",
    "       '贵州省', '辽宁省']\n",
    "for i in range(30):\n",
    "    print(i)\n",
    "    x_test = pre_feature(org_test, useful_dot_name)\n",
    "    last_train_date = pd.to_datetime('2018-12-01') + pd.DateOffset(days = i + 1)\n",
    "    x_test = x_test.loc[x_test['order_date'] == last_train_date, feature]#.drop(['year', 'month', 'day', 'dayofweek', 'dayofyear', 'weekofyear', 'weekofsun', 'holidays'])\n",
    "#     x_test['order_date'] = x_test['order_date'] + pd.DateOffset(days = i)\n",
    "    \n",
    "    x_test = time_feature(x_test)\n",
    "    x_test = x_test[feature_num]\n",
    "\n",
    "    y_pre = gbm.predict(x_test.drop(['dot', 'order_date'], axis = 1))\n",
    "    result = pd.DataFrame({'dot' : x_test['dot'], 'order_date' : x_test['order_date'], 'order_num' : y_pre})\n",
    "    result_to_csv = pd.concat([result_to_csv, result])\n",
    "    x_test = pd.merge(x_test, result, on = ['dot', 'order_date'], how = 'left')\n",
    "    x_test = x_test[feature_date]\n",
    "    \n",
    "    org_test = pd.concat([org_test, x_test])\n",
    "print(\"END : \", datetime.datetime.now().strftime(\"%Y-%m-%d %H:%M:%S\"))"
   ]
  },
  {
   "cell_type": "code",
   "execution_count": null,
   "metadata": {},
   "outputs": [],
   "source": [
    "result_to_csv['order_num'] = np.expm1(result_to_csv['order_num'])\n",
    "result_to_csv.head()"
   ]
  },
  {
   "cell_type": "code",
   "execution_count": null,
   "metadata": {},
   "outputs": [],
   "source": [
    "org_data = dot_prep.copy()\n",
    "org_data['order_num'] = np.expm1(org_data['order_num'])\n",
    "org_data.tail()"
   ]
  },
  {
   "cell_type": "code",
   "execution_count": null,
   "metadata": {},
   "outputs": [],
   "source": [
    "r1 = pd.merge(result_to_csv, org_data, on = ['dot', 'order_date'], how = 'left')\n",
    "r1 = r1[['dot', 'order_date', 'order_num_x', 'dot_id', 'order_num_y']]\n",
    "r1.columns = ['dot', 'order_date', 'y_pre', 'dot_id', 'y_test']\n",
    "r1 = r1[['dot', 'order_date', 'dot_id', 'y_test', 'y_pre']]\n",
    "r1.head()"
   ]
  },
  {
   "cell_type": "code",
   "execution_count": null,
   "metadata": {},
   "outputs": [],
   "source": [
    "print(\"MAE : \", MAE(r1.y_test, r1.y_pre))\n",
    "print(\"RMSE : \", RMSE(r1.y_test, r1.y_pre))"
   ]
  },
  {
   "cell_type": "code",
   "execution_count": null,
   "metadata": {},
   "outputs": [],
   "source": [
    "plt.rcParams['font.sans-serif']=['SimHei']\n",
    "col_1 = ['y_pre','y_test']\n",
    "L = np.random.randint( low = 0, high = 183, size = 3 )\n",
    "for i in L:\n",
    "    s1 = pd.DataFrame(r1[r1['dot'] == r1['dot'].unique()[i]], columns = col_1)\n",
    "    s1.plot(title = 'dot {}'.format(r1['dot'].unique()[i]), figsize = (8,4))"
   ]
  },
  {
   "cell_type": "code",
   "execution_count": null,
   "metadata": {},
   "outputs": [],
   "source": []
  },
  {
   "cell_type": "code",
   "execution_count": null,
   "metadata": {},
   "outputs": [],
   "source": []
  },
  {
   "cell_type": "code",
   "execution_count": null,
   "metadata": {},
   "outputs": [],
   "source": []
  },
  {
   "cell_type": "code",
   "execution_count": null,
   "metadata": {},
   "outputs": [],
   "source": []
  },
  {
   "cell_type": "code",
   "execution_count": null,
   "metadata": {},
   "outputs": [],
   "source": []
  },
  {
   "cell_type": "code",
   "execution_count": null,
   "metadata": {},
   "outputs": [],
   "source": []
  },
  {
   "cell_type": "code",
   "execution_count": null,
   "metadata": {},
   "outputs": [],
   "source": []
  },
  {
   "cell_type": "code",
   "execution_count": null,
   "metadata": {},
   "outputs": [],
   "source": []
  },
  {
   "cell_type": "code",
   "execution_count": null,
   "metadata": {},
   "outputs": [],
   "source": []
  },
  {
   "cell_type": "code",
   "execution_count": null,
   "metadata": {},
   "outputs": [],
   "source": []
  },
  {
   "cell_type": "code",
   "execution_count": null,
   "metadata": {},
   "outputs": [],
   "source": []
  },
  {
   "cell_type": "code",
   "execution_count": null,
   "metadata": {},
   "outputs": [],
   "source": []
  },
  {
   "cell_type": "code",
   "execution_count": null,
   "metadata": {},
   "outputs": [],
   "source": []
  },
  {
   "cell_type": "code",
   "execution_count": null,
   "metadata": {},
   "outputs": [],
   "source": []
  },
  {
   "cell_type": "code",
   "execution_count": null,
   "metadata": {},
   "outputs": [],
   "source": []
  },
  {
   "cell_type": "code",
   "execution_count": null,
   "metadata": {},
   "outputs": [],
   "source": []
  },
  {
   "cell_type": "code",
   "execution_count": null,
   "metadata": {},
   "outputs": [],
   "source": []
  },
  {
   "cell_type": "code",
   "execution_count": null,
   "metadata": {},
   "outputs": [],
   "source": []
  },
  {
   "cell_type": "code",
   "execution_count": null,
   "metadata": {},
   "outputs": [],
   "source": []
  },
  {
   "cell_type": "code",
   "execution_count": null,
   "metadata": {},
   "outputs": [],
   "source": []
  },
  {
   "cell_type": "code",
   "execution_count": null,
   "metadata": {},
   "outputs": [],
   "source": []
  },
  {
   "cell_type": "code",
   "execution_count": null,
   "metadata": {},
   "outputs": [],
   "source": []
  },
  {
   "cell_type": "code",
   "execution_count": null,
   "metadata": {},
   "outputs": [],
   "source": []
  },
  {
   "cell_type": "code",
   "execution_count": null,
   "metadata": {},
   "outputs": [],
   "source": []
  },
  {
   "cell_type": "code",
   "execution_count": null,
   "metadata": {},
   "outputs": [],
   "source": []
  },
  {
   "cell_type": "code",
   "execution_count": null,
   "metadata": {},
   "outputs": [],
   "source": []
  },
  {
   "cell_type": "code",
   "execution_count": null,
   "metadata": {},
   "outputs": [],
   "source": []
  },
  {
   "cell_type": "code",
   "execution_count": null,
   "metadata": {},
   "outputs": [],
   "source": []
  },
  {
   "cell_type": "code",
   "execution_count": null,
   "metadata": {},
   "outputs": [],
   "source": []
  },
  {
   "cell_type": "code",
   "execution_count": null,
   "metadata": {},
   "outputs": [],
   "source": []
  },
  {
   "cell_type": "code",
   "execution_count": null,
   "metadata": {},
   "outputs": [],
   "source": []
  },
  {
   "cell_type": "code",
   "execution_count": null,
   "metadata": {},
   "outputs": [],
   "source": []
  },
  {
   "cell_type": "code",
   "execution_count": null,
   "metadata": {},
   "outputs": [],
   "source": []
  },
  {
   "cell_type": "code",
   "execution_count": null,
   "metadata": {},
   "outputs": [],
   "source": []
  },
  {
   "cell_type": "code",
   "execution_count": null,
   "metadata": {},
   "outputs": [],
   "source": []
  },
  {
   "cell_type": "code",
   "execution_count": null,
   "metadata": {},
   "outputs": [],
   "source": []
  },
  {
   "cell_type": "code",
   "execution_count": null,
   "metadata": {},
   "outputs": [],
   "source": []
  },
  {
   "cell_type": "code",
   "execution_count": null,
   "metadata": {},
   "outputs": [],
   "source": []
  },
  {
   "cell_type": "code",
   "execution_count": null,
   "metadata": {},
   "outputs": [],
   "source": []
  },
  {
   "cell_type": "code",
   "execution_count": null,
   "metadata": {},
   "outputs": [],
   "source": []
  },
  {
   "cell_type": "code",
   "execution_count": null,
   "metadata": {},
   "outputs": [],
   "source": []
  },
  {
   "cell_type": "code",
   "execution_count": null,
   "metadata": {},
   "outputs": [],
   "source": []
  },
  {
   "cell_type": "code",
   "execution_count": null,
   "metadata": {},
   "outputs": [],
   "source": []
  },
  {
   "cell_type": "code",
   "execution_count": null,
   "metadata": {},
   "outputs": [],
   "source": []
  },
  {
   "cell_type": "code",
   "execution_count": null,
   "metadata": {},
   "outputs": [],
   "source": []
  },
  {
   "cell_type": "code",
   "execution_count": null,
   "metadata": {},
   "outputs": [],
   "source": []
  },
  {
   "cell_type": "code",
   "execution_count": null,
   "metadata": {},
   "outputs": [],
   "source": []
  },
  {
   "cell_type": "code",
   "execution_count": null,
   "metadata": {},
   "outputs": [],
   "source": []
  },
  {
   "cell_type": "code",
   "execution_count": null,
   "metadata": {},
   "outputs": [],
   "source": []
  }
 ],
 "metadata": {
  "kernelspec": {
   "display_name": "Python 3",
   "language": "python",
   "name": "python3"
  },
  "language_info": {
   "codemirror_mode": {
    "name": "ipython",
    "version": 3
   },
   "file_extension": ".py",
   "mimetype": "text/x-python",
   "name": "python",
   "nbconvert_exporter": "python",
   "pygments_lexer": "ipython3",
   "version": "3.7.0"
  }
 },
 "nbformat": 4,
 "nbformat_minor": 2
}
